{
 "cells": [
  {
   "cell_type": "code",
   "execution_count": 1,
   "metadata": {},
   "outputs": [],
   "source": [
    "import pandas as pd\n",
    "import matplotlib .pyplot as plt\n",
    "import plotly.express as px\n",
    "import datetime\n",
    "import seaborn as sns\n",
    "import numpy as np"
   ]
  },
  {
   "cell_type": "code",
   "execution_count": 2,
   "metadata": {},
   "outputs": [
    {
     "data": {
      "text/html": [
       "<div>\n",
       "<style scoped>\n",
       "    .dataframe tbody tr th:only-of-type {\n",
       "        vertical-align: middle;\n",
       "    }\n",
       "\n",
       "    .dataframe tbody tr th {\n",
       "        vertical-align: top;\n",
       "    }\n",
       "\n",
       "    .dataframe thead th {\n",
       "        text-align: right;\n",
       "    }\n",
       "</style>\n",
       "<table border=\"1\" class=\"dataframe\">\n",
       "  <thead>\n",
       "    <tr style=\"text-align: right;\">\n",
       "      <th></th>\n",
       "      <th>StationId</th>\n",
       "      <th>StationName</th>\n",
       "      <th>City</th>\n",
       "      <th>State</th>\n",
       "      <th>Status</th>\n",
       "    </tr>\n",
       "  </thead>\n",
       "  <tbody>\n",
       "    <tr>\n",
       "      <th>0</th>\n",
       "      <td>AP001</td>\n",
       "      <td>Secretariat, Amaravati - APPCB</td>\n",
       "      <td>Amaravati</td>\n",
       "      <td>Andhra Pradesh</td>\n",
       "      <td>Active</td>\n",
       "    </tr>\n",
       "    <tr>\n",
       "      <th>1</th>\n",
       "      <td>AP002</td>\n",
       "      <td>Anand Kala Kshetram, Rajamahendravaram - APPCB</td>\n",
       "      <td>Rajamahendravaram</td>\n",
       "      <td>Andhra Pradesh</td>\n",
       "      <td>NaN</td>\n",
       "    </tr>\n",
       "    <tr>\n",
       "      <th>2</th>\n",
       "      <td>AP003</td>\n",
       "      <td>Tirumala, Tirupati - APPCB</td>\n",
       "      <td>Tirupati</td>\n",
       "      <td>Andhra Pradesh</td>\n",
       "      <td>NaN</td>\n",
       "    </tr>\n",
       "    <tr>\n",
       "      <th>3</th>\n",
       "      <td>AP004</td>\n",
       "      <td>PWD Grounds, Vijayawada - APPCB</td>\n",
       "      <td>Vijayawada</td>\n",
       "      <td>Andhra Pradesh</td>\n",
       "      <td>NaN</td>\n",
       "    </tr>\n",
       "    <tr>\n",
       "      <th>4</th>\n",
       "      <td>AP005</td>\n",
       "      <td>GVM Corporation, Visakhapatnam - APPCB</td>\n",
       "      <td>Visakhapatnam</td>\n",
       "      <td>Andhra Pradesh</td>\n",
       "      <td>Active</td>\n",
       "    </tr>\n",
       "    <tr>\n",
       "      <th>5</th>\n",
       "      <td>AS001</td>\n",
       "      <td>Railway Colony, Guwahati - APCB</td>\n",
       "      <td>Guwahati</td>\n",
       "      <td>Assam</td>\n",
       "      <td>Active</td>\n",
       "    </tr>\n",
       "    <tr>\n",
       "      <th>6</th>\n",
       "      <td>BR001</td>\n",
       "      <td>Collectorate, Gaya - BSPCB</td>\n",
       "      <td>Gaya</td>\n",
       "      <td>Bihar</td>\n",
       "      <td>NaN</td>\n",
       "    </tr>\n",
       "    <tr>\n",
       "      <th>7</th>\n",
       "      <td>BR002</td>\n",
       "      <td>SFTI Kusdihra, Gaya - BSPCB</td>\n",
       "      <td>Gaya</td>\n",
       "      <td>Bihar</td>\n",
       "      <td>NaN</td>\n",
       "    </tr>\n",
       "    <tr>\n",
       "      <th>8</th>\n",
       "      <td>BR003</td>\n",
       "      <td>Industrial Area, Hajipur - BSPCB</td>\n",
       "      <td>Hajipur</td>\n",
       "      <td>Bihar</td>\n",
       "      <td>NaN</td>\n",
       "    </tr>\n",
       "    <tr>\n",
       "      <th>9</th>\n",
       "      <td>BR004</td>\n",
       "      <td>Muzaffarpur Collectorate, Muzaffarpur - BSPCB</td>\n",
       "      <td>Muzaffarpur</td>\n",
       "      <td>Bihar</td>\n",
       "      <td>NaN</td>\n",
       "    </tr>\n",
       "  </tbody>\n",
       "</table>\n",
       "</div>"
      ],
      "text/plain": [
       "  StationId                                     StationName  \\\n",
       "0     AP001                  Secretariat, Amaravati - APPCB   \n",
       "1     AP002  Anand Kala Kshetram, Rajamahendravaram - APPCB   \n",
       "2     AP003                      Tirumala, Tirupati - APPCB   \n",
       "3     AP004                 PWD Grounds, Vijayawada - APPCB   \n",
       "4     AP005          GVM Corporation, Visakhapatnam - APPCB   \n",
       "5     AS001                 Railway Colony, Guwahati - APCB   \n",
       "6     BR001                      Collectorate, Gaya - BSPCB   \n",
       "7     BR002                     SFTI Kusdihra, Gaya - BSPCB   \n",
       "8     BR003                Industrial Area, Hajipur - BSPCB   \n",
       "9     BR004   Muzaffarpur Collectorate, Muzaffarpur - BSPCB   \n",
       "\n",
       "                City           State  Status  \n",
       "0          Amaravati  Andhra Pradesh  Active  \n",
       "1  Rajamahendravaram  Andhra Pradesh     NaN  \n",
       "2           Tirupati  Andhra Pradesh     NaN  \n",
       "3         Vijayawada  Andhra Pradesh     NaN  \n",
       "4      Visakhapatnam  Andhra Pradesh  Active  \n",
       "5           Guwahati           Assam  Active  \n",
       "6               Gaya           Bihar     NaN  \n",
       "7               Gaya           Bihar     NaN  \n",
       "8            Hajipur           Bihar     NaN  \n",
       "9        Muzaffarpur           Bihar     NaN  "
      ]
     },
     "execution_count": 2,
     "metadata": {},
     "output_type": "execute_result"
    }
   ],
   "source": [
    "df=pd.read_csv('stations.csv')\n",
    "df.head(10)\n"
   ]
  },
  {
   "cell_type": "code",
   "execution_count": 19,
   "metadata": {},
   "outputs": [
    {
     "data": {
      "application/vnd.plotly.v1+json": {
       "config": {
        "plotlyServerURL": "https://plot.ly"
       },
       "data": [
        {
         "hovertemplate": "State=Andhra Pradesh<br>StationName=%{x}<br>City=%{y}<extra></extra>",
         "legendgroup": "",
         "line": {
          "color": "#636efa",
          "dash": "solid"
         },
         "mode": "lines",
         "name": "",
         "orientation": "v",
         "showlegend": false,
         "type": "scatter",
         "x": [
          "Secretariat, Amaravati - APPCB",
          "Anand Kala Kshetram, Rajamahendravaram - APPCB",
          "Tirumala, Tirupati - APPCB",
          "PWD Grounds, Vijayawada - APPCB",
          "GVM Corporation, Visakhapatnam - APPCB"
         ],
         "xaxis": "x",
         "y": [
          "Amaravati",
          "Rajamahendravaram",
          "Tirupati",
          "Vijayawada",
          "Visakhapatnam"
         ],
         "yaxis": "y"
        }
       ],
       "frames": [
        {
         "data": [
          {
           "hovertemplate": "State=Andhra Pradesh<br>StationName=%{x}<br>City=%{y}<extra></extra>",
           "legendgroup": "",
           "line": {
            "color": "#636efa",
            "dash": "solid"
           },
           "mode": "lines",
           "name": "",
           "orientation": "v",
           "showlegend": false,
           "type": "scatter",
           "x": [
            "Secretariat, Amaravati - APPCB",
            "Anand Kala Kshetram, Rajamahendravaram - APPCB",
            "Tirumala, Tirupati - APPCB",
            "PWD Grounds, Vijayawada - APPCB",
            "GVM Corporation, Visakhapatnam - APPCB"
           ],
           "xaxis": "x",
           "y": [
            "Amaravati",
            "Rajamahendravaram",
            "Tirupati",
            "Vijayawada",
            "Visakhapatnam"
           ],
           "yaxis": "y"
          }
         ],
         "name": "Andhra Pradesh"
        },
        {
         "data": [
          {
           "hovertemplate": "State=Assam<br>StationName=%{x}<br>City=%{y}<extra></extra>",
           "legendgroup": "",
           "line": {
            "color": "#636efa",
            "dash": "solid"
           },
           "mode": "lines",
           "name": "",
           "orientation": "v",
           "showlegend": false,
           "type": "scatter",
           "x": [
            "Railway Colony, Guwahati - APCB"
           ],
           "xaxis": "x",
           "y": [
            "Guwahati"
           ],
           "yaxis": "y"
          }
         ],
         "name": "Assam"
        },
        {
         "data": [
          {
           "hovertemplate": "State=Bihar<br>StationName=%{x}<br>City=%{y}<extra></extra>",
           "legendgroup": "",
           "line": {
            "color": "#636efa",
            "dash": "solid"
           },
           "mode": "lines",
           "name": "",
           "orientation": "v",
           "showlegend": false,
           "type": "scatter",
           "x": [
            "Collectorate, Gaya - BSPCB",
            "SFTI Kusdihra, Gaya - BSPCB",
            "Industrial Area, Hajipur - BSPCB",
            "Muzaffarpur Collectorate, Muzaffarpur - BSPCB",
            "DRM Office Danapur, Patna - BSPCB",
            "Govt. High School Shikarpur, Patna - BSPCB",
            "IGSC Planetarium Complex, Patna - BSPCB",
            "Muradpur, Patna - BSPCB",
            "Rajbansi Nagar, Patna - BSPCB",
            "Samanpura, Patna - BSPCB"
           ],
           "xaxis": "x",
           "y": [
            "Gaya",
            "Gaya",
            "Hajipur",
            "Muzaffarpur",
            "Patna",
            "Patna",
            "Patna",
            "Patna",
            "Patna",
            "Patna"
           ],
           "yaxis": "y"
          }
         ],
         "name": "Bihar"
        },
        {
         "data": [
          {
           "hovertemplate": "State=Chandigarh<br>StationName=%{x}<br>City=%{y}<extra></extra>",
           "legendgroup": "",
           "line": {
            "color": "#636efa",
            "dash": "solid"
           },
           "mode": "lines",
           "name": "",
           "orientation": "v",
           "showlegend": false,
           "type": "scatter",
           "x": [
            "Sector-25, Chandigarh - CPCC"
           ],
           "xaxis": "x",
           "y": [
            "Chandigarh"
           ],
           "yaxis": "y"
          }
         ],
         "name": "Chandigarh"
        },
        {
         "data": [
          {
           "hovertemplate": "State=Delhi<br>StationName=%{x}<br>City=%{y}<extra></extra>",
           "legendgroup": "",
           "line": {
            "color": "#636efa",
            "dash": "solid"
           },
           "mode": "lines",
           "name": "",
           "orientation": "v",
           "showlegend": false,
           "type": "scatter",
           "x": [
            "Alipur, Delhi - DPCC",
            "Anand Vihar, Delhi - DPCC",
            "Ashok Vihar, Delhi - DPCC",
            "Aya Nagar, Delhi - IMD",
            "Bawana, Delhi - DPCC",
            "Burari Crossing, Delhi - IMD",
            "CRRI Mathura Road, Delhi - IMD",
            "DTU, Delhi - CPCB",
            "Dr. Karni Singh Shooting Range, Delhi - DPCC",
            "Dwarka-Sector 8, Delhi - DPCC",
            "East Arjun Nagar, Delhi - CPCB",
            "IGI Airport (T3), Delhi - IMD",
            "IHBAS, Dilshad Garden, Delhi - CPCB",
            "ITO, Delhi - CPCB",
            "Jahangirpuri, Delhi - DPCC",
            "Jawaharlal Nehru Stadium, Delhi - DPCC",
            "Lodhi Road, Delhi - IMD",
            "Major Dhyan Chand National Stadium, Delhi - DPCC",
            "Mandir Marg, Delhi - DPCC",
            "Mundka, Delhi - DPCC",
            "NSIT Dwarka, Delhi - CPCB",
            "Najafgarh, Delhi - DPCC",
            "Narela, Delhi - DPCC",
            "Nehru Nagar, Delhi - DPCC",
            "North Campus, DU, Delhi - IMD",
            "Okhla Phase-2, Delhi - DPCC",
            "Patparganj, Delhi - DPCC",
            "Punjabi Bagh, Delhi - DPCC",
            "Pusa, Delhi - DPCC",
            "Pusa, Delhi - IMD",
            "R K Puram, Delhi - DPCC",
            "Rohini, Delhi - DPCC",
            "Shadipur, Delhi - CPCB",
            "Sirifort, Delhi - CPCB",
            "Sonia Vihar, Delhi - DPCC",
            "Sri Aurobindo Marg, Delhi - DPCC",
            "Vivek Vihar, Delhi - DPCC",
            "Wazirpur, Delhi - DPCC"
           ],
           "xaxis": "x",
           "y": [
            "Delhi",
            "Delhi",
            "Delhi",
            "Delhi",
            "Delhi",
            "Delhi",
            "Delhi",
            "Delhi",
            "Delhi",
            "Delhi",
            "Delhi",
            "Delhi",
            "Delhi",
            "Delhi",
            "Delhi",
            "Delhi",
            "Delhi",
            "Delhi",
            "Delhi",
            "Delhi",
            "Delhi",
            "Delhi",
            "Delhi",
            "Delhi",
            "Delhi",
            "Delhi",
            "Delhi",
            "Delhi",
            "Delhi",
            "Delhi",
            "Delhi",
            "Delhi",
            "Delhi",
            "Delhi",
            "Delhi",
            "Delhi",
            "Delhi",
            "Delhi"
           ],
           "yaxis": "y"
          }
         ],
         "name": "Delhi"
        },
        {
         "data": [
          {
           "hovertemplate": "State=Gujarat<br>StationName=%{x}<br>City=%{y}<extra></extra>",
           "legendgroup": "",
           "line": {
            "color": "#636efa",
            "dash": "solid"
           },
           "mode": "lines",
           "name": "",
           "orientation": "v",
           "showlegend": false,
           "type": "scatter",
           "x": [
            "Maninagar, Ahmedabad - GPCB",
            "GIDC, Ankleshwar - GPCB",
            "Sector-10, Gandhinagar - GPCB",
            "GIDC, Nandesari - Nandesari Ind. Association",
            "Phase-1 GIDC, Vapi - GPCB",
            "Phase-4 GIDC, Vatva - GPCB"
           ],
           "xaxis": "x",
           "y": [
            "Ahmedabad",
            "Ankleshwar",
            "Gandhinagar",
            "Nandesari",
            "Vapi",
            "Vatva"
           ],
           "yaxis": "y"
          }
         ],
         "name": "Gujarat"
        },
        {
         "data": [
          {
           "hovertemplate": "State=Haryana<br>StationName=%{x}<br>City=%{y}<extra></extra>",
           "legendgroup": "",
           "line": {
            "color": "#636efa",
            "dash": "solid"
           },
           "mode": "lines",
           "name": "",
           "orientation": "v",
           "showlegend": false,
           "type": "scatter",
           "x": [
            "Patti Mehar, Ambala - HSPCB",
            "Arya Nagar, Bahadurgarh - HSPCB",
            "Nathu Colony, Ballabgarh - HSPCB",
            "H.B. Colony, Bhiwani - HSPCB",
            "Municipal Corporation Office, Dharuhera - HSPCB",
            "New Industrial Town, Faridabad - HSPCB",
            "Sector 11, Faridabad - HSPCB",
            "Sector 30, Faridabad - HSPCB",
            "Sector- 16A, Faridabad - HSPCB",
            "Huda Sector, Fatehabad - HSPCB",
            "NISE Gwal Pahari, Gurugram - IMD",
            "Sector-51, Gurugram - HSPCB",
            "Teri Gram, Gurugram - HSPCB",
            "Vikas Sadan, Gurugram - HSPCB",
            "Urban Estate-II, Hisar - HSPCB",
            "Police Lines, Jind - HSPCB",
            "Rishi Nagar, Kaithal - HSPCB",
            "Sector-12, Karnal - HSPCB",
            "Sector-7, Kurukshetra - HSPCB",
            "General Hospital, Mandikhera - HSPCB",
            "Sector-2 IMT, Manesar - HSPCB",
            "Shastri Nagar, Narnaul - HSPCB",
            "Shyam Nagar, Palwal - HSPCB",
            "Sector-6, Panchkula - HSPCB",
            "Sector-18, Panipat - HSPCB",
            "MD University, Rohtak - HSPCB",
            "F-Block, Sirsa - HSPCB",
            "Murthal, Sonipat - HSPCB",
            "Gobind Pura, Yamuna Nagar - HSPCB"
           ],
           "xaxis": "x",
           "y": [
            "Ambala",
            "Bahadurgarh",
            "Ballabgarh",
            "Bhiwani",
            "Dharuhera",
            "Faridabad",
            "Faridabad",
            "Faridabad",
            "Faridabad",
            "Fatehabad",
            "Gurugram",
            "Gurugram",
            "Gurugram",
            "Gurugram",
            "Hisar",
            "Jind",
            "Kaithal",
            "Karnal",
            "Kurukshetra",
            "Mandikhera",
            "Manesar",
            "Narnaul",
            "Palwal",
            "Panchkula",
            "Panipat",
            "Rohtak",
            "Sirsa",
            "Sonipat",
            "Yamuna Nagar"
           ],
           "yaxis": "y"
          }
         ],
         "name": "Haryana"
        },
        {
         "data": [
          {
           "hovertemplate": "State=Jharkhand<br>StationName=%{x}<br>City=%{y}<extra></extra>",
           "legendgroup": "",
           "line": {
            "color": "#636efa",
            "dash": "solid"
           },
           "mode": "lines",
           "name": "",
           "orientation": "v",
           "showlegend": false,
           "type": "scatter",
           "x": [
            "Tata Stadium, Jorapokhar - JSPCB"
           ],
           "xaxis": "x",
           "y": [
            "Jorapokhar"
           ],
           "yaxis": "y"
          }
         ],
         "name": "Jharkhand"
        },
        {
         "data": [
          {
           "hovertemplate": "State=Karnataka<br>StationName=%{x}<br>City=%{y}<extra></extra>",
           "legendgroup": "",
           "line": {
            "color": "#636efa",
            "dash": "solid"
           },
           "mode": "lines",
           "name": "",
           "orientation": "v",
           "showlegend": false,
           "type": "scatter",
           "x": [
            "Vidayagiri, Bagalkot - KSPCB",
            "BTM Layout, Bengaluru - CPCB",
            "BWSSB Kadabesanahalli, Bengaluru - CPCB",
            "Bapuji Nagar, Bengaluru - KSPCB",
            "City Railway Station, Bengaluru - KSPCB",
            "Hebbal, Bengaluru - KSPCB",
            "Hombegowda Nagar, Bengaluru - KSPCB",
            "Jayanagar 5th Block, Bengaluru - KSPCB",
            "Peenya, Bengaluru - CPCB",
            "Sanegurava Halli, Bengaluru - KSPCB",
            "Silk Board, Bengaluru - KSPCB",
            "Urban, Chamarajanagar - KSPCB",
            "Chikkaballapur Rural, Chikkaballapur - KSPCB",
            "Kalyana Nagara, Chikkamagaluru - KSPCB",
            "Deshpande Nagar, Hubballi - KSPCB",
            "Lal Bahadur Shastri Nagar, Kalaburagi - KSPCB",
            "Hebbal 1st Stage, Mysuru - KSPCB",
            "Vijay Nagar, Ramanagara - KSPCB",
            "Ibrahimpur, Vijayapura - KSPCB",
            "Collector Office, Yadgir - KSPCB"
           ],
           "xaxis": "x",
           "y": [
            "Bagalkot",
            "Bengaluru",
            "Bengaluru",
            "Bengaluru",
            "Bengaluru",
            "Bengaluru",
            "Bengaluru",
            "Bengaluru",
            "Bengaluru",
            "Bengaluru",
            "Bengaluru",
            "Chamarajanagar",
            "Chikkaballapur",
            "Chikkamagaluru",
            "Hubballi",
            "Kalaburagi",
            "Mysuru",
            "Ramanagara",
            "Vijayapura",
            "Yadgir"
           ],
           "yaxis": "y"
          }
         ],
         "name": "Karnataka"
        },
        {
         "data": [
          {
           "hovertemplate": "State=Kerala<br>StationName=%{x}<br>City=%{y}<extra></extra>",
           "legendgroup": "",
           "line": {
            "color": "#636efa",
            "dash": "solid"
           },
           "mode": "lines",
           "name": "",
           "orientation": "v",
           "showlegend": false,
           "type": "scatter",
           "x": [
            "Udyogamandal, Eloor - Kerala PCB",
            "Kacheripady, Ernakulam - Kerala PCB",
            "Thavakkara, Kannur - Kerala PCB",
            "Vyttila, Kochi - Kerala PCB",
            "Polayathode, Kollam - Kerala PCB",
            "Palayam, Kozhikode - Kerala PCB",
            "Kariavattom, Thiruvananthapuram - Kerala PCB",
            "Plammoodu, Thiruvananthapuram - Kerala PCB"
           ],
           "xaxis": "x",
           "y": [
            "Eloor",
            "Ernakulam",
            "Kannur",
            "Kochi",
            "Kollam",
            "Kozhikode",
            "Thiruvananthapuram",
            "Thiruvananthapuram"
           ],
           "yaxis": "y"
          }
         ],
         "name": "Kerala"
        },
        {
         "data": [
          {
           "hovertemplate": "State=Madhya Pradesh<br>StationName=%{x}<br>City=%{y}<extra></extra>",
           "legendgroup": "",
           "line": {
            "color": "#636efa",
            "dash": "solid"
           },
           "mode": "lines",
           "name": "",
           "orientation": "v",
           "showlegend": false,
           "type": "scatter",
           "x": [
            "T T Nagar, Bhopal - MPPCB",
            "Shrivastav Colony, Damoh - MPPCB",
            "Bhopal Chauraha, Dewas - MPPCB",
            "City Center, Gwalior - MPPCB",
            "Phool Bagh, Gwalior - Mondelez Ind. Food",
            "Chhoti Gwaltoli, Indore - MPPCB",
            "Marhatal, Jabalpur - MPPCB",
            "Gole Bazar, Katni - MPPCB",
            "Sahilara, Maihar - KJS Cements",
            "Sector-D Industrial Area, Mandideep - MPPCB",
            "Sector-2 Industrial Area, Pithampur - MPPCB",
            "Shasthri Nagar, Ratlam - IPCA Lab",
            "Deen Dayal Nagar, Sagar - MPPCB",
            "Bandhavgar Colony, Satna - Birla Cement",
            "Vindhyachal STPS, Singrauli - MPPCB",
            "Mahakaleshwar Temple, Ujjain - MPPCB"
           ],
           "xaxis": "x",
           "y": [
            "Bhopal",
            "Damoh",
            "Dewas",
            "Gwalior",
            "Gwalior",
            "Indore",
            "Jabalpur",
            "Katni",
            "Maihar",
            "Mandideep",
            "Pithampur",
            "Ratlam",
            "Sagar",
            "Satna",
            "Singrauli",
            "Ujjain"
           ],
           "yaxis": "y"
          }
         ],
         "name": "Madhya Pradesh"
        },
        {
         "data": [
          {
           "hovertemplate": "State=Maharashtra<br>StationName=%{x}<br>City=%{y}<extra></extra>",
           "legendgroup": "",
           "line": {
            "color": "#636efa",
            "dash": "solid"
           },
           "mode": "lines",
           "name": "",
           "orientation": "v",
           "showlegend": false,
           "type": "scatter",
           "x": [
            "More Chowk Waluj, Aurangabad - MPCB",
            "Chandrapur, Chandrapur - MPCB",
            "MIDC Khutala, Chandrapur - MPCB",
            "Khadakpada, Kalyan - MPCB",
            "Bandra, Mumbai - MPCB",
            "Borivali East, Mumbai - MPCB",
            "Chhatrapati Shivaji Intl. Airport (T2), Mumbai - MPCB",
            "Colaba, Mumbai - MPCB",
            "Kurla, Mumbai - MPCB",
            "Powai, Mumbai - MPCB",
            "Sion, Mumbai - MPCB",
            "Vasai West, Mumbai - MPCB",
            "Vile Parle West, Mumbai - MPCB",
            "Worli, Mumbai - MPCB",
            "Opp GPO Civil Lines, Nagpur - MPCB",
            "Gangapur Road, Nashik - MPCB",
            "Airoli, Navi Mumbai - MPCB",
            "Mahape, Navi Mumbai - MPCB",
            "Nerul, Navi Mumbai - MPCB",
            "Karve Road, Pune - MPCB",
            "Solapur, Solapur - MPCB",
            "Pimpleshwar Mandir, Thane - MPCB"
           ],
           "xaxis": "x",
           "y": [
            "Aurangabad",
            "Chandrapur",
            "Chandrapur",
            "Kalyan",
            "Mumbai",
            "Mumbai",
            "Mumbai",
            "Mumbai",
            "Mumbai",
            "Mumbai",
            "Mumbai",
            "Mumbai",
            "Mumbai",
            "Mumbai",
            "Nagpur",
            "Nashik",
            "Navi Mumbai",
            "Navi Mumbai",
            "Navi Mumbai",
            "Pune",
            "Solapur",
            "Thane"
           ],
           "yaxis": "y"
          }
         ],
         "name": "Maharashtra"
        },
        {
         "data": [
          {
           "hovertemplate": "State=Meghalaya<br>StationName=%{x}<br>City=%{y}<extra></extra>",
           "legendgroup": "",
           "line": {
            "color": "#636efa",
            "dash": "solid"
           },
           "mode": "lines",
           "name": "",
           "orientation": "v",
           "showlegend": false,
           "type": "scatter",
           "x": [
            "Lumpyngngad, Shillong - Meghalaya PCB"
           ],
           "xaxis": "x",
           "y": [
            "Shillong"
           ],
           "yaxis": "y"
          }
         ],
         "name": "Meghalaya"
        },
        {
         "data": [
          {
           "hovertemplate": "State=Mizoram<br>StationName=%{x}<br>City=%{y}<extra></extra>",
           "legendgroup": "",
           "line": {
            "color": "#636efa",
            "dash": "solid"
           },
           "mode": "lines",
           "name": "",
           "orientation": "v",
           "showlegend": false,
           "type": "scatter",
           "x": [
            "Sikulpuikawn, Aizawl - Mizoram PCB"
           ],
           "xaxis": "x",
           "y": [
            "Aizawl"
           ],
           "yaxis": "y"
          }
         ],
         "name": "Mizoram"
        },
        {
         "data": [
          {
           "hovertemplate": "State=Odisha<br>StationName=%{x}<br>City=%{y}<extra></extra>",
           "legendgroup": "",
           "line": {
            "color": "#636efa",
            "dash": "solid"
           },
           "mode": "lines",
           "name": "",
           "orientation": "v",
           "showlegend": false,
           "type": "scatter",
           "x": [
            "GM Office, Brajrajnagar - OSPCB",
            "Talcher Coalfields,Talcher - OSPCB"
           ],
           "xaxis": "x",
           "y": [
            "Brajrajnagar",
            "Talcher"
           ],
           "yaxis": "y"
          }
         ],
         "name": "Odisha"
        },
        {
         "data": [
          {
           "hovertemplate": "State=Punjab<br>StationName=%{x}<br>City=%{y}<extra></extra>",
           "legendgroup": "",
           "line": {
            "color": "#636efa",
            "dash": "solid"
           },
           "mode": "lines",
           "name": "",
           "orientation": "v",
           "showlegend": false,
           "type": "scatter",
           "x": [
            "Golden Temple, Amritsar - PPCB",
            "Hardev Nagar, Bathinda - PPCB",
            "Civil Line, Jalandhar - PPCB",
            "Kalal Majra, Khanna - PPCB",
            "Punjab Agricultural University, Ludhiana - PPCB",
            "RIMT University, Mandi Gobindgarh - PPCB",
            "Model Town, Patiala - PPCB",
            "Ratanpura, Rupnagar - Ambuja Cements"
           ],
           "xaxis": "x",
           "y": [
            "Amritsar",
            "Bathinda",
            "Jalandhar",
            "Khanna",
            "Ludhiana",
            "Gobindgarh",
            "Patiala",
            "Rupnagar"
           ],
           "yaxis": "y"
          }
         ],
         "name": "Punjab"
        },
        {
         "data": [
          {
           "hovertemplate": "State=Rajasthan<br>StationName=%{x}<br>City=%{y}<extra></extra>",
           "legendgroup": "",
           "line": {
            "color": "#636efa",
            "dash": "solid"
           },
           "mode": "lines",
           "name": "",
           "orientation": "v",
           "showlegend": false,
           "type": "scatter",
           "x": [
            "Moti Doongri, Alwar - RSPCB",
            "Civil Lines, Ajmer - RSPCB",
            "RIICO Ind. Area III, Bhiwadi - RSPCB",
            "Adarsh Nagar, Jaipur - RSPCB",
            "Police Commissionerate, Jaipur - RSPCB",
            "Shastri Nagar, Jaipur - RSPCB",
            "Collectorate, Jodhpur - RSPCB",
            "Shrinath Puram, Kota - RSPCB",
            "Indira Colony Vistar, Pali - RSPCB",
            "Ashok Nagar, Udaipur - RSPCB"
           ],
           "xaxis": "x",
           "y": [
            "Alwar",
            "Ajmer",
            "Bhiwandi",
            "Jaipur",
            "Jaipur",
            "Jaipur",
            "Jodhpur",
            "Kota",
            "Pali",
            "Udaipur"
           ],
           "yaxis": "y"
          }
         ],
         "name": "Rajasthan"
        },
        {
         "data": [
          {
           "hovertemplate": "State=Tamil Nadu<br>StationName=%{x}<br>City=%{y}<extra></extra>",
           "legendgroup": "",
           "line": {
            "color": "#636efa",
            "dash": "solid"
           },
           "mode": "lines",
           "name": "",
           "orientation": "v",
           "showlegend": false,
           "type": "scatter",
           "x": [
            "Alandur Bus Depot, Chennai - CPCB",
            "Manali Village, Chennai - TNPCB",
            "Manali, Chennai - CPCB",
            "Velachery Res. Area, Chennai - CPCB",
            "SIDCO Kurichi, Coimbatore - TNPCB"
           ],
           "xaxis": "x",
           "y": [
            "Chennai",
            "Chennai",
            "Chennai",
            "Chennai",
            "Coimbatore"
           ],
           "yaxis": "y"
          }
         ],
         "name": "Tamil Nadu"
        },
        {
         "data": [
          {
           "hovertemplate": "State=Telangana<br>StationName=%{x}<br>City=%{y}<extra></extra>",
           "legendgroup": "",
           "line": {
            "color": "#636efa",
            "dash": "solid"
           },
           "mode": "lines",
           "name": "",
           "orientation": "v",
           "showlegend": false,
           "type": "scatter",
           "x": [
            "Bollaram Industrial Area, Hyderabad - TSPCB",
            "Central University, Hyderabad - TSPCB",
            "ICRISAT Patancheru, Hyderabad - TSPCB",
            "IDA Pashamylaram, Hyderabad - TSPCB",
            "Sanathnagar, Hyderabad - TSPCB",
            "Zoo Park, Hyderabad - TSPCB"
           ],
           "xaxis": "x",
           "y": [
            "Hyderabad",
            "Hyderabad",
            "Hyderabad",
            "Hyderabad",
            "Hyderabad",
            "Hyderabad"
           ],
           "yaxis": "y"
          }
         ],
         "name": "Telangana"
        },
        {
         "data": [
          {
           "hovertemplate": "State=Uttar Pradesh<br>StationName=%{x}<br>City=%{y}<extra></extra>",
           "legendgroup": "",
           "line": {
            "color": "#636efa",
            "dash": "solid"
           },
           "mode": "lines",
           "name": "",
           "orientation": "v",
           "showlegend": false,
           "type": "scatter",
           "x": [
            "Sanjay Palace, Agra - UPPCB",
            "New Collectorate, Baghpat - UPPCB",
            "Yamunapuram, Bulandshahr - UPPCB",
            "Indirapuram, Ghaziabad - UPPCB",
            "Loni, Ghaziabad - UPPCB",
            "Sanjay Nagar, Ghaziabad - UPPCB",
            "Vasundhara, Ghaziabad - UPPCB",
            "Knowledge Park - III, Greater Noida - UPPCB",
            "Knowledge Park - V, Greater Noida - UPPCB",
            "Anand Vihar, Hapur - UPPCB",
            "Nehru Nagar, Kanpur - UPPCB",
            "Central School, Lucknow - CPCB",
            "Gomti Nagar, Lucknow - UPPCB",
            "Lalbagh, Lucknow - CPCB",
            "Nishant Ganj, Lucknow - UPPCB",
            "Talkatora District Industries Center, Lucknow - CPCB",
            "Ganga Nagar, Meerut - UPPCB",
            "Jai Bhim Nagar, Meerut - UPPCB",
            "Pallavpuram Phase 2, Meerut - UPPCB",
            "Lajpat Nagar, Moradabad - UPPCB",
            "New Mandi, Muzaffarnagar - UPPCB",
            "Sector - 125, Noida - UPPCB",
            "Sector - 62, Noida - IMD",
            "Sector-1, Noida - UPPCB",
            "Sector-116, Noida - UPPCB",
            "Ardhali Bazar, Varanasi - UPPCB"
           ],
           "xaxis": "x",
           "y": [
            "Agra",
            "Baghpat",
            "Bulandshahr",
            "Ghaziabad",
            "Ghaziabad",
            "Ghaziabad",
            "Ghaziabad",
            "Greater Noida",
            "Greater Noida",
            "Hapur",
            "Kanpur",
            "Lucknow",
            "Lucknow",
            "Lucknow",
            "Lucknow",
            "Lucknow",
            "Meerut",
            "Meerut",
            "Meerut",
            "Moradabad",
            "Muzzaffarnagar",
            "Noida",
            "Noida",
            "Noida",
            "Noida",
            "Varanasi"
           ],
           "yaxis": "y"
          }
         ],
         "name": "Uttar Pradesh"
        },
        {
         "data": [
          {
           "hovertemplate": "State=West Bengal<br>StationName=%{x}<br>City=%{y}<extra></extra>",
           "legendgroup": "",
           "line": {
            "color": "#636efa",
            "dash": "solid"
           },
           "mode": "lines",
           "name": "",
           "orientation": "v",
           "showlegend": false,
           "type": "scatter",
           "x": [
            "Asansol Court Area, Asansol - WBPCB",
            "Sidhu Kanhu Indoor Stadium, Durgapur - WBPCB",
            "Haldia, Haldia - WBPCB",
            "Belur Math, Howrah - WBPCB",
            "Ghusuri, Howrah - WBPCB",
            "Padmapukur, Howrah - WBPCB",
            "Ballygunge, Kolkata - WBPCB",
            "Bidhannagar, Kolkata - WBPCB",
            "Fort William, Kolkata - WBPCB",
            "Jadavpur, Kolkata - WBPCB",
            "Rabindra Bharati University, Kolkata - WBPCB",
            "Rabindra Sarobar, Kolkata - WBPCB",
            "Victoria, Kolkata - WBPCB",
            "Ward-32 Bapupara, Siliguri - WBPCB"
           ],
           "xaxis": "x",
           "y": [
            "Asansol",
            "Durgapur",
            "Haldia",
            "Howrah",
            "Howrah",
            "Howrah",
            "Kolkata",
            "Kolkata",
            "Kolkata",
            "Kolkata",
            "Kolkata",
            "Kolkata",
            "Kolkata",
            "Siliguri"
           ],
           "yaxis": "y"
          }
         ],
         "name": "West Bengal"
        }
       ],
       "layout": {
        "legend": {
         "tracegroupgap": 0
        },
        "margin": {
         "t": 60
        },
        "sliders": [
         {
          "active": 0,
          "currentvalue": {
           "prefix": "State="
          },
          "len": 0.9,
          "pad": {
           "b": 10,
           "t": 60
          },
          "steps": [
           {
            "args": [
             [
              "Andhra Pradesh"
             ],
             {
              "frame": {
               "duration": 0,
               "redraw": false
              },
              "fromcurrent": true,
              "mode": "immediate",
              "transition": {
               "duration": 0,
               "easing": "linear"
              }
             }
            ],
            "label": "Andhra Pradesh",
            "method": "animate"
           },
           {
            "args": [
             [
              "Assam"
             ],
             {
              "frame": {
               "duration": 0,
               "redraw": false
              },
              "fromcurrent": true,
              "mode": "immediate",
              "transition": {
               "duration": 0,
               "easing": "linear"
              }
             }
            ],
            "label": "Assam",
            "method": "animate"
           },
           {
            "args": [
             [
              "Bihar"
             ],
             {
              "frame": {
               "duration": 0,
               "redraw": false
              },
              "fromcurrent": true,
              "mode": "immediate",
              "transition": {
               "duration": 0,
               "easing": "linear"
              }
             }
            ],
            "label": "Bihar",
            "method": "animate"
           },
           {
            "args": [
             [
              "Chandigarh"
             ],
             {
              "frame": {
               "duration": 0,
               "redraw": false
              },
              "fromcurrent": true,
              "mode": "immediate",
              "transition": {
               "duration": 0,
               "easing": "linear"
              }
             }
            ],
            "label": "Chandigarh",
            "method": "animate"
           },
           {
            "args": [
             [
              "Delhi"
             ],
             {
              "frame": {
               "duration": 0,
               "redraw": false
              },
              "fromcurrent": true,
              "mode": "immediate",
              "transition": {
               "duration": 0,
               "easing": "linear"
              }
             }
            ],
            "label": "Delhi",
            "method": "animate"
           },
           {
            "args": [
             [
              "Gujarat"
             ],
             {
              "frame": {
               "duration": 0,
               "redraw": false
              },
              "fromcurrent": true,
              "mode": "immediate",
              "transition": {
               "duration": 0,
               "easing": "linear"
              }
             }
            ],
            "label": "Gujarat",
            "method": "animate"
           },
           {
            "args": [
             [
              "Haryana"
             ],
             {
              "frame": {
               "duration": 0,
               "redraw": false
              },
              "fromcurrent": true,
              "mode": "immediate",
              "transition": {
               "duration": 0,
               "easing": "linear"
              }
             }
            ],
            "label": "Haryana",
            "method": "animate"
           },
           {
            "args": [
             [
              "Jharkhand"
             ],
             {
              "frame": {
               "duration": 0,
               "redraw": false
              },
              "fromcurrent": true,
              "mode": "immediate",
              "transition": {
               "duration": 0,
               "easing": "linear"
              }
             }
            ],
            "label": "Jharkhand",
            "method": "animate"
           },
           {
            "args": [
             [
              "Karnataka"
             ],
             {
              "frame": {
               "duration": 0,
               "redraw": false
              },
              "fromcurrent": true,
              "mode": "immediate",
              "transition": {
               "duration": 0,
               "easing": "linear"
              }
             }
            ],
            "label": "Karnataka",
            "method": "animate"
           },
           {
            "args": [
             [
              "Kerala"
             ],
             {
              "frame": {
               "duration": 0,
               "redraw": false
              },
              "fromcurrent": true,
              "mode": "immediate",
              "transition": {
               "duration": 0,
               "easing": "linear"
              }
             }
            ],
            "label": "Kerala",
            "method": "animate"
           },
           {
            "args": [
             [
              "Madhya Pradesh"
             ],
             {
              "frame": {
               "duration": 0,
               "redraw": false
              },
              "fromcurrent": true,
              "mode": "immediate",
              "transition": {
               "duration": 0,
               "easing": "linear"
              }
             }
            ],
            "label": "Madhya Pradesh",
            "method": "animate"
           },
           {
            "args": [
             [
              "Maharashtra"
             ],
             {
              "frame": {
               "duration": 0,
               "redraw": false
              },
              "fromcurrent": true,
              "mode": "immediate",
              "transition": {
               "duration": 0,
               "easing": "linear"
              }
             }
            ],
            "label": "Maharashtra",
            "method": "animate"
           },
           {
            "args": [
             [
              "Meghalaya"
             ],
             {
              "frame": {
               "duration": 0,
               "redraw": false
              },
              "fromcurrent": true,
              "mode": "immediate",
              "transition": {
               "duration": 0,
               "easing": "linear"
              }
             }
            ],
            "label": "Meghalaya",
            "method": "animate"
           },
           {
            "args": [
             [
              "Mizoram"
             ],
             {
              "frame": {
               "duration": 0,
               "redraw": false
              },
              "fromcurrent": true,
              "mode": "immediate",
              "transition": {
               "duration": 0,
               "easing": "linear"
              }
             }
            ],
            "label": "Mizoram",
            "method": "animate"
           },
           {
            "args": [
             [
              "Odisha"
             ],
             {
              "frame": {
               "duration": 0,
               "redraw": false
              },
              "fromcurrent": true,
              "mode": "immediate",
              "transition": {
               "duration": 0,
               "easing": "linear"
              }
             }
            ],
            "label": "Odisha",
            "method": "animate"
           },
           {
            "args": [
             [
              "Punjab"
             ],
             {
              "frame": {
               "duration": 0,
               "redraw": false
              },
              "fromcurrent": true,
              "mode": "immediate",
              "transition": {
               "duration": 0,
               "easing": "linear"
              }
             }
            ],
            "label": "Punjab",
            "method": "animate"
           },
           {
            "args": [
             [
              "Rajasthan"
             ],
             {
              "frame": {
               "duration": 0,
               "redraw": false
              },
              "fromcurrent": true,
              "mode": "immediate",
              "transition": {
               "duration": 0,
               "easing": "linear"
              }
             }
            ],
            "label": "Rajasthan",
            "method": "animate"
           },
           {
            "args": [
             [
              "Tamil Nadu"
             ],
             {
              "frame": {
               "duration": 0,
               "redraw": false
              },
              "fromcurrent": true,
              "mode": "immediate",
              "transition": {
               "duration": 0,
               "easing": "linear"
              }
             }
            ],
            "label": "Tamil Nadu",
            "method": "animate"
           },
           {
            "args": [
             [
              "Telangana"
             ],
             {
              "frame": {
               "duration": 0,
               "redraw": false
              },
              "fromcurrent": true,
              "mode": "immediate",
              "transition": {
               "duration": 0,
               "easing": "linear"
              }
             }
            ],
            "label": "Telangana",
            "method": "animate"
           },
           {
            "args": [
             [
              "Uttar Pradesh"
             ],
             {
              "frame": {
               "duration": 0,
               "redraw": false
              },
              "fromcurrent": true,
              "mode": "immediate",
              "transition": {
               "duration": 0,
               "easing": "linear"
              }
             }
            ],
            "label": "Uttar Pradesh",
            "method": "animate"
           },
           {
            "args": [
             [
              "West Bengal"
             ],
             {
              "frame": {
               "duration": 0,
               "redraw": false
              },
              "fromcurrent": true,
              "mode": "immediate",
              "transition": {
               "duration": 0,
               "easing": "linear"
              }
             }
            ],
            "label": "West Bengal",
            "method": "animate"
           }
          ],
          "x": 0.1,
          "xanchor": "left",
          "y": 0,
          "yanchor": "top"
         }
        ],
        "template": {
         "data": {
          "bar": [
           {
            "error_x": {
             "color": "#2a3f5f"
            },
            "error_y": {
             "color": "#2a3f5f"
            },
            "marker": {
             "line": {
              "color": "#E5ECF6",
              "width": 0.5
             }
            },
            "type": "bar"
           }
          ],
          "barpolar": [
           {
            "marker": {
             "line": {
              "color": "#E5ECF6",
              "width": 0.5
             }
            },
            "type": "barpolar"
           }
          ],
          "carpet": [
           {
            "aaxis": {
             "endlinecolor": "#2a3f5f",
             "gridcolor": "white",
             "linecolor": "white",
             "minorgridcolor": "white",
             "startlinecolor": "#2a3f5f"
            },
            "baxis": {
             "endlinecolor": "#2a3f5f",
             "gridcolor": "white",
             "linecolor": "white",
             "minorgridcolor": "white",
             "startlinecolor": "#2a3f5f"
            },
            "type": "carpet"
           }
          ],
          "choropleth": [
           {
            "colorbar": {
             "outlinewidth": 0,
             "ticks": ""
            },
            "type": "choropleth"
           }
          ],
          "contour": [
           {
            "colorbar": {
             "outlinewidth": 0,
             "ticks": ""
            },
            "colorscale": [
             [
              0,
              "#0d0887"
             ],
             [
              0.1111111111111111,
              "#46039f"
             ],
             [
              0.2222222222222222,
              "#7201a8"
             ],
             [
              0.3333333333333333,
              "#9c179e"
             ],
             [
              0.4444444444444444,
              "#bd3786"
             ],
             [
              0.5555555555555556,
              "#d8576b"
             ],
             [
              0.6666666666666666,
              "#ed7953"
             ],
             [
              0.7777777777777778,
              "#fb9f3a"
             ],
             [
              0.8888888888888888,
              "#fdca26"
             ],
             [
              1,
              "#f0f921"
             ]
            ],
            "type": "contour"
           }
          ],
          "contourcarpet": [
           {
            "colorbar": {
             "outlinewidth": 0,
             "ticks": ""
            },
            "type": "contourcarpet"
           }
          ],
          "heatmap": [
           {
            "colorbar": {
             "outlinewidth": 0,
             "ticks": ""
            },
            "colorscale": [
             [
              0,
              "#0d0887"
             ],
             [
              0.1111111111111111,
              "#46039f"
             ],
             [
              0.2222222222222222,
              "#7201a8"
             ],
             [
              0.3333333333333333,
              "#9c179e"
             ],
             [
              0.4444444444444444,
              "#bd3786"
             ],
             [
              0.5555555555555556,
              "#d8576b"
             ],
             [
              0.6666666666666666,
              "#ed7953"
             ],
             [
              0.7777777777777778,
              "#fb9f3a"
             ],
             [
              0.8888888888888888,
              "#fdca26"
             ],
             [
              1,
              "#f0f921"
             ]
            ],
            "type": "heatmap"
           }
          ],
          "heatmapgl": [
           {
            "colorbar": {
             "outlinewidth": 0,
             "ticks": ""
            },
            "colorscale": [
             [
              0,
              "#0d0887"
             ],
             [
              0.1111111111111111,
              "#46039f"
             ],
             [
              0.2222222222222222,
              "#7201a8"
             ],
             [
              0.3333333333333333,
              "#9c179e"
             ],
             [
              0.4444444444444444,
              "#bd3786"
             ],
             [
              0.5555555555555556,
              "#d8576b"
             ],
             [
              0.6666666666666666,
              "#ed7953"
             ],
             [
              0.7777777777777778,
              "#fb9f3a"
             ],
             [
              0.8888888888888888,
              "#fdca26"
             ],
             [
              1,
              "#f0f921"
             ]
            ],
            "type": "heatmapgl"
           }
          ],
          "histogram": [
           {
            "marker": {
             "colorbar": {
              "outlinewidth": 0,
              "ticks": ""
             }
            },
            "type": "histogram"
           }
          ],
          "histogram2d": [
           {
            "colorbar": {
             "outlinewidth": 0,
             "ticks": ""
            },
            "colorscale": [
             [
              0,
              "#0d0887"
             ],
             [
              0.1111111111111111,
              "#46039f"
             ],
             [
              0.2222222222222222,
              "#7201a8"
             ],
             [
              0.3333333333333333,
              "#9c179e"
             ],
             [
              0.4444444444444444,
              "#bd3786"
             ],
             [
              0.5555555555555556,
              "#d8576b"
             ],
             [
              0.6666666666666666,
              "#ed7953"
             ],
             [
              0.7777777777777778,
              "#fb9f3a"
             ],
             [
              0.8888888888888888,
              "#fdca26"
             ],
             [
              1,
              "#f0f921"
             ]
            ],
            "type": "histogram2d"
           }
          ],
          "histogram2dcontour": [
           {
            "colorbar": {
             "outlinewidth": 0,
             "ticks": ""
            },
            "colorscale": [
             [
              0,
              "#0d0887"
             ],
             [
              0.1111111111111111,
              "#46039f"
             ],
             [
              0.2222222222222222,
              "#7201a8"
             ],
             [
              0.3333333333333333,
              "#9c179e"
             ],
             [
              0.4444444444444444,
              "#bd3786"
             ],
             [
              0.5555555555555556,
              "#d8576b"
             ],
             [
              0.6666666666666666,
              "#ed7953"
             ],
             [
              0.7777777777777778,
              "#fb9f3a"
             ],
             [
              0.8888888888888888,
              "#fdca26"
             ],
             [
              1,
              "#f0f921"
             ]
            ],
            "type": "histogram2dcontour"
           }
          ],
          "mesh3d": [
           {
            "colorbar": {
             "outlinewidth": 0,
             "ticks": ""
            },
            "type": "mesh3d"
           }
          ],
          "parcoords": [
           {
            "line": {
             "colorbar": {
              "outlinewidth": 0,
              "ticks": ""
             }
            },
            "type": "parcoords"
           }
          ],
          "pie": [
           {
            "automargin": true,
            "type": "pie"
           }
          ],
          "scatter": [
           {
            "marker": {
             "colorbar": {
              "outlinewidth": 0,
              "ticks": ""
             }
            },
            "type": "scatter"
           }
          ],
          "scatter3d": [
           {
            "line": {
             "colorbar": {
              "outlinewidth": 0,
              "ticks": ""
             }
            },
            "marker": {
             "colorbar": {
              "outlinewidth": 0,
              "ticks": ""
             }
            },
            "type": "scatter3d"
           }
          ],
          "scattercarpet": [
           {
            "marker": {
             "colorbar": {
              "outlinewidth": 0,
              "ticks": ""
             }
            },
            "type": "scattercarpet"
           }
          ],
          "scattergeo": [
           {
            "marker": {
             "colorbar": {
              "outlinewidth": 0,
              "ticks": ""
             }
            },
            "type": "scattergeo"
           }
          ],
          "scattergl": [
           {
            "marker": {
             "colorbar": {
              "outlinewidth": 0,
              "ticks": ""
             }
            },
            "type": "scattergl"
           }
          ],
          "scattermapbox": [
           {
            "marker": {
             "colorbar": {
              "outlinewidth": 0,
              "ticks": ""
             }
            },
            "type": "scattermapbox"
           }
          ],
          "scatterpolar": [
           {
            "marker": {
             "colorbar": {
              "outlinewidth": 0,
              "ticks": ""
             }
            },
            "type": "scatterpolar"
           }
          ],
          "scatterpolargl": [
           {
            "marker": {
             "colorbar": {
              "outlinewidth": 0,
              "ticks": ""
             }
            },
            "type": "scatterpolargl"
           }
          ],
          "scatterternary": [
           {
            "marker": {
             "colorbar": {
              "outlinewidth": 0,
              "ticks": ""
             }
            },
            "type": "scatterternary"
           }
          ],
          "surface": [
           {
            "colorbar": {
             "outlinewidth": 0,
             "ticks": ""
            },
            "colorscale": [
             [
              0,
              "#0d0887"
             ],
             [
              0.1111111111111111,
              "#46039f"
             ],
             [
              0.2222222222222222,
              "#7201a8"
             ],
             [
              0.3333333333333333,
              "#9c179e"
             ],
             [
              0.4444444444444444,
              "#bd3786"
             ],
             [
              0.5555555555555556,
              "#d8576b"
             ],
             [
              0.6666666666666666,
              "#ed7953"
             ],
             [
              0.7777777777777778,
              "#fb9f3a"
             ],
             [
              0.8888888888888888,
              "#fdca26"
             ],
             [
              1,
              "#f0f921"
             ]
            ],
            "type": "surface"
           }
          ],
          "table": [
           {
            "cells": {
             "fill": {
              "color": "#EBF0F8"
             },
             "line": {
              "color": "white"
             }
            },
            "header": {
             "fill": {
              "color": "#C8D4E3"
             },
             "line": {
              "color": "white"
             }
            },
            "type": "table"
           }
          ]
         },
         "layout": {
          "annotationdefaults": {
           "arrowcolor": "#2a3f5f",
           "arrowhead": 0,
           "arrowwidth": 1
          },
          "autotypenumbers": "strict",
          "coloraxis": {
           "colorbar": {
            "outlinewidth": 0,
            "ticks": ""
           }
          },
          "colorscale": {
           "diverging": [
            [
             0,
             "#8e0152"
            ],
            [
             0.1,
             "#c51b7d"
            ],
            [
             0.2,
             "#de77ae"
            ],
            [
             0.3,
             "#f1b6da"
            ],
            [
             0.4,
             "#fde0ef"
            ],
            [
             0.5,
             "#f7f7f7"
            ],
            [
             0.6,
             "#e6f5d0"
            ],
            [
             0.7,
             "#b8e186"
            ],
            [
             0.8,
             "#7fbc41"
            ],
            [
             0.9,
             "#4d9221"
            ],
            [
             1,
             "#276419"
            ]
           ],
           "sequential": [
            [
             0,
             "#0d0887"
            ],
            [
             0.1111111111111111,
             "#46039f"
            ],
            [
             0.2222222222222222,
             "#7201a8"
            ],
            [
             0.3333333333333333,
             "#9c179e"
            ],
            [
             0.4444444444444444,
             "#bd3786"
            ],
            [
             0.5555555555555556,
             "#d8576b"
            ],
            [
             0.6666666666666666,
             "#ed7953"
            ],
            [
             0.7777777777777778,
             "#fb9f3a"
            ],
            [
             0.8888888888888888,
             "#fdca26"
            ],
            [
             1,
             "#f0f921"
            ]
           ],
           "sequentialminus": [
            [
             0,
             "#0d0887"
            ],
            [
             0.1111111111111111,
             "#46039f"
            ],
            [
             0.2222222222222222,
             "#7201a8"
            ],
            [
             0.3333333333333333,
             "#9c179e"
            ],
            [
             0.4444444444444444,
             "#bd3786"
            ],
            [
             0.5555555555555556,
             "#d8576b"
            ],
            [
             0.6666666666666666,
             "#ed7953"
            ],
            [
             0.7777777777777778,
             "#fb9f3a"
            ],
            [
             0.8888888888888888,
             "#fdca26"
            ],
            [
             1,
             "#f0f921"
            ]
           ]
          },
          "colorway": [
           "#636efa",
           "#EF553B",
           "#00cc96",
           "#ab63fa",
           "#FFA15A",
           "#19d3f3",
           "#FF6692",
           "#B6E880",
           "#FF97FF",
           "#FECB52"
          ],
          "font": {
           "color": "#2a3f5f"
          },
          "geo": {
           "bgcolor": "white",
           "lakecolor": "white",
           "landcolor": "#E5ECF6",
           "showlakes": true,
           "showland": true,
           "subunitcolor": "white"
          },
          "hoverlabel": {
           "align": "left"
          },
          "hovermode": "closest",
          "mapbox": {
           "style": "light"
          },
          "paper_bgcolor": "white",
          "plot_bgcolor": "#E5ECF6",
          "polar": {
           "angularaxis": {
            "gridcolor": "white",
            "linecolor": "white",
            "ticks": ""
           },
           "bgcolor": "#E5ECF6",
           "radialaxis": {
            "gridcolor": "white",
            "linecolor": "white",
            "ticks": ""
           }
          },
          "scene": {
           "xaxis": {
            "backgroundcolor": "#E5ECF6",
            "gridcolor": "white",
            "gridwidth": 2,
            "linecolor": "white",
            "showbackground": true,
            "ticks": "",
            "zerolinecolor": "white"
           },
           "yaxis": {
            "backgroundcolor": "#E5ECF6",
            "gridcolor": "white",
            "gridwidth": 2,
            "linecolor": "white",
            "showbackground": true,
            "ticks": "",
            "zerolinecolor": "white"
           },
           "zaxis": {
            "backgroundcolor": "#E5ECF6",
            "gridcolor": "white",
            "gridwidth": 2,
            "linecolor": "white",
            "showbackground": true,
            "ticks": "",
            "zerolinecolor": "white"
           }
          },
          "shapedefaults": {
           "line": {
            "color": "#2a3f5f"
           }
          },
          "ternary": {
           "aaxis": {
            "gridcolor": "white",
            "linecolor": "white",
            "ticks": ""
           },
           "baxis": {
            "gridcolor": "white",
            "linecolor": "white",
            "ticks": ""
           },
           "bgcolor": "#E5ECF6",
           "caxis": {
            "gridcolor": "white",
            "linecolor": "white",
            "ticks": ""
           }
          },
          "title": {
           "x": 0.05
          },
          "xaxis": {
           "automargin": true,
           "gridcolor": "white",
           "linecolor": "white",
           "ticks": "",
           "title": {
            "standoff": 15
           },
           "zerolinecolor": "white",
           "zerolinewidth": 2
          },
          "yaxis": {
           "automargin": true,
           "gridcolor": "white",
           "linecolor": "white",
           "ticks": "",
           "title": {
            "standoff": 15
           },
           "zerolinecolor": "white",
           "zerolinewidth": 2
          }
         }
        },
        "updatemenus": [
         {
          "buttons": [
           {
            "args": [
             null,
             {
              "frame": {
               "duration": 500,
               "redraw": false
              },
              "fromcurrent": true,
              "mode": "immediate",
              "transition": {
               "duration": 500,
               "easing": "linear"
              }
             }
            ],
            "label": "&#9654;",
            "method": "animate"
           },
           {
            "args": [
             [
              null
             ],
             {
              "frame": {
               "duration": 0,
               "redraw": false
              },
              "fromcurrent": true,
              "mode": "immediate",
              "transition": {
               "duration": 0,
               "easing": "linear"
              }
             }
            ],
            "label": "&#9724;",
            "method": "animate"
           }
          ],
          "direction": "left",
          "pad": {
           "r": 10,
           "t": 70
          },
          "showactive": false,
          "type": "buttons",
          "x": 0.1,
          "xanchor": "right",
          "y": 0,
          "yanchor": "top"
         }
        ],
        "xaxis": {
         "anchor": "y",
         "domain": [
          0,
          1
         ],
         "title": {
          "text": "StationName"
         }
        },
        "yaxis": {
         "anchor": "x",
         "domain": [
          0,
          1
         ],
         "title": {
          "text": "City"
         }
        }
       }
      },
      "text/html": [
       "<div>                            <div id=\"56fd77b1-e5a3-4726-9a4a-f65d24a325d3\" class=\"plotly-graph-div\" style=\"height:525px; width:100%;\"></div>            <script type=\"text/javascript\">                require([\"plotly\"], function(Plotly) {                    window.PLOTLYENV=window.PLOTLYENV || {};                                    if (document.getElementById(\"56fd77b1-e5a3-4726-9a4a-f65d24a325d3\")) {                    Plotly.newPlot(                        \"56fd77b1-e5a3-4726-9a4a-f65d24a325d3\",                        [{\"hovertemplate\": \"State=Andhra Pradesh<br>StationName=%{x}<br>City=%{y}<extra></extra>\", \"legendgroup\": \"\", \"line\": {\"color\": \"#636efa\", \"dash\": \"solid\"}, \"mode\": \"lines\", \"name\": \"\", \"orientation\": \"v\", \"showlegend\": false, \"type\": \"scatter\", \"x\": [\"Secretariat, Amaravati - APPCB\", \"Anand Kala Kshetram, Rajamahendravaram - APPCB\", \"Tirumala, Tirupati - APPCB\", \"PWD Grounds, Vijayawada - APPCB\", \"GVM Corporation, Visakhapatnam - APPCB\"], \"xaxis\": \"x\", \"y\": [\"Amaravati\", \"Rajamahendravaram\", \"Tirupati\", \"Vijayawada\", \"Visakhapatnam\"], \"yaxis\": \"y\"}],                        {\"legend\": {\"tracegroupgap\": 0}, \"margin\": {\"t\": 60}, \"sliders\": [{\"active\": 0, \"currentvalue\": {\"prefix\": \"State=\"}, \"len\": 0.9, \"pad\": {\"b\": 10, \"t\": 60}, \"steps\": [{\"args\": [[\"Andhra Pradesh\"], {\"frame\": {\"duration\": 0, \"redraw\": false}, \"fromcurrent\": true, \"mode\": \"immediate\", \"transition\": {\"duration\": 0, \"easing\": \"linear\"}}], \"label\": \"Andhra Pradesh\", \"method\": \"animate\"}, {\"args\": [[\"Assam\"], {\"frame\": {\"duration\": 0, \"redraw\": false}, \"fromcurrent\": true, \"mode\": \"immediate\", \"transition\": {\"duration\": 0, \"easing\": \"linear\"}}], \"label\": \"Assam\", \"method\": \"animate\"}, {\"args\": [[\"Bihar\"], {\"frame\": {\"duration\": 0, \"redraw\": false}, \"fromcurrent\": true, \"mode\": \"immediate\", \"transition\": {\"duration\": 0, \"easing\": \"linear\"}}], \"label\": \"Bihar\", \"method\": \"animate\"}, {\"args\": [[\"Chandigarh\"], {\"frame\": {\"duration\": 0, \"redraw\": false}, \"fromcurrent\": true, \"mode\": \"immediate\", \"transition\": {\"duration\": 0, \"easing\": \"linear\"}}], \"label\": \"Chandigarh\", \"method\": \"animate\"}, {\"args\": [[\"Delhi\"], {\"frame\": {\"duration\": 0, \"redraw\": false}, \"fromcurrent\": true, \"mode\": \"immediate\", \"transition\": {\"duration\": 0, \"easing\": \"linear\"}}], \"label\": \"Delhi\", \"method\": \"animate\"}, {\"args\": [[\"Gujarat\"], {\"frame\": {\"duration\": 0, \"redraw\": false}, \"fromcurrent\": true, \"mode\": \"immediate\", \"transition\": {\"duration\": 0, \"easing\": \"linear\"}}], \"label\": \"Gujarat\", \"method\": \"animate\"}, {\"args\": [[\"Haryana\"], {\"frame\": {\"duration\": 0, \"redraw\": false}, \"fromcurrent\": true, \"mode\": \"immediate\", \"transition\": {\"duration\": 0, \"easing\": \"linear\"}}], \"label\": \"Haryana\", \"method\": \"animate\"}, {\"args\": [[\"Jharkhand\"], {\"frame\": {\"duration\": 0, \"redraw\": false}, \"fromcurrent\": true, \"mode\": \"immediate\", \"transition\": {\"duration\": 0, \"easing\": \"linear\"}}], \"label\": \"Jharkhand\", \"method\": \"animate\"}, {\"args\": [[\"Karnataka\"], {\"frame\": {\"duration\": 0, \"redraw\": false}, \"fromcurrent\": true, \"mode\": \"immediate\", \"transition\": {\"duration\": 0, \"easing\": \"linear\"}}], \"label\": \"Karnataka\", \"method\": \"animate\"}, {\"args\": [[\"Kerala\"], {\"frame\": {\"duration\": 0, \"redraw\": false}, \"fromcurrent\": true, \"mode\": \"immediate\", \"transition\": {\"duration\": 0, \"easing\": \"linear\"}}], \"label\": \"Kerala\", \"method\": \"animate\"}, {\"args\": [[\"Madhya Pradesh\"], {\"frame\": {\"duration\": 0, \"redraw\": false}, \"fromcurrent\": true, \"mode\": \"immediate\", \"transition\": {\"duration\": 0, \"easing\": \"linear\"}}], \"label\": \"Madhya Pradesh\", \"method\": \"animate\"}, {\"args\": [[\"Maharashtra\"], {\"frame\": {\"duration\": 0, \"redraw\": false}, \"fromcurrent\": true, \"mode\": \"immediate\", \"transition\": {\"duration\": 0, \"easing\": \"linear\"}}], \"label\": \"Maharashtra\", \"method\": \"animate\"}, {\"args\": [[\"Meghalaya\"], {\"frame\": {\"duration\": 0, \"redraw\": false}, \"fromcurrent\": true, \"mode\": \"immediate\", \"transition\": {\"duration\": 0, \"easing\": \"linear\"}}], \"label\": \"Meghalaya\", \"method\": \"animate\"}, {\"args\": [[\"Mizoram\"], {\"frame\": {\"duration\": 0, \"redraw\": false}, \"fromcurrent\": true, \"mode\": \"immediate\", \"transition\": {\"duration\": 0, \"easing\": \"linear\"}}], \"label\": \"Mizoram\", \"method\": \"animate\"}, {\"args\": [[\"Odisha\"], {\"frame\": {\"duration\": 0, \"redraw\": false}, \"fromcurrent\": true, \"mode\": \"immediate\", \"transition\": {\"duration\": 0, \"easing\": \"linear\"}}], \"label\": \"Odisha\", \"method\": \"animate\"}, {\"args\": [[\"Punjab\"], {\"frame\": {\"duration\": 0, \"redraw\": false}, \"fromcurrent\": true, \"mode\": \"immediate\", \"transition\": {\"duration\": 0, \"easing\": \"linear\"}}], \"label\": \"Punjab\", \"method\": \"animate\"}, {\"args\": [[\"Rajasthan\"], {\"frame\": {\"duration\": 0, \"redraw\": false}, \"fromcurrent\": true, \"mode\": \"immediate\", \"transition\": {\"duration\": 0, \"easing\": \"linear\"}}], \"label\": \"Rajasthan\", \"method\": \"animate\"}, {\"args\": [[\"Tamil Nadu\"], {\"frame\": {\"duration\": 0, \"redraw\": false}, \"fromcurrent\": true, \"mode\": \"immediate\", \"transition\": {\"duration\": 0, \"easing\": \"linear\"}}], \"label\": \"Tamil Nadu\", \"method\": \"animate\"}, {\"args\": [[\"Telangana\"], {\"frame\": {\"duration\": 0, \"redraw\": false}, \"fromcurrent\": true, \"mode\": \"immediate\", \"transition\": {\"duration\": 0, \"easing\": \"linear\"}}], \"label\": \"Telangana\", \"method\": \"animate\"}, {\"args\": [[\"Uttar Pradesh\"], {\"frame\": {\"duration\": 0, \"redraw\": false}, \"fromcurrent\": true, \"mode\": \"immediate\", \"transition\": {\"duration\": 0, \"easing\": \"linear\"}}], \"label\": \"Uttar Pradesh\", \"method\": \"animate\"}, {\"args\": [[\"West Bengal\"], {\"frame\": {\"duration\": 0, \"redraw\": false}, \"fromcurrent\": true, \"mode\": \"immediate\", \"transition\": {\"duration\": 0, \"easing\": \"linear\"}}], \"label\": \"West Bengal\", \"method\": \"animate\"}], \"x\": 0.1, \"xanchor\": \"left\", \"y\": 0, \"yanchor\": \"top\"}], \"template\": {\"data\": {\"bar\": [{\"error_x\": {\"color\": \"#2a3f5f\"}, \"error_y\": {\"color\": \"#2a3f5f\"}, \"marker\": {\"line\": {\"color\": \"#E5ECF6\", \"width\": 0.5}}, \"type\": \"bar\"}], \"barpolar\": [{\"marker\": {\"line\": {\"color\": \"#E5ECF6\", \"width\": 0.5}}, \"type\": \"barpolar\"}], \"carpet\": [{\"aaxis\": {\"endlinecolor\": \"#2a3f5f\", \"gridcolor\": \"white\", \"linecolor\": \"white\", \"minorgridcolor\": \"white\", \"startlinecolor\": \"#2a3f5f\"}, \"baxis\": {\"endlinecolor\": \"#2a3f5f\", \"gridcolor\": \"white\", \"linecolor\": \"white\", \"minorgridcolor\": \"white\", \"startlinecolor\": \"#2a3f5f\"}, \"type\": \"carpet\"}], \"choropleth\": [{\"colorbar\": {\"outlinewidth\": 0, \"ticks\": \"\"}, \"type\": \"choropleth\"}], \"contour\": [{\"colorbar\": {\"outlinewidth\": 0, \"ticks\": \"\"}, \"colorscale\": [[0.0, \"#0d0887\"], [0.1111111111111111, \"#46039f\"], [0.2222222222222222, \"#7201a8\"], [0.3333333333333333, \"#9c179e\"], [0.4444444444444444, \"#bd3786\"], [0.5555555555555556, \"#d8576b\"], [0.6666666666666666, \"#ed7953\"], [0.7777777777777778, \"#fb9f3a\"], [0.8888888888888888, \"#fdca26\"], [1.0, \"#f0f921\"]], \"type\": \"contour\"}], \"contourcarpet\": [{\"colorbar\": {\"outlinewidth\": 0, \"ticks\": \"\"}, \"type\": \"contourcarpet\"}], \"heatmap\": [{\"colorbar\": {\"outlinewidth\": 0, \"ticks\": \"\"}, \"colorscale\": [[0.0, \"#0d0887\"], [0.1111111111111111, \"#46039f\"], [0.2222222222222222, \"#7201a8\"], [0.3333333333333333, \"#9c179e\"], [0.4444444444444444, \"#bd3786\"], [0.5555555555555556, \"#d8576b\"], [0.6666666666666666, \"#ed7953\"], [0.7777777777777778, \"#fb9f3a\"], [0.8888888888888888, \"#fdca26\"], [1.0, \"#f0f921\"]], \"type\": \"heatmap\"}], \"heatmapgl\": [{\"colorbar\": {\"outlinewidth\": 0, \"ticks\": \"\"}, \"colorscale\": [[0.0, \"#0d0887\"], [0.1111111111111111, \"#46039f\"], [0.2222222222222222, \"#7201a8\"], [0.3333333333333333, \"#9c179e\"], [0.4444444444444444, \"#bd3786\"], [0.5555555555555556, \"#d8576b\"], [0.6666666666666666, \"#ed7953\"], [0.7777777777777778, \"#fb9f3a\"], [0.8888888888888888, \"#fdca26\"], [1.0, \"#f0f921\"]], \"type\": \"heatmapgl\"}], \"histogram\": [{\"marker\": {\"colorbar\": {\"outlinewidth\": 0, \"ticks\": \"\"}}, \"type\": \"histogram\"}], \"histogram2d\": [{\"colorbar\": {\"outlinewidth\": 0, \"ticks\": \"\"}, \"colorscale\": [[0.0, \"#0d0887\"], [0.1111111111111111, \"#46039f\"], [0.2222222222222222, \"#7201a8\"], [0.3333333333333333, \"#9c179e\"], [0.4444444444444444, \"#bd3786\"], [0.5555555555555556, \"#d8576b\"], [0.6666666666666666, \"#ed7953\"], [0.7777777777777778, \"#fb9f3a\"], [0.8888888888888888, \"#fdca26\"], [1.0, \"#f0f921\"]], \"type\": \"histogram2d\"}], \"histogram2dcontour\": [{\"colorbar\": {\"outlinewidth\": 0, \"ticks\": \"\"}, \"colorscale\": [[0.0, \"#0d0887\"], [0.1111111111111111, \"#46039f\"], [0.2222222222222222, \"#7201a8\"], [0.3333333333333333, \"#9c179e\"], [0.4444444444444444, \"#bd3786\"], [0.5555555555555556, \"#d8576b\"], [0.6666666666666666, \"#ed7953\"], [0.7777777777777778, \"#fb9f3a\"], [0.8888888888888888, \"#fdca26\"], [1.0, \"#f0f921\"]], \"type\": \"histogram2dcontour\"}], \"mesh3d\": [{\"colorbar\": {\"outlinewidth\": 0, \"ticks\": \"\"}, \"type\": \"mesh3d\"}], \"parcoords\": [{\"line\": {\"colorbar\": {\"outlinewidth\": 0, \"ticks\": \"\"}}, \"type\": \"parcoords\"}], \"pie\": [{\"automargin\": true, \"type\": \"pie\"}], \"scatter\": [{\"marker\": {\"colorbar\": {\"outlinewidth\": 0, \"ticks\": \"\"}}, \"type\": \"scatter\"}], \"scatter3d\": [{\"line\": {\"colorbar\": {\"outlinewidth\": 0, \"ticks\": \"\"}}, \"marker\": {\"colorbar\": {\"outlinewidth\": 0, \"ticks\": \"\"}}, \"type\": \"scatter3d\"}], \"scattercarpet\": [{\"marker\": {\"colorbar\": {\"outlinewidth\": 0, \"ticks\": \"\"}}, \"type\": \"scattercarpet\"}], \"scattergeo\": [{\"marker\": {\"colorbar\": {\"outlinewidth\": 0, \"ticks\": \"\"}}, \"type\": \"scattergeo\"}], \"scattergl\": [{\"marker\": {\"colorbar\": {\"outlinewidth\": 0, \"ticks\": \"\"}}, \"type\": \"scattergl\"}], \"scattermapbox\": [{\"marker\": {\"colorbar\": {\"outlinewidth\": 0, \"ticks\": \"\"}}, \"type\": \"scattermapbox\"}], \"scatterpolar\": [{\"marker\": {\"colorbar\": {\"outlinewidth\": 0, \"ticks\": \"\"}}, \"type\": \"scatterpolar\"}], \"scatterpolargl\": [{\"marker\": {\"colorbar\": {\"outlinewidth\": 0, \"ticks\": \"\"}}, \"type\": \"scatterpolargl\"}], \"scatterternary\": [{\"marker\": {\"colorbar\": {\"outlinewidth\": 0, \"ticks\": \"\"}}, \"type\": \"scatterternary\"}], \"surface\": [{\"colorbar\": {\"outlinewidth\": 0, \"ticks\": \"\"}, \"colorscale\": [[0.0, \"#0d0887\"], [0.1111111111111111, \"#46039f\"], [0.2222222222222222, \"#7201a8\"], [0.3333333333333333, \"#9c179e\"], [0.4444444444444444, \"#bd3786\"], [0.5555555555555556, \"#d8576b\"], [0.6666666666666666, \"#ed7953\"], [0.7777777777777778, \"#fb9f3a\"], [0.8888888888888888, \"#fdca26\"], [1.0, \"#f0f921\"]], \"type\": \"surface\"}], \"table\": [{\"cells\": {\"fill\": {\"color\": \"#EBF0F8\"}, \"line\": {\"color\": \"white\"}}, \"header\": {\"fill\": {\"color\": \"#C8D4E3\"}, \"line\": {\"color\": \"white\"}}, \"type\": \"table\"}]}, \"layout\": {\"annotationdefaults\": {\"arrowcolor\": \"#2a3f5f\", \"arrowhead\": 0, \"arrowwidth\": 1}, \"autotypenumbers\": \"strict\", \"coloraxis\": {\"colorbar\": {\"outlinewidth\": 0, \"ticks\": \"\"}}, \"colorscale\": {\"diverging\": [[0, \"#8e0152\"], [0.1, \"#c51b7d\"], [0.2, \"#de77ae\"], [0.3, \"#f1b6da\"], [0.4, \"#fde0ef\"], [0.5, \"#f7f7f7\"], [0.6, \"#e6f5d0\"], [0.7, \"#b8e186\"], [0.8, \"#7fbc41\"], [0.9, \"#4d9221\"], [1, \"#276419\"]], \"sequential\": [[0.0, \"#0d0887\"], [0.1111111111111111, \"#46039f\"], [0.2222222222222222, \"#7201a8\"], [0.3333333333333333, \"#9c179e\"], [0.4444444444444444, \"#bd3786\"], [0.5555555555555556, \"#d8576b\"], [0.6666666666666666, \"#ed7953\"], [0.7777777777777778, \"#fb9f3a\"], [0.8888888888888888, \"#fdca26\"], [1.0, \"#f0f921\"]], \"sequentialminus\": [[0.0, \"#0d0887\"], [0.1111111111111111, \"#46039f\"], [0.2222222222222222, \"#7201a8\"], [0.3333333333333333, \"#9c179e\"], [0.4444444444444444, \"#bd3786\"], [0.5555555555555556, \"#d8576b\"], [0.6666666666666666, \"#ed7953\"], [0.7777777777777778, \"#fb9f3a\"], [0.8888888888888888, \"#fdca26\"], [1.0, \"#f0f921\"]]}, \"colorway\": [\"#636efa\", \"#EF553B\", \"#00cc96\", \"#ab63fa\", \"#FFA15A\", \"#19d3f3\", \"#FF6692\", \"#B6E880\", \"#FF97FF\", \"#FECB52\"], \"font\": {\"color\": \"#2a3f5f\"}, \"geo\": {\"bgcolor\": \"white\", \"lakecolor\": \"white\", \"landcolor\": \"#E5ECF6\", \"showlakes\": true, \"showland\": true, \"subunitcolor\": \"white\"}, \"hoverlabel\": {\"align\": \"left\"}, \"hovermode\": \"closest\", \"mapbox\": {\"style\": \"light\"}, \"paper_bgcolor\": \"white\", \"plot_bgcolor\": \"#E5ECF6\", \"polar\": {\"angularaxis\": {\"gridcolor\": \"white\", \"linecolor\": \"white\", \"ticks\": \"\"}, \"bgcolor\": \"#E5ECF6\", \"radialaxis\": {\"gridcolor\": \"white\", \"linecolor\": \"white\", \"ticks\": \"\"}}, \"scene\": {\"xaxis\": {\"backgroundcolor\": \"#E5ECF6\", \"gridcolor\": \"white\", \"gridwidth\": 2, \"linecolor\": \"white\", \"showbackground\": true, \"ticks\": \"\", \"zerolinecolor\": \"white\"}, \"yaxis\": {\"backgroundcolor\": \"#E5ECF6\", \"gridcolor\": \"white\", \"gridwidth\": 2, \"linecolor\": \"white\", \"showbackground\": true, \"ticks\": \"\", \"zerolinecolor\": \"white\"}, \"zaxis\": {\"backgroundcolor\": \"#E5ECF6\", \"gridcolor\": \"white\", \"gridwidth\": 2, \"linecolor\": \"white\", \"showbackground\": true, \"ticks\": \"\", \"zerolinecolor\": \"white\"}}, \"shapedefaults\": {\"line\": {\"color\": \"#2a3f5f\"}}, \"ternary\": {\"aaxis\": {\"gridcolor\": \"white\", \"linecolor\": \"white\", \"ticks\": \"\"}, \"baxis\": {\"gridcolor\": \"white\", \"linecolor\": \"white\", \"ticks\": \"\"}, \"bgcolor\": \"#E5ECF6\", \"caxis\": {\"gridcolor\": \"white\", \"linecolor\": \"white\", \"ticks\": \"\"}}, \"title\": {\"x\": 0.05}, \"xaxis\": {\"automargin\": true, \"gridcolor\": \"white\", \"linecolor\": \"white\", \"ticks\": \"\", \"title\": {\"standoff\": 15}, \"zerolinecolor\": \"white\", \"zerolinewidth\": 2}, \"yaxis\": {\"automargin\": true, \"gridcolor\": \"white\", \"linecolor\": \"white\", \"ticks\": \"\", \"title\": {\"standoff\": 15}, \"zerolinecolor\": \"white\", \"zerolinewidth\": 2}}}, \"updatemenus\": [{\"buttons\": [{\"args\": [null, {\"frame\": {\"duration\": 500, \"redraw\": false}, \"fromcurrent\": true, \"mode\": \"immediate\", \"transition\": {\"duration\": 500, \"easing\": \"linear\"}}], \"label\": \"&#9654;\", \"method\": \"animate\"}, {\"args\": [[null], {\"frame\": {\"duration\": 0, \"redraw\": false}, \"fromcurrent\": true, \"mode\": \"immediate\", \"transition\": {\"duration\": 0, \"easing\": \"linear\"}}], \"label\": \"&#9724;\", \"method\": \"animate\"}], \"direction\": \"left\", \"pad\": {\"r\": 10, \"t\": 70}, \"showactive\": false, \"type\": \"buttons\", \"x\": 0.1, \"xanchor\": \"right\", \"y\": 0, \"yanchor\": \"top\"}], \"xaxis\": {\"anchor\": \"y\", \"domain\": [0.0, 1.0], \"title\": {\"text\": \"StationName\"}}, \"yaxis\": {\"anchor\": \"x\", \"domain\": [0.0, 1.0], \"title\": {\"text\": \"City\"}}},                        {\"responsive\": true}                    ).then(function(){\n",
       "                            Plotly.addFrames('56fd77b1-e5a3-4726-9a4a-f65d24a325d3', [{\"data\": [{\"hovertemplate\": \"State=Andhra Pradesh<br>StationName=%{x}<br>City=%{y}<extra></extra>\", \"legendgroup\": \"\", \"line\": {\"color\": \"#636efa\", \"dash\": \"solid\"}, \"mode\": \"lines\", \"name\": \"\", \"orientation\": \"v\", \"showlegend\": false, \"x\": [\"Secretariat, Amaravati - APPCB\", \"Anand Kala Kshetram, Rajamahendravaram - APPCB\", \"Tirumala, Tirupati - APPCB\", \"PWD Grounds, Vijayawada - APPCB\", \"GVM Corporation, Visakhapatnam - APPCB\"], \"xaxis\": \"x\", \"y\": [\"Amaravati\", \"Rajamahendravaram\", \"Tirupati\", \"Vijayawada\", \"Visakhapatnam\"], \"yaxis\": \"y\", \"type\": \"scatter\"}], \"name\": \"Andhra Pradesh\"}, {\"data\": [{\"hovertemplate\": \"State=Assam<br>StationName=%{x}<br>City=%{y}<extra></extra>\", \"legendgroup\": \"\", \"line\": {\"color\": \"#636efa\", \"dash\": \"solid\"}, \"mode\": \"lines\", \"name\": \"\", \"orientation\": \"v\", \"showlegend\": false, \"x\": [\"Railway Colony, Guwahati - APCB\"], \"xaxis\": \"x\", \"y\": [\"Guwahati\"], \"yaxis\": \"y\", \"type\": \"scatter\"}], \"name\": \"Assam\"}, {\"data\": [{\"hovertemplate\": \"State=Bihar<br>StationName=%{x}<br>City=%{y}<extra></extra>\", \"legendgroup\": \"\", \"line\": {\"color\": \"#636efa\", \"dash\": \"solid\"}, \"mode\": \"lines\", \"name\": \"\", \"orientation\": \"v\", \"showlegend\": false, \"x\": [\"Collectorate, Gaya - BSPCB\", \"SFTI Kusdihra, Gaya - BSPCB\", \"Industrial Area, Hajipur - BSPCB\", \"Muzaffarpur Collectorate, Muzaffarpur - BSPCB\", \"DRM Office Danapur, Patna - BSPCB\", \"Govt. High School Shikarpur, Patna - BSPCB\", \"IGSC Planetarium Complex, Patna - BSPCB\", \"Muradpur, Patna - BSPCB\", \"Rajbansi Nagar, Patna - BSPCB\", \"Samanpura, Patna - BSPCB\"], \"xaxis\": \"x\", \"y\": [\"Gaya\", \"Gaya\", \"Hajipur\", \"Muzaffarpur\", \"Patna\", \"Patna\", \"Patna\", \"Patna\", \"Patna\", \"Patna\"], \"yaxis\": \"y\", \"type\": \"scatter\"}], \"name\": \"Bihar\"}, {\"data\": [{\"hovertemplate\": \"State=Chandigarh<br>StationName=%{x}<br>City=%{y}<extra></extra>\", \"legendgroup\": \"\", \"line\": {\"color\": \"#636efa\", \"dash\": \"solid\"}, \"mode\": \"lines\", \"name\": \"\", \"orientation\": \"v\", \"showlegend\": false, \"x\": [\"Sector-25, Chandigarh - CPCC\"], \"xaxis\": \"x\", \"y\": [\"Chandigarh\"], \"yaxis\": \"y\", \"type\": \"scatter\"}], \"name\": \"Chandigarh\"}, {\"data\": [{\"hovertemplate\": \"State=Delhi<br>StationName=%{x}<br>City=%{y}<extra></extra>\", \"legendgroup\": \"\", \"line\": {\"color\": \"#636efa\", \"dash\": \"solid\"}, \"mode\": \"lines\", \"name\": \"\", \"orientation\": \"v\", \"showlegend\": false, \"x\": [\"Alipur, Delhi - DPCC\", \"Anand Vihar, Delhi - DPCC\", \"Ashok Vihar, Delhi - DPCC\", \"Aya Nagar, Delhi - IMD\", \"Bawana, Delhi - DPCC\", \"Burari Crossing, Delhi - IMD\", \"CRRI Mathura Road, Delhi - IMD\", \"DTU, Delhi - CPCB\", \"Dr. Karni Singh Shooting Range, Delhi - DPCC\", \"Dwarka-Sector 8, Delhi - DPCC\", \"East Arjun Nagar, Delhi - CPCB\", \"IGI Airport (T3), Delhi - IMD\", \"IHBAS, Dilshad Garden, Delhi - CPCB\", \"ITO, Delhi - CPCB\", \"Jahangirpuri, Delhi - DPCC\", \"Jawaharlal Nehru Stadium, Delhi - DPCC\", \"Lodhi Road, Delhi - IMD\", \"Major Dhyan Chand National Stadium, Delhi - DPCC\", \"Mandir Marg, Delhi - DPCC\", \"Mundka, Delhi - DPCC\", \"NSIT Dwarka, Delhi - CPCB\", \"Najafgarh, Delhi - DPCC\", \"Narela, Delhi - DPCC\", \"Nehru Nagar, Delhi - DPCC\", \"North Campus, DU, Delhi - IMD\", \"Okhla Phase-2, Delhi - DPCC\", \"Patparganj, Delhi - DPCC\", \"Punjabi Bagh, Delhi - DPCC\", \"Pusa, Delhi - DPCC\", \"Pusa, Delhi - IMD\", \"R K Puram, Delhi - DPCC\", \"Rohini, Delhi - DPCC\", \"Shadipur, Delhi - CPCB\", \"Sirifort, Delhi - CPCB\", \"Sonia Vihar, Delhi - DPCC\", \"Sri Aurobindo Marg, Delhi - DPCC\", \"Vivek Vihar, Delhi - DPCC\", \"Wazirpur, Delhi - DPCC\"], \"xaxis\": \"x\", \"y\": [\"Delhi\", \"Delhi\", \"Delhi\", \"Delhi\", \"Delhi\", \"Delhi\", \"Delhi\", \"Delhi\", \"Delhi\", \"Delhi\", \"Delhi\", \"Delhi\", \"Delhi\", \"Delhi\", \"Delhi\", \"Delhi\", \"Delhi\", \"Delhi\", \"Delhi\", \"Delhi\", \"Delhi\", \"Delhi\", \"Delhi\", \"Delhi\", \"Delhi\", \"Delhi\", \"Delhi\", \"Delhi\", \"Delhi\", \"Delhi\", \"Delhi\", \"Delhi\", \"Delhi\", \"Delhi\", \"Delhi\", \"Delhi\", \"Delhi\", \"Delhi\"], \"yaxis\": \"y\", \"type\": \"scatter\"}], \"name\": \"Delhi\"}, {\"data\": [{\"hovertemplate\": \"State=Gujarat<br>StationName=%{x}<br>City=%{y}<extra></extra>\", \"legendgroup\": \"\", \"line\": {\"color\": \"#636efa\", \"dash\": \"solid\"}, \"mode\": \"lines\", \"name\": \"\", \"orientation\": \"v\", \"showlegend\": false, \"x\": [\"Maninagar, Ahmedabad - GPCB\", \"GIDC, Ankleshwar - GPCB\", \"Sector-10, Gandhinagar - GPCB\", \"GIDC, Nandesari - Nandesari Ind. Association\", \"Phase-1 GIDC, Vapi - GPCB\", \"Phase-4 GIDC, Vatva - GPCB\"], \"xaxis\": \"x\", \"y\": [\"Ahmedabad\", \"Ankleshwar\", \"Gandhinagar\", \"Nandesari\", \"Vapi\", \"Vatva\"], \"yaxis\": \"y\", \"type\": \"scatter\"}], \"name\": \"Gujarat\"}, {\"data\": [{\"hovertemplate\": \"State=Haryana<br>StationName=%{x}<br>City=%{y}<extra></extra>\", \"legendgroup\": \"\", \"line\": {\"color\": \"#636efa\", \"dash\": \"solid\"}, \"mode\": \"lines\", \"name\": \"\", \"orientation\": \"v\", \"showlegend\": false, \"x\": [\"Patti Mehar, Ambala - HSPCB\", \"Arya Nagar, Bahadurgarh - HSPCB\", \"Nathu Colony, Ballabgarh - HSPCB\", \"H.B. Colony, Bhiwani - HSPCB\", \"Municipal Corporation Office, Dharuhera - HSPCB\", \"New Industrial Town, Faridabad - HSPCB\", \"Sector 11, Faridabad - HSPCB\", \"Sector 30, Faridabad - HSPCB\", \"Sector- 16A, Faridabad - HSPCB\", \"Huda Sector, Fatehabad - HSPCB\", \"NISE Gwal Pahari, Gurugram - IMD\", \"Sector-51, Gurugram - HSPCB\", \"Teri Gram, Gurugram - HSPCB\", \"Vikas Sadan, Gurugram - HSPCB\", \"Urban Estate-II, Hisar - HSPCB\", \"Police Lines, Jind - HSPCB\", \"Rishi Nagar, Kaithal - HSPCB\", \"Sector-12, Karnal - HSPCB\", \"Sector-7, Kurukshetra - HSPCB\", \"General Hospital, Mandikhera - HSPCB\", \"Sector-2 IMT, Manesar - HSPCB\", \"Shastri Nagar, Narnaul - HSPCB\", \"Shyam Nagar, Palwal - HSPCB\", \"Sector-6, Panchkula - HSPCB\", \"Sector-18, Panipat - HSPCB\", \"MD University, Rohtak - HSPCB\", \"F-Block, Sirsa - HSPCB\", \"Murthal, Sonipat - HSPCB\", \"Gobind Pura, Yamuna Nagar - HSPCB\"], \"xaxis\": \"x\", \"y\": [\"Ambala\", \"Bahadurgarh\", \"Ballabgarh\", \"Bhiwani\", \"Dharuhera\", \"Faridabad\", \"Faridabad\", \"Faridabad\", \"Faridabad\", \"Fatehabad\", \"Gurugram\", \"Gurugram\", \"Gurugram\", \"Gurugram\", \"Hisar\", \"Jind\", \"Kaithal\", \"Karnal\", \"Kurukshetra\", \"Mandikhera\", \"Manesar\", \"Narnaul\", \"Palwal\", \"Panchkula\", \"Panipat\", \"Rohtak\", \"Sirsa\", \"Sonipat\", \"Yamuna Nagar\"], \"yaxis\": \"y\", \"type\": \"scatter\"}], \"name\": \"Haryana\"}, {\"data\": [{\"hovertemplate\": \"State=Jharkhand<br>StationName=%{x}<br>City=%{y}<extra></extra>\", \"legendgroup\": \"\", \"line\": {\"color\": \"#636efa\", \"dash\": \"solid\"}, \"mode\": \"lines\", \"name\": \"\", \"orientation\": \"v\", \"showlegend\": false, \"x\": [\"Tata Stadium, Jorapokhar - JSPCB\"], \"xaxis\": \"x\", \"y\": [\"Jorapokhar\"], \"yaxis\": \"y\", \"type\": \"scatter\"}], \"name\": \"Jharkhand\"}, {\"data\": [{\"hovertemplate\": \"State=Karnataka<br>StationName=%{x}<br>City=%{y}<extra></extra>\", \"legendgroup\": \"\", \"line\": {\"color\": \"#636efa\", \"dash\": \"solid\"}, \"mode\": \"lines\", \"name\": \"\", \"orientation\": \"v\", \"showlegend\": false, \"x\": [\"Vidayagiri, Bagalkot - KSPCB\", \"BTM Layout, Bengaluru - CPCB\", \"BWSSB Kadabesanahalli, Bengaluru - CPCB\", \"Bapuji Nagar, Bengaluru - KSPCB\", \"City Railway Station, Bengaluru - KSPCB\", \"Hebbal, Bengaluru - KSPCB\", \"Hombegowda Nagar, Bengaluru - KSPCB\", \"Jayanagar 5th Block, Bengaluru - KSPCB\", \"Peenya, Bengaluru - CPCB\", \"Sanegurava Halli, Bengaluru - KSPCB\", \"Silk Board, Bengaluru - KSPCB\", \"Urban, Chamarajanagar - KSPCB\", \"Chikkaballapur Rural, Chikkaballapur - KSPCB\", \"Kalyana Nagara, Chikkamagaluru - KSPCB\", \"Deshpande Nagar, Hubballi - KSPCB\", \"Lal Bahadur Shastri Nagar, Kalaburagi - KSPCB\", \"Hebbal 1st Stage, Mysuru - KSPCB\", \"Vijay Nagar, Ramanagara - KSPCB\", \"Ibrahimpur, Vijayapura - KSPCB\", \"Collector Office, Yadgir - KSPCB\"], \"xaxis\": \"x\", \"y\": [\"Bagalkot\", \"Bengaluru\", \"Bengaluru\", \"Bengaluru\", \"Bengaluru\", \"Bengaluru\", \"Bengaluru\", \"Bengaluru\", \"Bengaluru\", \"Bengaluru\", \"Bengaluru\", \"Chamarajanagar\", \"Chikkaballapur\", \"Chikkamagaluru\", \"Hubballi\", \"Kalaburagi\", \"Mysuru\", \"Ramanagara\", \"Vijayapura\", \"Yadgir\"], \"yaxis\": \"y\", \"type\": \"scatter\"}], \"name\": \"Karnataka\"}, {\"data\": [{\"hovertemplate\": \"State=Kerala<br>StationName=%{x}<br>City=%{y}<extra></extra>\", \"legendgroup\": \"\", \"line\": {\"color\": \"#636efa\", \"dash\": \"solid\"}, \"mode\": \"lines\", \"name\": \"\", \"orientation\": \"v\", \"showlegend\": false, \"x\": [\"Udyogamandal, Eloor - Kerala PCB\", \"Kacheripady, Ernakulam - Kerala PCB\", \"Thavakkara, Kannur - Kerala PCB\", \"Vyttila, Kochi - Kerala PCB\", \"Polayathode, Kollam - Kerala PCB\", \"Palayam, Kozhikode - Kerala PCB\", \"Kariavattom, Thiruvananthapuram - Kerala PCB\", \"Plammoodu, Thiruvananthapuram - Kerala PCB\"], \"xaxis\": \"x\", \"y\": [\"Eloor\", \"Ernakulam\", \"Kannur\", \"Kochi\", \"Kollam\", \"Kozhikode\", \"Thiruvananthapuram\", \"Thiruvananthapuram\"], \"yaxis\": \"y\", \"type\": \"scatter\"}], \"name\": \"Kerala\"}, {\"data\": [{\"hovertemplate\": \"State=Madhya Pradesh<br>StationName=%{x}<br>City=%{y}<extra></extra>\", \"legendgroup\": \"\", \"line\": {\"color\": \"#636efa\", \"dash\": \"solid\"}, \"mode\": \"lines\", \"name\": \"\", \"orientation\": \"v\", \"showlegend\": false, \"x\": [\"T T Nagar, Bhopal - MPPCB\", \"Shrivastav Colony, Damoh - MPPCB\", \"Bhopal Chauraha, Dewas - MPPCB\", \"City Center, Gwalior - MPPCB\", \"Phool Bagh, Gwalior - Mondelez Ind. Food\", \"Chhoti Gwaltoli, Indore - MPPCB\", \"Marhatal, Jabalpur - MPPCB\", \"Gole Bazar, Katni - MPPCB\", \"Sahilara, Maihar - KJS Cements\", \"Sector-D Industrial Area, Mandideep - MPPCB\", \"Sector-2 Industrial Area, Pithampur - MPPCB\", \"Shasthri Nagar, Ratlam - IPCA Lab\", \"Deen Dayal Nagar, Sagar - MPPCB\", \"Bandhavgar Colony, Satna - Birla Cement\", \"Vindhyachal STPS, Singrauli - MPPCB\", \"Mahakaleshwar Temple, Ujjain - MPPCB\"], \"xaxis\": \"x\", \"y\": [\"Bhopal\", \"Damoh\", \"Dewas\", \"Gwalior\", \"Gwalior\", \"Indore\", \"Jabalpur\", \"Katni\", \"Maihar\", \"Mandideep\", \"Pithampur\", \"Ratlam\", \"Sagar\", \"Satna\", \"Singrauli\", \"Ujjain\"], \"yaxis\": \"y\", \"type\": \"scatter\"}], \"name\": \"Madhya Pradesh\"}, {\"data\": [{\"hovertemplate\": \"State=Maharashtra<br>StationName=%{x}<br>City=%{y}<extra></extra>\", \"legendgroup\": \"\", \"line\": {\"color\": \"#636efa\", \"dash\": \"solid\"}, \"mode\": \"lines\", \"name\": \"\", \"orientation\": \"v\", \"showlegend\": false, \"x\": [\"More Chowk Waluj, Aurangabad - MPCB\", \"Chandrapur, Chandrapur - MPCB\", \"MIDC Khutala, Chandrapur - MPCB\", \"Khadakpada, Kalyan - MPCB\", \"Bandra, Mumbai - MPCB\", \"Borivali East, Mumbai - MPCB\", \"Chhatrapati Shivaji Intl. Airport (T2), Mumbai - MPCB\", \"Colaba, Mumbai - MPCB\", \"Kurla, Mumbai - MPCB\", \"Powai, Mumbai - MPCB\", \"Sion, Mumbai - MPCB\", \"Vasai West, Mumbai - MPCB\", \"Vile Parle West, Mumbai - MPCB\", \"Worli, Mumbai - MPCB\", \"Opp GPO Civil Lines, Nagpur - MPCB\", \"Gangapur Road, Nashik - MPCB\", \"Airoli, Navi Mumbai - MPCB\", \"Mahape, Navi Mumbai - MPCB\", \"Nerul, Navi Mumbai - MPCB\", \"Karve Road, Pune - MPCB\", \"Solapur, Solapur - MPCB\", \"Pimpleshwar Mandir, Thane - MPCB\"], \"xaxis\": \"x\", \"y\": [\"Aurangabad\", \"Chandrapur\", \"Chandrapur\", \"Kalyan\", \"Mumbai\", \"Mumbai\", \"Mumbai\", \"Mumbai\", \"Mumbai\", \"Mumbai\", \"Mumbai\", \"Mumbai\", \"Mumbai\", \"Mumbai\", \"Nagpur\", \"Nashik\", \"Navi Mumbai\", \"Navi Mumbai\", \"Navi Mumbai\", \"Pune\", \"Solapur\", \"Thane\"], \"yaxis\": \"y\", \"type\": \"scatter\"}], \"name\": \"Maharashtra\"}, {\"data\": [{\"hovertemplate\": \"State=Meghalaya<br>StationName=%{x}<br>City=%{y}<extra></extra>\", \"legendgroup\": \"\", \"line\": {\"color\": \"#636efa\", \"dash\": \"solid\"}, \"mode\": \"lines\", \"name\": \"\", \"orientation\": \"v\", \"showlegend\": false, \"x\": [\"Lumpyngngad, Shillong - Meghalaya PCB\"], \"xaxis\": \"x\", \"y\": [\"Shillong\"], \"yaxis\": \"y\", \"type\": \"scatter\"}], \"name\": \"Meghalaya\"}, {\"data\": [{\"hovertemplate\": \"State=Mizoram<br>StationName=%{x}<br>City=%{y}<extra></extra>\", \"legendgroup\": \"\", \"line\": {\"color\": \"#636efa\", \"dash\": \"solid\"}, \"mode\": \"lines\", \"name\": \"\", \"orientation\": \"v\", \"showlegend\": false, \"x\": [\"Sikulpuikawn, Aizawl - Mizoram PCB\"], \"xaxis\": \"x\", \"y\": [\"Aizawl\"], \"yaxis\": \"y\", \"type\": \"scatter\"}], \"name\": \"Mizoram\"}, {\"data\": [{\"hovertemplate\": \"State=Odisha<br>StationName=%{x}<br>City=%{y}<extra></extra>\", \"legendgroup\": \"\", \"line\": {\"color\": \"#636efa\", \"dash\": \"solid\"}, \"mode\": \"lines\", \"name\": \"\", \"orientation\": \"v\", \"showlegend\": false, \"x\": [\"GM Office, Brajrajnagar - OSPCB\", \"Talcher Coalfields,Talcher - OSPCB\"], \"xaxis\": \"x\", \"y\": [\"Brajrajnagar\", \"Talcher\"], \"yaxis\": \"y\", \"type\": \"scatter\"}], \"name\": \"Odisha\"}, {\"data\": [{\"hovertemplate\": \"State=Punjab<br>StationName=%{x}<br>City=%{y}<extra></extra>\", \"legendgroup\": \"\", \"line\": {\"color\": \"#636efa\", \"dash\": \"solid\"}, \"mode\": \"lines\", \"name\": \"\", \"orientation\": \"v\", \"showlegend\": false, \"x\": [\"Golden Temple, Amritsar - PPCB\", \"Hardev Nagar, Bathinda - PPCB\", \"Civil Line, Jalandhar - PPCB\", \"Kalal Majra, Khanna - PPCB\", \"Punjab Agricultural University, Ludhiana - PPCB\", \"RIMT University, Mandi Gobindgarh - PPCB\", \"Model Town, Patiala - PPCB\", \"Ratanpura, Rupnagar - Ambuja Cements\"], \"xaxis\": \"x\", \"y\": [\"Amritsar\", \"Bathinda\", \"Jalandhar\", \"Khanna\", \"Ludhiana\", \"Gobindgarh\", \"Patiala\", \"Rupnagar\"], \"yaxis\": \"y\", \"type\": \"scatter\"}], \"name\": \"Punjab\"}, {\"data\": [{\"hovertemplate\": \"State=Rajasthan<br>StationName=%{x}<br>City=%{y}<extra></extra>\", \"legendgroup\": \"\", \"line\": {\"color\": \"#636efa\", \"dash\": \"solid\"}, \"mode\": \"lines\", \"name\": \"\", \"orientation\": \"v\", \"showlegend\": false, \"x\": [\"Moti Doongri, Alwar - RSPCB\", \"Civil Lines, Ajmer - RSPCB\", \"RIICO Ind. Area III, Bhiwadi - RSPCB\", \"Adarsh Nagar, Jaipur - RSPCB\", \"Police Commissionerate, Jaipur - RSPCB\", \"Shastri Nagar, Jaipur - RSPCB\", \"Collectorate, Jodhpur - RSPCB\", \"Shrinath Puram, Kota - RSPCB\", \"Indira Colony Vistar, Pali - RSPCB\", \"Ashok Nagar, Udaipur - RSPCB\"], \"xaxis\": \"x\", \"y\": [\"Alwar\", \"Ajmer\", \"Bhiwandi\", \"Jaipur\", \"Jaipur\", \"Jaipur\", \"Jodhpur\", \"Kota\", \"Pali\", \"Udaipur\"], \"yaxis\": \"y\", \"type\": \"scatter\"}], \"name\": \"Rajasthan\"}, {\"data\": [{\"hovertemplate\": \"State=Tamil Nadu<br>StationName=%{x}<br>City=%{y}<extra></extra>\", \"legendgroup\": \"\", \"line\": {\"color\": \"#636efa\", \"dash\": \"solid\"}, \"mode\": \"lines\", \"name\": \"\", \"orientation\": \"v\", \"showlegend\": false, \"x\": [\"Alandur Bus Depot, Chennai - CPCB\", \"Manali Village, Chennai - TNPCB\", \"Manali, Chennai - CPCB\", \"Velachery Res. Area, Chennai - CPCB\", \"SIDCO Kurichi, Coimbatore - TNPCB\"], \"xaxis\": \"x\", \"y\": [\"Chennai\", \"Chennai\", \"Chennai\", \"Chennai\", \"Coimbatore\"], \"yaxis\": \"y\", \"type\": \"scatter\"}], \"name\": \"Tamil Nadu\"}, {\"data\": [{\"hovertemplate\": \"State=Telangana<br>StationName=%{x}<br>City=%{y}<extra></extra>\", \"legendgroup\": \"\", \"line\": {\"color\": \"#636efa\", \"dash\": \"solid\"}, \"mode\": \"lines\", \"name\": \"\", \"orientation\": \"v\", \"showlegend\": false, \"x\": [\"Bollaram Industrial Area, Hyderabad - TSPCB\", \"Central University, Hyderabad - TSPCB\", \"ICRISAT Patancheru, Hyderabad - TSPCB\", \"IDA Pashamylaram, Hyderabad - TSPCB\", \"Sanathnagar, Hyderabad - TSPCB\", \"Zoo Park, Hyderabad - TSPCB\"], \"xaxis\": \"x\", \"y\": [\"Hyderabad\", \"Hyderabad\", \"Hyderabad\", \"Hyderabad\", \"Hyderabad\", \"Hyderabad\"], \"yaxis\": \"y\", \"type\": \"scatter\"}], \"name\": \"Telangana\"}, {\"data\": [{\"hovertemplate\": \"State=Uttar Pradesh<br>StationName=%{x}<br>City=%{y}<extra></extra>\", \"legendgroup\": \"\", \"line\": {\"color\": \"#636efa\", \"dash\": \"solid\"}, \"mode\": \"lines\", \"name\": \"\", \"orientation\": \"v\", \"showlegend\": false, \"x\": [\"Sanjay Palace, Agra - UPPCB\", \"New Collectorate, Baghpat - UPPCB\", \"Yamunapuram, Bulandshahr - UPPCB\", \"Indirapuram, Ghaziabad - UPPCB\", \"Loni, Ghaziabad - UPPCB\", \"Sanjay Nagar, Ghaziabad - UPPCB\", \"Vasundhara, Ghaziabad - UPPCB\", \"Knowledge Park - III, Greater Noida - UPPCB\", \"Knowledge Park - V, Greater Noida - UPPCB\", \"Anand Vihar, Hapur - UPPCB\", \"Nehru Nagar, Kanpur - UPPCB\", \"Central School, Lucknow - CPCB\", \"Gomti Nagar, Lucknow - UPPCB\", \"Lalbagh, Lucknow - CPCB\", \"Nishant Ganj, Lucknow - UPPCB\", \"Talkatora District Industries Center, Lucknow - CPCB\", \"Ganga Nagar, Meerut - UPPCB\", \"Jai Bhim Nagar, Meerut - UPPCB\", \"Pallavpuram Phase 2, Meerut - UPPCB\", \"Lajpat Nagar, Moradabad - UPPCB\", \"New Mandi, Muzaffarnagar - UPPCB\", \"Sector - 125, Noida - UPPCB\", \"Sector - 62, Noida - IMD\", \"Sector-1, Noida - UPPCB\", \"Sector-116, Noida - UPPCB\", \"Ardhali Bazar, Varanasi - UPPCB\"], \"xaxis\": \"x\", \"y\": [\"Agra\", \"Baghpat\", \"Bulandshahr\", \"Ghaziabad\", \"Ghaziabad\", \"Ghaziabad\", \"Ghaziabad\", \"Greater Noida\", \"Greater Noida\", \"Hapur\", \"Kanpur\", \"Lucknow\", \"Lucknow\", \"Lucknow\", \"Lucknow\", \"Lucknow\", \"Meerut\", \"Meerut\", \"Meerut\", \"Moradabad\", \"Muzzaffarnagar\", \"Noida\", \"Noida\", \"Noida\", \"Noida\", \"Varanasi\"], \"yaxis\": \"y\", \"type\": \"scatter\"}], \"name\": \"Uttar Pradesh\"}, {\"data\": [{\"hovertemplate\": \"State=West Bengal<br>StationName=%{x}<br>City=%{y}<extra></extra>\", \"legendgroup\": \"\", \"line\": {\"color\": \"#636efa\", \"dash\": \"solid\"}, \"mode\": \"lines\", \"name\": \"\", \"orientation\": \"v\", \"showlegend\": false, \"x\": [\"Asansol Court Area, Asansol - WBPCB\", \"Sidhu Kanhu Indoor Stadium, Durgapur - WBPCB\", \"Haldia, Haldia - WBPCB\", \"Belur Math, Howrah - WBPCB\", \"Ghusuri, Howrah - WBPCB\", \"Padmapukur, Howrah - WBPCB\", \"Ballygunge, Kolkata - WBPCB\", \"Bidhannagar, Kolkata - WBPCB\", \"Fort William, Kolkata - WBPCB\", \"Jadavpur, Kolkata - WBPCB\", \"Rabindra Bharati University, Kolkata - WBPCB\", \"Rabindra Sarobar, Kolkata - WBPCB\", \"Victoria, Kolkata - WBPCB\", \"Ward-32 Bapupara, Siliguri - WBPCB\"], \"xaxis\": \"x\", \"y\": [\"Asansol\", \"Durgapur\", \"Haldia\", \"Howrah\", \"Howrah\", \"Howrah\", \"Kolkata\", \"Kolkata\", \"Kolkata\", \"Kolkata\", \"Kolkata\", \"Kolkata\", \"Kolkata\", \"Siliguri\"], \"yaxis\": \"y\", \"type\": \"scatter\"}], \"name\": \"West Bengal\"}]);\n",
       "                        }).then(function(){\n",
       "                            \n",
       "var gd = document.getElementById('56fd77b1-e5a3-4726-9a4a-f65d24a325d3');\n",
       "var x = new MutationObserver(function (mutations, observer) {{\n",
       "        var display = window.getComputedStyle(gd).display;\n",
       "        if (!display || display === 'none') {{\n",
       "            console.log([gd, 'removed!']);\n",
       "            Plotly.purge(gd);\n",
       "            observer.disconnect();\n",
       "        }}\n",
       "}});\n",
       "\n",
       "// Listen for the removal of the full notebook cells\n",
       "var notebookContainer = gd.closest('#notebook-container');\n",
       "if (notebookContainer) {{\n",
       "    x.observe(notebookContainer, {childList: true});\n",
       "}}\n",
       "\n",
       "// Listen for the clearing of the current output cell\n",
       "var outputEl = gd.closest('.output');\n",
       "if (outputEl) {{\n",
       "    x.observe(outputEl, {childList: true});\n",
       "}}\n",
       "\n",
       "                        })                };                });            </script>        </div>"
      ]
     },
     "metadata": {},
     "output_type": "display_data"
    }
   ],
   "source": [
    "fig1=px.line(df,x=\"StationName\",y=\"City\",animation_frame=\"State\")\n",
    "fig1.show()"
   ]
  },
  {
   "cell_type": "code",
   "execution_count": 4,
   "metadata": {},
   "outputs": [
    {
     "data": {
      "application/vnd.plotly.v1+json": {
       "config": {
        "plotlyServerURL": "https://plot.ly"
       },
       "data": [
        {
         "alignmentgroup": "True",
         "hovertemplate": "State=Andhra Pradesh<br>City=%{x}<br>StationName=%{y}<extra></extra>",
         "legendgroup": "Andhra Pradesh",
         "marker": {
          "color": "#636efa",
          "opacity": 0.5
         },
         "name": "Andhra Pradesh",
         "offsetgroup": "Andhra Pradesh",
         "orientation": "v",
         "showlegend": true,
         "textposition": "auto",
         "type": "bar",
         "x": [
          "Amaravati",
          "Rajamahendravaram",
          "Tirupati",
          "Vijayawada",
          "Visakhapatnam"
         ],
         "xaxis": "x",
         "y": [
          "Secretariat, Amaravati - APPCB",
          "Anand Kala Kshetram, Rajamahendravaram - APPCB",
          "Tirumala, Tirupati - APPCB",
          "PWD Grounds, Vijayawada - APPCB",
          "GVM Corporation, Visakhapatnam - APPCB"
         ],
         "yaxis": "y"
        },
        {
         "alignmentgroup": "True",
         "hovertemplate": "State=Assam<br>City=%{x}<br>StationName=%{y}<extra></extra>",
         "legendgroup": "Assam",
         "marker": {
          "color": "#EF553B",
          "opacity": 0.5
         },
         "name": "Assam",
         "offsetgroup": "Assam",
         "orientation": "v",
         "showlegend": true,
         "textposition": "auto",
         "type": "bar",
         "x": [
          "Guwahati"
         ],
         "xaxis": "x",
         "y": [
          "Railway Colony, Guwahati - APCB"
         ],
         "yaxis": "y"
        },
        {
         "alignmentgroup": "True",
         "hovertemplate": "State=Bihar<br>City=%{x}<br>StationName=%{y}<extra></extra>",
         "legendgroup": "Bihar",
         "marker": {
          "color": "#00cc96",
          "opacity": 0.5
         },
         "name": "Bihar",
         "offsetgroup": "Bihar",
         "orientation": "v",
         "showlegend": true,
         "textposition": "auto",
         "type": "bar",
         "x": [
          "Gaya",
          "Gaya",
          "Hajipur",
          "Muzaffarpur",
          "Patna",
          "Patna",
          "Patna",
          "Patna",
          "Patna",
          "Patna"
         ],
         "xaxis": "x",
         "y": [
          "Collectorate, Gaya - BSPCB",
          "SFTI Kusdihra, Gaya - BSPCB",
          "Industrial Area, Hajipur - BSPCB",
          "Muzaffarpur Collectorate, Muzaffarpur - BSPCB",
          "DRM Office Danapur, Patna - BSPCB",
          "Govt. High School Shikarpur, Patna - BSPCB",
          "IGSC Planetarium Complex, Patna - BSPCB",
          "Muradpur, Patna - BSPCB",
          "Rajbansi Nagar, Patna - BSPCB",
          "Samanpura, Patna - BSPCB"
         ],
         "yaxis": "y"
        },
        {
         "alignmentgroup": "True",
         "hovertemplate": "State=Chandigarh<br>City=%{x}<br>StationName=%{y}<extra></extra>",
         "legendgroup": "Chandigarh",
         "marker": {
          "color": "#ab63fa",
          "opacity": 0.5
         },
         "name": "Chandigarh",
         "offsetgroup": "Chandigarh",
         "orientation": "v",
         "showlegend": true,
         "textposition": "auto",
         "type": "bar",
         "x": [
          "Chandigarh"
         ],
         "xaxis": "x",
         "y": [
          "Sector-25, Chandigarh - CPCC"
         ],
         "yaxis": "y"
        },
        {
         "alignmentgroup": "True",
         "hovertemplate": "State=Delhi<br>City=%{x}<br>StationName=%{y}<extra></extra>",
         "legendgroup": "Delhi",
         "marker": {
          "color": "#FFA15A",
          "opacity": 0.5
         },
         "name": "Delhi",
         "offsetgroup": "Delhi",
         "orientation": "v",
         "showlegend": true,
         "textposition": "auto",
         "type": "bar",
         "x": [
          "Delhi",
          "Delhi",
          "Delhi",
          "Delhi",
          "Delhi",
          "Delhi",
          "Delhi",
          "Delhi",
          "Delhi",
          "Delhi",
          "Delhi",
          "Delhi",
          "Delhi",
          "Delhi",
          "Delhi",
          "Delhi",
          "Delhi",
          "Delhi",
          "Delhi",
          "Delhi",
          "Delhi",
          "Delhi",
          "Delhi",
          "Delhi",
          "Delhi",
          "Delhi",
          "Delhi",
          "Delhi",
          "Delhi",
          "Delhi",
          "Delhi",
          "Delhi",
          "Delhi",
          "Delhi",
          "Delhi",
          "Delhi",
          "Delhi",
          "Delhi"
         ],
         "xaxis": "x",
         "y": [
          "Alipur, Delhi - DPCC",
          "Anand Vihar, Delhi - DPCC",
          "Ashok Vihar, Delhi - DPCC",
          "Aya Nagar, Delhi - IMD",
          "Bawana, Delhi - DPCC",
          "Burari Crossing, Delhi - IMD",
          "CRRI Mathura Road, Delhi - IMD",
          "DTU, Delhi - CPCB",
          "Dr. Karni Singh Shooting Range, Delhi - DPCC",
          "Dwarka-Sector 8, Delhi - DPCC",
          "East Arjun Nagar, Delhi - CPCB",
          "IGI Airport (T3), Delhi - IMD",
          "IHBAS, Dilshad Garden, Delhi - CPCB",
          "ITO, Delhi - CPCB",
          "Jahangirpuri, Delhi - DPCC",
          "Jawaharlal Nehru Stadium, Delhi - DPCC",
          "Lodhi Road, Delhi - IMD",
          "Major Dhyan Chand National Stadium, Delhi - DPCC",
          "Mandir Marg, Delhi - DPCC",
          "Mundka, Delhi - DPCC",
          "NSIT Dwarka, Delhi - CPCB",
          "Najafgarh, Delhi - DPCC",
          "Narela, Delhi - DPCC",
          "Nehru Nagar, Delhi - DPCC",
          "North Campus, DU, Delhi - IMD",
          "Okhla Phase-2, Delhi - DPCC",
          "Patparganj, Delhi - DPCC",
          "Punjabi Bagh, Delhi - DPCC",
          "Pusa, Delhi - DPCC",
          "Pusa, Delhi - IMD",
          "R K Puram, Delhi - DPCC",
          "Rohini, Delhi - DPCC",
          "Shadipur, Delhi - CPCB",
          "Sirifort, Delhi - CPCB",
          "Sonia Vihar, Delhi - DPCC",
          "Sri Aurobindo Marg, Delhi - DPCC",
          "Vivek Vihar, Delhi - DPCC",
          "Wazirpur, Delhi - DPCC"
         ],
         "yaxis": "y"
        },
        {
         "alignmentgroup": "True",
         "hovertemplate": "State=Gujarat<br>City=%{x}<br>StationName=%{y}<extra></extra>",
         "legendgroup": "Gujarat",
         "marker": {
          "color": "#19d3f3",
          "opacity": 0.5
         },
         "name": "Gujarat",
         "offsetgroup": "Gujarat",
         "orientation": "v",
         "showlegend": true,
         "textposition": "auto",
         "type": "bar",
         "x": [
          "Ahmedabad",
          "Ankleshwar",
          "Gandhinagar",
          "Nandesari",
          "Vapi",
          "Vatva"
         ],
         "xaxis": "x",
         "y": [
          "Maninagar, Ahmedabad - GPCB",
          "GIDC, Ankleshwar - GPCB",
          "Sector-10, Gandhinagar - GPCB",
          "GIDC, Nandesari - Nandesari Ind. Association",
          "Phase-1 GIDC, Vapi - GPCB",
          "Phase-4 GIDC, Vatva - GPCB"
         ],
         "yaxis": "y"
        },
        {
         "alignmentgroup": "True",
         "hovertemplate": "State=Haryana<br>City=%{x}<br>StationName=%{y}<extra></extra>",
         "legendgroup": "Haryana",
         "marker": {
          "color": "#FF6692",
          "opacity": 0.5
         },
         "name": "Haryana",
         "offsetgroup": "Haryana",
         "orientation": "v",
         "showlegend": true,
         "textposition": "auto",
         "type": "bar",
         "x": [
          "Ambala",
          "Bahadurgarh",
          "Ballabgarh",
          "Bhiwani",
          "Dharuhera",
          "Faridabad",
          "Faridabad",
          "Faridabad",
          "Faridabad",
          "Fatehabad",
          "Gurugram",
          "Gurugram",
          "Gurugram",
          "Gurugram",
          "Hisar",
          "Jind",
          "Kaithal",
          "Karnal",
          "Kurukshetra",
          "Mandikhera",
          "Manesar",
          "Narnaul",
          "Palwal",
          "Panchkula",
          "Panipat",
          "Rohtak",
          "Sirsa",
          "Sonipat",
          "Yamuna Nagar"
         ],
         "xaxis": "x",
         "y": [
          "Patti Mehar, Ambala - HSPCB",
          "Arya Nagar, Bahadurgarh - HSPCB",
          "Nathu Colony, Ballabgarh - HSPCB",
          "H.B. Colony, Bhiwani - HSPCB",
          "Municipal Corporation Office, Dharuhera - HSPCB",
          "New Industrial Town, Faridabad - HSPCB",
          "Sector 11, Faridabad - HSPCB",
          "Sector 30, Faridabad - HSPCB",
          "Sector- 16A, Faridabad - HSPCB",
          "Huda Sector, Fatehabad - HSPCB",
          "NISE Gwal Pahari, Gurugram - IMD",
          "Sector-51, Gurugram - HSPCB",
          "Teri Gram, Gurugram - HSPCB",
          "Vikas Sadan, Gurugram - HSPCB",
          "Urban Estate-II, Hisar - HSPCB",
          "Police Lines, Jind - HSPCB",
          "Rishi Nagar, Kaithal - HSPCB",
          "Sector-12, Karnal - HSPCB",
          "Sector-7, Kurukshetra - HSPCB",
          "General Hospital, Mandikhera - HSPCB",
          "Sector-2 IMT, Manesar - HSPCB",
          "Shastri Nagar, Narnaul - HSPCB",
          "Shyam Nagar, Palwal - HSPCB",
          "Sector-6, Panchkula - HSPCB",
          "Sector-18, Panipat - HSPCB",
          "MD University, Rohtak - HSPCB",
          "F-Block, Sirsa - HSPCB",
          "Murthal, Sonipat - HSPCB",
          "Gobind Pura, Yamuna Nagar - HSPCB"
         ],
         "yaxis": "y"
        },
        {
         "alignmentgroup": "True",
         "hovertemplate": "State=Jharkhand<br>City=%{x}<br>StationName=%{y}<extra></extra>",
         "legendgroup": "Jharkhand",
         "marker": {
          "color": "#B6E880",
          "opacity": 0.5
         },
         "name": "Jharkhand",
         "offsetgroup": "Jharkhand",
         "orientation": "v",
         "showlegend": true,
         "textposition": "auto",
         "type": "bar",
         "x": [
          "Jorapokhar"
         ],
         "xaxis": "x",
         "y": [
          "Tata Stadium, Jorapokhar - JSPCB"
         ],
         "yaxis": "y"
        },
        {
         "alignmentgroup": "True",
         "hovertemplate": "State=Karnataka<br>City=%{x}<br>StationName=%{y}<extra></extra>",
         "legendgroup": "Karnataka",
         "marker": {
          "color": "#FF97FF",
          "opacity": 0.5
         },
         "name": "Karnataka",
         "offsetgroup": "Karnataka",
         "orientation": "v",
         "showlegend": true,
         "textposition": "auto",
         "type": "bar",
         "x": [
          "Bagalkot",
          "Bengaluru",
          "Bengaluru",
          "Bengaluru",
          "Bengaluru",
          "Bengaluru",
          "Bengaluru",
          "Bengaluru",
          "Bengaluru",
          "Bengaluru",
          "Bengaluru",
          "Chamarajanagar",
          "Chikkaballapur",
          "Chikkamagaluru",
          "Hubballi",
          "Kalaburagi",
          "Mysuru",
          "Ramanagara",
          "Vijayapura",
          "Yadgir"
         ],
         "xaxis": "x",
         "y": [
          "Vidayagiri, Bagalkot - KSPCB",
          "BTM Layout, Bengaluru - CPCB",
          "BWSSB Kadabesanahalli, Bengaluru - CPCB",
          "Bapuji Nagar, Bengaluru - KSPCB",
          "City Railway Station, Bengaluru - KSPCB",
          "Hebbal, Bengaluru - KSPCB",
          "Hombegowda Nagar, Bengaluru - KSPCB",
          "Jayanagar 5th Block, Bengaluru - KSPCB",
          "Peenya, Bengaluru - CPCB",
          "Sanegurava Halli, Bengaluru - KSPCB",
          "Silk Board, Bengaluru - KSPCB",
          "Urban, Chamarajanagar - KSPCB",
          "Chikkaballapur Rural, Chikkaballapur - KSPCB",
          "Kalyana Nagara, Chikkamagaluru - KSPCB",
          "Deshpande Nagar, Hubballi - KSPCB",
          "Lal Bahadur Shastri Nagar, Kalaburagi - KSPCB",
          "Hebbal 1st Stage, Mysuru - KSPCB",
          "Vijay Nagar, Ramanagara - KSPCB",
          "Ibrahimpur, Vijayapura - KSPCB",
          "Collector Office, Yadgir - KSPCB"
         ],
         "yaxis": "y"
        },
        {
         "alignmentgroup": "True",
         "hovertemplate": "State=Kerala<br>City=%{x}<br>StationName=%{y}<extra></extra>",
         "legendgroup": "Kerala",
         "marker": {
          "color": "#FECB52",
          "opacity": 0.5
         },
         "name": "Kerala",
         "offsetgroup": "Kerala",
         "orientation": "v",
         "showlegend": true,
         "textposition": "auto",
         "type": "bar",
         "x": [
          "Eloor",
          "Ernakulam",
          "Kannur",
          "Kochi",
          "Kollam",
          "Kozhikode",
          "Thiruvananthapuram",
          "Thiruvananthapuram"
         ],
         "xaxis": "x",
         "y": [
          "Udyogamandal, Eloor - Kerala PCB",
          "Kacheripady, Ernakulam - Kerala PCB",
          "Thavakkara, Kannur - Kerala PCB",
          "Vyttila, Kochi - Kerala PCB",
          "Polayathode, Kollam - Kerala PCB",
          "Palayam, Kozhikode - Kerala PCB",
          "Kariavattom, Thiruvananthapuram - Kerala PCB",
          "Plammoodu, Thiruvananthapuram - Kerala PCB"
         ],
         "yaxis": "y"
        },
        {
         "alignmentgroup": "True",
         "hovertemplate": "State=Madhya Pradesh<br>City=%{x}<br>StationName=%{y}<extra></extra>",
         "legendgroup": "Madhya Pradesh",
         "marker": {
          "color": "#636efa",
          "opacity": 0.5
         },
         "name": "Madhya Pradesh",
         "offsetgroup": "Madhya Pradesh",
         "orientation": "v",
         "showlegend": true,
         "textposition": "auto",
         "type": "bar",
         "x": [
          "Bhopal",
          "Damoh",
          "Dewas",
          "Gwalior",
          "Gwalior",
          "Indore",
          "Jabalpur",
          "Katni",
          "Maihar",
          "Mandideep",
          "Pithampur",
          "Ratlam",
          "Sagar",
          "Satna",
          "Singrauli",
          "Ujjain"
         ],
         "xaxis": "x",
         "y": [
          "T T Nagar, Bhopal - MPPCB",
          "Shrivastav Colony, Damoh - MPPCB",
          "Bhopal Chauraha, Dewas - MPPCB",
          "City Center, Gwalior - MPPCB",
          "Phool Bagh, Gwalior - Mondelez Ind. Food",
          "Chhoti Gwaltoli, Indore - MPPCB",
          "Marhatal, Jabalpur - MPPCB",
          "Gole Bazar, Katni - MPPCB",
          "Sahilara, Maihar - KJS Cements",
          "Sector-D Industrial Area, Mandideep - MPPCB",
          "Sector-2 Industrial Area, Pithampur - MPPCB",
          "Shasthri Nagar, Ratlam - IPCA Lab",
          "Deen Dayal Nagar, Sagar - MPPCB",
          "Bandhavgar Colony, Satna - Birla Cement",
          "Vindhyachal STPS, Singrauli - MPPCB",
          "Mahakaleshwar Temple, Ujjain - MPPCB"
         ],
         "yaxis": "y"
        },
        {
         "alignmentgroup": "True",
         "hovertemplate": "State=Maharashtra<br>City=%{x}<br>StationName=%{y}<extra></extra>",
         "legendgroup": "Maharashtra",
         "marker": {
          "color": "#EF553B",
          "opacity": 0.5
         },
         "name": "Maharashtra",
         "offsetgroup": "Maharashtra",
         "orientation": "v",
         "showlegend": true,
         "textposition": "auto",
         "type": "bar",
         "x": [
          "Aurangabad",
          "Chandrapur",
          "Chandrapur",
          "Kalyan",
          "Mumbai",
          "Mumbai",
          "Mumbai",
          "Mumbai",
          "Mumbai",
          "Mumbai",
          "Mumbai",
          "Mumbai",
          "Mumbai",
          "Mumbai",
          "Nagpur",
          "Nashik",
          "Navi Mumbai",
          "Navi Mumbai",
          "Navi Mumbai",
          "Pune",
          "Solapur",
          "Thane"
         ],
         "xaxis": "x",
         "y": [
          "More Chowk Waluj, Aurangabad - MPCB",
          "Chandrapur, Chandrapur - MPCB",
          "MIDC Khutala, Chandrapur - MPCB",
          "Khadakpada, Kalyan - MPCB",
          "Bandra, Mumbai - MPCB",
          "Borivali East, Mumbai - MPCB",
          "Chhatrapati Shivaji Intl. Airport (T2), Mumbai - MPCB",
          "Colaba, Mumbai - MPCB",
          "Kurla, Mumbai - MPCB",
          "Powai, Mumbai - MPCB",
          "Sion, Mumbai - MPCB",
          "Vasai West, Mumbai - MPCB",
          "Vile Parle West, Mumbai - MPCB",
          "Worli, Mumbai - MPCB",
          "Opp GPO Civil Lines, Nagpur - MPCB",
          "Gangapur Road, Nashik - MPCB",
          "Airoli, Navi Mumbai - MPCB",
          "Mahape, Navi Mumbai - MPCB",
          "Nerul, Navi Mumbai - MPCB",
          "Karve Road, Pune - MPCB",
          "Solapur, Solapur - MPCB",
          "Pimpleshwar Mandir, Thane - MPCB"
         ],
         "yaxis": "y"
        },
        {
         "alignmentgroup": "True",
         "hovertemplate": "State=Meghalaya<br>City=%{x}<br>StationName=%{y}<extra></extra>",
         "legendgroup": "Meghalaya",
         "marker": {
          "color": "#00cc96",
          "opacity": 0.5
         },
         "name": "Meghalaya",
         "offsetgroup": "Meghalaya",
         "orientation": "v",
         "showlegend": true,
         "textposition": "auto",
         "type": "bar",
         "x": [
          "Shillong"
         ],
         "xaxis": "x",
         "y": [
          "Lumpyngngad, Shillong - Meghalaya PCB"
         ],
         "yaxis": "y"
        },
        {
         "alignmentgroup": "True",
         "hovertemplate": "State=Mizoram<br>City=%{x}<br>StationName=%{y}<extra></extra>",
         "legendgroup": "Mizoram",
         "marker": {
          "color": "#ab63fa",
          "opacity": 0.5
         },
         "name": "Mizoram",
         "offsetgroup": "Mizoram",
         "orientation": "v",
         "showlegend": true,
         "textposition": "auto",
         "type": "bar",
         "x": [
          "Aizawl"
         ],
         "xaxis": "x",
         "y": [
          "Sikulpuikawn, Aizawl - Mizoram PCB"
         ],
         "yaxis": "y"
        },
        {
         "alignmentgroup": "True",
         "hovertemplate": "State=Odisha<br>City=%{x}<br>StationName=%{y}<extra></extra>",
         "legendgroup": "Odisha",
         "marker": {
          "color": "#FFA15A",
          "opacity": 0.5
         },
         "name": "Odisha",
         "offsetgroup": "Odisha",
         "orientation": "v",
         "showlegend": true,
         "textposition": "auto",
         "type": "bar",
         "x": [
          "Brajrajnagar",
          "Talcher"
         ],
         "xaxis": "x",
         "y": [
          "GM Office, Brajrajnagar - OSPCB",
          "Talcher Coalfields,Talcher - OSPCB"
         ],
         "yaxis": "y"
        },
        {
         "alignmentgroup": "True",
         "hovertemplate": "State=Punjab<br>City=%{x}<br>StationName=%{y}<extra></extra>",
         "legendgroup": "Punjab",
         "marker": {
          "color": "#19d3f3",
          "opacity": 0.5
         },
         "name": "Punjab",
         "offsetgroup": "Punjab",
         "orientation": "v",
         "showlegend": true,
         "textposition": "auto",
         "type": "bar",
         "x": [
          "Amritsar",
          "Bathinda",
          "Jalandhar",
          "Khanna",
          "Ludhiana",
          "Gobindgarh",
          "Patiala",
          "Rupnagar"
         ],
         "xaxis": "x",
         "y": [
          "Golden Temple, Amritsar - PPCB",
          "Hardev Nagar, Bathinda - PPCB",
          "Civil Line, Jalandhar - PPCB",
          "Kalal Majra, Khanna - PPCB",
          "Punjab Agricultural University, Ludhiana - PPCB",
          "RIMT University, Mandi Gobindgarh - PPCB",
          "Model Town, Patiala - PPCB",
          "Ratanpura, Rupnagar - Ambuja Cements"
         ],
         "yaxis": "y"
        },
        {
         "alignmentgroup": "True",
         "hovertemplate": "State=Rajasthan<br>City=%{x}<br>StationName=%{y}<extra></extra>",
         "legendgroup": "Rajasthan",
         "marker": {
          "color": "#FF6692",
          "opacity": 0.5
         },
         "name": "Rajasthan",
         "offsetgroup": "Rajasthan",
         "orientation": "v",
         "showlegend": true,
         "textposition": "auto",
         "type": "bar",
         "x": [
          "Alwar",
          "Ajmer",
          "Bhiwandi",
          "Jaipur",
          "Jaipur",
          "Jaipur",
          "Jodhpur",
          "Kota",
          "Pali",
          "Udaipur"
         ],
         "xaxis": "x",
         "y": [
          "Moti Doongri, Alwar - RSPCB",
          "Civil Lines, Ajmer - RSPCB",
          "RIICO Ind. Area III, Bhiwadi - RSPCB",
          "Adarsh Nagar, Jaipur - RSPCB",
          "Police Commissionerate, Jaipur - RSPCB",
          "Shastri Nagar, Jaipur - RSPCB",
          "Collectorate, Jodhpur - RSPCB",
          "Shrinath Puram, Kota - RSPCB",
          "Indira Colony Vistar, Pali - RSPCB",
          "Ashok Nagar, Udaipur - RSPCB"
         ],
         "yaxis": "y"
        },
        {
         "alignmentgroup": "True",
         "hovertemplate": "State=Tamil Nadu<br>City=%{x}<br>StationName=%{y}<extra></extra>",
         "legendgroup": "Tamil Nadu",
         "marker": {
          "color": "#B6E880",
          "opacity": 0.5
         },
         "name": "Tamil Nadu",
         "offsetgroup": "Tamil Nadu",
         "orientation": "v",
         "showlegend": true,
         "textposition": "auto",
         "type": "bar",
         "x": [
          "Chennai",
          "Chennai",
          "Chennai",
          "Chennai",
          "Coimbatore"
         ],
         "xaxis": "x",
         "y": [
          "Alandur Bus Depot, Chennai - CPCB",
          "Manali Village, Chennai - TNPCB",
          "Manali, Chennai - CPCB",
          "Velachery Res. Area, Chennai - CPCB",
          "SIDCO Kurichi, Coimbatore - TNPCB"
         ],
         "yaxis": "y"
        },
        {
         "alignmentgroup": "True",
         "hovertemplate": "State=Telangana<br>City=%{x}<br>StationName=%{y}<extra></extra>",
         "legendgroup": "Telangana",
         "marker": {
          "color": "#FF97FF",
          "opacity": 0.5
         },
         "name": "Telangana",
         "offsetgroup": "Telangana",
         "orientation": "v",
         "showlegend": true,
         "textposition": "auto",
         "type": "bar",
         "x": [
          "Hyderabad",
          "Hyderabad",
          "Hyderabad",
          "Hyderabad",
          "Hyderabad",
          "Hyderabad"
         ],
         "xaxis": "x",
         "y": [
          "Bollaram Industrial Area, Hyderabad - TSPCB",
          "Central University, Hyderabad - TSPCB",
          "ICRISAT Patancheru, Hyderabad - TSPCB",
          "IDA Pashamylaram, Hyderabad - TSPCB",
          "Sanathnagar, Hyderabad - TSPCB",
          "Zoo Park, Hyderabad - TSPCB"
         ],
         "yaxis": "y"
        },
        {
         "alignmentgroup": "True",
         "hovertemplate": "State=Uttar Pradesh<br>City=%{x}<br>StationName=%{y}<extra></extra>",
         "legendgroup": "Uttar Pradesh",
         "marker": {
          "color": "#FECB52",
          "opacity": 0.5
         },
         "name": "Uttar Pradesh",
         "offsetgroup": "Uttar Pradesh",
         "orientation": "v",
         "showlegend": true,
         "textposition": "auto",
         "type": "bar",
         "x": [
          "Agra",
          "Baghpat",
          "Bulandshahr",
          "Ghaziabad",
          "Ghaziabad",
          "Ghaziabad",
          "Ghaziabad",
          "Greater Noida",
          "Greater Noida",
          "Hapur",
          "Kanpur",
          "Lucknow",
          "Lucknow",
          "Lucknow",
          "Lucknow",
          "Lucknow",
          "Meerut",
          "Meerut",
          "Meerut",
          "Moradabad",
          "Muzzaffarnagar",
          "Noida",
          "Noida",
          "Noida",
          "Noida",
          "Varanasi"
         ],
         "xaxis": "x",
         "y": [
          "Sanjay Palace, Agra - UPPCB",
          "New Collectorate, Baghpat - UPPCB",
          "Yamunapuram, Bulandshahr - UPPCB",
          "Indirapuram, Ghaziabad - UPPCB",
          "Loni, Ghaziabad - UPPCB",
          "Sanjay Nagar, Ghaziabad - UPPCB",
          "Vasundhara, Ghaziabad - UPPCB",
          "Knowledge Park - III, Greater Noida - UPPCB",
          "Knowledge Park - V, Greater Noida - UPPCB",
          "Anand Vihar, Hapur - UPPCB",
          "Nehru Nagar, Kanpur - UPPCB",
          "Central School, Lucknow - CPCB",
          "Gomti Nagar, Lucknow - UPPCB",
          "Lalbagh, Lucknow - CPCB",
          "Nishant Ganj, Lucknow - UPPCB",
          "Talkatora District Industries Center, Lucknow - CPCB",
          "Ganga Nagar, Meerut - UPPCB",
          "Jai Bhim Nagar, Meerut - UPPCB",
          "Pallavpuram Phase 2, Meerut - UPPCB",
          "Lajpat Nagar, Moradabad - UPPCB",
          "New Mandi, Muzaffarnagar - UPPCB",
          "Sector - 125, Noida - UPPCB",
          "Sector - 62, Noida - IMD",
          "Sector-1, Noida - UPPCB",
          "Sector-116, Noida - UPPCB",
          "Ardhali Bazar, Varanasi - UPPCB"
         ],
         "yaxis": "y"
        },
        {
         "alignmentgroup": "True",
         "hovertemplate": "State=West Bengal<br>City=%{x}<br>StationName=%{y}<extra></extra>",
         "legendgroup": "West Bengal",
         "marker": {
          "color": "#636efa",
          "opacity": 0.5
         },
         "name": "West Bengal",
         "offsetgroup": "West Bengal",
         "orientation": "v",
         "showlegend": true,
         "textposition": "auto",
         "type": "bar",
         "x": [
          "Asansol",
          "Durgapur",
          "Haldia",
          "Howrah",
          "Howrah",
          "Howrah",
          "Kolkata",
          "Kolkata",
          "Kolkata",
          "Kolkata",
          "Kolkata",
          "Kolkata",
          "Kolkata",
          "Siliguri"
         ],
         "xaxis": "x",
         "y": [
          "Asansol Court Area, Asansol - WBPCB",
          "Sidhu Kanhu Indoor Stadium, Durgapur - WBPCB",
          "Haldia, Haldia - WBPCB",
          "Belur Math, Howrah - WBPCB",
          "Ghusuri, Howrah - WBPCB",
          "Padmapukur, Howrah - WBPCB",
          "Ballygunge, Kolkata - WBPCB",
          "Bidhannagar, Kolkata - WBPCB",
          "Fort William, Kolkata - WBPCB",
          "Jadavpur, Kolkata - WBPCB",
          "Rabindra Bharati University, Kolkata - WBPCB",
          "Rabindra Sarobar, Kolkata - WBPCB",
          "Victoria, Kolkata - WBPCB",
          "Ward-32 Bapupara, Siliguri - WBPCB"
         ],
         "yaxis": "y"
        }
       ],
       "layout": {
        "barmode": "overlay",
        "legend": {
         "title": {
          "text": "State"
         },
         "tracegroupgap": 0
        },
        "margin": {
         "t": 60
        },
        "template": {
         "data": {
          "bar": [
           {
            "error_x": {
             "color": "#2a3f5f"
            },
            "error_y": {
             "color": "#2a3f5f"
            },
            "marker": {
             "line": {
              "color": "#E5ECF6",
              "width": 0.5
             }
            },
            "type": "bar"
           }
          ],
          "barpolar": [
           {
            "marker": {
             "line": {
              "color": "#E5ECF6",
              "width": 0.5
             }
            },
            "type": "barpolar"
           }
          ],
          "carpet": [
           {
            "aaxis": {
             "endlinecolor": "#2a3f5f",
             "gridcolor": "white",
             "linecolor": "white",
             "minorgridcolor": "white",
             "startlinecolor": "#2a3f5f"
            },
            "baxis": {
             "endlinecolor": "#2a3f5f",
             "gridcolor": "white",
             "linecolor": "white",
             "minorgridcolor": "white",
             "startlinecolor": "#2a3f5f"
            },
            "type": "carpet"
           }
          ],
          "choropleth": [
           {
            "colorbar": {
             "outlinewidth": 0,
             "ticks": ""
            },
            "type": "choropleth"
           }
          ],
          "contour": [
           {
            "colorbar": {
             "outlinewidth": 0,
             "ticks": ""
            },
            "colorscale": [
             [
              0,
              "#0d0887"
             ],
             [
              0.1111111111111111,
              "#46039f"
             ],
             [
              0.2222222222222222,
              "#7201a8"
             ],
             [
              0.3333333333333333,
              "#9c179e"
             ],
             [
              0.4444444444444444,
              "#bd3786"
             ],
             [
              0.5555555555555556,
              "#d8576b"
             ],
             [
              0.6666666666666666,
              "#ed7953"
             ],
             [
              0.7777777777777778,
              "#fb9f3a"
             ],
             [
              0.8888888888888888,
              "#fdca26"
             ],
             [
              1,
              "#f0f921"
             ]
            ],
            "type": "contour"
           }
          ],
          "contourcarpet": [
           {
            "colorbar": {
             "outlinewidth": 0,
             "ticks": ""
            },
            "type": "contourcarpet"
           }
          ],
          "heatmap": [
           {
            "colorbar": {
             "outlinewidth": 0,
             "ticks": ""
            },
            "colorscale": [
             [
              0,
              "#0d0887"
             ],
             [
              0.1111111111111111,
              "#46039f"
             ],
             [
              0.2222222222222222,
              "#7201a8"
             ],
             [
              0.3333333333333333,
              "#9c179e"
             ],
             [
              0.4444444444444444,
              "#bd3786"
             ],
             [
              0.5555555555555556,
              "#d8576b"
             ],
             [
              0.6666666666666666,
              "#ed7953"
             ],
             [
              0.7777777777777778,
              "#fb9f3a"
             ],
             [
              0.8888888888888888,
              "#fdca26"
             ],
             [
              1,
              "#f0f921"
             ]
            ],
            "type": "heatmap"
           }
          ],
          "heatmapgl": [
           {
            "colorbar": {
             "outlinewidth": 0,
             "ticks": ""
            },
            "colorscale": [
             [
              0,
              "#0d0887"
             ],
             [
              0.1111111111111111,
              "#46039f"
             ],
             [
              0.2222222222222222,
              "#7201a8"
             ],
             [
              0.3333333333333333,
              "#9c179e"
             ],
             [
              0.4444444444444444,
              "#bd3786"
             ],
             [
              0.5555555555555556,
              "#d8576b"
             ],
             [
              0.6666666666666666,
              "#ed7953"
             ],
             [
              0.7777777777777778,
              "#fb9f3a"
             ],
             [
              0.8888888888888888,
              "#fdca26"
             ],
             [
              1,
              "#f0f921"
             ]
            ],
            "type": "heatmapgl"
           }
          ],
          "histogram": [
           {
            "marker": {
             "colorbar": {
              "outlinewidth": 0,
              "ticks": ""
             }
            },
            "type": "histogram"
           }
          ],
          "histogram2d": [
           {
            "colorbar": {
             "outlinewidth": 0,
             "ticks": ""
            },
            "colorscale": [
             [
              0,
              "#0d0887"
             ],
             [
              0.1111111111111111,
              "#46039f"
             ],
             [
              0.2222222222222222,
              "#7201a8"
             ],
             [
              0.3333333333333333,
              "#9c179e"
             ],
             [
              0.4444444444444444,
              "#bd3786"
             ],
             [
              0.5555555555555556,
              "#d8576b"
             ],
             [
              0.6666666666666666,
              "#ed7953"
             ],
             [
              0.7777777777777778,
              "#fb9f3a"
             ],
             [
              0.8888888888888888,
              "#fdca26"
             ],
             [
              1,
              "#f0f921"
             ]
            ],
            "type": "histogram2d"
           }
          ],
          "histogram2dcontour": [
           {
            "colorbar": {
             "outlinewidth": 0,
             "ticks": ""
            },
            "colorscale": [
             [
              0,
              "#0d0887"
             ],
             [
              0.1111111111111111,
              "#46039f"
             ],
             [
              0.2222222222222222,
              "#7201a8"
             ],
             [
              0.3333333333333333,
              "#9c179e"
             ],
             [
              0.4444444444444444,
              "#bd3786"
             ],
             [
              0.5555555555555556,
              "#d8576b"
             ],
             [
              0.6666666666666666,
              "#ed7953"
             ],
             [
              0.7777777777777778,
              "#fb9f3a"
             ],
             [
              0.8888888888888888,
              "#fdca26"
             ],
             [
              1,
              "#f0f921"
             ]
            ],
            "type": "histogram2dcontour"
           }
          ],
          "mesh3d": [
           {
            "colorbar": {
             "outlinewidth": 0,
             "ticks": ""
            },
            "type": "mesh3d"
           }
          ],
          "parcoords": [
           {
            "line": {
             "colorbar": {
              "outlinewidth": 0,
              "ticks": ""
             }
            },
            "type": "parcoords"
           }
          ],
          "pie": [
           {
            "automargin": true,
            "type": "pie"
           }
          ],
          "scatter": [
           {
            "marker": {
             "colorbar": {
              "outlinewidth": 0,
              "ticks": ""
             }
            },
            "type": "scatter"
           }
          ],
          "scatter3d": [
           {
            "line": {
             "colorbar": {
              "outlinewidth": 0,
              "ticks": ""
             }
            },
            "marker": {
             "colorbar": {
              "outlinewidth": 0,
              "ticks": ""
             }
            },
            "type": "scatter3d"
           }
          ],
          "scattercarpet": [
           {
            "marker": {
             "colorbar": {
              "outlinewidth": 0,
              "ticks": ""
             }
            },
            "type": "scattercarpet"
           }
          ],
          "scattergeo": [
           {
            "marker": {
             "colorbar": {
              "outlinewidth": 0,
              "ticks": ""
             }
            },
            "type": "scattergeo"
           }
          ],
          "scattergl": [
           {
            "marker": {
             "colorbar": {
              "outlinewidth": 0,
              "ticks": ""
             }
            },
            "type": "scattergl"
           }
          ],
          "scattermapbox": [
           {
            "marker": {
             "colorbar": {
              "outlinewidth": 0,
              "ticks": ""
             }
            },
            "type": "scattermapbox"
           }
          ],
          "scatterpolar": [
           {
            "marker": {
             "colorbar": {
              "outlinewidth": 0,
              "ticks": ""
             }
            },
            "type": "scatterpolar"
           }
          ],
          "scatterpolargl": [
           {
            "marker": {
             "colorbar": {
              "outlinewidth": 0,
              "ticks": ""
             }
            },
            "type": "scatterpolargl"
           }
          ],
          "scatterternary": [
           {
            "marker": {
             "colorbar": {
              "outlinewidth": 0,
              "ticks": ""
             }
            },
            "type": "scatterternary"
           }
          ],
          "surface": [
           {
            "colorbar": {
             "outlinewidth": 0,
             "ticks": ""
            },
            "colorscale": [
             [
              0,
              "#0d0887"
             ],
             [
              0.1111111111111111,
              "#46039f"
             ],
             [
              0.2222222222222222,
              "#7201a8"
             ],
             [
              0.3333333333333333,
              "#9c179e"
             ],
             [
              0.4444444444444444,
              "#bd3786"
             ],
             [
              0.5555555555555556,
              "#d8576b"
             ],
             [
              0.6666666666666666,
              "#ed7953"
             ],
             [
              0.7777777777777778,
              "#fb9f3a"
             ],
             [
              0.8888888888888888,
              "#fdca26"
             ],
             [
              1,
              "#f0f921"
             ]
            ],
            "type": "surface"
           }
          ],
          "table": [
           {
            "cells": {
             "fill": {
              "color": "#EBF0F8"
             },
             "line": {
              "color": "white"
             }
            },
            "header": {
             "fill": {
              "color": "#C8D4E3"
             },
             "line": {
              "color": "white"
             }
            },
            "type": "table"
           }
          ]
         },
         "layout": {
          "annotationdefaults": {
           "arrowcolor": "#2a3f5f",
           "arrowhead": 0,
           "arrowwidth": 1
          },
          "autotypenumbers": "strict",
          "coloraxis": {
           "colorbar": {
            "outlinewidth": 0,
            "ticks": ""
           }
          },
          "colorscale": {
           "diverging": [
            [
             0,
             "#8e0152"
            ],
            [
             0.1,
             "#c51b7d"
            ],
            [
             0.2,
             "#de77ae"
            ],
            [
             0.3,
             "#f1b6da"
            ],
            [
             0.4,
             "#fde0ef"
            ],
            [
             0.5,
             "#f7f7f7"
            ],
            [
             0.6,
             "#e6f5d0"
            ],
            [
             0.7,
             "#b8e186"
            ],
            [
             0.8,
             "#7fbc41"
            ],
            [
             0.9,
             "#4d9221"
            ],
            [
             1,
             "#276419"
            ]
           ],
           "sequential": [
            [
             0,
             "#0d0887"
            ],
            [
             0.1111111111111111,
             "#46039f"
            ],
            [
             0.2222222222222222,
             "#7201a8"
            ],
            [
             0.3333333333333333,
             "#9c179e"
            ],
            [
             0.4444444444444444,
             "#bd3786"
            ],
            [
             0.5555555555555556,
             "#d8576b"
            ],
            [
             0.6666666666666666,
             "#ed7953"
            ],
            [
             0.7777777777777778,
             "#fb9f3a"
            ],
            [
             0.8888888888888888,
             "#fdca26"
            ],
            [
             1,
             "#f0f921"
            ]
           ],
           "sequentialminus": [
            [
             0,
             "#0d0887"
            ],
            [
             0.1111111111111111,
             "#46039f"
            ],
            [
             0.2222222222222222,
             "#7201a8"
            ],
            [
             0.3333333333333333,
             "#9c179e"
            ],
            [
             0.4444444444444444,
             "#bd3786"
            ],
            [
             0.5555555555555556,
             "#d8576b"
            ],
            [
             0.6666666666666666,
             "#ed7953"
            ],
            [
             0.7777777777777778,
             "#fb9f3a"
            ],
            [
             0.8888888888888888,
             "#fdca26"
            ],
            [
             1,
             "#f0f921"
            ]
           ]
          },
          "colorway": [
           "#636efa",
           "#EF553B",
           "#00cc96",
           "#ab63fa",
           "#FFA15A",
           "#19d3f3",
           "#FF6692",
           "#B6E880",
           "#FF97FF",
           "#FECB52"
          ],
          "font": {
           "color": "#2a3f5f"
          },
          "geo": {
           "bgcolor": "white",
           "lakecolor": "white",
           "landcolor": "#E5ECF6",
           "showlakes": true,
           "showland": true,
           "subunitcolor": "white"
          },
          "hoverlabel": {
           "align": "left"
          },
          "hovermode": "closest",
          "mapbox": {
           "style": "light"
          },
          "paper_bgcolor": "white",
          "plot_bgcolor": "#E5ECF6",
          "polar": {
           "angularaxis": {
            "gridcolor": "white",
            "linecolor": "white",
            "ticks": ""
           },
           "bgcolor": "#E5ECF6",
           "radialaxis": {
            "gridcolor": "white",
            "linecolor": "white",
            "ticks": ""
           }
          },
          "scene": {
           "xaxis": {
            "backgroundcolor": "#E5ECF6",
            "gridcolor": "white",
            "gridwidth": 2,
            "linecolor": "white",
            "showbackground": true,
            "ticks": "",
            "zerolinecolor": "white"
           },
           "yaxis": {
            "backgroundcolor": "#E5ECF6",
            "gridcolor": "white",
            "gridwidth": 2,
            "linecolor": "white",
            "showbackground": true,
            "ticks": "",
            "zerolinecolor": "white"
           },
           "zaxis": {
            "backgroundcolor": "#E5ECF6",
            "gridcolor": "white",
            "gridwidth": 2,
            "linecolor": "white",
            "showbackground": true,
            "ticks": "",
            "zerolinecolor": "white"
           }
          },
          "shapedefaults": {
           "line": {
            "color": "#2a3f5f"
           }
          },
          "ternary": {
           "aaxis": {
            "gridcolor": "white",
            "linecolor": "white",
            "ticks": ""
           },
           "baxis": {
            "gridcolor": "white",
            "linecolor": "white",
            "ticks": ""
           },
           "bgcolor": "#E5ECF6",
           "caxis": {
            "gridcolor": "white",
            "linecolor": "white",
            "ticks": ""
           }
          },
          "title": {
           "x": 0.05
          },
          "xaxis": {
           "automargin": true,
           "gridcolor": "white",
           "linecolor": "white",
           "ticks": "",
           "title": {
            "standoff": 15
           },
           "zerolinecolor": "white",
           "zerolinewidth": 2
          },
          "yaxis": {
           "automargin": true,
           "gridcolor": "white",
           "linecolor": "white",
           "ticks": "",
           "title": {
            "standoff": 15
           },
           "zerolinecolor": "white",
           "zerolinewidth": 2
          }
         }
        },
        "xaxis": {
         "anchor": "y",
         "domain": [
          0,
          1
         ],
         "title": {
          "text": "City"
         }
        },
        "yaxis": {
         "anchor": "x",
         "domain": [
          0,
          1
         ],
         "title": {
          "text": "StationName"
         }
        }
       }
      },
      "text/html": [
       "<div>                            <div id=\"5985de39-7830-487f-a335-6cce432606fe\" class=\"plotly-graph-div\" style=\"height:525px; width:100%;\"></div>            <script type=\"text/javascript\">                require([\"plotly\"], function(Plotly) {                    window.PLOTLYENV=window.PLOTLYENV || {};                                    if (document.getElementById(\"5985de39-7830-487f-a335-6cce432606fe\")) {                    Plotly.newPlot(                        \"5985de39-7830-487f-a335-6cce432606fe\",                        [{\"alignmentgroup\": \"True\", \"hovertemplate\": \"State=Andhra Pradesh<br>City=%{x}<br>StationName=%{y}<extra></extra>\", \"legendgroup\": \"Andhra Pradesh\", \"marker\": {\"color\": \"#636efa\", \"opacity\": 0.5}, \"name\": \"Andhra Pradesh\", \"offsetgroup\": \"Andhra Pradesh\", \"orientation\": \"v\", \"showlegend\": true, \"textposition\": \"auto\", \"type\": \"bar\", \"x\": [\"Amaravati\", \"Rajamahendravaram\", \"Tirupati\", \"Vijayawada\", \"Visakhapatnam\"], \"xaxis\": \"x\", \"y\": [\"Secretariat, Amaravati - APPCB\", \"Anand Kala Kshetram, Rajamahendravaram - APPCB\", \"Tirumala, Tirupati - APPCB\", \"PWD Grounds, Vijayawada - APPCB\", \"GVM Corporation, Visakhapatnam - APPCB\"], \"yaxis\": \"y\"}, {\"alignmentgroup\": \"True\", \"hovertemplate\": \"State=Assam<br>City=%{x}<br>StationName=%{y}<extra></extra>\", \"legendgroup\": \"Assam\", \"marker\": {\"color\": \"#EF553B\", \"opacity\": 0.5}, \"name\": \"Assam\", \"offsetgroup\": \"Assam\", \"orientation\": \"v\", \"showlegend\": true, \"textposition\": \"auto\", \"type\": \"bar\", \"x\": [\"Guwahati\"], \"xaxis\": \"x\", \"y\": [\"Railway Colony, Guwahati - APCB\"], \"yaxis\": \"y\"}, {\"alignmentgroup\": \"True\", \"hovertemplate\": \"State=Bihar<br>City=%{x}<br>StationName=%{y}<extra></extra>\", \"legendgroup\": \"Bihar\", \"marker\": {\"color\": \"#00cc96\", \"opacity\": 0.5}, \"name\": \"Bihar\", \"offsetgroup\": \"Bihar\", \"orientation\": \"v\", \"showlegend\": true, \"textposition\": \"auto\", \"type\": \"bar\", \"x\": [\"Gaya\", \"Gaya\", \"Hajipur\", \"Muzaffarpur\", \"Patna\", \"Patna\", \"Patna\", \"Patna\", \"Patna\", \"Patna\"], \"xaxis\": \"x\", \"y\": [\"Collectorate, Gaya - BSPCB\", \"SFTI Kusdihra, Gaya - BSPCB\", \"Industrial Area, Hajipur - BSPCB\", \"Muzaffarpur Collectorate, Muzaffarpur - BSPCB\", \"DRM Office Danapur, Patna - BSPCB\", \"Govt. High School Shikarpur, Patna - BSPCB\", \"IGSC Planetarium Complex, Patna - BSPCB\", \"Muradpur, Patna - BSPCB\", \"Rajbansi Nagar, Patna - BSPCB\", \"Samanpura, Patna - BSPCB\"], \"yaxis\": \"y\"}, {\"alignmentgroup\": \"True\", \"hovertemplate\": \"State=Chandigarh<br>City=%{x}<br>StationName=%{y}<extra></extra>\", \"legendgroup\": \"Chandigarh\", \"marker\": {\"color\": \"#ab63fa\", \"opacity\": 0.5}, \"name\": \"Chandigarh\", \"offsetgroup\": \"Chandigarh\", \"orientation\": \"v\", \"showlegend\": true, \"textposition\": \"auto\", \"type\": \"bar\", \"x\": [\"Chandigarh\"], \"xaxis\": \"x\", \"y\": [\"Sector-25, Chandigarh - CPCC\"], \"yaxis\": \"y\"}, {\"alignmentgroup\": \"True\", \"hovertemplate\": \"State=Delhi<br>City=%{x}<br>StationName=%{y}<extra></extra>\", \"legendgroup\": \"Delhi\", \"marker\": {\"color\": \"#FFA15A\", \"opacity\": 0.5}, \"name\": \"Delhi\", \"offsetgroup\": \"Delhi\", \"orientation\": \"v\", \"showlegend\": true, \"textposition\": \"auto\", \"type\": \"bar\", \"x\": [\"Delhi\", \"Delhi\", \"Delhi\", \"Delhi\", \"Delhi\", \"Delhi\", \"Delhi\", \"Delhi\", \"Delhi\", \"Delhi\", \"Delhi\", \"Delhi\", \"Delhi\", \"Delhi\", \"Delhi\", \"Delhi\", \"Delhi\", \"Delhi\", \"Delhi\", \"Delhi\", \"Delhi\", \"Delhi\", \"Delhi\", \"Delhi\", \"Delhi\", \"Delhi\", \"Delhi\", \"Delhi\", \"Delhi\", \"Delhi\", \"Delhi\", \"Delhi\", \"Delhi\", \"Delhi\", \"Delhi\", \"Delhi\", \"Delhi\", \"Delhi\"], \"xaxis\": \"x\", \"y\": [\"Alipur, Delhi - DPCC\", \"Anand Vihar, Delhi - DPCC\", \"Ashok Vihar, Delhi - DPCC\", \"Aya Nagar, Delhi - IMD\", \"Bawana, Delhi - DPCC\", \"Burari Crossing, Delhi - IMD\", \"CRRI Mathura Road, Delhi - IMD\", \"DTU, Delhi - CPCB\", \"Dr. Karni Singh Shooting Range, Delhi - DPCC\", \"Dwarka-Sector 8, Delhi - DPCC\", \"East Arjun Nagar, Delhi - CPCB\", \"IGI Airport (T3), Delhi - IMD\", \"IHBAS, Dilshad Garden, Delhi - CPCB\", \"ITO, Delhi - CPCB\", \"Jahangirpuri, Delhi - DPCC\", \"Jawaharlal Nehru Stadium, Delhi - DPCC\", \"Lodhi Road, Delhi - IMD\", \"Major Dhyan Chand National Stadium, Delhi - DPCC\", \"Mandir Marg, Delhi - DPCC\", \"Mundka, Delhi - DPCC\", \"NSIT Dwarka, Delhi - CPCB\", \"Najafgarh, Delhi - DPCC\", \"Narela, Delhi - DPCC\", \"Nehru Nagar, Delhi - DPCC\", \"North Campus, DU, Delhi - IMD\", \"Okhla Phase-2, Delhi - DPCC\", \"Patparganj, Delhi - DPCC\", \"Punjabi Bagh, Delhi - DPCC\", \"Pusa, Delhi - DPCC\", \"Pusa, Delhi - IMD\", \"R K Puram, Delhi - DPCC\", \"Rohini, Delhi - DPCC\", \"Shadipur, Delhi - CPCB\", \"Sirifort, Delhi - CPCB\", \"Sonia Vihar, Delhi - DPCC\", \"Sri Aurobindo Marg, Delhi - DPCC\", \"Vivek Vihar, Delhi - DPCC\", \"Wazirpur, Delhi - DPCC\"], \"yaxis\": \"y\"}, {\"alignmentgroup\": \"True\", \"hovertemplate\": \"State=Gujarat<br>City=%{x}<br>StationName=%{y}<extra></extra>\", \"legendgroup\": \"Gujarat\", \"marker\": {\"color\": \"#19d3f3\", \"opacity\": 0.5}, \"name\": \"Gujarat\", \"offsetgroup\": \"Gujarat\", \"orientation\": \"v\", \"showlegend\": true, \"textposition\": \"auto\", \"type\": \"bar\", \"x\": [\"Ahmedabad\", \"Ankleshwar\", \"Gandhinagar\", \"Nandesari\", \"Vapi\", \"Vatva\"], \"xaxis\": \"x\", \"y\": [\"Maninagar, Ahmedabad - GPCB\", \"GIDC, Ankleshwar - GPCB\", \"Sector-10, Gandhinagar - GPCB\", \"GIDC, Nandesari - Nandesari Ind. Association\", \"Phase-1 GIDC, Vapi - GPCB\", \"Phase-4 GIDC, Vatva - GPCB\"], \"yaxis\": \"y\"}, {\"alignmentgroup\": \"True\", \"hovertemplate\": \"State=Haryana<br>City=%{x}<br>StationName=%{y}<extra></extra>\", \"legendgroup\": \"Haryana\", \"marker\": {\"color\": \"#FF6692\", \"opacity\": 0.5}, \"name\": \"Haryana\", \"offsetgroup\": \"Haryana\", \"orientation\": \"v\", \"showlegend\": true, \"textposition\": \"auto\", \"type\": \"bar\", \"x\": [\"Ambala\", \"Bahadurgarh\", \"Ballabgarh\", \"Bhiwani\", \"Dharuhera\", \"Faridabad\", \"Faridabad\", \"Faridabad\", \"Faridabad\", \"Fatehabad\", \"Gurugram\", \"Gurugram\", \"Gurugram\", \"Gurugram\", \"Hisar\", \"Jind\", \"Kaithal\", \"Karnal\", \"Kurukshetra\", \"Mandikhera\", \"Manesar\", \"Narnaul\", \"Palwal\", \"Panchkula\", \"Panipat\", \"Rohtak\", \"Sirsa\", \"Sonipat\", \"Yamuna Nagar\"], \"xaxis\": \"x\", \"y\": [\"Patti Mehar, Ambala - HSPCB\", \"Arya Nagar, Bahadurgarh - HSPCB\", \"Nathu Colony, Ballabgarh - HSPCB\", \"H.B. Colony, Bhiwani - HSPCB\", \"Municipal Corporation Office, Dharuhera - HSPCB\", \"New Industrial Town, Faridabad - HSPCB\", \"Sector 11, Faridabad - HSPCB\", \"Sector 30, Faridabad - HSPCB\", \"Sector- 16A, Faridabad - HSPCB\", \"Huda Sector, Fatehabad - HSPCB\", \"NISE Gwal Pahari, Gurugram - IMD\", \"Sector-51, Gurugram - HSPCB\", \"Teri Gram, Gurugram - HSPCB\", \"Vikas Sadan, Gurugram - HSPCB\", \"Urban Estate-II, Hisar - HSPCB\", \"Police Lines, Jind - HSPCB\", \"Rishi Nagar, Kaithal - HSPCB\", \"Sector-12, Karnal - HSPCB\", \"Sector-7, Kurukshetra - HSPCB\", \"General Hospital, Mandikhera - HSPCB\", \"Sector-2 IMT, Manesar - HSPCB\", \"Shastri Nagar, Narnaul - HSPCB\", \"Shyam Nagar, Palwal - HSPCB\", \"Sector-6, Panchkula - HSPCB\", \"Sector-18, Panipat - HSPCB\", \"MD University, Rohtak - HSPCB\", \"F-Block, Sirsa - HSPCB\", \"Murthal, Sonipat - HSPCB\", \"Gobind Pura, Yamuna Nagar - HSPCB\"], \"yaxis\": \"y\"}, {\"alignmentgroup\": \"True\", \"hovertemplate\": \"State=Jharkhand<br>City=%{x}<br>StationName=%{y}<extra></extra>\", \"legendgroup\": \"Jharkhand\", \"marker\": {\"color\": \"#B6E880\", \"opacity\": 0.5}, \"name\": \"Jharkhand\", \"offsetgroup\": \"Jharkhand\", \"orientation\": \"v\", \"showlegend\": true, \"textposition\": \"auto\", \"type\": \"bar\", \"x\": [\"Jorapokhar\"], \"xaxis\": \"x\", \"y\": [\"Tata Stadium, Jorapokhar - JSPCB\"], \"yaxis\": \"y\"}, {\"alignmentgroup\": \"True\", \"hovertemplate\": \"State=Karnataka<br>City=%{x}<br>StationName=%{y}<extra></extra>\", \"legendgroup\": \"Karnataka\", \"marker\": {\"color\": \"#FF97FF\", \"opacity\": 0.5}, \"name\": \"Karnataka\", \"offsetgroup\": \"Karnataka\", \"orientation\": \"v\", \"showlegend\": true, \"textposition\": \"auto\", \"type\": \"bar\", \"x\": [\"Bagalkot\", \"Bengaluru\", \"Bengaluru\", \"Bengaluru\", \"Bengaluru\", \"Bengaluru\", \"Bengaluru\", \"Bengaluru\", \"Bengaluru\", \"Bengaluru\", \"Bengaluru\", \"Chamarajanagar\", \"Chikkaballapur\", \"Chikkamagaluru\", \"Hubballi\", \"Kalaburagi\", \"Mysuru\", \"Ramanagara\", \"Vijayapura\", \"Yadgir\"], \"xaxis\": \"x\", \"y\": [\"Vidayagiri, Bagalkot - KSPCB\", \"BTM Layout, Bengaluru - CPCB\", \"BWSSB Kadabesanahalli, Bengaluru - CPCB\", \"Bapuji Nagar, Bengaluru - KSPCB\", \"City Railway Station, Bengaluru - KSPCB\", \"Hebbal, Bengaluru - KSPCB\", \"Hombegowda Nagar, Bengaluru - KSPCB\", \"Jayanagar 5th Block, Bengaluru - KSPCB\", \"Peenya, Bengaluru - CPCB\", \"Sanegurava Halli, Bengaluru - KSPCB\", \"Silk Board, Bengaluru - KSPCB\", \"Urban, Chamarajanagar - KSPCB\", \"Chikkaballapur Rural, Chikkaballapur - KSPCB\", \"Kalyana Nagara, Chikkamagaluru - KSPCB\", \"Deshpande Nagar, Hubballi - KSPCB\", \"Lal Bahadur Shastri Nagar, Kalaburagi - KSPCB\", \"Hebbal 1st Stage, Mysuru - KSPCB\", \"Vijay Nagar, Ramanagara - KSPCB\", \"Ibrahimpur, Vijayapura - KSPCB\", \"Collector Office, Yadgir - KSPCB\"], \"yaxis\": \"y\"}, {\"alignmentgroup\": \"True\", \"hovertemplate\": \"State=Kerala<br>City=%{x}<br>StationName=%{y}<extra></extra>\", \"legendgroup\": \"Kerala\", \"marker\": {\"color\": \"#FECB52\", \"opacity\": 0.5}, \"name\": \"Kerala\", \"offsetgroup\": \"Kerala\", \"orientation\": \"v\", \"showlegend\": true, \"textposition\": \"auto\", \"type\": \"bar\", \"x\": [\"Eloor\", \"Ernakulam\", \"Kannur\", \"Kochi\", \"Kollam\", \"Kozhikode\", \"Thiruvananthapuram\", \"Thiruvananthapuram\"], \"xaxis\": \"x\", \"y\": [\"Udyogamandal, Eloor - Kerala PCB\", \"Kacheripady, Ernakulam - Kerala PCB\", \"Thavakkara, Kannur - Kerala PCB\", \"Vyttila, Kochi - Kerala PCB\", \"Polayathode, Kollam - Kerala PCB\", \"Palayam, Kozhikode - Kerala PCB\", \"Kariavattom, Thiruvananthapuram - Kerala PCB\", \"Plammoodu, Thiruvananthapuram - Kerala PCB\"], \"yaxis\": \"y\"}, {\"alignmentgroup\": \"True\", \"hovertemplate\": \"State=Madhya Pradesh<br>City=%{x}<br>StationName=%{y}<extra></extra>\", \"legendgroup\": \"Madhya Pradesh\", \"marker\": {\"color\": \"#636efa\", \"opacity\": 0.5}, \"name\": \"Madhya Pradesh\", \"offsetgroup\": \"Madhya Pradesh\", \"orientation\": \"v\", \"showlegend\": true, \"textposition\": \"auto\", \"type\": \"bar\", \"x\": [\"Bhopal\", \"Damoh\", \"Dewas\", \"Gwalior\", \"Gwalior\", \"Indore\", \"Jabalpur\", \"Katni\", \"Maihar\", \"Mandideep\", \"Pithampur\", \"Ratlam\", \"Sagar\", \"Satna\", \"Singrauli\", \"Ujjain\"], \"xaxis\": \"x\", \"y\": [\"T T Nagar, Bhopal - MPPCB\", \"Shrivastav Colony, Damoh - MPPCB\", \"Bhopal Chauraha, Dewas - MPPCB\", \"City Center, Gwalior - MPPCB\", \"Phool Bagh, Gwalior - Mondelez Ind. Food\", \"Chhoti Gwaltoli, Indore - MPPCB\", \"Marhatal, Jabalpur - MPPCB\", \"Gole Bazar, Katni - MPPCB\", \"Sahilara, Maihar - KJS Cements\", \"Sector-D Industrial Area, Mandideep - MPPCB\", \"Sector-2 Industrial Area, Pithampur - MPPCB\", \"Shasthri Nagar, Ratlam - IPCA Lab\", \"Deen Dayal Nagar, Sagar - MPPCB\", \"Bandhavgar Colony, Satna - Birla Cement\", \"Vindhyachal STPS, Singrauli - MPPCB\", \"Mahakaleshwar Temple, Ujjain - MPPCB\"], \"yaxis\": \"y\"}, {\"alignmentgroup\": \"True\", \"hovertemplate\": \"State=Maharashtra<br>City=%{x}<br>StationName=%{y}<extra></extra>\", \"legendgroup\": \"Maharashtra\", \"marker\": {\"color\": \"#EF553B\", \"opacity\": 0.5}, \"name\": \"Maharashtra\", \"offsetgroup\": \"Maharashtra\", \"orientation\": \"v\", \"showlegend\": true, \"textposition\": \"auto\", \"type\": \"bar\", \"x\": [\"Aurangabad\", \"Chandrapur\", \"Chandrapur\", \"Kalyan\", \"Mumbai\", \"Mumbai\", \"Mumbai\", \"Mumbai\", \"Mumbai\", \"Mumbai\", \"Mumbai\", \"Mumbai\", \"Mumbai\", \"Mumbai\", \"Nagpur\", \"Nashik\", \"Navi Mumbai\", \"Navi Mumbai\", \"Navi Mumbai\", \"Pune\", \"Solapur\", \"Thane\"], \"xaxis\": \"x\", \"y\": [\"More Chowk Waluj, Aurangabad - MPCB\", \"Chandrapur, Chandrapur - MPCB\", \"MIDC Khutala, Chandrapur - MPCB\", \"Khadakpada, Kalyan - MPCB\", \"Bandra, Mumbai - MPCB\", \"Borivali East, Mumbai - MPCB\", \"Chhatrapati Shivaji Intl. Airport (T2), Mumbai - MPCB\", \"Colaba, Mumbai - MPCB\", \"Kurla, Mumbai - MPCB\", \"Powai, Mumbai - MPCB\", \"Sion, Mumbai - MPCB\", \"Vasai West, Mumbai - MPCB\", \"Vile Parle West, Mumbai - MPCB\", \"Worli, Mumbai - MPCB\", \"Opp GPO Civil Lines, Nagpur - MPCB\", \"Gangapur Road, Nashik - MPCB\", \"Airoli, Navi Mumbai - MPCB\", \"Mahape, Navi Mumbai - MPCB\", \"Nerul, Navi Mumbai - MPCB\", \"Karve Road, Pune - MPCB\", \"Solapur, Solapur - MPCB\", \"Pimpleshwar Mandir, Thane - MPCB\"], \"yaxis\": \"y\"}, {\"alignmentgroup\": \"True\", \"hovertemplate\": \"State=Meghalaya<br>City=%{x}<br>StationName=%{y}<extra></extra>\", \"legendgroup\": \"Meghalaya\", \"marker\": {\"color\": \"#00cc96\", \"opacity\": 0.5}, \"name\": \"Meghalaya\", \"offsetgroup\": \"Meghalaya\", \"orientation\": \"v\", \"showlegend\": true, \"textposition\": \"auto\", \"type\": \"bar\", \"x\": [\"Shillong\"], \"xaxis\": \"x\", \"y\": [\"Lumpyngngad, Shillong - Meghalaya PCB\"], \"yaxis\": \"y\"}, {\"alignmentgroup\": \"True\", \"hovertemplate\": \"State=Mizoram<br>City=%{x}<br>StationName=%{y}<extra></extra>\", \"legendgroup\": \"Mizoram\", \"marker\": {\"color\": \"#ab63fa\", \"opacity\": 0.5}, \"name\": \"Mizoram\", \"offsetgroup\": \"Mizoram\", \"orientation\": \"v\", \"showlegend\": true, \"textposition\": \"auto\", \"type\": \"bar\", \"x\": [\"Aizawl\"], \"xaxis\": \"x\", \"y\": [\"Sikulpuikawn, Aizawl - Mizoram PCB\"], \"yaxis\": \"y\"}, {\"alignmentgroup\": \"True\", \"hovertemplate\": \"State=Odisha<br>City=%{x}<br>StationName=%{y}<extra></extra>\", \"legendgroup\": \"Odisha\", \"marker\": {\"color\": \"#FFA15A\", \"opacity\": 0.5}, \"name\": \"Odisha\", \"offsetgroup\": \"Odisha\", \"orientation\": \"v\", \"showlegend\": true, \"textposition\": \"auto\", \"type\": \"bar\", \"x\": [\"Brajrajnagar\", \"Talcher\"], \"xaxis\": \"x\", \"y\": [\"GM Office, Brajrajnagar - OSPCB\", \"Talcher Coalfields,Talcher - OSPCB\"], \"yaxis\": \"y\"}, {\"alignmentgroup\": \"True\", \"hovertemplate\": \"State=Punjab<br>City=%{x}<br>StationName=%{y}<extra></extra>\", \"legendgroup\": \"Punjab\", \"marker\": {\"color\": \"#19d3f3\", \"opacity\": 0.5}, \"name\": \"Punjab\", \"offsetgroup\": \"Punjab\", \"orientation\": \"v\", \"showlegend\": true, \"textposition\": \"auto\", \"type\": \"bar\", \"x\": [\"Amritsar\", \"Bathinda\", \"Jalandhar\", \"Khanna\", \"Ludhiana\", \"Gobindgarh\", \"Patiala\", \"Rupnagar\"], \"xaxis\": \"x\", \"y\": [\"Golden Temple, Amritsar - PPCB\", \"Hardev Nagar, Bathinda - PPCB\", \"Civil Line, Jalandhar - PPCB\", \"Kalal Majra, Khanna - PPCB\", \"Punjab Agricultural University, Ludhiana - PPCB\", \"RIMT University, Mandi Gobindgarh - PPCB\", \"Model Town, Patiala - PPCB\", \"Ratanpura, Rupnagar - Ambuja Cements\"], \"yaxis\": \"y\"}, {\"alignmentgroup\": \"True\", \"hovertemplate\": \"State=Rajasthan<br>City=%{x}<br>StationName=%{y}<extra></extra>\", \"legendgroup\": \"Rajasthan\", \"marker\": {\"color\": \"#FF6692\", \"opacity\": 0.5}, \"name\": \"Rajasthan\", \"offsetgroup\": \"Rajasthan\", \"orientation\": \"v\", \"showlegend\": true, \"textposition\": \"auto\", \"type\": \"bar\", \"x\": [\"Alwar\", \"Ajmer\", \"Bhiwandi\", \"Jaipur\", \"Jaipur\", \"Jaipur\", \"Jodhpur\", \"Kota\", \"Pali\", \"Udaipur\"], \"xaxis\": \"x\", \"y\": [\"Moti Doongri, Alwar - RSPCB\", \"Civil Lines, Ajmer - RSPCB\", \"RIICO Ind. Area III, Bhiwadi - RSPCB\", \"Adarsh Nagar, Jaipur - RSPCB\", \"Police Commissionerate, Jaipur - RSPCB\", \"Shastri Nagar, Jaipur - RSPCB\", \"Collectorate, Jodhpur - RSPCB\", \"Shrinath Puram, Kota - RSPCB\", \"Indira Colony Vistar, Pali - RSPCB\", \"Ashok Nagar, Udaipur - RSPCB\"], \"yaxis\": \"y\"}, {\"alignmentgroup\": \"True\", \"hovertemplate\": \"State=Tamil Nadu<br>City=%{x}<br>StationName=%{y}<extra></extra>\", \"legendgroup\": \"Tamil Nadu\", \"marker\": {\"color\": \"#B6E880\", \"opacity\": 0.5}, \"name\": \"Tamil Nadu\", \"offsetgroup\": \"Tamil Nadu\", \"orientation\": \"v\", \"showlegend\": true, \"textposition\": \"auto\", \"type\": \"bar\", \"x\": [\"Chennai\", \"Chennai\", \"Chennai\", \"Chennai\", \"Coimbatore\"], \"xaxis\": \"x\", \"y\": [\"Alandur Bus Depot, Chennai - CPCB\", \"Manali Village, Chennai - TNPCB\", \"Manali, Chennai - CPCB\", \"Velachery Res. Area, Chennai - CPCB\", \"SIDCO Kurichi, Coimbatore - TNPCB\"], \"yaxis\": \"y\"}, {\"alignmentgroup\": \"True\", \"hovertemplate\": \"State=Telangana<br>City=%{x}<br>StationName=%{y}<extra></extra>\", \"legendgroup\": \"Telangana\", \"marker\": {\"color\": \"#FF97FF\", \"opacity\": 0.5}, \"name\": \"Telangana\", \"offsetgroup\": \"Telangana\", \"orientation\": \"v\", \"showlegend\": true, \"textposition\": \"auto\", \"type\": \"bar\", \"x\": [\"Hyderabad\", \"Hyderabad\", \"Hyderabad\", \"Hyderabad\", \"Hyderabad\", \"Hyderabad\"], \"xaxis\": \"x\", \"y\": [\"Bollaram Industrial Area, Hyderabad - TSPCB\", \"Central University, Hyderabad - TSPCB\", \"ICRISAT Patancheru, Hyderabad - TSPCB\", \"IDA Pashamylaram, Hyderabad - TSPCB\", \"Sanathnagar, Hyderabad - TSPCB\", \"Zoo Park, Hyderabad - TSPCB\"], \"yaxis\": \"y\"}, {\"alignmentgroup\": \"True\", \"hovertemplate\": \"State=Uttar Pradesh<br>City=%{x}<br>StationName=%{y}<extra></extra>\", \"legendgroup\": \"Uttar Pradesh\", \"marker\": {\"color\": \"#FECB52\", \"opacity\": 0.5}, \"name\": \"Uttar Pradesh\", \"offsetgroup\": \"Uttar Pradesh\", \"orientation\": \"v\", \"showlegend\": true, \"textposition\": \"auto\", \"type\": \"bar\", \"x\": [\"Agra\", \"Baghpat\", \"Bulandshahr\", \"Ghaziabad\", \"Ghaziabad\", \"Ghaziabad\", \"Ghaziabad\", \"Greater Noida\", \"Greater Noida\", \"Hapur\", \"Kanpur\", \"Lucknow\", \"Lucknow\", \"Lucknow\", \"Lucknow\", \"Lucknow\", \"Meerut\", \"Meerut\", \"Meerut\", \"Moradabad\", \"Muzzaffarnagar\", \"Noida\", \"Noida\", \"Noida\", \"Noida\", \"Varanasi\"], \"xaxis\": \"x\", \"y\": [\"Sanjay Palace, Agra - UPPCB\", \"New Collectorate, Baghpat - UPPCB\", \"Yamunapuram, Bulandshahr - UPPCB\", \"Indirapuram, Ghaziabad - UPPCB\", \"Loni, Ghaziabad - UPPCB\", \"Sanjay Nagar, Ghaziabad - UPPCB\", \"Vasundhara, Ghaziabad - UPPCB\", \"Knowledge Park - III, Greater Noida - UPPCB\", \"Knowledge Park - V, Greater Noida - UPPCB\", \"Anand Vihar, Hapur - UPPCB\", \"Nehru Nagar, Kanpur - UPPCB\", \"Central School, Lucknow - CPCB\", \"Gomti Nagar, Lucknow - UPPCB\", \"Lalbagh, Lucknow - CPCB\", \"Nishant Ganj, Lucknow - UPPCB\", \"Talkatora District Industries Center, Lucknow - CPCB\", \"Ganga Nagar, Meerut - UPPCB\", \"Jai Bhim Nagar, Meerut - UPPCB\", \"Pallavpuram Phase 2, Meerut - UPPCB\", \"Lajpat Nagar, Moradabad - UPPCB\", \"New Mandi, Muzaffarnagar - UPPCB\", \"Sector - 125, Noida - UPPCB\", \"Sector - 62, Noida - IMD\", \"Sector-1, Noida - UPPCB\", \"Sector-116, Noida - UPPCB\", \"Ardhali Bazar, Varanasi - UPPCB\"], \"yaxis\": \"y\"}, {\"alignmentgroup\": \"True\", \"hovertemplate\": \"State=West Bengal<br>City=%{x}<br>StationName=%{y}<extra></extra>\", \"legendgroup\": \"West Bengal\", \"marker\": {\"color\": \"#636efa\", \"opacity\": 0.5}, \"name\": \"West Bengal\", \"offsetgroup\": \"West Bengal\", \"orientation\": \"v\", \"showlegend\": true, \"textposition\": \"auto\", \"type\": \"bar\", \"x\": [\"Asansol\", \"Durgapur\", \"Haldia\", \"Howrah\", \"Howrah\", \"Howrah\", \"Kolkata\", \"Kolkata\", \"Kolkata\", \"Kolkata\", \"Kolkata\", \"Kolkata\", \"Kolkata\", \"Siliguri\"], \"xaxis\": \"x\", \"y\": [\"Asansol Court Area, Asansol - WBPCB\", \"Sidhu Kanhu Indoor Stadium, Durgapur - WBPCB\", \"Haldia, Haldia - WBPCB\", \"Belur Math, Howrah - WBPCB\", \"Ghusuri, Howrah - WBPCB\", \"Padmapukur, Howrah - WBPCB\", \"Ballygunge, Kolkata - WBPCB\", \"Bidhannagar, Kolkata - WBPCB\", \"Fort William, Kolkata - WBPCB\", \"Jadavpur, Kolkata - WBPCB\", \"Rabindra Bharati University, Kolkata - WBPCB\", \"Rabindra Sarobar, Kolkata - WBPCB\", \"Victoria, Kolkata - WBPCB\", \"Ward-32 Bapupara, Siliguri - WBPCB\"], \"yaxis\": \"y\"}],                        {\"barmode\": \"overlay\", \"legend\": {\"title\": {\"text\": \"State\"}, \"tracegroupgap\": 0}, \"margin\": {\"t\": 60}, \"template\": {\"data\": {\"bar\": [{\"error_x\": {\"color\": \"#2a3f5f\"}, \"error_y\": {\"color\": \"#2a3f5f\"}, \"marker\": {\"line\": {\"color\": \"#E5ECF6\", \"width\": 0.5}}, \"type\": \"bar\"}], \"barpolar\": [{\"marker\": {\"line\": {\"color\": \"#E5ECF6\", \"width\": 0.5}}, \"type\": \"barpolar\"}], \"carpet\": [{\"aaxis\": {\"endlinecolor\": \"#2a3f5f\", \"gridcolor\": \"white\", \"linecolor\": \"white\", \"minorgridcolor\": \"white\", \"startlinecolor\": \"#2a3f5f\"}, \"baxis\": {\"endlinecolor\": \"#2a3f5f\", \"gridcolor\": \"white\", \"linecolor\": \"white\", \"minorgridcolor\": \"white\", \"startlinecolor\": \"#2a3f5f\"}, \"type\": \"carpet\"}], \"choropleth\": [{\"colorbar\": {\"outlinewidth\": 0, \"ticks\": \"\"}, \"type\": \"choropleth\"}], \"contour\": [{\"colorbar\": {\"outlinewidth\": 0, \"ticks\": \"\"}, \"colorscale\": [[0.0, \"#0d0887\"], [0.1111111111111111, \"#46039f\"], [0.2222222222222222, \"#7201a8\"], [0.3333333333333333, \"#9c179e\"], [0.4444444444444444, \"#bd3786\"], [0.5555555555555556, \"#d8576b\"], [0.6666666666666666, \"#ed7953\"], [0.7777777777777778, \"#fb9f3a\"], [0.8888888888888888, \"#fdca26\"], [1.0, \"#f0f921\"]], \"type\": \"contour\"}], \"contourcarpet\": [{\"colorbar\": {\"outlinewidth\": 0, \"ticks\": \"\"}, \"type\": \"contourcarpet\"}], \"heatmap\": [{\"colorbar\": {\"outlinewidth\": 0, \"ticks\": \"\"}, \"colorscale\": [[0.0, \"#0d0887\"], [0.1111111111111111, \"#46039f\"], [0.2222222222222222, \"#7201a8\"], [0.3333333333333333, \"#9c179e\"], [0.4444444444444444, \"#bd3786\"], [0.5555555555555556, \"#d8576b\"], [0.6666666666666666, \"#ed7953\"], [0.7777777777777778, \"#fb9f3a\"], [0.8888888888888888, \"#fdca26\"], [1.0, \"#f0f921\"]], \"type\": \"heatmap\"}], \"heatmapgl\": [{\"colorbar\": {\"outlinewidth\": 0, \"ticks\": \"\"}, \"colorscale\": [[0.0, \"#0d0887\"], [0.1111111111111111, \"#46039f\"], [0.2222222222222222, \"#7201a8\"], [0.3333333333333333, \"#9c179e\"], [0.4444444444444444, \"#bd3786\"], [0.5555555555555556, \"#d8576b\"], [0.6666666666666666, \"#ed7953\"], [0.7777777777777778, \"#fb9f3a\"], [0.8888888888888888, \"#fdca26\"], [1.0, \"#f0f921\"]], \"type\": \"heatmapgl\"}], \"histogram\": [{\"marker\": {\"colorbar\": {\"outlinewidth\": 0, \"ticks\": \"\"}}, \"type\": \"histogram\"}], \"histogram2d\": [{\"colorbar\": {\"outlinewidth\": 0, \"ticks\": \"\"}, \"colorscale\": [[0.0, \"#0d0887\"], [0.1111111111111111, \"#46039f\"], [0.2222222222222222, \"#7201a8\"], [0.3333333333333333, \"#9c179e\"], [0.4444444444444444, \"#bd3786\"], [0.5555555555555556, \"#d8576b\"], [0.6666666666666666, \"#ed7953\"], [0.7777777777777778, \"#fb9f3a\"], [0.8888888888888888, \"#fdca26\"], [1.0, \"#f0f921\"]], \"type\": \"histogram2d\"}], \"histogram2dcontour\": [{\"colorbar\": {\"outlinewidth\": 0, \"ticks\": \"\"}, \"colorscale\": [[0.0, \"#0d0887\"], [0.1111111111111111, \"#46039f\"], [0.2222222222222222, \"#7201a8\"], [0.3333333333333333, \"#9c179e\"], [0.4444444444444444, \"#bd3786\"], [0.5555555555555556, \"#d8576b\"], [0.6666666666666666, \"#ed7953\"], [0.7777777777777778, \"#fb9f3a\"], [0.8888888888888888, \"#fdca26\"], [1.0, \"#f0f921\"]], \"type\": \"histogram2dcontour\"}], \"mesh3d\": [{\"colorbar\": {\"outlinewidth\": 0, \"ticks\": \"\"}, \"type\": \"mesh3d\"}], \"parcoords\": [{\"line\": {\"colorbar\": {\"outlinewidth\": 0, \"ticks\": \"\"}}, \"type\": \"parcoords\"}], \"pie\": [{\"automargin\": true, \"type\": \"pie\"}], \"scatter\": [{\"marker\": {\"colorbar\": {\"outlinewidth\": 0, \"ticks\": \"\"}}, \"type\": \"scatter\"}], \"scatter3d\": [{\"line\": {\"colorbar\": {\"outlinewidth\": 0, \"ticks\": \"\"}}, \"marker\": {\"colorbar\": {\"outlinewidth\": 0, \"ticks\": \"\"}}, \"type\": \"scatter3d\"}], \"scattercarpet\": [{\"marker\": {\"colorbar\": {\"outlinewidth\": 0, \"ticks\": \"\"}}, \"type\": \"scattercarpet\"}], \"scattergeo\": [{\"marker\": {\"colorbar\": {\"outlinewidth\": 0, \"ticks\": \"\"}}, \"type\": \"scattergeo\"}], \"scattergl\": [{\"marker\": {\"colorbar\": {\"outlinewidth\": 0, \"ticks\": \"\"}}, \"type\": \"scattergl\"}], \"scattermapbox\": [{\"marker\": {\"colorbar\": {\"outlinewidth\": 0, \"ticks\": \"\"}}, \"type\": \"scattermapbox\"}], \"scatterpolar\": [{\"marker\": {\"colorbar\": {\"outlinewidth\": 0, \"ticks\": \"\"}}, \"type\": \"scatterpolar\"}], \"scatterpolargl\": [{\"marker\": {\"colorbar\": {\"outlinewidth\": 0, \"ticks\": \"\"}}, \"type\": \"scatterpolargl\"}], \"scatterternary\": [{\"marker\": {\"colorbar\": {\"outlinewidth\": 0, \"ticks\": \"\"}}, \"type\": \"scatterternary\"}], \"surface\": [{\"colorbar\": {\"outlinewidth\": 0, \"ticks\": \"\"}, \"colorscale\": [[0.0, \"#0d0887\"], [0.1111111111111111, \"#46039f\"], [0.2222222222222222, \"#7201a8\"], [0.3333333333333333, \"#9c179e\"], [0.4444444444444444, \"#bd3786\"], [0.5555555555555556, \"#d8576b\"], [0.6666666666666666, \"#ed7953\"], [0.7777777777777778, \"#fb9f3a\"], [0.8888888888888888, \"#fdca26\"], [1.0, \"#f0f921\"]], \"type\": \"surface\"}], \"table\": [{\"cells\": {\"fill\": {\"color\": \"#EBF0F8\"}, \"line\": {\"color\": \"white\"}}, \"header\": {\"fill\": {\"color\": \"#C8D4E3\"}, \"line\": {\"color\": \"white\"}}, \"type\": \"table\"}]}, \"layout\": {\"annotationdefaults\": {\"arrowcolor\": \"#2a3f5f\", \"arrowhead\": 0, \"arrowwidth\": 1}, \"autotypenumbers\": \"strict\", \"coloraxis\": {\"colorbar\": {\"outlinewidth\": 0, \"ticks\": \"\"}}, \"colorscale\": {\"diverging\": [[0, \"#8e0152\"], [0.1, \"#c51b7d\"], [0.2, \"#de77ae\"], [0.3, \"#f1b6da\"], [0.4, \"#fde0ef\"], [0.5, \"#f7f7f7\"], [0.6, \"#e6f5d0\"], [0.7, \"#b8e186\"], [0.8, \"#7fbc41\"], [0.9, \"#4d9221\"], [1, \"#276419\"]], \"sequential\": [[0.0, \"#0d0887\"], [0.1111111111111111, \"#46039f\"], [0.2222222222222222, \"#7201a8\"], [0.3333333333333333, \"#9c179e\"], [0.4444444444444444, \"#bd3786\"], [0.5555555555555556, \"#d8576b\"], [0.6666666666666666, \"#ed7953\"], [0.7777777777777778, \"#fb9f3a\"], [0.8888888888888888, \"#fdca26\"], [1.0, \"#f0f921\"]], \"sequentialminus\": [[0.0, \"#0d0887\"], [0.1111111111111111, \"#46039f\"], [0.2222222222222222, \"#7201a8\"], [0.3333333333333333, \"#9c179e\"], [0.4444444444444444, \"#bd3786\"], [0.5555555555555556, \"#d8576b\"], [0.6666666666666666, \"#ed7953\"], [0.7777777777777778, \"#fb9f3a\"], [0.8888888888888888, \"#fdca26\"], [1.0, \"#f0f921\"]]}, \"colorway\": [\"#636efa\", \"#EF553B\", \"#00cc96\", \"#ab63fa\", \"#FFA15A\", \"#19d3f3\", \"#FF6692\", \"#B6E880\", \"#FF97FF\", \"#FECB52\"], \"font\": {\"color\": \"#2a3f5f\"}, \"geo\": {\"bgcolor\": \"white\", \"lakecolor\": \"white\", \"landcolor\": \"#E5ECF6\", \"showlakes\": true, \"showland\": true, \"subunitcolor\": \"white\"}, \"hoverlabel\": {\"align\": \"left\"}, \"hovermode\": \"closest\", \"mapbox\": {\"style\": \"light\"}, \"paper_bgcolor\": \"white\", \"plot_bgcolor\": \"#E5ECF6\", \"polar\": {\"angularaxis\": {\"gridcolor\": \"white\", \"linecolor\": \"white\", \"ticks\": \"\"}, \"bgcolor\": \"#E5ECF6\", \"radialaxis\": {\"gridcolor\": \"white\", \"linecolor\": \"white\", \"ticks\": \"\"}}, \"scene\": {\"xaxis\": {\"backgroundcolor\": \"#E5ECF6\", \"gridcolor\": \"white\", \"gridwidth\": 2, \"linecolor\": \"white\", \"showbackground\": true, \"ticks\": \"\", \"zerolinecolor\": \"white\"}, \"yaxis\": {\"backgroundcolor\": \"#E5ECF6\", \"gridcolor\": \"white\", \"gridwidth\": 2, \"linecolor\": \"white\", \"showbackground\": true, \"ticks\": \"\", \"zerolinecolor\": \"white\"}, \"zaxis\": {\"backgroundcolor\": \"#E5ECF6\", \"gridcolor\": \"white\", \"gridwidth\": 2, \"linecolor\": \"white\", \"showbackground\": true, \"ticks\": \"\", \"zerolinecolor\": \"white\"}}, \"shapedefaults\": {\"line\": {\"color\": \"#2a3f5f\"}}, \"ternary\": {\"aaxis\": {\"gridcolor\": \"white\", \"linecolor\": \"white\", \"ticks\": \"\"}, \"baxis\": {\"gridcolor\": \"white\", \"linecolor\": \"white\", \"ticks\": \"\"}, \"bgcolor\": \"#E5ECF6\", \"caxis\": {\"gridcolor\": \"white\", \"linecolor\": \"white\", \"ticks\": \"\"}}, \"title\": {\"x\": 0.05}, \"xaxis\": {\"automargin\": true, \"gridcolor\": \"white\", \"linecolor\": \"white\", \"ticks\": \"\", \"title\": {\"standoff\": 15}, \"zerolinecolor\": \"white\", \"zerolinewidth\": 2}, \"yaxis\": {\"automargin\": true, \"gridcolor\": \"white\", \"linecolor\": \"white\", \"ticks\": \"\", \"title\": {\"standoff\": 15}, \"zerolinecolor\": \"white\", \"zerolinewidth\": 2}}}, \"xaxis\": {\"anchor\": \"y\", \"domain\": [0.0, 1.0], \"title\": {\"text\": \"City\"}}, \"yaxis\": {\"anchor\": \"x\", \"domain\": [0.0, 1.0], \"title\": {\"text\": \"StationName\"}}},                        {\"responsive\": true}                    ).then(function(){\n",
       "                            \n",
       "var gd = document.getElementById('5985de39-7830-487f-a335-6cce432606fe');\n",
       "var x = new MutationObserver(function (mutations, observer) {{\n",
       "        var display = window.getComputedStyle(gd).display;\n",
       "        if (!display || display === 'none') {{\n",
       "            console.log([gd, 'removed!']);\n",
       "            Plotly.purge(gd);\n",
       "            observer.disconnect();\n",
       "        }}\n",
       "}});\n",
       "\n",
       "// Listen for the removal of the full notebook cells\n",
       "var notebookContainer = gd.closest('#notebook-container');\n",
       "if (notebookContainer) {{\n",
       "    x.observe(notebookContainer, {childList: true});\n",
       "}}\n",
       "\n",
       "// Listen for the clearing of the current output cell\n",
       "var outputEl = gd.closest('.output');\n",
       "if (outputEl) {{\n",
       "    x.observe(outputEl, {childList: true});\n",
       "}}\n",
       "\n",
       "                        })                };                });            </script>        </div>"
      ]
     },
     "metadata": {},
     "output_type": "display_data"
    }
   ],
   "source": [
    "fig = px.bar(df, x=\"City\", y=\"StationName\",color=\"State\", barmode=\"overlay\")\n",
    "fig.show()"
   ]
  },
  {
   "cell_type": "code",
   "execution_count": null,
   "metadata": {},
   "outputs": [],
   "source": []
  },
  {
   "cell_type": "code",
   "execution_count": 10,
   "metadata": {},
   "outputs": [
    {
     "name": "stdout",
     "output_type": "stream",
     "text": [
      "0      Andhra Pradesh\n",
      "1      Andhra Pradesh\n",
      "2      Andhra Pradesh\n",
      "3      Andhra Pradesh\n",
      "4      Andhra Pradesh\n",
      "            ...      \n",
      "225       West Bengal\n",
      "226       West Bengal\n",
      "227       West Bengal\n",
      "228       West Bengal\n",
      "229       West Bengal\n",
      "Name: State, Length: 230, dtype: object\n"
     ]
    }
   ],
   "source": [
    "print(df[\"State\"])"
   ]
  },
  {
   "cell_type": "code",
   "execution_count": 11,
   "metadata": {},
   "outputs": [
    {
     "name": "stdout",
     "output_type": "stream",
     "text": [
      "  StationId                                     StationName  \\\n",
      "0     AP001                  Secretariat, Amaravati - APPCB   \n",
      "1     AP002  Anand Kala Kshetram, Rajamahendravaram - APPCB   \n",
      "2     AP003                      Tirumala, Tirupati - APPCB   \n",
      "3     AP004                 PWD Grounds, Vijayawada - APPCB   \n",
      "4     AP005          GVM Corporation, Visakhapatnam - APPCB   \n",
      "\n",
      "                City           State  Status  \n",
      "0          Amaravati  Andhra Pradesh  Active  \n",
      "1  Rajamahendravaram  Andhra Pradesh     NaN  \n",
      "2           Tirupati  Andhra Pradesh     NaN  \n",
      "3         Vijayawada  Andhra Pradesh     NaN  \n",
      "4      Visakhapatnam  Andhra Pradesh  Active  \n",
      "  StationId                                     StationName  \\\n",
      "0     AP001                  Secretariat, Amaravati - APPCB   \n",
      "1     AP002  Anand Kala Kshetram, Rajamahendravaram - APPCB   \n",
      "2     AP003                      Tirumala, Tirupati - APPCB   \n",
      "3     AP004                 PWD Grounds, Vijayawada - APPCB   \n",
      "4     AP005          GVM Corporation, Visakhapatnam - APPCB   \n",
      "\n",
      "                City           State  Status  \n",
      "0          Amaravati  Andhra Pradesh  Active  \n",
      "1  Rajamahendravaram  Andhra Pradesh     NaN  \n",
      "2           Tirupati  Andhra Pradesh     NaN  \n",
      "3         Vijayawada  Andhra Pradesh     NaN  \n",
      "4      Visakhapatnam  Andhra Pradesh  Active  \n",
      "  StationId                                     StationName  \\\n",
      "0     AP001                  Secretariat, Amaravati - APPCB   \n",
      "1     AP002  Anand Kala Kshetram, Rajamahendravaram - APPCB   \n",
      "2     AP003                      Tirumala, Tirupati - APPCB   \n",
      "3     AP004                 PWD Grounds, Vijayawada - APPCB   \n",
      "4     AP005          GVM Corporation, Visakhapatnam - APPCB   \n",
      "\n",
      "                City           State  Status  \n",
      "0          Amaravati  Andhra Pradesh  Active  \n",
      "1  Rajamahendravaram  Andhra Pradesh     NaN  \n",
      "2           Tirupati  Andhra Pradesh     NaN  \n",
      "3         Vijayawada  Andhra Pradesh     NaN  \n",
      "4      Visakhapatnam  Andhra Pradesh  Active  \n"
     ]
    }
   ],
   "source": [
    "df1=pd.read_csv('station_day.csv')\n",
    "print(df.head())\n",
    "df2=pd.read_csv('city_day.csv')\n",
    "print(df.head())\n",
    "df3=pd.read_csv('city_hour.csv')\n",
    "print(df.head())"
   ]
  },
  {
   "cell_type": "code",
   "execution_count": null,
   "metadata": {},
   "outputs": [],
   "source": []
  },
  {
   "cell_type": "code",
   "execution_count": null,
   "metadata": {},
   "outputs": [],
   "source": []
  },
  {
   "cell_type": "code",
   "execution_count": 12,
   "metadata": {},
   "outputs": [
    {
     "data": {
      "application/vnd.plotly.v1+json": {
       "config": {
        "plotlyServerURL": "https://plot.ly"
       },
       "data": [
        {
         "dimensions": [
          {
           "axis": {
            "matches": true
           },
           "label": "StationId",
           "values": [
            "AP001",
            "AP002",
            "AP003",
            "AP004",
            "AP005",
            "AS001",
            "BR001",
            "BR002",
            "BR003",
            "BR004",
            "BR005",
            "BR006",
            "BR007",
            "BR008",
            "BR009",
            "BR010",
            "CH001",
            "DL001",
            "DL002",
            "DL003",
            "DL004",
            "DL005",
            "DL006",
            "DL007",
            "DL008",
            "DL009",
            "DL010",
            "DL011",
            "DL012",
            "DL013",
            "DL014",
            "DL015",
            "DL016",
            "DL017",
            "DL018",
            "DL019",
            "DL020",
            "DL021",
            "DL022",
            "DL023",
            "DL024",
            "DL025",
            "DL026",
            "DL027",
            "DL028",
            "DL029",
            "DL030",
            "DL031",
            "DL032",
            "DL033",
            "DL034",
            "DL035",
            "DL036",
            "DL037",
            "DL038",
            "GJ001",
            "GJ002",
            "GJ003",
            "GJ004",
            "GJ005",
            "GJ006",
            "HR001",
            "HR002",
            "HR003",
            "HR004",
            "HR005",
            "HR006",
            "HR007",
            "HR008",
            "HR009",
            "HR010",
            "HR011",
            "HR012",
            "HR013",
            "HR014",
            "HR015",
            "HR016",
            "HR017",
            "HR018",
            "HR019",
            "HR020",
            "HR021",
            "HR022",
            "HR023",
            "HR024",
            "HR025",
            "HR026",
            "HR027",
            "HR028",
            "HR029",
            "JH001",
            "KA001",
            "KA002",
            "KA003",
            "KA004",
            "KA005",
            "KA006",
            "KA007",
            "KA008",
            "KA009",
            "KA010",
            "KA011",
            "KA012",
            "KA013",
            "KA014",
            "KA015",
            "KA016",
            "KA017",
            "KA018",
            "KA019",
            "KA020",
            "KL001",
            "KL002",
            "KL003",
            "KL004",
            "KL005",
            "KL006",
            "KL007",
            "KL008",
            "MP001",
            "MP002",
            "MP003",
            "MP004",
            "MP005",
            "MP006",
            "MP007",
            "MP008",
            "MP009",
            "MP010",
            "MP011",
            "MP012",
            "MP013",
            "MP014",
            "MP015",
            "MP016",
            "MH001",
            "MH002",
            "MH003",
            "MH004",
            "MH005",
            "MH006",
            "MH007",
            "MH008",
            "MH009",
            "MH010",
            "MH011",
            "MH012",
            "MH013",
            "MH014",
            "MH015",
            "MH016",
            "MH017",
            "MH018",
            "MH019",
            "MH020",
            "MH021",
            "MH022",
            "ML001",
            "MZ001",
            "OD001",
            "OD002",
            "PB001",
            "PB002",
            "PB003",
            "PB004",
            "PB005",
            "PB006",
            "PB007",
            "PB008",
            "RJ001",
            "RJ002",
            "RJ003",
            "RJ004",
            "RJ005",
            "RJ006",
            "RJ007",
            "RJ008",
            "RJ009",
            "RJ010",
            "TN001",
            "TN002",
            "TN003",
            "TN004",
            "TN005",
            "TG001",
            "TG002",
            "TG003",
            "TG004",
            "TG005",
            "TG006",
            "UP001",
            "UP002",
            "UP003",
            "UP004",
            "UP005",
            "UP006",
            "UP007",
            "UP008",
            "UP009",
            "UP010",
            "UP011",
            "UP012",
            "UP013",
            "UP014",
            "UP015",
            "UP016",
            "UP017",
            "UP018",
            "UP019",
            "UP020",
            "UP021",
            "UP022",
            "UP023",
            "UP024",
            "UP025",
            "UP026",
            "WB001",
            "WB002",
            "WB003",
            "WB004",
            "WB005",
            "WB006",
            "WB007",
            "WB008",
            "WB009",
            "WB010",
            "WB011",
            "WB012",
            "WB013",
            "WB014"
           ]
          },
          {
           "axis": {
            "matches": true
           },
           "label": "StationName",
           "values": [
            "Secretariat, Amaravati - APPCB",
            "Anand Kala Kshetram, Rajamahendravaram - APPCB",
            "Tirumala, Tirupati - APPCB",
            "PWD Grounds, Vijayawada - APPCB",
            "GVM Corporation, Visakhapatnam - APPCB",
            "Railway Colony, Guwahati - APCB",
            "Collectorate, Gaya - BSPCB",
            "SFTI Kusdihra, Gaya - BSPCB",
            "Industrial Area, Hajipur - BSPCB",
            "Muzaffarpur Collectorate, Muzaffarpur - BSPCB",
            "DRM Office Danapur, Patna - BSPCB",
            "Govt. High School Shikarpur, Patna - BSPCB",
            "IGSC Planetarium Complex, Patna - BSPCB",
            "Muradpur, Patna - BSPCB",
            "Rajbansi Nagar, Patna - BSPCB",
            "Samanpura, Patna - BSPCB",
            "Sector-25, Chandigarh - CPCC",
            "Alipur, Delhi - DPCC",
            "Anand Vihar, Delhi - DPCC",
            "Ashok Vihar, Delhi - DPCC",
            "Aya Nagar, Delhi - IMD",
            "Bawana, Delhi - DPCC",
            "Burari Crossing, Delhi - IMD",
            "CRRI Mathura Road, Delhi - IMD",
            "DTU, Delhi - CPCB",
            "Dr. Karni Singh Shooting Range, Delhi - DPCC",
            "Dwarka-Sector 8, Delhi - DPCC",
            "East Arjun Nagar, Delhi - CPCB",
            "IGI Airport (T3), Delhi - IMD",
            "IHBAS, Dilshad Garden, Delhi - CPCB",
            "ITO, Delhi - CPCB",
            "Jahangirpuri, Delhi - DPCC",
            "Jawaharlal Nehru Stadium, Delhi - DPCC",
            "Lodhi Road, Delhi - IMD",
            "Major Dhyan Chand National Stadium, Delhi - DPCC",
            "Mandir Marg, Delhi - DPCC",
            "Mundka, Delhi - DPCC",
            "NSIT Dwarka, Delhi - CPCB",
            "Najafgarh, Delhi - DPCC",
            "Narela, Delhi - DPCC",
            "Nehru Nagar, Delhi - DPCC",
            "North Campus, DU, Delhi - IMD",
            "Okhla Phase-2, Delhi - DPCC",
            "Patparganj, Delhi - DPCC",
            "Punjabi Bagh, Delhi - DPCC",
            "Pusa, Delhi - DPCC",
            "Pusa, Delhi - IMD",
            "R K Puram, Delhi - DPCC",
            "Rohini, Delhi - DPCC",
            "Shadipur, Delhi - CPCB",
            "Sirifort, Delhi - CPCB",
            "Sonia Vihar, Delhi - DPCC",
            "Sri Aurobindo Marg, Delhi - DPCC",
            "Vivek Vihar, Delhi - DPCC",
            "Wazirpur, Delhi - DPCC",
            "Maninagar, Ahmedabad - GPCB",
            "GIDC, Ankleshwar - GPCB",
            "Sector-10, Gandhinagar - GPCB",
            "GIDC, Nandesari - Nandesari Ind. Association",
            "Phase-1 GIDC, Vapi - GPCB",
            "Phase-4 GIDC, Vatva - GPCB",
            "Patti Mehar, Ambala - HSPCB",
            "Arya Nagar, Bahadurgarh - HSPCB",
            "Nathu Colony, Ballabgarh - HSPCB",
            "H.B. Colony, Bhiwani - HSPCB",
            "Municipal Corporation Office, Dharuhera - HSPCB",
            "New Industrial Town, Faridabad - HSPCB",
            "Sector 11, Faridabad - HSPCB",
            "Sector 30, Faridabad - HSPCB",
            "Sector- 16A, Faridabad - HSPCB",
            "Huda Sector, Fatehabad - HSPCB",
            "NISE Gwal Pahari, Gurugram - IMD",
            "Sector-51, Gurugram - HSPCB",
            "Teri Gram, Gurugram - HSPCB",
            "Vikas Sadan, Gurugram - HSPCB",
            "Urban Estate-II, Hisar - HSPCB",
            "Police Lines, Jind - HSPCB",
            "Rishi Nagar, Kaithal - HSPCB",
            "Sector-12, Karnal - HSPCB",
            "Sector-7, Kurukshetra - HSPCB",
            "General Hospital, Mandikhera - HSPCB",
            "Sector-2 IMT, Manesar - HSPCB",
            "Shastri Nagar, Narnaul - HSPCB",
            "Shyam Nagar, Palwal - HSPCB",
            "Sector-6, Panchkula - HSPCB",
            "Sector-18, Panipat - HSPCB",
            "MD University, Rohtak - HSPCB",
            "F-Block, Sirsa - HSPCB",
            "Murthal, Sonipat - HSPCB",
            "Gobind Pura, Yamuna Nagar - HSPCB",
            "Tata Stadium, Jorapokhar - JSPCB",
            "Vidayagiri, Bagalkot - KSPCB",
            "BTM Layout, Bengaluru - CPCB",
            "BWSSB Kadabesanahalli, Bengaluru - CPCB",
            "Bapuji Nagar, Bengaluru - KSPCB",
            "City Railway Station, Bengaluru - KSPCB",
            "Hebbal, Bengaluru - KSPCB",
            "Hombegowda Nagar, Bengaluru - KSPCB",
            "Jayanagar 5th Block, Bengaluru - KSPCB",
            "Peenya, Bengaluru - CPCB",
            "Sanegurava Halli, Bengaluru - KSPCB",
            "Silk Board, Bengaluru - KSPCB",
            "Urban, Chamarajanagar - KSPCB",
            "Chikkaballapur Rural, Chikkaballapur - KSPCB",
            "Kalyana Nagara, Chikkamagaluru - KSPCB",
            "Deshpande Nagar, Hubballi - KSPCB",
            "Lal Bahadur Shastri Nagar, Kalaburagi - KSPCB",
            "Hebbal 1st Stage, Mysuru - KSPCB",
            "Vijay Nagar, Ramanagara - KSPCB",
            "Ibrahimpur, Vijayapura - KSPCB",
            "Collector Office, Yadgir - KSPCB",
            "Udyogamandal, Eloor - Kerala PCB",
            "Kacheripady, Ernakulam - Kerala PCB",
            "Thavakkara, Kannur - Kerala PCB",
            "Vyttila, Kochi - Kerala PCB",
            "Polayathode, Kollam - Kerala PCB",
            "Palayam, Kozhikode - Kerala PCB",
            "Kariavattom, Thiruvananthapuram - Kerala PCB",
            "Plammoodu, Thiruvananthapuram - Kerala PCB",
            "T T Nagar, Bhopal - MPPCB",
            "Shrivastav Colony, Damoh - MPPCB",
            "Bhopal Chauraha, Dewas - MPPCB",
            "City Center, Gwalior - MPPCB",
            "Phool Bagh, Gwalior - Mondelez Ind. Food",
            "Chhoti Gwaltoli, Indore - MPPCB",
            "Marhatal, Jabalpur - MPPCB",
            "Gole Bazar, Katni - MPPCB",
            "Sahilara, Maihar - KJS Cements",
            "Sector-D Industrial Area, Mandideep - MPPCB",
            "Sector-2 Industrial Area, Pithampur - MPPCB",
            "Shasthri Nagar, Ratlam - IPCA Lab",
            "Deen Dayal Nagar, Sagar - MPPCB",
            "Bandhavgar Colony, Satna - Birla Cement",
            "Vindhyachal STPS, Singrauli - MPPCB",
            "Mahakaleshwar Temple, Ujjain - MPPCB",
            "More Chowk Waluj, Aurangabad - MPCB",
            "Chandrapur, Chandrapur - MPCB",
            "MIDC Khutala, Chandrapur - MPCB",
            "Khadakpada, Kalyan - MPCB",
            "Bandra, Mumbai - MPCB",
            "Borivali East, Mumbai - MPCB",
            "Chhatrapati Shivaji Intl. Airport (T2), Mumbai - MPCB",
            "Colaba, Mumbai - MPCB",
            "Kurla, Mumbai - MPCB",
            "Powai, Mumbai - MPCB",
            "Sion, Mumbai - MPCB",
            "Vasai West, Mumbai - MPCB",
            "Vile Parle West, Mumbai - MPCB",
            "Worli, Mumbai - MPCB",
            "Opp GPO Civil Lines, Nagpur - MPCB",
            "Gangapur Road, Nashik - MPCB",
            "Airoli, Navi Mumbai - MPCB",
            "Mahape, Navi Mumbai - MPCB",
            "Nerul, Navi Mumbai - MPCB",
            "Karve Road, Pune - MPCB",
            "Solapur, Solapur - MPCB",
            "Pimpleshwar Mandir, Thane - MPCB",
            "Lumpyngngad, Shillong - Meghalaya PCB",
            "Sikulpuikawn, Aizawl - Mizoram PCB",
            "GM Office, Brajrajnagar - OSPCB",
            "Talcher Coalfields,Talcher - OSPCB",
            "Golden Temple, Amritsar - PPCB",
            "Hardev Nagar, Bathinda - PPCB",
            "Civil Line, Jalandhar - PPCB",
            "Kalal Majra, Khanna - PPCB",
            "Punjab Agricultural University, Ludhiana - PPCB",
            "RIMT University, Mandi Gobindgarh - PPCB",
            "Model Town, Patiala - PPCB",
            "Ratanpura, Rupnagar - Ambuja Cements",
            "Moti Doongri, Alwar - RSPCB",
            "Civil Lines, Ajmer - RSPCB",
            "RIICO Ind. Area III, Bhiwadi - RSPCB",
            "Adarsh Nagar, Jaipur - RSPCB",
            "Police Commissionerate, Jaipur - RSPCB",
            "Shastri Nagar, Jaipur - RSPCB",
            "Collectorate, Jodhpur - RSPCB",
            "Shrinath Puram, Kota - RSPCB",
            "Indira Colony Vistar, Pali - RSPCB",
            "Ashok Nagar, Udaipur - RSPCB",
            "Alandur Bus Depot, Chennai - CPCB",
            "Manali Village, Chennai - TNPCB",
            "Manali, Chennai - CPCB",
            "Velachery Res. Area, Chennai - CPCB",
            "SIDCO Kurichi, Coimbatore - TNPCB",
            "Bollaram Industrial Area, Hyderabad - TSPCB",
            "Central University, Hyderabad - TSPCB",
            "ICRISAT Patancheru, Hyderabad - TSPCB",
            "IDA Pashamylaram, Hyderabad - TSPCB",
            "Sanathnagar, Hyderabad - TSPCB",
            "Zoo Park, Hyderabad - TSPCB",
            "Sanjay Palace, Agra - UPPCB",
            "New Collectorate, Baghpat - UPPCB",
            "Yamunapuram, Bulandshahr - UPPCB",
            "Indirapuram, Ghaziabad - UPPCB",
            "Loni, Ghaziabad - UPPCB",
            "Sanjay Nagar, Ghaziabad - UPPCB",
            "Vasundhara, Ghaziabad - UPPCB",
            "Knowledge Park - III, Greater Noida - UPPCB",
            "Knowledge Park - V, Greater Noida - UPPCB",
            "Anand Vihar, Hapur - UPPCB",
            "Nehru Nagar, Kanpur - UPPCB",
            "Central School, Lucknow - CPCB",
            "Gomti Nagar, Lucknow - UPPCB",
            "Lalbagh, Lucknow - CPCB",
            "Nishant Ganj, Lucknow - UPPCB",
            "Talkatora District Industries Center, Lucknow - CPCB",
            "Ganga Nagar, Meerut - UPPCB",
            "Jai Bhim Nagar, Meerut - UPPCB",
            "Pallavpuram Phase 2, Meerut - UPPCB",
            "Lajpat Nagar, Moradabad - UPPCB",
            "New Mandi, Muzaffarnagar - UPPCB",
            "Sector - 125, Noida - UPPCB",
            "Sector - 62, Noida - IMD",
            "Sector-1, Noida - UPPCB",
            "Sector-116, Noida - UPPCB",
            "Ardhali Bazar, Varanasi - UPPCB",
            "Asansol Court Area, Asansol - WBPCB",
            "Sidhu Kanhu Indoor Stadium, Durgapur - WBPCB",
            "Haldia, Haldia - WBPCB",
            "Belur Math, Howrah - WBPCB",
            "Ghusuri, Howrah - WBPCB",
            "Padmapukur, Howrah - WBPCB",
            "Ballygunge, Kolkata - WBPCB",
            "Bidhannagar, Kolkata - WBPCB",
            "Fort William, Kolkata - WBPCB",
            "Jadavpur, Kolkata - WBPCB",
            "Rabindra Bharati University, Kolkata - WBPCB",
            "Rabindra Sarobar, Kolkata - WBPCB",
            "Victoria, Kolkata - WBPCB",
            "Ward-32 Bapupara, Siliguri - WBPCB"
           ]
          },
          {
           "axis": {
            "matches": true
           },
           "label": "City",
           "values": [
            "Amaravati",
            "Rajamahendravaram",
            "Tirupati",
            "Vijayawada",
            "Visakhapatnam",
            "Guwahati",
            "Gaya",
            "Gaya",
            "Hajipur",
            "Muzaffarpur",
            "Patna",
            "Patna",
            "Patna",
            "Patna",
            "Patna",
            "Patna",
            "Chandigarh",
            "Delhi",
            "Delhi",
            "Delhi",
            "Delhi",
            "Delhi",
            "Delhi",
            "Delhi",
            "Delhi",
            "Delhi",
            "Delhi",
            "Delhi",
            "Delhi",
            "Delhi",
            "Delhi",
            "Delhi",
            "Delhi",
            "Delhi",
            "Delhi",
            "Delhi",
            "Delhi",
            "Delhi",
            "Delhi",
            "Delhi",
            "Delhi",
            "Delhi",
            "Delhi",
            "Delhi",
            "Delhi",
            "Delhi",
            "Delhi",
            "Delhi",
            "Delhi",
            "Delhi",
            "Delhi",
            "Delhi",
            "Delhi",
            "Delhi",
            "Delhi",
            "Ahmedabad",
            "Ankleshwar",
            "Gandhinagar",
            "Nandesari",
            "Vapi",
            "Vatva",
            "Ambala",
            "Bahadurgarh",
            "Ballabgarh",
            "Bhiwani",
            "Dharuhera",
            "Faridabad",
            "Faridabad",
            "Faridabad",
            "Faridabad",
            "Fatehabad",
            "Gurugram",
            "Gurugram",
            "Gurugram",
            "Gurugram",
            "Hisar",
            "Jind",
            "Kaithal",
            "Karnal",
            "Kurukshetra",
            "Mandikhera",
            "Manesar",
            "Narnaul",
            "Palwal",
            "Panchkula",
            "Panipat",
            "Rohtak",
            "Sirsa",
            "Sonipat",
            "Yamuna Nagar",
            "Jorapokhar",
            "Bagalkot",
            "Bengaluru",
            "Bengaluru",
            "Bengaluru",
            "Bengaluru",
            "Bengaluru",
            "Bengaluru",
            "Bengaluru",
            "Bengaluru",
            "Bengaluru",
            "Bengaluru",
            "Chamarajanagar",
            "Chikkaballapur",
            "Chikkamagaluru",
            "Hubballi",
            "Kalaburagi",
            "Mysuru",
            "Ramanagara",
            "Vijayapura",
            "Yadgir",
            "Eloor",
            "Ernakulam",
            "Kannur",
            "Kochi",
            "Kollam",
            "Kozhikode",
            "Thiruvananthapuram",
            "Thiruvananthapuram",
            "Bhopal",
            "Damoh",
            "Dewas",
            "Gwalior",
            "Gwalior",
            "Indore",
            "Jabalpur",
            "Katni",
            "Maihar",
            "Mandideep",
            "Pithampur",
            "Ratlam",
            "Sagar",
            "Satna",
            "Singrauli",
            "Ujjain",
            "Aurangabad",
            "Chandrapur",
            "Chandrapur",
            "Kalyan",
            "Mumbai",
            "Mumbai",
            "Mumbai",
            "Mumbai",
            "Mumbai",
            "Mumbai",
            "Mumbai",
            "Mumbai",
            "Mumbai",
            "Mumbai",
            "Nagpur",
            "Nashik",
            "Navi Mumbai",
            "Navi Mumbai",
            "Navi Mumbai",
            "Pune",
            "Solapur",
            "Thane",
            "Shillong",
            "Aizawl",
            "Brajrajnagar",
            "Talcher",
            "Amritsar",
            "Bathinda",
            "Jalandhar",
            "Khanna",
            "Ludhiana",
            "Gobindgarh",
            "Patiala",
            "Rupnagar",
            "Alwar",
            "Ajmer",
            "Bhiwandi",
            "Jaipur",
            "Jaipur",
            "Jaipur",
            "Jodhpur",
            "Kota",
            "Pali",
            "Udaipur",
            "Chennai",
            "Chennai",
            "Chennai",
            "Chennai",
            "Coimbatore",
            "Hyderabad",
            "Hyderabad",
            "Hyderabad",
            "Hyderabad",
            "Hyderabad",
            "Hyderabad",
            "Agra",
            "Baghpat",
            "Bulandshahr",
            "Ghaziabad",
            "Ghaziabad",
            "Ghaziabad",
            "Ghaziabad",
            "Greater Noida",
            "Greater Noida",
            "Hapur",
            "Kanpur",
            "Lucknow",
            "Lucknow",
            "Lucknow",
            "Lucknow",
            "Lucknow",
            "Meerut",
            "Meerut",
            "Meerut",
            "Moradabad",
            "Muzzaffarnagar",
            "Noida",
            "Noida",
            "Noida",
            "Noida",
            "Varanasi",
            "Asansol",
            "Durgapur",
            "Haldia",
            "Howrah",
            "Howrah",
            "Howrah",
            "Kolkata",
            "Kolkata",
            "Kolkata",
            "Kolkata",
            "Kolkata",
            "Kolkata",
            "Kolkata",
            "Siliguri"
           ]
          },
          {
           "axis": {
            "matches": true
           },
           "label": "State",
           "values": [
            "Andhra Pradesh",
            "Andhra Pradesh",
            "Andhra Pradesh",
            "Andhra Pradesh",
            "Andhra Pradesh",
            "Assam",
            "Bihar",
            "Bihar",
            "Bihar",
            "Bihar",
            "Bihar",
            "Bihar",
            "Bihar",
            "Bihar",
            "Bihar",
            "Bihar",
            "Chandigarh",
            "Delhi",
            "Delhi",
            "Delhi",
            "Delhi",
            "Delhi",
            "Delhi",
            "Delhi",
            "Delhi",
            "Delhi",
            "Delhi",
            "Delhi",
            "Delhi",
            "Delhi",
            "Delhi",
            "Delhi",
            "Delhi",
            "Delhi",
            "Delhi",
            "Delhi",
            "Delhi",
            "Delhi",
            "Delhi",
            "Delhi",
            "Delhi",
            "Delhi",
            "Delhi",
            "Delhi",
            "Delhi",
            "Delhi",
            "Delhi",
            "Delhi",
            "Delhi",
            "Delhi",
            "Delhi",
            "Delhi",
            "Delhi",
            "Delhi",
            "Delhi",
            "Gujarat",
            "Gujarat",
            "Gujarat",
            "Gujarat",
            "Gujarat",
            "Gujarat",
            "Haryana",
            "Haryana",
            "Haryana",
            "Haryana",
            "Haryana",
            "Haryana",
            "Haryana",
            "Haryana",
            "Haryana",
            "Haryana",
            "Haryana",
            "Haryana",
            "Haryana",
            "Haryana",
            "Haryana",
            "Haryana",
            "Haryana",
            "Haryana",
            "Haryana",
            "Haryana",
            "Haryana",
            "Haryana",
            "Haryana",
            "Haryana",
            "Haryana",
            "Haryana",
            "Haryana",
            "Haryana",
            "Haryana",
            "Jharkhand",
            "Karnataka",
            "Karnataka",
            "Karnataka",
            "Karnataka",
            "Karnataka",
            "Karnataka",
            "Karnataka",
            "Karnataka",
            "Karnataka",
            "Karnataka",
            "Karnataka",
            "Karnataka",
            "Karnataka",
            "Karnataka",
            "Karnataka",
            "Karnataka",
            "Karnataka",
            "Karnataka",
            "Karnataka",
            "Karnataka",
            "Kerala",
            "Kerala",
            "Kerala",
            "Kerala",
            "Kerala",
            "Kerala",
            "Kerala",
            "Kerala",
            "Madhya Pradesh",
            "Madhya Pradesh",
            "Madhya Pradesh",
            "Madhya Pradesh",
            "Madhya Pradesh",
            "Madhya Pradesh",
            "Madhya Pradesh",
            "Madhya Pradesh",
            "Madhya Pradesh",
            "Madhya Pradesh",
            "Madhya Pradesh",
            "Madhya Pradesh",
            "Madhya Pradesh",
            "Madhya Pradesh",
            "Madhya Pradesh",
            "Madhya Pradesh",
            "Maharashtra",
            "Maharashtra",
            "Maharashtra",
            "Maharashtra",
            "Maharashtra",
            "Maharashtra",
            "Maharashtra",
            "Maharashtra",
            "Maharashtra",
            "Maharashtra",
            "Maharashtra",
            "Maharashtra",
            "Maharashtra",
            "Maharashtra",
            "Maharashtra",
            "Maharashtra",
            "Maharashtra",
            "Maharashtra",
            "Maharashtra",
            "Maharashtra",
            "Maharashtra",
            "Maharashtra",
            "Meghalaya",
            "Mizoram",
            "Odisha",
            "Odisha",
            "Punjab",
            "Punjab",
            "Punjab",
            "Punjab",
            "Punjab",
            "Punjab",
            "Punjab",
            "Punjab",
            "Rajasthan",
            "Rajasthan",
            "Rajasthan",
            "Rajasthan",
            "Rajasthan",
            "Rajasthan",
            "Rajasthan",
            "Rajasthan",
            "Rajasthan",
            "Rajasthan",
            "Tamil Nadu",
            "Tamil Nadu",
            "Tamil Nadu",
            "Tamil Nadu",
            "Tamil Nadu",
            "Telangana",
            "Telangana",
            "Telangana",
            "Telangana",
            "Telangana",
            "Telangana",
            "Uttar Pradesh",
            "Uttar Pradesh",
            "Uttar Pradesh",
            "Uttar Pradesh",
            "Uttar Pradesh",
            "Uttar Pradesh",
            "Uttar Pradesh",
            "Uttar Pradesh",
            "Uttar Pradesh",
            "Uttar Pradesh",
            "Uttar Pradesh",
            "Uttar Pradesh",
            "Uttar Pradesh",
            "Uttar Pradesh",
            "Uttar Pradesh",
            "Uttar Pradesh",
            "Uttar Pradesh",
            "Uttar Pradesh",
            "Uttar Pradesh",
            "Uttar Pradesh",
            "Uttar Pradesh",
            "Uttar Pradesh",
            "Uttar Pradesh",
            "Uttar Pradesh",
            "Uttar Pradesh",
            "Uttar Pradesh",
            "West Bengal",
            "West Bengal",
            "West Bengal",
            "West Bengal",
            "West Bengal",
            "West Bengal",
            "West Bengal",
            "West Bengal",
            "West Bengal",
            "West Bengal",
            "West Bengal",
            "West Bengal",
            "West Bengal",
            "West Bengal"
           ]
          },
          {
           "axis": {
            "matches": true
           },
           "label": "Status",
           "values": [
            "Active",
            null,
            null,
            null,
            "Active",
            "Active",
            null,
            null,
            null,
            null,
            "Active",
            "Active",
            "Active",
            "Active",
            "Active",
            "Active",
            "Active",
            "Active",
            "Active",
            "Active",
            "Active",
            "Active",
            "Inactive",
            "Active",
            "Active",
            "Active",
            "Active",
            "Active",
            "Active",
            "Active",
            "Active",
            "Active",
            "Active",
            "Active",
            "Active",
            "Active",
            "Active",
            "Active",
            "Active",
            "Active",
            "Active",
            "Active",
            "Active",
            "Active",
            "Active",
            "Active",
            "Active",
            "Active",
            "Active",
            "Active",
            "Active",
            "Active",
            "Active",
            "Active",
            "Active",
            "Active",
            null,
            null,
            null,
            null,
            null,
            "Active",
            "Active",
            "Active",
            "Active",
            "Active",
            "Active",
            "Active",
            "Active",
            "Active",
            "Active",
            "Active",
            "Active",
            "Active",
            "Active",
            "Active",
            "Active",
            "Active",
            "Active",
            "Active",
            "Active",
            "Active",
            "Active",
            "Active",
            "Active",
            "Active",
            "Active",
            "Active",
            "Active",
            "Active",
            "Active",
            null,
            "Active",
            "Active",
            "Active",
            "Active",
            "Active",
            "Active",
            "Active",
            "Active",
            "Active",
            "Active",
            null,
            null,
            null,
            null,
            null,
            null,
            null,
            null,
            null,
            null,
            null,
            null,
            null,
            null,
            null,
            "Active",
            "Active",
            "Active",
            null,
            null,
            null,
            null,
            null,
            null,
            null,
            null,
            null,
            null,
            null,
            null,
            null,
            null,
            null,
            null,
            null,
            null,
            null,
            "Active",
            "Active",
            "Active",
            "Active",
            "Active",
            "Active",
            "Active",
            "Active",
            "Active",
            "Active",
            null,
            null,
            null,
            null,
            null,
            null,
            null,
            null,
            "Active",
            "Active",
            "Active",
            "Active",
            "Active",
            null,
            null,
            null,
            null,
            null,
            null,
            null,
            null,
            null,
            null,
            "Active",
            "Active",
            "Active",
            null,
            null,
            null,
            null,
            "Active",
            "Active",
            "Active",
            "Active",
            "Active",
            "Active",
            "Active",
            "Active",
            "Active",
            "Active",
            "Active",
            null,
            null,
            null,
            null,
            null,
            null,
            null,
            null,
            null,
            null,
            null,
            "Active",
            "Active",
            "Active",
            "Inactive",
            "Active",
            null,
            null,
            null,
            null,
            null,
            null,
            null,
            null,
            null,
            null,
            null,
            null,
            null,
            null,
            null,
            null,
            "Active",
            "Active",
            "Active",
            "Active",
            "Active",
            "Active",
            "Active",
            null
           ]
          }
         ],
         "hovertemplate": "%{xaxis.title.text}=%{x}<br>%{yaxis.title.text}=%{y}<extra></extra>",
         "legendgroup": "",
         "marker": {
          "color": "#636efa",
          "symbol": "circle"
         },
         "name": "",
         "showlegend": false,
         "type": "splom"
        }
       ],
       "layout": {
        "dragmode": "select",
        "legend": {
         "tracegroupgap": 0
        },
        "margin": {
         "t": 60
        },
        "template": {
         "data": {
          "bar": [
           {
            "error_x": {
             "color": "#2a3f5f"
            },
            "error_y": {
             "color": "#2a3f5f"
            },
            "marker": {
             "line": {
              "color": "#E5ECF6",
              "width": 0.5
             }
            },
            "type": "bar"
           }
          ],
          "barpolar": [
           {
            "marker": {
             "line": {
              "color": "#E5ECF6",
              "width": 0.5
             }
            },
            "type": "barpolar"
           }
          ],
          "carpet": [
           {
            "aaxis": {
             "endlinecolor": "#2a3f5f",
             "gridcolor": "white",
             "linecolor": "white",
             "minorgridcolor": "white",
             "startlinecolor": "#2a3f5f"
            },
            "baxis": {
             "endlinecolor": "#2a3f5f",
             "gridcolor": "white",
             "linecolor": "white",
             "minorgridcolor": "white",
             "startlinecolor": "#2a3f5f"
            },
            "type": "carpet"
           }
          ],
          "choropleth": [
           {
            "colorbar": {
             "outlinewidth": 0,
             "ticks": ""
            },
            "type": "choropleth"
           }
          ],
          "contour": [
           {
            "colorbar": {
             "outlinewidth": 0,
             "ticks": ""
            },
            "colorscale": [
             [
              0,
              "#0d0887"
             ],
             [
              0.1111111111111111,
              "#46039f"
             ],
             [
              0.2222222222222222,
              "#7201a8"
             ],
             [
              0.3333333333333333,
              "#9c179e"
             ],
             [
              0.4444444444444444,
              "#bd3786"
             ],
             [
              0.5555555555555556,
              "#d8576b"
             ],
             [
              0.6666666666666666,
              "#ed7953"
             ],
             [
              0.7777777777777778,
              "#fb9f3a"
             ],
             [
              0.8888888888888888,
              "#fdca26"
             ],
             [
              1,
              "#f0f921"
             ]
            ],
            "type": "contour"
           }
          ],
          "contourcarpet": [
           {
            "colorbar": {
             "outlinewidth": 0,
             "ticks": ""
            },
            "type": "contourcarpet"
           }
          ],
          "heatmap": [
           {
            "colorbar": {
             "outlinewidth": 0,
             "ticks": ""
            },
            "colorscale": [
             [
              0,
              "#0d0887"
             ],
             [
              0.1111111111111111,
              "#46039f"
             ],
             [
              0.2222222222222222,
              "#7201a8"
             ],
             [
              0.3333333333333333,
              "#9c179e"
             ],
             [
              0.4444444444444444,
              "#bd3786"
             ],
             [
              0.5555555555555556,
              "#d8576b"
             ],
             [
              0.6666666666666666,
              "#ed7953"
             ],
             [
              0.7777777777777778,
              "#fb9f3a"
             ],
             [
              0.8888888888888888,
              "#fdca26"
             ],
             [
              1,
              "#f0f921"
             ]
            ],
            "type": "heatmap"
           }
          ],
          "heatmapgl": [
           {
            "colorbar": {
             "outlinewidth": 0,
             "ticks": ""
            },
            "colorscale": [
             [
              0,
              "#0d0887"
             ],
             [
              0.1111111111111111,
              "#46039f"
             ],
             [
              0.2222222222222222,
              "#7201a8"
             ],
             [
              0.3333333333333333,
              "#9c179e"
             ],
             [
              0.4444444444444444,
              "#bd3786"
             ],
             [
              0.5555555555555556,
              "#d8576b"
             ],
             [
              0.6666666666666666,
              "#ed7953"
             ],
             [
              0.7777777777777778,
              "#fb9f3a"
             ],
             [
              0.8888888888888888,
              "#fdca26"
             ],
             [
              1,
              "#f0f921"
             ]
            ],
            "type": "heatmapgl"
           }
          ],
          "histogram": [
           {
            "marker": {
             "colorbar": {
              "outlinewidth": 0,
              "ticks": ""
             }
            },
            "type": "histogram"
           }
          ],
          "histogram2d": [
           {
            "colorbar": {
             "outlinewidth": 0,
             "ticks": ""
            },
            "colorscale": [
             [
              0,
              "#0d0887"
             ],
             [
              0.1111111111111111,
              "#46039f"
             ],
             [
              0.2222222222222222,
              "#7201a8"
             ],
             [
              0.3333333333333333,
              "#9c179e"
             ],
             [
              0.4444444444444444,
              "#bd3786"
             ],
             [
              0.5555555555555556,
              "#d8576b"
             ],
             [
              0.6666666666666666,
              "#ed7953"
             ],
             [
              0.7777777777777778,
              "#fb9f3a"
             ],
             [
              0.8888888888888888,
              "#fdca26"
             ],
             [
              1,
              "#f0f921"
             ]
            ],
            "type": "histogram2d"
           }
          ],
          "histogram2dcontour": [
           {
            "colorbar": {
             "outlinewidth": 0,
             "ticks": ""
            },
            "colorscale": [
             [
              0,
              "#0d0887"
             ],
             [
              0.1111111111111111,
              "#46039f"
             ],
             [
              0.2222222222222222,
              "#7201a8"
             ],
             [
              0.3333333333333333,
              "#9c179e"
             ],
             [
              0.4444444444444444,
              "#bd3786"
             ],
             [
              0.5555555555555556,
              "#d8576b"
             ],
             [
              0.6666666666666666,
              "#ed7953"
             ],
             [
              0.7777777777777778,
              "#fb9f3a"
             ],
             [
              0.8888888888888888,
              "#fdca26"
             ],
             [
              1,
              "#f0f921"
             ]
            ],
            "type": "histogram2dcontour"
           }
          ],
          "mesh3d": [
           {
            "colorbar": {
             "outlinewidth": 0,
             "ticks": ""
            },
            "type": "mesh3d"
           }
          ],
          "parcoords": [
           {
            "line": {
             "colorbar": {
              "outlinewidth": 0,
              "ticks": ""
             }
            },
            "type": "parcoords"
           }
          ],
          "pie": [
           {
            "automargin": true,
            "type": "pie"
           }
          ],
          "scatter": [
           {
            "marker": {
             "colorbar": {
              "outlinewidth": 0,
              "ticks": ""
             }
            },
            "type": "scatter"
           }
          ],
          "scatter3d": [
           {
            "line": {
             "colorbar": {
              "outlinewidth": 0,
              "ticks": ""
             }
            },
            "marker": {
             "colorbar": {
              "outlinewidth": 0,
              "ticks": ""
             }
            },
            "type": "scatter3d"
           }
          ],
          "scattercarpet": [
           {
            "marker": {
             "colorbar": {
              "outlinewidth": 0,
              "ticks": ""
             }
            },
            "type": "scattercarpet"
           }
          ],
          "scattergeo": [
           {
            "marker": {
             "colorbar": {
              "outlinewidth": 0,
              "ticks": ""
             }
            },
            "type": "scattergeo"
           }
          ],
          "scattergl": [
           {
            "marker": {
             "colorbar": {
              "outlinewidth": 0,
              "ticks": ""
             }
            },
            "type": "scattergl"
           }
          ],
          "scattermapbox": [
           {
            "marker": {
             "colorbar": {
              "outlinewidth": 0,
              "ticks": ""
             }
            },
            "type": "scattermapbox"
           }
          ],
          "scatterpolar": [
           {
            "marker": {
             "colorbar": {
              "outlinewidth": 0,
              "ticks": ""
             }
            },
            "type": "scatterpolar"
           }
          ],
          "scatterpolargl": [
           {
            "marker": {
             "colorbar": {
              "outlinewidth": 0,
              "ticks": ""
             }
            },
            "type": "scatterpolargl"
           }
          ],
          "scatterternary": [
           {
            "marker": {
             "colorbar": {
              "outlinewidth": 0,
              "ticks": ""
             }
            },
            "type": "scatterternary"
           }
          ],
          "surface": [
           {
            "colorbar": {
             "outlinewidth": 0,
             "ticks": ""
            },
            "colorscale": [
             [
              0,
              "#0d0887"
             ],
             [
              0.1111111111111111,
              "#46039f"
             ],
             [
              0.2222222222222222,
              "#7201a8"
             ],
             [
              0.3333333333333333,
              "#9c179e"
             ],
             [
              0.4444444444444444,
              "#bd3786"
             ],
             [
              0.5555555555555556,
              "#d8576b"
             ],
             [
              0.6666666666666666,
              "#ed7953"
             ],
             [
              0.7777777777777778,
              "#fb9f3a"
             ],
             [
              0.8888888888888888,
              "#fdca26"
             ],
             [
              1,
              "#f0f921"
             ]
            ],
            "type": "surface"
           }
          ],
          "table": [
           {
            "cells": {
             "fill": {
              "color": "#EBF0F8"
             },
             "line": {
              "color": "white"
             }
            },
            "header": {
             "fill": {
              "color": "#C8D4E3"
             },
             "line": {
              "color": "white"
             }
            },
            "type": "table"
           }
          ]
         },
         "layout": {
          "annotationdefaults": {
           "arrowcolor": "#2a3f5f",
           "arrowhead": 0,
           "arrowwidth": 1
          },
          "autotypenumbers": "strict",
          "coloraxis": {
           "colorbar": {
            "outlinewidth": 0,
            "ticks": ""
           }
          },
          "colorscale": {
           "diverging": [
            [
             0,
             "#8e0152"
            ],
            [
             0.1,
             "#c51b7d"
            ],
            [
             0.2,
             "#de77ae"
            ],
            [
             0.3,
             "#f1b6da"
            ],
            [
             0.4,
             "#fde0ef"
            ],
            [
             0.5,
             "#f7f7f7"
            ],
            [
             0.6,
             "#e6f5d0"
            ],
            [
             0.7,
             "#b8e186"
            ],
            [
             0.8,
             "#7fbc41"
            ],
            [
             0.9,
             "#4d9221"
            ],
            [
             1,
             "#276419"
            ]
           ],
           "sequential": [
            [
             0,
             "#0d0887"
            ],
            [
             0.1111111111111111,
             "#46039f"
            ],
            [
             0.2222222222222222,
             "#7201a8"
            ],
            [
             0.3333333333333333,
             "#9c179e"
            ],
            [
             0.4444444444444444,
             "#bd3786"
            ],
            [
             0.5555555555555556,
             "#d8576b"
            ],
            [
             0.6666666666666666,
             "#ed7953"
            ],
            [
             0.7777777777777778,
             "#fb9f3a"
            ],
            [
             0.8888888888888888,
             "#fdca26"
            ],
            [
             1,
             "#f0f921"
            ]
           ],
           "sequentialminus": [
            [
             0,
             "#0d0887"
            ],
            [
             0.1111111111111111,
             "#46039f"
            ],
            [
             0.2222222222222222,
             "#7201a8"
            ],
            [
             0.3333333333333333,
             "#9c179e"
            ],
            [
             0.4444444444444444,
             "#bd3786"
            ],
            [
             0.5555555555555556,
             "#d8576b"
            ],
            [
             0.6666666666666666,
             "#ed7953"
            ],
            [
             0.7777777777777778,
             "#fb9f3a"
            ],
            [
             0.8888888888888888,
             "#fdca26"
            ],
            [
             1,
             "#f0f921"
            ]
           ]
          },
          "colorway": [
           "#636efa",
           "#EF553B",
           "#00cc96",
           "#ab63fa",
           "#FFA15A",
           "#19d3f3",
           "#FF6692",
           "#B6E880",
           "#FF97FF",
           "#FECB52"
          ],
          "font": {
           "color": "#2a3f5f"
          },
          "geo": {
           "bgcolor": "white",
           "lakecolor": "white",
           "landcolor": "#E5ECF6",
           "showlakes": true,
           "showland": true,
           "subunitcolor": "white"
          },
          "hoverlabel": {
           "align": "left"
          },
          "hovermode": "closest",
          "mapbox": {
           "style": "light"
          },
          "paper_bgcolor": "white",
          "plot_bgcolor": "#E5ECF6",
          "polar": {
           "angularaxis": {
            "gridcolor": "white",
            "linecolor": "white",
            "ticks": ""
           },
           "bgcolor": "#E5ECF6",
           "radialaxis": {
            "gridcolor": "white",
            "linecolor": "white",
            "ticks": ""
           }
          },
          "scene": {
           "xaxis": {
            "backgroundcolor": "#E5ECF6",
            "gridcolor": "white",
            "gridwidth": 2,
            "linecolor": "white",
            "showbackground": true,
            "ticks": "",
            "zerolinecolor": "white"
           },
           "yaxis": {
            "backgroundcolor": "#E5ECF6",
            "gridcolor": "white",
            "gridwidth": 2,
            "linecolor": "white",
            "showbackground": true,
            "ticks": "",
            "zerolinecolor": "white"
           },
           "zaxis": {
            "backgroundcolor": "#E5ECF6",
            "gridcolor": "white",
            "gridwidth": 2,
            "linecolor": "white",
            "showbackground": true,
            "ticks": "",
            "zerolinecolor": "white"
           }
          },
          "shapedefaults": {
           "line": {
            "color": "#2a3f5f"
           }
          },
          "ternary": {
           "aaxis": {
            "gridcolor": "white",
            "linecolor": "white",
            "ticks": ""
           },
           "baxis": {
            "gridcolor": "white",
            "linecolor": "white",
            "ticks": ""
           },
           "bgcolor": "#E5ECF6",
           "caxis": {
            "gridcolor": "white",
            "linecolor": "white",
            "ticks": ""
           }
          },
          "title": {
           "x": 0.05
          },
          "xaxis": {
           "automargin": true,
           "gridcolor": "white",
           "linecolor": "white",
           "ticks": "",
           "title": {
            "standoff": 15
           },
           "zerolinecolor": "white",
           "zerolinewidth": 2
          },
          "yaxis": {
           "automargin": true,
           "gridcolor": "white",
           "linecolor": "white",
           "ticks": "",
           "title": {
            "standoff": 15
           },
           "zerolinecolor": "white",
           "zerolinewidth": 2
          }
         }
        }
       }
      },
      "text/html": [
       "<div>                            <div id=\"f6db2785-2b13-429e-abc8-76bcc501ef42\" class=\"plotly-graph-div\" style=\"height:525px; width:100%;\"></div>            <script type=\"text/javascript\">                require([\"plotly\"], function(Plotly) {                    window.PLOTLYENV=window.PLOTLYENV || {};                                    if (document.getElementById(\"f6db2785-2b13-429e-abc8-76bcc501ef42\")) {                    Plotly.newPlot(                        \"f6db2785-2b13-429e-abc8-76bcc501ef42\",                        [{\"dimensions\": [{\"axis\": {\"matches\": true}, \"label\": \"StationId\", \"values\": [\"AP001\", \"AP002\", \"AP003\", \"AP004\", \"AP005\", \"AS001\", \"BR001\", \"BR002\", \"BR003\", \"BR004\", \"BR005\", \"BR006\", \"BR007\", \"BR008\", \"BR009\", \"BR010\", \"CH001\", \"DL001\", \"DL002\", \"DL003\", \"DL004\", \"DL005\", \"DL006\", \"DL007\", \"DL008\", \"DL009\", \"DL010\", \"DL011\", \"DL012\", \"DL013\", \"DL014\", \"DL015\", \"DL016\", \"DL017\", \"DL018\", \"DL019\", \"DL020\", \"DL021\", \"DL022\", \"DL023\", \"DL024\", \"DL025\", \"DL026\", \"DL027\", \"DL028\", \"DL029\", \"DL030\", \"DL031\", \"DL032\", \"DL033\", \"DL034\", \"DL035\", \"DL036\", \"DL037\", \"DL038\", \"GJ001\", \"GJ002\", \"GJ003\", \"GJ004\", \"GJ005\", \"GJ006\", \"HR001\", \"HR002\", \"HR003\", \"HR004\", \"HR005\", \"HR006\", \"HR007\", \"HR008\", \"HR009\", \"HR010\", \"HR011\", \"HR012\", \"HR013\", \"HR014\", \"HR015\", \"HR016\", \"HR017\", \"HR018\", \"HR019\", \"HR020\", \"HR021\", \"HR022\", \"HR023\", \"HR024\", \"HR025\", \"HR026\", \"HR027\", \"HR028\", \"HR029\", \"JH001\", \"KA001\", \"KA002\", \"KA003\", \"KA004\", \"KA005\", \"KA006\", \"KA007\", \"KA008\", \"KA009\", \"KA010\", \"KA011\", \"KA012\", \"KA013\", \"KA014\", \"KA015\", \"KA016\", \"KA017\", \"KA018\", \"KA019\", \"KA020\", \"KL001\", \"KL002\", \"KL003\", \"KL004\", \"KL005\", \"KL006\", \"KL007\", \"KL008\", \"MP001\", \"MP002\", \"MP003\", \"MP004\", \"MP005\", \"MP006\", \"MP007\", \"MP008\", \"MP009\", \"MP010\", \"MP011\", \"MP012\", \"MP013\", \"MP014\", \"MP015\", \"MP016\", \"MH001\", \"MH002\", \"MH003\", \"MH004\", \"MH005\", \"MH006\", \"MH007\", \"MH008\", \"MH009\", \"MH010\", \"MH011\", \"MH012\", \"MH013\", \"MH014\", \"MH015\", \"MH016\", \"MH017\", \"MH018\", \"MH019\", \"MH020\", \"MH021\", \"MH022\", \"ML001\", \"MZ001\", \"OD001\", \"OD002\", \"PB001\", \"PB002\", \"PB003\", \"PB004\", \"PB005\", \"PB006\", \"PB007\", \"PB008\", \"RJ001\", \"RJ002\", \"RJ003\", \"RJ004\", \"RJ005\", \"RJ006\", \"RJ007\", \"RJ008\", \"RJ009\", \"RJ010\", \"TN001\", \"TN002\", \"TN003\", \"TN004\", \"TN005\", \"TG001\", \"TG002\", \"TG003\", \"TG004\", \"TG005\", \"TG006\", \"UP001\", \"UP002\", \"UP003\", \"UP004\", \"UP005\", \"UP006\", \"UP007\", \"UP008\", \"UP009\", \"UP010\", \"UP011\", \"UP012\", \"UP013\", \"UP014\", \"UP015\", \"UP016\", \"UP017\", \"UP018\", \"UP019\", \"UP020\", \"UP021\", \"UP022\", \"UP023\", \"UP024\", \"UP025\", \"UP026\", \"WB001\", \"WB002\", \"WB003\", \"WB004\", \"WB005\", \"WB006\", \"WB007\", \"WB008\", \"WB009\", \"WB010\", \"WB011\", \"WB012\", \"WB013\", \"WB014\"]}, {\"axis\": {\"matches\": true}, \"label\": \"StationName\", \"values\": [\"Secretariat, Amaravati - APPCB\", \"Anand Kala Kshetram, Rajamahendravaram - APPCB\", \"Tirumala, Tirupati - APPCB\", \"PWD Grounds, Vijayawada - APPCB\", \"GVM Corporation, Visakhapatnam - APPCB\", \"Railway Colony, Guwahati - APCB\", \"Collectorate, Gaya - BSPCB\", \"SFTI Kusdihra, Gaya - BSPCB\", \"Industrial Area, Hajipur - BSPCB\", \"Muzaffarpur Collectorate, Muzaffarpur - BSPCB\", \"DRM Office Danapur, Patna - BSPCB\", \"Govt. High School Shikarpur, Patna - BSPCB\", \"IGSC Planetarium Complex, Patna - BSPCB\", \"Muradpur, Patna - BSPCB\", \"Rajbansi Nagar, Patna - BSPCB\", \"Samanpura, Patna - BSPCB\", \"Sector-25, Chandigarh - CPCC\", \"Alipur, Delhi - DPCC\", \"Anand Vihar, Delhi - DPCC\", \"Ashok Vihar, Delhi - DPCC\", \"Aya Nagar, Delhi - IMD\", \"Bawana, Delhi - DPCC\", \"Burari Crossing, Delhi - IMD\", \"CRRI Mathura Road, Delhi - IMD\", \"DTU, Delhi - CPCB\", \"Dr. Karni Singh Shooting Range, Delhi - DPCC\", \"Dwarka-Sector 8, Delhi - DPCC\", \"East Arjun Nagar, Delhi - CPCB\", \"IGI Airport (T3), Delhi - IMD\", \"IHBAS, Dilshad Garden, Delhi - CPCB\", \"ITO, Delhi - CPCB\", \"Jahangirpuri, Delhi - DPCC\", \"Jawaharlal Nehru Stadium, Delhi - DPCC\", \"Lodhi Road, Delhi - IMD\", \"Major Dhyan Chand National Stadium, Delhi - DPCC\", \"Mandir Marg, Delhi - DPCC\", \"Mundka, Delhi - DPCC\", \"NSIT Dwarka, Delhi - CPCB\", \"Najafgarh, Delhi - DPCC\", \"Narela, Delhi - DPCC\", \"Nehru Nagar, Delhi - DPCC\", \"North Campus, DU, Delhi - IMD\", \"Okhla Phase-2, Delhi - DPCC\", \"Patparganj, Delhi - DPCC\", \"Punjabi Bagh, Delhi - DPCC\", \"Pusa, Delhi - DPCC\", \"Pusa, Delhi - IMD\", \"R K Puram, Delhi - DPCC\", \"Rohini, Delhi - DPCC\", \"Shadipur, Delhi - CPCB\", \"Sirifort, Delhi - CPCB\", \"Sonia Vihar, Delhi - DPCC\", \"Sri Aurobindo Marg, Delhi - DPCC\", \"Vivek Vihar, Delhi - DPCC\", \"Wazirpur, Delhi - DPCC\", \"Maninagar, Ahmedabad - GPCB\", \"GIDC, Ankleshwar - GPCB\", \"Sector-10, Gandhinagar - GPCB\", \"GIDC, Nandesari - Nandesari Ind. Association\", \"Phase-1 GIDC, Vapi - GPCB\", \"Phase-4 GIDC, Vatva - GPCB\", \"Patti Mehar, Ambala - HSPCB\", \"Arya Nagar, Bahadurgarh - HSPCB\", \"Nathu Colony, Ballabgarh - HSPCB\", \"H.B. Colony, Bhiwani - HSPCB\", \"Municipal Corporation Office, Dharuhera - HSPCB\", \"New Industrial Town, Faridabad - HSPCB\", \"Sector 11, Faridabad - HSPCB\", \"Sector 30, Faridabad - HSPCB\", \"Sector- 16A, Faridabad - HSPCB\", \"Huda Sector, Fatehabad - HSPCB\", \"NISE Gwal Pahari, Gurugram - IMD\", \"Sector-51, Gurugram - HSPCB\", \"Teri Gram, Gurugram - HSPCB\", \"Vikas Sadan, Gurugram - HSPCB\", \"Urban Estate-II, Hisar - HSPCB\", \"Police Lines, Jind - HSPCB\", \"Rishi Nagar, Kaithal - HSPCB\", \"Sector-12, Karnal - HSPCB\", \"Sector-7, Kurukshetra - HSPCB\", \"General Hospital, Mandikhera - HSPCB\", \"Sector-2 IMT, Manesar - HSPCB\", \"Shastri Nagar, Narnaul - HSPCB\", \"Shyam Nagar, Palwal - HSPCB\", \"Sector-6, Panchkula - HSPCB\", \"Sector-18, Panipat - HSPCB\", \"MD University, Rohtak - HSPCB\", \"F-Block, Sirsa - HSPCB\", \"Murthal, Sonipat - HSPCB\", \"Gobind Pura, Yamuna Nagar - HSPCB\", \"Tata Stadium, Jorapokhar - JSPCB\", \"Vidayagiri, Bagalkot - KSPCB\", \"BTM Layout, Bengaluru - CPCB\", \"BWSSB Kadabesanahalli, Bengaluru - CPCB\", \"Bapuji Nagar, Bengaluru - KSPCB\", \"City Railway Station, Bengaluru - KSPCB\", \"Hebbal, Bengaluru - KSPCB\", \"Hombegowda Nagar, Bengaluru - KSPCB\", \"Jayanagar 5th Block, Bengaluru - KSPCB\", \"Peenya, Bengaluru - CPCB\", \"Sanegurava Halli, Bengaluru - KSPCB\", \"Silk Board, Bengaluru - KSPCB\", \"Urban, Chamarajanagar - KSPCB\", \"Chikkaballapur Rural, Chikkaballapur - KSPCB\", \"Kalyana Nagara, Chikkamagaluru - KSPCB\", \"Deshpande Nagar, Hubballi - KSPCB\", \"Lal Bahadur Shastri Nagar, Kalaburagi - KSPCB\", \"Hebbal 1st Stage, Mysuru - KSPCB\", \"Vijay Nagar, Ramanagara - KSPCB\", \"Ibrahimpur, Vijayapura - KSPCB\", \"Collector Office, Yadgir - KSPCB\", \"Udyogamandal, Eloor - Kerala PCB\", \"Kacheripady, Ernakulam - Kerala PCB\", \"Thavakkara, Kannur - Kerala PCB\", \"Vyttila, Kochi - Kerala PCB\", \"Polayathode, Kollam - Kerala PCB\", \"Palayam, Kozhikode - Kerala PCB\", \"Kariavattom, Thiruvananthapuram - Kerala PCB\", \"Plammoodu, Thiruvananthapuram - Kerala PCB\", \"T T Nagar, Bhopal - MPPCB\", \"Shrivastav Colony, Damoh - MPPCB\", \"Bhopal Chauraha, Dewas - MPPCB\", \"City Center, Gwalior - MPPCB\", \"Phool Bagh, Gwalior - Mondelez Ind. Food\", \"Chhoti Gwaltoli, Indore - MPPCB\", \"Marhatal, Jabalpur - MPPCB\", \"Gole Bazar, Katni - MPPCB\", \"Sahilara, Maihar - KJS Cements\", \"Sector-D Industrial Area, Mandideep - MPPCB\", \"Sector-2 Industrial Area, Pithampur - MPPCB\", \"Shasthri Nagar, Ratlam - IPCA Lab\", \"Deen Dayal Nagar, Sagar - MPPCB\", \"Bandhavgar Colony, Satna - Birla Cement\", \"Vindhyachal STPS, Singrauli - MPPCB\", \"Mahakaleshwar Temple, Ujjain - MPPCB\", \"More Chowk Waluj, Aurangabad - MPCB\", \"Chandrapur, Chandrapur - MPCB\", \"MIDC Khutala, Chandrapur - MPCB\", \"Khadakpada, Kalyan - MPCB\", \"Bandra, Mumbai - MPCB\", \"Borivali East, Mumbai - MPCB\", \"Chhatrapati Shivaji Intl. Airport (T2), Mumbai - MPCB\", \"Colaba, Mumbai - MPCB\", \"Kurla, Mumbai - MPCB\", \"Powai, Mumbai - MPCB\", \"Sion, Mumbai - MPCB\", \"Vasai West, Mumbai - MPCB\", \"Vile Parle West, Mumbai - MPCB\", \"Worli, Mumbai - MPCB\", \"Opp GPO Civil Lines, Nagpur - MPCB\", \"Gangapur Road, Nashik - MPCB\", \"Airoli, Navi Mumbai - MPCB\", \"Mahape, Navi Mumbai - MPCB\", \"Nerul, Navi Mumbai - MPCB\", \"Karve Road, Pune - MPCB\", \"Solapur, Solapur - MPCB\", \"Pimpleshwar Mandir, Thane - MPCB\", \"Lumpyngngad, Shillong - Meghalaya PCB\", \"Sikulpuikawn, Aizawl - Mizoram PCB\", \"GM Office, Brajrajnagar - OSPCB\", \"Talcher Coalfields,Talcher - OSPCB\", \"Golden Temple, Amritsar - PPCB\", \"Hardev Nagar, Bathinda - PPCB\", \"Civil Line, Jalandhar - PPCB\", \"Kalal Majra, Khanna - PPCB\", \"Punjab Agricultural University, Ludhiana - PPCB\", \"RIMT University, Mandi Gobindgarh - PPCB\", \"Model Town, Patiala - PPCB\", \"Ratanpura, Rupnagar - Ambuja Cements\", \"Moti Doongri, Alwar - RSPCB\", \"Civil Lines, Ajmer - RSPCB\", \"RIICO Ind. Area III, Bhiwadi - RSPCB\", \"Adarsh Nagar, Jaipur - RSPCB\", \"Police Commissionerate, Jaipur - RSPCB\", \"Shastri Nagar, Jaipur - RSPCB\", \"Collectorate, Jodhpur - RSPCB\", \"Shrinath Puram, Kota - RSPCB\", \"Indira Colony Vistar, Pali - RSPCB\", \"Ashok Nagar, Udaipur - RSPCB\", \"Alandur Bus Depot, Chennai - CPCB\", \"Manali Village, Chennai - TNPCB\", \"Manali, Chennai - CPCB\", \"Velachery Res. Area, Chennai - CPCB\", \"SIDCO Kurichi, Coimbatore - TNPCB\", \"Bollaram Industrial Area, Hyderabad - TSPCB\", \"Central University, Hyderabad - TSPCB\", \"ICRISAT Patancheru, Hyderabad - TSPCB\", \"IDA Pashamylaram, Hyderabad - TSPCB\", \"Sanathnagar, Hyderabad - TSPCB\", \"Zoo Park, Hyderabad - TSPCB\", \"Sanjay Palace, Agra - UPPCB\", \"New Collectorate, Baghpat - UPPCB\", \"Yamunapuram, Bulandshahr - UPPCB\", \"Indirapuram, Ghaziabad - UPPCB\", \"Loni, Ghaziabad - UPPCB\", \"Sanjay Nagar, Ghaziabad - UPPCB\", \"Vasundhara, Ghaziabad - UPPCB\", \"Knowledge Park - III, Greater Noida - UPPCB\", \"Knowledge Park - V, Greater Noida - UPPCB\", \"Anand Vihar, Hapur - UPPCB\", \"Nehru Nagar, Kanpur - UPPCB\", \"Central School, Lucknow - CPCB\", \"Gomti Nagar, Lucknow - UPPCB\", \"Lalbagh, Lucknow - CPCB\", \"Nishant Ganj, Lucknow - UPPCB\", \"Talkatora District Industries Center, Lucknow - CPCB\", \"Ganga Nagar, Meerut - UPPCB\", \"Jai Bhim Nagar, Meerut - UPPCB\", \"Pallavpuram Phase 2, Meerut - UPPCB\", \"Lajpat Nagar, Moradabad - UPPCB\", \"New Mandi, Muzaffarnagar - UPPCB\", \"Sector - 125, Noida - UPPCB\", \"Sector - 62, Noida - IMD\", \"Sector-1, Noida - UPPCB\", \"Sector-116, Noida - UPPCB\", \"Ardhali Bazar, Varanasi - UPPCB\", \"Asansol Court Area, Asansol - WBPCB\", \"Sidhu Kanhu Indoor Stadium, Durgapur - WBPCB\", \"Haldia, Haldia - WBPCB\", \"Belur Math, Howrah - WBPCB\", \"Ghusuri, Howrah - WBPCB\", \"Padmapukur, Howrah - WBPCB\", \"Ballygunge, Kolkata - WBPCB\", \"Bidhannagar, Kolkata - WBPCB\", \"Fort William, Kolkata - WBPCB\", \"Jadavpur, Kolkata - WBPCB\", \"Rabindra Bharati University, Kolkata - WBPCB\", \"Rabindra Sarobar, Kolkata - WBPCB\", \"Victoria, Kolkata - WBPCB\", \"Ward-32 Bapupara, Siliguri - WBPCB\"]}, {\"axis\": {\"matches\": true}, \"label\": \"City\", \"values\": [\"Amaravati\", \"Rajamahendravaram\", \"Tirupati\", \"Vijayawada\", \"Visakhapatnam\", \"Guwahati\", \"Gaya\", \"Gaya\", \"Hajipur\", \"Muzaffarpur\", \"Patna\", \"Patna\", \"Patna\", \"Patna\", \"Patna\", \"Patna\", \"Chandigarh\", \"Delhi\", \"Delhi\", \"Delhi\", \"Delhi\", \"Delhi\", \"Delhi\", \"Delhi\", \"Delhi\", \"Delhi\", \"Delhi\", \"Delhi\", \"Delhi\", \"Delhi\", \"Delhi\", \"Delhi\", \"Delhi\", \"Delhi\", \"Delhi\", \"Delhi\", \"Delhi\", \"Delhi\", \"Delhi\", \"Delhi\", \"Delhi\", \"Delhi\", \"Delhi\", \"Delhi\", \"Delhi\", \"Delhi\", \"Delhi\", \"Delhi\", \"Delhi\", \"Delhi\", \"Delhi\", \"Delhi\", \"Delhi\", \"Delhi\", \"Delhi\", \"Ahmedabad\", \"Ankleshwar\", \"Gandhinagar\", \"Nandesari\", \"Vapi\", \"Vatva\", \"Ambala\", \"Bahadurgarh\", \"Ballabgarh\", \"Bhiwani\", \"Dharuhera\", \"Faridabad\", \"Faridabad\", \"Faridabad\", \"Faridabad\", \"Fatehabad\", \"Gurugram\", \"Gurugram\", \"Gurugram\", \"Gurugram\", \"Hisar\", \"Jind\", \"Kaithal\", \"Karnal\", \"Kurukshetra\", \"Mandikhera\", \"Manesar\", \"Narnaul\", \"Palwal\", \"Panchkula\", \"Panipat\", \"Rohtak\", \"Sirsa\", \"Sonipat\", \"Yamuna Nagar\", \"Jorapokhar\", \"Bagalkot\", \"Bengaluru\", \"Bengaluru\", \"Bengaluru\", \"Bengaluru\", \"Bengaluru\", \"Bengaluru\", \"Bengaluru\", \"Bengaluru\", \"Bengaluru\", \"Bengaluru\", \"Chamarajanagar\", \"Chikkaballapur\", \"Chikkamagaluru\", \"Hubballi\", \"Kalaburagi\", \"Mysuru\", \"Ramanagara\", \"Vijayapura\", \"Yadgir\", \"Eloor\", \"Ernakulam\", \"Kannur\", \"Kochi\", \"Kollam\", \"Kozhikode\", \"Thiruvananthapuram\", \"Thiruvananthapuram\", \"Bhopal\", \"Damoh\", \"Dewas\", \"Gwalior\", \"Gwalior\", \"Indore\", \"Jabalpur\", \"Katni\", \"Maihar\", \"Mandideep\", \"Pithampur\", \"Ratlam\", \"Sagar\", \"Satna\", \"Singrauli\", \"Ujjain\", \"Aurangabad\", \"Chandrapur\", \"Chandrapur\", \"Kalyan\", \"Mumbai\", \"Mumbai\", \"Mumbai\", \"Mumbai\", \"Mumbai\", \"Mumbai\", \"Mumbai\", \"Mumbai\", \"Mumbai\", \"Mumbai\", \"Nagpur\", \"Nashik\", \"Navi Mumbai\", \"Navi Mumbai\", \"Navi Mumbai\", \"Pune\", \"Solapur\", \"Thane\", \"Shillong\", \"Aizawl\", \"Brajrajnagar\", \"Talcher\", \"Amritsar\", \"Bathinda\", \"Jalandhar\", \"Khanna\", \"Ludhiana\", \"Gobindgarh\", \"Patiala\", \"Rupnagar\", \"Alwar\", \"Ajmer\", \"Bhiwandi\", \"Jaipur\", \"Jaipur\", \"Jaipur\", \"Jodhpur\", \"Kota\", \"Pali\", \"Udaipur\", \"Chennai\", \"Chennai\", \"Chennai\", \"Chennai\", \"Coimbatore\", \"Hyderabad\", \"Hyderabad\", \"Hyderabad\", \"Hyderabad\", \"Hyderabad\", \"Hyderabad\", \"Agra\", \"Baghpat\", \"Bulandshahr\", \"Ghaziabad\", \"Ghaziabad\", \"Ghaziabad\", \"Ghaziabad\", \"Greater Noida\", \"Greater Noida\", \"Hapur\", \"Kanpur\", \"Lucknow\", \"Lucknow\", \"Lucknow\", \"Lucknow\", \"Lucknow\", \"Meerut\", \"Meerut\", \"Meerut\", \"Moradabad\", \"Muzzaffarnagar\", \"Noida\", \"Noida\", \"Noida\", \"Noida\", \"Varanasi\", \"Asansol\", \"Durgapur\", \"Haldia\", \"Howrah\", \"Howrah\", \"Howrah\", \"Kolkata\", \"Kolkata\", \"Kolkata\", \"Kolkata\", \"Kolkata\", \"Kolkata\", \"Kolkata\", \"Siliguri\"]}, {\"axis\": {\"matches\": true}, \"label\": \"State\", \"values\": [\"Andhra Pradesh\", \"Andhra Pradesh\", \"Andhra Pradesh\", \"Andhra Pradesh\", \"Andhra Pradesh\", \"Assam\", \"Bihar\", \"Bihar\", \"Bihar\", \"Bihar\", \"Bihar\", \"Bihar\", \"Bihar\", \"Bihar\", \"Bihar\", \"Bihar\", \"Chandigarh\", \"Delhi\", \"Delhi\", \"Delhi\", \"Delhi\", \"Delhi\", \"Delhi\", \"Delhi\", \"Delhi\", \"Delhi\", \"Delhi\", \"Delhi\", \"Delhi\", \"Delhi\", \"Delhi\", \"Delhi\", \"Delhi\", \"Delhi\", \"Delhi\", \"Delhi\", \"Delhi\", \"Delhi\", \"Delhi\", \"Delhi\", \"Delhi\", \"Delhi\", \"Delhi\", \"Delhi\", \"Delhi\", \"Delhi\", \"Delhi\", \"Delhi\", \"Delhi\", \"Delhi\", \"Delhi\", \"Delhi\", \"Delhi\", \"Delhi\", \"Delhi\", \"Gujarat\", \"Gujarat\", \"Gujarat\", \"Gujarat\", \"Gujarat\", \"Gujarat\", \"Haryana\", \"Haryana\", \"Haryana\", \"Haryana\", \"Haryana\", \"Haryana\", \"Haryana\", \"Haryana\", \"Haryana\", \"Haryana\", \"Haryana\", \"Haryana\", \"Haryana\", \"Haryana\", \"Haryana\", \"Haryana\", \"Haryana\", \"Haryana\", \"Haryana\", \"Haryana\", \"Haryana\", \"Haryana\", \"Haryana\", \"Haryana\", \"Haryana\", \"Haryana\", \"Haryana\", \"Haryana\", \"Haryana\", \"Jharkhand\", \"Karnataka\", \"Karnataka\", \"Karnataka\", \"Karnataka\", \"Karnataka\", \"Karnataka\", \"Karnataka\", \"Karnataka\", \"Karnataka\", \"Karnataka\", \"Karnataka\", \"Karnataka\", \"Karnataka\", \"Karnataka\", \"Karnataka\", \"Karnataka\", \"Karnataka\", \"Karnataka\", \"Karnataka\", \"Karnataka\", \"Kerala\", \"Kerala\", \"Kerala\", \"Kerala\", \"Kerala\", \"Kerala\", \"Kerala\", \"Kerala\", \"Madhya Pradesh\", \"Madhya Pradesh\", \"Madhya Pradesh\", \"Madhya Pradesh\", \"Madhya Pradesh\", \"Madhya Pradesh\", \"Madhya Pradesh\", \"Madhya Pradesh\", \"Madhya Pradesh\", \"Madhya Pradesh\", \"Madhya Pradesh\", \"Madhya Pradesh\", \"Madhya Pradesh\", \"Madhya Pradesh\", \"Madhya Pradesh\", \"Madhya Pradesh\", \"Maharashtra\", \"Maharashtra\", \"Maharashtra\", \"Maharashtra\", \"Maharashtra\", \"Maharashtra\", \"Maharashtra\", \"Maharashtra\", \"Maharashtra\", \"Maharashtra\", \"Maharashtra\", \"Maharashtra\", \"Maharashtra\", \"Maharashtra\", \"Maharashtra\", \"Maharashtra\", \"Maharashtra\", \"Maharashtra\", \"Maharashtra\", \"Maharashtra\", \"Maharashtra\", \"Maharashtra\", \"Meghalaya\", \"Mizoram\", \"Odisha\", \"Odisha\", \"Punjab\", \"Punjab\", \"Punjab\", \"Punjab\", \"Punjab\", \"Punjab\", \"Punjab\", \"Punjab\", \"Rajasthan\", \"Rajasthan\", \"Rajasthan\", \"Rajasthan\", \"Rajasthan\", \"Rajasthan\", \"Rajasthan\", \"Rajasthan\", \"Rajasthan\", \"Rajasthan\", \"Tamil Nadu\", \"Tamil Nadu\", \"Tamil Nadu\", \"Tamil Nadu\", \"Tamil Nadu\", \"Telangana\", \"Telangana\", \"Telangana\", \"Telangana\", \"Telangana\", \"Telangana\", \"Uttar Pradesh\", \"Uttar Pradesh\", \"Uttar Pradesh\", \"Uttar Pradesh\", \"Uttar Pradesh\", \"Uttar Pradesh\", \"Uttar Pradesh\", \"Uttar Pradesh\", \"Uttar Pradesh\", \"Uttar Pradesh\", \"Uttar Pradesh\", \"Uttar Pradesh\", \"Uttar Pradesh\", \"Uttar Pradesh\", \"Uttar Pradesh\", \"Uttar Pradesh\", \"Uttar Pradesh\", \"Uttar Pradesh\", \"Uttar Pradesh\", \"Uttar Pradesh\", \"Uttar Pradesh\", \"Uttar Pradesh\", \"Uttar Pradesh\", \"Uttar Pradesh\", \"Uttar Pradesh\", \"Uttar Pradesh\", \"West Bengal\", \"West Bengal\", \"West Bengal\", \"West Bengal\", \"West Bengal\", \"West Bengal\", \"West Bengal\", \"West Bengal\", \"West Bengal\", \"West Bengal\", \"West Bengal\", \"West Bengal\", \"West Bengal\", \"West Bengal\"]}, {\"axis\": {\"matches\": true}, \"label\": \"Status\", \"values\": [\"Active\", null, null, null, \"Active\", \"Active\", null, null, null, null, \"Active\", \"Active\", \"Active\", \"Active\", \"Active\", \"Active\", \"Active\", \"Active\", \"Active\", \"Active\", \"Active\", \"Active\", \"Inactive\", \"Active\", \"Active\", \"Active\", \"Active\", \"Active\", \"Active\", \"Active\", \"Active\", \"Active\", \"Active\", \"Active\", \"Active\", \"Active\", \"Active\", \"Active\", \"Active\", \"Active\", \"Active\", \"Active\", \"Active\", \"Active\", \"Active\", \"Active\", \"Active\", \"Active\", \"Active\", \"Active\", \"Active\", \"Active\", \"Active\", \"Active\", \"Active\", \"Active\", null, null, null, null, null, \"Active\", \"Active\", \"Active\", \"Active\", \"Active\", \"Active\", \"Active\", \"Active\", \"Active\", \"Active\", \"Active\", \"Active\", \"Active\", \"Active\", \"Active\", \"Active\", \"Active\", \"Active\", \"Active\", \"Active\", \"Active\", \"Active\", \"Active\", \"Active\", \"Active\", \"Active\", \"Active\", \"Active\", \"Active\", \"Active\", null, \"Active\", \"Active\", \"Active\", \"Active\", \"Active\", \"Active\", \"Active\", \"Active\", \"Active\", \"Active\", null, null, null, null, null, null, null, null, null, null, null, null, null, null, null, \"Active\", \"Active\", \"Active\", null, null, null, null, null, null, null, null, null, null, null, null, null, null, null, null, null, null, null, \"Active\", \"Active\", \"Active\", \"Active\", \"Active\", \"Active\", \"Active\", \"Active\", \"Active\", \"Active\", null, null, null, null, null, null, null, null, \"Active\", \"Active\", \"Active\", \"Active\", \"Active\", null, null, null, null, null, null, null, null, null, null, \"Active\", \"Active\", \"Active\", null, null, null, null, \"Active\", \"Active\", \"Active\", \"Active\", \"Active\", \"Active\", \"Active\", \"Active\", \"Active\", \"Active\", \"Active\", null, null, null, null, null, null, null, null, null, null, null, \"Active\", \"Active\", \"Active\", \"Inactive\", \"Active\", null, null, null, null, null, null, null, null, null, null, null, null, null, null, null, null, \"Active\", \"Active\", \"Active\", \"Active\", \"Active\", \"Active\", \"Active\", null]}], \"hovertemplate\": \"%{xaxis.title.text}=%{x}<br>%{yaxis.title.text}=%{y}<extra></extra>\", \"legendgroup\": \"\", \"marker\": {\"color\": \"#636efa\", \"symbol\": \"circle\"}, \"name\": \"\", \"showlegend\": false, \"type\": \"splom\"}],                        {\"dragmode\": \"select\", \"legend\": {\"tracegroupgap\": 0}, \"margin\": {\"t\": 60}, \"template\": {\"data\": {\"bar\": [{\"error_x\": {\"color\": \"#2a3f5f\"}, \"error_y\": {\"color\": \"#2a3f5f\"}, \"marker\": {\"line\": {\"color\": \"#E5ECF6\", \"width\": 0.5}}, \"type\": \"bar\"}], \"barpolar\": [{\"marker\": {\"line\": {\"color\": \"#E5ECF6\", \"width\": 0.5}}, \"type\": \"barpolar\"}], \"carpet\": [{\"aaxis\": {\"endlinecolor\": \"#2a3f5f\", \"gridcolor\": \"white\", \"linecolor\": \"white\", \"minorgridcolor\": \"white\", \"startlinecolor\": \"#2a3f5f\"}, \"baxis\": {\"endlinecolor\": \"#2a3f5f\", \"gridcolor\": \"white\", \"linecolor\": \"white\", \"minorgridcolor\": \"white\", \"startlinecolor\": \"#2a3f5f\"}, \"type\": \"carpet\"}], \"choropleth\": [{\"colorbar\": {\"outlinewidth\": 0, \"ticks\": \"\"}, \"type\": \"choropleth\"}], \"contour\": [{\"colorbar\": {\"outlinewidth\": 0, \"ticks\": \"\"}, \"colorscale\": [[0.0, \"#0d0887\"], [0.1111111111111111, \"#46039f\"], [0.2222222222222222, \"#7201a8\"], [0.3333333333333333, \"#9c179e\"], [0.4444444444444444, \"#bd3786\"], [0.5555555555555556, \"#d8576b\"], [0.6666666666666666, \"#ed7953\"], [0.7777777777777778, \"#fb9f3a\"], [0.8888888888888888, \"#fdca26\"], [1.0, \"#f0f921\"]], \"type\": \"contour\"}], \"contourcarpet\": [{\"colorbar\": {\"outlinewidth\": 0, \"ticks\": \"\"}, \"type\": \"contourcarpet\"}], \"heatmap\": [{\"colorbar\": {\"outlinewidth\": 0, \"ticks\": \"\"}, \"colorscale\": [[0.0, \"#0d0887\"], [0.1111111111111111, \"#46039f\"], [0.2222222222222222, \"#7201a8\"], [0.3333333333333333, \"#9c179e\"], [0.4444444444444444, \"#bd3786\"], [0.5555555555555556, \"#d8576b\"], [0.6666666666666666, \"#ed7953\"], [0.7777777777777778, \"#fb9f3a\"], [0.8888888888888888, \"#fdca26\"], [1.0, \"#f0f921\"]], \"type\": \"heatmap\"}], \"heatmapgl\": [{\"colorbar\": {\"outlinewidth\": 0, \"ticks\": \"\"}, \"colorscale\": [[0.0, \"#0d0887\"], [0.1111111111111111, \"#46039f\"], [0.2222222222222222, \"#7201a8\"], [0.3333333333333333, \"#9c179e\"], [0.4444444444444444, \"#bd3786\"], [0.5555555555555556, \"#d8576b\"], [0.6666666666666666, \"#ed7953\"], [0.7777777777777778, \"#fb9f3a\"], [0.8888888888888888, \"#fdca26\"], [1.0, \"#f0f921\"]], \"type\": \"heatmapgl\"}], \"histogram\": [{\"marker\": {\"colorbar\": {\"outlinewidth\": 0, \"ticks\": \"\"}}, \"type\": \"histogram\"}], \"histogram2d\": [{\"colorbar\": {\"outlinewidth\": 0, \"ticks\": \"\"}, \"colorscale\": [[0.0, \"#0d0887\"], [0.1111111111111111, \"#46039f\"], [0.2222222222222222, \"#7201a8\"], [0.3333333333333333, \"#9c179e\"], [0.4444444444444444, \"#bd3786\"], [0.5555555555555556, \"#d8576b\"], [0.6666666666666666, \"#ed7953\"], [0.7777777777777778, \"#fb9f3a\"], [0.8888888888888888, \"#fdca26\"], [1.0, \"#f0f921\"]], \"type\": \"histogram2d\"}], \"histogram2dcontour\": [{\"colorbar\": {\"outlinewidth\": 0, \"ticks\": \"\"}, \"colorscale\": [[0.0, \"#0d0887\"], [0.1111111111111111, \"#46039f\"], [0.2222222222222222, \"#7201a8\"], [0.3333333333333333, \"#9c179e\"], [0.4444444444444444, \"#bd3786\"], [0.5555555555555556, \"#d8576b\"], [0.6666666666666666, \"#ed7953\"], [0.7777777777777778, \"#fb9f3a\"], [0.8888888888888888, \"#fdca26\"], [1.0, \"#f0f921\"]], \"type\": \"histogram2dcontour\"}], \"mesh3d\": [{\"colorbar\": {\"outlinewidth\": 0, \"ticks\": \"\"}, \"type\": \"mesh3d\"}], \"parcoords\": [{\"line\": {\"colorbar\": {\"outlinewidth\": 0, \"ticks\": \"\"}}, \"type\": \"parcoords\"}], \"pie\": [{\"automargin\": true, \"type\": \"pie\"}], \"scatter\": [{\"marker\": {\"colorbar\": {\"outlinewidth\": 0, \"ticks\": \"\"}}, \"type\": \"scatter\"}], \"scatter3d\": [{\"line\": {\"colorbar\": {\"outlinewidth\": 0, \"ticks\": \"\"}}, \"marker\": {\"colorbar\": {\"outlinewidth\": 0, \"ticks\": \"\"}}, \"type\": \"scatter3d\"}], \"scattercarpet\": [{\"marker\": {\"colorbar\": {\"outlinewidth\": 0, \"ticks\": \"\"}}, \"type\": \"scattercarpet\"}], \"scattergeo\": [{\"marker\": {\"colorbar\": {\"outlinewidth\": 0, \"ticks\": \"\"}}, \"type\": \"scattergeo\"}], \"scattergl\": [{\"marker\": {\"colorbar\": {\"outlinewidth\": 0, \"ticks\": \"\"}}, \"type\": \"scattergl\"}], \"scattermapbox\": [{\"marker\": {\"colorbar\": {\"outlinewidth\": 0, \"ticks\": \"\"}}, \"type\": \"scattermapbox\"}], \"scatterpolar\": [{\"marker\": {\"colorbar\": {\"outlinewidth\": 0, \"ticks\": \"\"}}, \"type\": \"scatterpolar\"}], \"scatterpolargl\": [{\"marker\": {\"colorbar\": {\"outlinewidth\": 0, \"ticks\": \"\"}}, \"type\": \"scatterpolargl\"}], \"scatterternary\": [{\"marker\": {\"colorbar\": {\"outlinewidth\": 0, \"ticks\": \"\"}}, \"type\": \"scatterternary\"}], \"surface\": [{\"colorbar\": {\"outlinewidth\": 0, \"ticks\": \"\"}, \"colorscale\": [[0.0, \"#0d0887\"], [0.1111111111111111, \"#46039f\"], [0.2222222222222222, \"#7201a8\"], [0.3333333333333333, \"#9c179e\"], [0.4444444444444444, \"#bd3786\"], [0.5555555555555556, \"#d8576b\"], [0.6666666666666666, \"#ed7953\"], [0.7777777777777778, \"#fb9f3a\"], [0.8888888888888888, \"#fdca26\"], [1.0, \"#f0f921\"]], \"type\": \"surface\"}], \"table\": [{\"cells\": {\"fill\": {\"color\": \"#EBF0F8\"}, \"line\": {\"color\": \"white\"}}, \"header\": {\"fill\": {\"color\": \"#C8D4E3\"}, \"line\": {\"color\": \"white\"}}, \"type\": \"table\"}]}, \"layout\": {\"annotationdefaults\": {\"arrowcolor\": \"#2a3f5f\", \"arrowhead\": 0, \"arrowwidth\": 1}, \"autotypenumbers\": \"strict\", \"coloraxis\": {\"colorbar\": {\"outlinewidth\": 0, \"ticks\": \"\"}}, \"colorscale\": {\"diverging\": [[0, \"#8e0152\"], [0.1, \"#c51b7d\"], [0.2, \"#de77ae\"], [0.3, \"#f1b6da\"], [0.4, \"#fde0ef\"], [0.5, \"#f7f7f7\"], [0.6, \"#e6f5d0\"], [0.7, \"#b8e186\"], [0.8, \"#7fbc41\"], [0.9, \"#4d9221\"], [1, \"#276419\"]], \"sequential\": [[0.0, \"#0d0887\"], [0.1111111111111111, \"#46039f\"], [0.2222222222222222, \"#7201a8\"], [0.3333333333333333, \"#9c179e\"], [0.4444444444444444, \"#bd3786\"], [0.5555555555555556, \"#d8576b\"], [0.6666666666666666, \"#ed7953\"], [0.7777777777777778, \"#fb9f3a\"], [0.8888888888888888, \"#fdca26\"], [1.0, \"#f0f921\"]], \"sequentialminus\": [[0.0, \"#0d0887\"], [0.1111111111111111, \"#46039f\"], [0.2222222222222222, \"#7201a8\"], [0.3333333333333333, \"#9c179e\"], [0.4444444444444444, \"#bd3786\"], [0.5555555555555556, \"#d8576b\"], [0.6666666666666666, \"#ed7953\"], [0.7777777777777778, \"#fb9f3a\"], [0.8888888888888888, \"#fdca26\"], [1.0, \"#f0f921\"]]}, \"colorway\": [\"#636efa\", \"#EF553B\", \"#00cc96\", \"#ab63fa\", \"#FFA15A\", \"#19d3f3\", \"#FF6692\", \"#B6E880\", \"#FF97FF\", \"#FECB52\"], \"font\": {\"color\": \"#2a3f5f\"}, \"geo\": {\"bgcolor\": \"white\", \"lakecolor\": \"white\", \"landcolor\": \"#E5ECF6\", \"showlakes\": true, \"showland\": true, \"subunitcolor\": \"white\"}, \"hoverlabel\": {\"align\": \"left\"}, \"hovermode\": \"closest\", \"mapbox\": {\"style\": \"light\"}, \"paper_bgcolor\": \"white\", \"plot_bgcolor\": \"#E5ECF6\", \"polar\": {\"angularaxis\": {\"gridcolor\": \"white\", \"linecolor\": \"white\", \"ticks\": \"\"}, \"bgcolor\": \"#E5ECF6\", \"radialaxis\": {\"gridcolor\": \"white\", \"linecolor\": \"white\", \"ticks\": \"\"}}, \"scene\": {\"xaxis\": {\"backgroundcolor\": \"#E5ECF6\", \"gridcolor\": \"white\", \"gridwidth\": 2, \"linecolor\": \"white\", \"showbackground\": true, \"ticks\": \"\", \"zerolinecolor\": \"white\"}, \"yaxis\": {\"backgroundcolor\": \"#E5ECF6\", \"gridcolor\": \"white\", \"gridwidth\": 2, \"linecolor\": \"white\", \"showbackground\": true, \"ticks\": \"\", \"zerolinecolor\": \"white\"}, \"zaxis\": {\"backgroundcolor\": \"#E5ECF6\", \"gridcolor\": \"white\", \"gridwidth\": 2, \"linecolor\": \"white\", \"showbackground\": true, \"ticks\": \"\", \"zerolinecolor\": \"white\"}}, \"shapedefaults\": {\"line\": {\"color\": \"#2a3f5f\"}}, \"ternary\": {\"aaxis\": {\"gridcolor\": \"white\", \"linecolor\": \"white\", \"ticks\": \"\"}, \"baxis\": {\"gridcolor\": \"white\", \"linecolor\": \"white\", \"ticks\": \"\"}, \"bgcolor\": \"#E5ECF6\", \"caxis\": {\"gridcolor\": \"white\", \"linecolor\": \"white\", \"ticks\": \"\"}}, \"title\": {\"x\": 0.05}, \"xaxis\": {\"automargin\": true, \"gridcolor\": \"white\", \"linecolor\": \"white\", \"ticks\": \"\", \"title\": {\"standoff\": 15}, \"zerolinecolor\": \"white\", \"zerolinewidth\": 2}, \"yaxis\": {\"automargin\": true, \"gridcolor\": \"white\", \"linecolor\": \"white\", \"ticks\": \"\", \"title\": {\"standoff\": 15}, \"zerolinecolor\": \"white\", \"zerolinewidth\": 2}}}},                        {\"responsive\": true}                    ).then(function(){\n",
       "                            \n",
       "var gd = document.getElementById('f6db2785-2b13-429e-abc8-76bcc501ef42');\n",
       "var x = new MutationObserver(function (mutations, observer) {{\n",
       "        var display = window.getComputedStyle(gd).display;\n",
       "        if (!display || display === 'none') {{\n",
       "            console.log([gd, 'removed!']);\n",
       "            Plotly.purge(gd);\n",
       "            observer.disconnect();\n",
       "        }}\n",
       "}});\n",
       "\n",
       "// Listen for the removal of the full notebook cells\n",
       "var notebookContainer = gd.closest('#notebook-container');\n",
       "if (notebookContainer) {{\n",
       "    x.observe(notebookContainer, {childList: true});\n",
       "}}\n",
       "\n",
       "// Listen for the clearing of the current output cell\n",
       "var outputEl = gd.closest('.output');\n",
       "if (outputEl) {{\n",
       "    x.observe(outputEl, {childList: true});\n",
       "}}\n",
       "\n",
       "                        })                };                });            </script>        </div>"
      ]
     },
     "metadata": {},
     "output_type": "display_data"
    }
   ],
   "source": [
    "dims=['StationId', 'StationName', 'City', 'State']\n",
    "px.scatter_matrix(df)\n"
   ]
  },
  {
   "cell_type": "code",
   "execution_count": null,
   "metadata": {},
   "outputs": [],
   "source": []
  },
  {
   "cell_type": "code",
   "execution_count": null,
   "metadata": {},
   "outputs": [],
   "source": []
  },
  {
   "cell_type": "code",
   "execution_count": 13,
   "metadata": {},
   "outputs": [
    {
     "data": {
      "image/png": "[encoded data removed]",
      "text/plain": [
       "<Figure size 576x576 with 1 Axes>"
      ]
     },
     "metadata": {
      "needs_background": "light"
     },
     "output_type": "display_data"
    }
   ],
   "source": [
    "fig2=df2[['City','AQI']].groupby('City').mean().sort_values('AQI').plot(kind='barh',cmap='summer',figsize=(8,8))\n",
    "plt.show()"
   ]
  },
  {
   "cell_type": "code",
   "execution_count": null,
   "metadata": {},
   "outputs": [],
   "source": []
  },
  {
   "cell_type": "code",
   "execution_count": null,
   "metadata": {},
   "outputs": [],
   "source": []
  },
  {
   "cell_type": "code",
   "execution_count": 14,
   "metadata": {},
   "outputs": [
    {
     "data": {
      "text/html": [
       "<div>\n",
       "<style scoped>\n",
       "    .dataframe tbody tr th:only-of-type {\n",
       "        vertical-align: middle;\n",
       "    }\n",
       "\n",
       "    .dataframe tbody tr th {\n",
       "        vertical-align: top;\n",
       "    }\n",
       "\n",
       "    .dataframe thead th {\n",
       "        text-align: right;\n",
       "    }\n",
       "</style>\n",
       "<table border=\"1\" class=\"dataframe\">\n",
       "  <thead>\n",
       "    <tr style=\"text-align: right;\">\n",
       "      <th></th>\n",
       "      <th>City</th>\n",
       "      <th>Date</th>\n",
       "      <th>PM2.5</th>\n",
       "      <th>PM10</th>\n",
       "      <th>NO</th>\n",
       "      <th>NO2</th>\n",
       "      <th>NOx</th>\n",
       "      <th>NH3</th>\n",
       "      <th>CO</th>\n",
       "      <th>SO2</th>\n",
       "      <th>O3</th>\n",
       "      <th>Benzene</th>\n",
       "      <th>Toluene</th>\n",
       "      <th>Xylene</th>\n",
       "      <th>AQI</th>\n",
       "      <th>AQI_Bucket</th>\n",
       "    </tr>\n",
       "  </thead>\n",
       "  <tbody>\n",
       "    <tr>\n",
       "      <th>0</th>\n",
       "      <td>Ahmedabad</td>\n",
       "      <td>2015-01-01</td>\n",
       "      <td>NaN</td>\n",
       "      <td>NaN</td>\n",
       "      <td>0.92</td>\n",
       "      <td>18.22</td>\n",
       "      <td>17.15</td>\n",
       "      <td>NaN</td>\n",
       "      <td>0.92</td>\n",
       "      <td>27.64</td>\n",
       "      <td>133.36</td>\n",
       "      <td>0.00</td>\n",
       "      <td>0.02</td>\n",
       "      <td>0.00</td>\n",
       "      <td>NaN</td>\n",
       "      <td>NaN</td>\n",
       "    </tr>\n",
       "    <tr>\n",
       "      <th>1</th>\n",
       "      <td>Ahmedabad</td>\n",
       "      <td>2015-01-02</td>\n",
       "      <td>NaN</td>\n",
       "      <td>NaN</td>\n",
       "      <td>0.97</td>\n",
       "      <td>15.69</td>\n",
       "      <td>16.46</td>\n",
       "      <td>NaN</td>\n",
       "      <td>0.97</td>\n",
       "      <td>24.55</td>\n",
       "      <td>34.06</td>\n",
       "      <td>3.68</td>\n",
       "      <td>5.50</td>\n",
       "      <td>3.77</td>\n",
       "      <td>NaN</td>\n",
       "      <td>NaN</td>\n",
       "    </tr>\n",
       "    <tr>\n",
       "      <th>2</th>\n",
       "      <td>Ahmedabad</td>\n",
       "      <td>2015-01-03</td>\n",
       "      <td>NaN</td>\n",
       "      <td>NaN</td>\n",
       "      <td>17.40</td>\n",
       "      <td>19.30</td>\n",
       "      <td>29.70</td>\n",
       "      <td>NaN</td>\n",
       "      <td>17.40</td>\n",
       "      <td>29.07</td>\n",
       "      <td>30.70</td>\n",
       "      <td>6.80</td>\n",
       "      <td>16.40</td>\n",
       "      <td>2.25</td>\n",
       "      <td>NaN</td>\n",
       "      <td>NaN</td>\n",
       "    </tr>\n",
       "    <tr>\n",
       "      <th>3</th>\n",
       "      <td>Ahmedabad</td>\n",
       "      <td>2015-01-04</td>\n",
       "      <td>NaN</td>\n",
       "      <td>NaN</td>\n",
       "      <td>1.70</td>\n",
       "      <td>18.48</td>\n",
       "      <td>17.97</td>\n",
       "      <td>NaN</td>\n",
       "      <td>1.70</td>\n",
       "      <td>18.59</td>\n",
       "      <td>36.08</td>\n",
       "      <td>4.43</td>\n",
       "      <td>10.14</td>\n",
       "      <td>1.00</td>\n",
       "      <td>NaN</td>\n",
       "      <td>NaN</td>\n",
       "    </tr>\n",
       "    <tr>\n",
       "      <th>4</th>\n",
       "      <td>Ahmedabad</td>\n",
       "      <td>2015-01-05</td>\n",
       "      <td>NaN</td>\n",
       "      <td>NaN</td>\n",
       "      <td>22.10</td>\n",
       "      <td>21.42</td>\n",
       "      <td>37.76</td>\n",
       "      <td>NaN</td>\n",
       "      <td>22.10</td>\n",
       "      <td>39.33</td>\n",
       "      <td>39.31</td>\n",
       "      <td>7.01</td>\n",
       "      <td>18.89</td>\n",
       "      <td>2.78</td>\n",
       "      <td>NaN</td>\n",
       "      <td>NaN</td>\n",
       "    </tr>\n",
       "  </tbody>\n",
       "</table>\n",
       "</div>"
      ],
      "text/plain": [
       "        City        Date  PM2.5  PM10     NO    NO2    NOx  NH3     CO    SO2  \\\n",
       "0  Ahmedabad  2015-01-01    NaN   NaN   0.92  18.22  17.15  NaN   0.92  27.64   \n",
       "1  Ahmedabad  2015-01-02    NaN   NaN   0.97  15.69  16.46  NaN   0.97  24.55   \n",
       "2  Ahmedabad  2015-01-03    NaN   NaN  17.40  19.30  29.70  NaN  17.40  29.07   \n",
       "3  Ahmedabad  2015-01-04    NaN   NaN   1.70  18.48  17.97  NaN   1.70  18.59   \n",
       "4  Ahmedabad  2015-01-05    NaN   NaN  22.10  21.42  37.76  NaN  22.10  39.33   \n",
       "\n",
       "       O3  Benzene  Toluene  Xylene  AQI AQI_Bucket  \n",
       "0  133.36     0.00     0.02    0.00  NaN        NaN  \n",
       "1   34.06     3.68     5.50    3.77  NaN        NaN  \n",
       "2   30.70     6.80    16.40    2.25  NaN        NaN  \n",
       "3   36.08     4.43    10.14    1.00  NaN        NaN  \n",
       "4   39.31     7.01    18.89    2.78  NaN        NaN  "
      ]
     },
     "execution_count": 14,
     "metadata": {},
     "output_type": "execute_result"
    }
   ],
   "source": [
    "df2.head()"
   ]
  },
  {
   "cell_type": "code",
   "execution_count": 15,
   "metadata": {},
   "outputs": [
    {
     "data": {
      "image/png": "[encoded data removed]",
      "text/plain": [
       "<Figure size 360x288 with 2 Axes>"
      ]
     },
     "metadata": {
      "needs_background": "light"
     },
     "output_type": "display_data"
    }
   ],
   "source": [
    "city_day = df2.copy()\n",
    "city_day['BTX'] = city_day['Benzene']+city_day['Toluene']+city_day['Xylene']\n",
    "city_day['Particulate_Matter'] = city_day['PM2.5']+city_day['PM10']\n",
    "city_day['Nitrogen Oxides'] = city_day['NO']+city_day['NO2']+city_day['NOx']\n",
    "city_day.drop(['Benzene','Toluene','Xylene','PM2.5','PM10','NO','NO2','NOx'],axis=1,inplace=True)\n",
    "\n",
    "plt.figure(figsize=(5,4))\n",
    "sns.heatmap(city_day.corr(),cmap='coolwarm',annot=True);"
   ]
  },
  {
   "cell_type": "code",
   "execution_count": 16,
   "metadata": {},
   "outputs": [
    {
     "name": "stdout",
     "output_type": "stream",
     "text": [
      "total number of cities in the dataset: 26\n",
      "Index(['Delhi', 'Mumbai', 'Lucknow', 'Chennai', 'Ahmedabad', 'Bengaluru',\n",
      "       'Hyderabad', 'Patna', 'Gurugram', 'Visakhapatnam', 'Amritsar',\n",
      "       'Jorapokhar', 'Jaipur', 'Thiruvananthapuram', 'Amaravati',\n",
      "       'Brajrajnagar', 'Talcher', 'Kolkata', 'Guwahati', 'Coimbatore',\n",
      "       'Shillong', 'Chandigarh', 'Bhopal', 'Ernakulam', 'Kochi', 'Aizawl'],\n",
      "      dtype='object')\n"
     ]
    }
   ],
   "source": [
    "cities=city_day['City'].value_counts()\n",
    "print('total number of cities in the dataset:',len(cities))\n",
    "print(cities.index)"
   ]
  },
  {
   "cell_type": "code",
   "execution_count": 17,
   "metadata": {},
   "outputs": [
    {
     "data": {
      "text/plain": [
       "<matplotlib.axes._subplots.AxesSubplot at 0xbdc0340>"
      ]
     },
     "execution_count": 17,
     "metadata": {},
     "output_type": "execute_result"
    },
    {
     "data": {
      "image/png": "[encoded data removed]",
      "text/plain": [
       "<Figure size 432x288 with 1 Axes>"
      ]
     },
     "metadata": {
      "needs_background": "light"
     },
     "output_type": "display_data"
    }
   ],
   "source": [
    "sns.countplot(city_day['AQI_Bucket'])"
   ]
  },
  {
   "cell_type": "code",
   "execution_count": null,
   "metadata": {},
   "outputs": [],
   "source": []
  },
  {
   "cell_type": "code",
   "execution_count": 22,
   "metadata": {},
   "outputs": [],
   "source": [
    "\n",
    "delhi_data=df2.groupby('City').get_group('Delhi')"
   ]
  },
  {
   "cell_type": "code",
   "execution_count": 23,
   "metadata": {},
   "outputs": [
    {
     "data": {
      "text/html": [
       "<div>\n",
       "<style scoped>\n",
       "    .dataframe tbody tr th:only-of-type {\n",
       "        vertical-align: middle;\n",
       "    }\n",
       "\n",
       "    .dataframe tbody tr th {\n",
       "        vertical-align: top;\n",
       "    }\n",
       "\n",
       "    .dataframe thead th {\n",
       "        text-align: right;\n",
       "    }\n",
       "</style>\n",
       "<table border=\"1\" class=\"dataframe\">\n",
       "  <thead>\n",
       "    <tr style=\"text-align: right;\">\n",
       "      <th></th>\n",
       "      <th>City</th>\n",
       "      <th>Date</th>\n",
       "      <th>PM2.5</th>\n",
       "      <th>PM10</th>\n",
       "      <th>NO</th>\n",
       "      <th>NO2</th>\n",
       "      <th>NOx</th>\n",
       "      <th>NH3</th>\n",
       "      <th>CO</th>\n",
       "      <th>SO2</th>\n",
       "      <th>O3</th>\n",
       "      <th>Benzene</th>\n",
       "      <th>Toluene</th>\n",
       "      <th>Xylene</th>\n",
       "      <th>AQI</th>\n",
       "      <th>AQI_Bucket</th>\n",
       "    </tr>\n",
       "  </thead>\n",
       "  <tbody>\n",
       "    <tr>\n",
       "      <th>10229</th>\n",
       "      <td>Delhi</td>\n",
       "      <td>2015-01-01</td>\n",
       "      <td>313.22</td>\n",
       "      <td>607.98</td>\n",
       "      <td>69.16</td>\n",
       "      <td>36.39</td>\n",
       "      <td>110.59</td>\n",
       "      <td>33.85</td>\n",
       "      <td>15.20</td>\n",
       "      <td>9.25</td>\n",
       "      <td>41.68</td>\n",
       "      <td>14.36</td>\n",
       "      <td>24.86</td>\n",
       "      <td>9.84</td>\n",
       "      <td>472.0</td>\n",
       "      <td>Severe</td>\n",
       "    </tr>\n",
       "    <tr>\n",
       "      <th>10230</th>\n",
       "      <td>Delhi</td>\n",
       "      <td>2015-01-02</td>\n",
       "      <td>186.18</td>\n",
       "      <td>269.55</td>\n",
       "      <td>62.09</td>\n",
       "      <td>32.87</td>\n",
       "      <td>88.14</td>\n",
       "      <td>31.83</td>\n",
       "      <td>9.54</td>\n",
       "      <td>6.65</td>\n",
       "      <td>29.97</td>\n",
       "      <td>10.55</td>\n",
       "      <td>20.09</td>\n",
       "      <td>4.29</td>\n",
       "      <td>454.0</td>\n",
       "      <td>Severe</td>\n",
       "    </tr>\n",
       "    <tr>\n",
       "      <th>10231</th>\n",
       "      <td>Delhi</td>\n",
       "      <td>2015-01-03</td>\n",
       "      <td>87.18</td>\n",
       "      <td>131.90</td>\n",
       "      <td>25.73</td>\n",
       "      <td>30.31</td>\n",
       "      <td>47.95</td>\n",
       "      <td>69.55</td>\n",
       "      <td>10.61</td>\n",
       "      <td>2.65</td>\n",
       "      <td>19.71</td>\n",
       "      <td>3.91</td>\n",
       "      <td>10.23</td>\n",
       "      <td>1.99</td>\n",
       "      <td>143.0</td>\n",
       "      <td>Moderate</td>\n",
       "    </tr>\n",
       "    <tr>\n",
       "      <th>10232</th>\n",
       "      <td>Delhi</td>\n",
       "      <td>2015-01-04</td>\n",
       "      <td>151.84</td>\n",
       "      <td>241.84</td>\n",
       "      <td>25.01</td>\n",
       "      <td>36.91</td>\n",
       "      <td>48.62</td>\n",
       "      <td>130.36</td>\n",
       "      <td>11.54</td>\n",
       "      <td>4.63</td>\n",
       "      <td>25.36</td>\n",
       "      <td>4.26</td>\n",
       "      <td>9.71</td>\n",
       "      <td>3.34</td>\n",
       "      <td>319.0</td>\n",
       "      <td>Very Poor</td>\n",
       "    </tr>\n",
       "    <tr>\n",
       "      <th>10233</th>\n",
       "      <td>Delhi</td>\n",
       "      <td>2015-01-05</td>\n",
       "      <td>146.60</td>\n",
       "      <td>219.13</td>\n",
       "      <td>14.01</td>\n",
       "      <td>34.92</td>\n",
       "      <td>38.25</td>\n",
       "      <td>122.88</td>\n",
       "      <td>9.20</td>\n",
       "      <td>3.33</td>\n",
       "      <td>23.20</td>\n",
       "      <td>2.80</td>\n",
       "      <td>6.21</td>\n",
       "      <td>2.96</td>\n",
       "      <td>325.0</td>\n",
       "      <td>Very Poor</td>\n",
       "    </tr>\n",
       "  </tbody>\n",
       "</table>\n",
       "</div>"
      ],
      "text/plain": [
       "        City        Date   PM2.5    PM10     NO    NO2     NOx     NH3     CO  \\\n",
       "10229  Delhi  2015-01-01  313.22  607.98  69.16  36.39  110.59   33.85  15.20   \n",
       "10230  Delhi  2015-01-02  186.18  269.55  62.09  32.87   88.14   31.83   9.54   \n",
       "10231  Delhi  2015-01-03   87.18  131.90  25.73  30.31   47.95   69.55  10.61   \n",
       "10232  Delhi  2015-01-04  151.84  241.84  25.01  36.91   48.62  130.36  11.54   \n",
       "10233  Delhi  2015-01-05  146.60  219.13  14.01  34.92   38.25  122.88   9.20   \n",
       "\n",
       "        SO2     O3  Benzene  Toluene  Xylene    AQI AQI_Bucket  \n",
       "10229  9.25  41.68    14.36    24.86    9.84  472.0     Severe  \n",
       "10230  6.65  29.97    10.55    20.09    4.29  454.0     Severe  \n",
       "10231  2.65  19.71     3.91    10.23    1.99  143.0   Moderate  \n",
       "10232  4.63  25.36     4.26     9.71    3.34  319.0  Very Poor  \n",
       "10233  3.33  23.20     2.80     6.21    2.96  325.0  Very Poor  "
      ]
     },
     "execution_count": 23,
     "metadata": {},
     "output_type": "execute_result"
    }
   ],
   "source": [
    "delhi_data.head()"
   ]
  },
  {
   "cell_type": "code",
   "execution_count": 25,
   "metadata": {},
   "outputs": [],
   "source": [
    "def missing_values_table(df):\n",
    "        # Total missing values\n",
    "        mis_val = df.isnull().sum()\n",
    "        # Percentage of missing values\n",
    "        mis_val_percent = 100 * df.isnull().sum() / len(df)\n",
    "        \n",
    "        # Make a table with the results\n",
    "        mis_val_table = pd.concat([mis_val, mis_val_percent], axis=1)\n",
    "        \n",
    "        # Rename the columns\n",
    "        mis_val_table_ren_columns = mis_val_table.rename(\n",
    "        columns = {0 : 'Missing Values', 1 : '% of Total Values'})\n",
    "        \n",
    "        # Sort the table by percentage of missing descending\n",
    "        mis_val_table_ren_columns = mis_val_table_ren_columns[\n",
    "            mis_val_table_ren_columns.iloc[:,1] != 0].sort_values(\n",
    "        '% of Total Values', ascending=False).round(1)\n",
    "        \n",
    "        # Print some summary information\n",
    "        print (\"Your selected dataframe has \" + str(df.shape[1]) + \" columns.\\n\"      \n",
    "            \"There are \" + str(mis_val_table_ren_columns.shape[0]) +\n",
    "              \" columns that have missing values.\")\n",
    "        \n",
    "        # Return the dataframe with missing information\n",
    "        return mis_val_table_ren_columns"
   ]
  },
  {
   "cell_type": "code",
   "execution_count": 26,
   "metadata": {},
   "outputs": [
    {
     "data": {
      "application/vnd.plotly.v1+json": {
       "config": {
        "plotlyServerURL": "https://plot.ly"
       },
       "data": [
        {
         "hovertemplate": "Date=%{x}<br>PM2.5=%{y}<extra></extra>",
         "legendgroup": "",
         "line": {
          "color": "#636efa",
          "dash": "solid"
         },
         "mode": "lines",
         "name": "",
         "showlegend": false,
         "type": "scattergl",
         "x": [
          "2015-01-01",
          "2015-01-02",
          "2015-01-03",
          "2015-01-04",
          "2015-01-05",
          "2015-01-06",
          "2015-01-07",
          "2015-01-08",
          "2015-01-09",
          "2015-01-10",
          "2015-01-11",
          "2015-01-12",
          "2015-01-13",
          "2015-01-14",
          "2015-01-15",
          "2015-01-16",
          "2015-01-17",
          "2015-01-18",
          "2015-01-19",
          "2015-01-20",
          "2015-01-21",
          "2015-01-22",
          "2015-01-23",
          "2015-01-24",
          "2015-01-25",
          "2015-01-26",
          "2015-01-27",
          "2015-01-28",
          "2015-01-29",
          "2015-01-30",
          "2015-01-31",
          "2015-02-01",
          "2015-02-02",
          "2015-02-03",
          "2015-02-04",
          "2015-02-05",
          "2015-02-06",
          "2015-02-07",
          "2015-02-08",
          "2015-02-09",
          "2015-02-10",
          "2015-02-11",
          "2015-02-12",
          "2015-02-13",
          "2015-02-14",
          "2015-02-15",
          "2015-02-16",
          "2015-02-17",
          "2015-02-18",
          "2015-02-19",
          "2015-02-20",
          "2015-02-21",
          "2015-02-22",
          "2015-02-23",
          "2015-02-24",
          "2015-02-25",
          "2015-02-26",
          "2015-02-27",
          "2015-02-28",
          "2015-03-01",
          "2015-03-02",
          "2015-03-03",
          "2015-03-04",
          "2015-03-05",
          "2015-03-06",
          "2015-03-07",
          "2015-03-08",
          "2015-03-09",
          "2015-03-10",
          "2015-03-11",
          "2015-03-12",
          "2015-03-13",
          "2015-03-14",
          "2015-03-15",
          "2015-03-16",
          "2015-03-17",
          "2015-03-18",
          "2015-03-19",
          "2015-03-20",
          "2015-03-21",
          "2015-03-22",
          "2015-03-23",
          "2015-03-24",
          "2015-03-25",
          "2015-03-26",
          "2015-03-27",
          "2015-03-28",
          "2015-03-29",
          "2015-03-30",
          "2015-03-31",
          "2015-04-01",
          "2015-04-02",
          "2015-04-03",
          "2015-04-04",
          "2015-04-05",
          "2015-04-06",
          "2015-04-07",
          "2015-04-08",
          "2015-04-09",
          "2015-04-10",
          "2015-04-11",
          "2015-04-12",
          "2015-04-13",
          "2015-04-14",
          "2015-04-15",
          "2015-04-16",
          "2015-04-17",
          "2015-04-18",
          "2015-04-19",
          "2015-04-20",
          "2015-04-21",
          "2015-04-22",
          "2015-04-23",
          "2015-04-24",
          "2015-04-25",
          "2015-04-26",
          "2015-04-27",
          "2015-04-28",
          "2015-04-29",
          "2015-04-30",
          "2015-05-01",
          "2015-05-02",
          "2015-05-03",
          "2015-05-04",
          "2015-05-05",
          "2015-05-06",
          "2015-05-07",
          "2015-05-08",
          "2015-05-09",
          "2015-05-10",
          "2015-05-11",
          "2015-05-12",
          "2015-05-13",
          "2015-05-14",
          "2015-05-15",
          "2015-05-16",
          "2015-05-17",
          "2015-05-18",
          "2015-05-19",
          "2015-05-20",
          "2015-05-21",
          "2015-05-22",
          "2015-05-23",
          "2015-05-24",
          "2015-05-25",
          "2015-05-26",
          "2015-05-27",
          "2015-05-28",
          "2015-05-29",
          "2015-05-30",
          "2015-05-31",
          "2015-06-01",
          "2015-06-02",
          "2015-06-03",
          "2015-06-04",
          "2015-06-05",
          "2015-06-06",
          "2015-06-07",
          "2015-06-08",
          "2015-06-09",
          "2015-06-10",
          "2015-06-11",
          "2015-06-12",
          "2015-06-13",
          "2015-06-14",
          "2015-06-15",
          "2015-06-16",
          "2015-06-17",
          "2015-06-18",
          "2015-06-19",
          "2015-06-20",
          "2015-06-21",
          "2015-06-22",
          "2015-06-23",
          "2015-06-24",
          "2015-06-25",
          "2015-06-26",
          "2015-06-27",
          "2015-06-28",
          "2015-06-29",
          "2015-06-30",
          "2015-07-01",
          "2015-07-02",
          "2015-07-03",
          "2015-07-04",
          "2015-07-05",
          "2015-07-06",
          "2015-07-07",
          "2015-07-08",
          "2015-07-09",
          "2015-07-10",
          "2015-07-11",
          "2015-07-12",
          "2015-07-13",
          "2015-07-14",
          "2015-07-15",
          "2015-07-16",
          "2015-07-17",
          "2015-07-18",
          "2015-07-19",
          "2015-07-20",
          "2015-07-21",
          "2015-07-22",
          "2015-07-23",
          "2015-07-24",
          "2015-07-25",
          "2015-07-26",
          "2015-07-27",
          "2015-07-28",
          "2015-07-29",
          "2015-07-30",
          "2015-07-31",
          "2015-08-01",
          "2015-08-02",
          "2015-08-03",
          "2015-08-04",
          "2015-08-05",
          "2015-08-06",
          "2015-08-07",
          "2015-08-08",
          "2015-08-09",
          "2015-08-10",
          "2015-08-11",
          "2015-08-12",
          "2015-08-13",
          "2015-08-14",
          "2015-08-15",
          "2015-08-16",
          "2015-08-17",
          "2015-08-18",
          "2015-08-19",
          "2015-08-20",
          "2015-08-21",
          "2015-08-22",
          "2015-08-23",
          "2015-08-24",
          "2015-08-25",
          "2015-08-26",
          "2015-08-27",
          "2015-08-28",
          "2015-08-29",
          "2015-08-30",
          "2015-08-31",
          "2015-09-01",
          "2015-09-02",
          "2015-09-03",
          "2015-09-04",
          "2015-09-05",
          "2015-09-06",
          "2015-09-07",
          "2015-09-08",
          "2015-09-09",
          "2015-09-10",
          "2015-09-11",
          "2015-09-12",
          "2015-09-13",
          "2015-09-14",
          "2015-09-15",
          "2015-09-16",
          "2015-09-17",
          "2015-09-18",
          "2015-09-19",
          "2015-09-20",
          "2015-09-21",
          "2015-09-22",
          "2015-09-23",
          "2015-09-24",
          "2015-09-25",
          "2015-09-26",
          "2015-09-27",
          "2015-09-28",
          "2015-09-29",
          "2015-09-30",
          "2015-10-01",
          "2015-10-02",
          "2015-10-03",
          "2015-10-04",
          "2015-10-05",
          "2015-10-06",
          "2015-10-07",
          "2015-10-08",
          "2015-10-09",
          "2015-10-10",
          "2015-10-11",
          "2015-10-12",
          "2015-10-13",
          "2015-10-14",
          "2015-10-15",
          "2015-10-16",
          "2015-10-17",
          "2015-10-18",
          "2015-10-19",
          "2015-10-20",
          "2015-10-21",
          "2015-10-22",
          "2015-10-23",
          "2015-10-24",
          "2015-10-25",
          "2015-10-26",
          "2015-10-27",
          "2015-10-28",
          "2015-10-29",
          "2015-10-30",
          "2015-10-31",
          "2015-11-01",
          "2015-11-02",
          "2015-11-03",
          "2015-11-04",
          "2015-11-05",
          "2015-11-06",
          "2015-11-07",
          "2015-11-08",
          "2015-11-09",
          "2015-11-10",
          "2015-11-11",
          "2015-11-12",
          "2015-11-13",
          "2015-11-14",
          "2015-11-15",
          "2015-11-16",
          "2015-11-17",
          "2015-11-18",
          "2015-11-19",
          "2015-11-20",
          "2015-11-21",
          "2015-11-22",
          "2015-11-23",
          "2015-11-24",
          "2015-11-25",
          "2015-11-26",
          "2015-11-27",
          "2015-11-28",
          "2015-11-29",
          "2015-11-30",
          "2015-12-01",
          "2015-12-02",
          "2015-12-03",
          "2015-12-04",
          "2015-12-05",
          "2015-12-06",
          "2015-12-07",
          "2015-12-08",
          "2015-12-09",
          "2015-12-10",
          "2015-12-11",
          "2015-12-12",
          "2015-12-13",
          "2015-12-14",
          "2015-12-15",
          "2015-12-16",
          "2015-12-17",
          "2015-12-18",
          "2015-12-19",
          "2015-12-20",
          "2015-12-21",
          "2015-12-22",
          "2015-12-23",
          "2015-12-24",
          "2015-12-25",
          "2015-12-26",
          "2015-12-27",
          "2015-12-28",
          "2015-12-29",
          "2015-12-30",
          "2015-12-31",
          "2016-01-01",
          "2016-01-02",
          "2016-01-03",
          "2016-01-04",
          "2016-01-05",
          "2016-01-06",
          "2016-01-07",
          "2016-01-08",
          "2016-01-09",
          "2016-01-10",
          "2016-01-11",
          "2016-01-12",
          "2016-01-13",
          "2016-01-14",
          "2016-01-15",
          "2016-01-16",
          "2016-01-17",
          "2016-01-18",
          "2016-01-19",
          "2016-01-20",
          "2016-01-21",
          "2016-01-22",
          "2016-01-23",
          "2016-01-24",
          "2016-01-25",
          "2016-01-26",
          "2016-01-27",
          "2016-01-28",
          "2016-01-29",
          "2016-01-30",
          "2016-01-31",
          "2016-02-01",
          "2016-02-02",
          "2016-02-03",
          "2016-02-04",
          "2016-02-05",
          "2016-02-06",
          "2016-02-07",
          "2016-02-08",
          "2016-02-09",
          "2016-02-10",
          "2016-02-11",
          "2016-02-12",
          "2016-02-13",
          "2016-02-14",
          "2016-02-15",
          "2016-02-16",
          "2016-02-17",
          "2016-02-18",
          "2016-02-19",
          "2016-02-20",
          "2016-02-21",
          "2016-02-22",
          "2016-02-23",
          "2016-02-24",
          "2016-02-25",
          "2016-02-26",
          "2016-02-27",
          "2016-02-28",
          "2016-02-29",
          "2016-03-01",
          "2016-03-02",
          "2016-03-03",
          "2016-03-04",
          "2016-03-05",
          "2016-03-06",
          "2016-03-07",
          "2016-03-08",
          "2016-03-09",
          "2016-03-10",
          "2016-03-11",
          "2016-03-12",
          "2016-03-13",
          "2016-03-14",
          "2016-03-15",
          "2016-03-16",
          "2016-03-17",
          "2016-03-18",
          "2016-03-19",
          "2016-03-20",
          "2016-03-21",
          "2016-03-22",
          "2016-03-23",
          "2016-03-24",
          "2016-03-25",
          "2016-03-26",
          "2016-03-27",
          "2016-03-28",
          "2016-03-29",
          "2016-03-30",
          "2016-03-31",
          "2016-04-01",
          "2016-04-02",
          "2016-04-03",
          "2016-04-04",
          "2016-04-05",
          "2016-04-06",
          "2016-04-07",
          "2016-04-08",
          "2016-04-09",
          "2016-04-10",
          "2016-04-11",
          "2016-04-12",
          "2016-04-13",
          "2016-04-14",
          "2016-04-15",
          "2016-04-16",
          "2016-04-17",
          "2016-04-18",
          "2016-04-19",
          "2016-04-20",
          "2016-04-21",
          "2016-04-22",
          "2016-04-23",
          "2016-04-24",
          "2016-04-25",
          "2016-04-26",
          "2016-04-27",
          "2016-04-28",
          "2016-04-29",
          "2016-04-30",
          "2016-05-01",
          "2016-05-02",
          "2016-05-03",
          "2016-05-04",
          "2016-05-05",
          "2016-05-06",
          "2016-05-07",
          "2016-05-08",
          "2016-05-09",
          "2016-05-10",
          "2016-05-11",
          "2016-05-12",
          "2016-05-13",
          "2016-05-14",
          "2016-05-15",
          "2016-05-16",
          "2016-05-17",
          "2016-05-18",
          "2016-05-19",
          "2016-05-20",
          "2016-05-21",
          "2016-05-22",
          "2016-05-23",
          "2016-05-24",
          "2016-05-25",
          "2016-05-26",
          "2016-05-27",
          "2016-05-28",
          "2016-05-29",
          "2016-05-30",
          "2016-05-31",
          "2016-06-01",
          "2016-06-02",
          "2016-06-03",
          "2016-06-04",
          "2016-06-05",
          "2016-06-06",
          "2016-06-07",
          "2016-06-08",
          "2016-06-09",
          "2016-06-10",
          "2016-06-11",
          "2016-06-12",
          "2016-06-13",
          "2016-06-14",
          "2016-06-15",
          "2016-06-16",
          "2016-06-17",
          "2016-06-18",
          "2016-06-19",
          "2016-06-20",
          "2016-06-21",
          "2016-06-22",
          "2016-06-23",
          "2016-06-24",
          "2016-06-25",
          "2016-06-26",
          "2016-06-27",
          "2016-06-28",
          "2016-06-29",
          "2016-06-30",
          "2016-07-01",
          "2016-07-02",
          "2016-07-03",
          "2016-07-04",
          "2016-07-05",
          "2016-07-06",
          "2016-07-07",
          "2016-07-08",
          "2016-07-09",
          "2016-07-10",
          "2016-07-11",
          "2016-07-12",
          "2016-07-13",
          "2016-07-14",
          "2016-07-15",
          "2016-07-16",
          "2016-07-17",
          "2016-07-18",
          "2016-07-19",
          "2016-07-20",
          "2016-07-21",
          "2016-07-22",
          "2016-07-23",
          "2016-07-24",
          "2016-07-25",
          "2016-07-26",
          "2016-07-27",
          "2016-07-28",
          "2016-07-29",
          "2016-07-30",
          "2016-07-31",
          "2016-08-01",
          "2016-08-02",
          "2016-08-03",
          "2016-08-04",
          "2016-08-05",
          "2016-08-06",
          "2016-08-07",
          "2016-08-08",
          "2016-08-09",
          "2016-08-10",
          "2016-08-11",
          "2016-08-12",
          "2016-08-13",
          "2016-08-14",
          "2016-08-15",
          "2016-08-16",
          "2016-08-17",
          "2016-08-18",
          "2016-08-19",
          "2016-08-20",
          "2016-08-21",
          "2016-08-22",
          "2016-08-23",
          "2016-08-24",
          "2016-08-25",
          "2016-08-26",
          "2016-08-27",
          "2016-08-28",
          "2016-08-29",
          "2016-08-30",
          "2016-08-31",
          "2016-09-01",
          "2016-09-02",
          "2016-09-03",
          "2016-09-04",
          "2016-09-05",
          "2016-09-06",
          "2016-09-07",
          "2016-09-08",
          "2016-09-09",
          "2016-09-10",
          "2016-09-11",
          "2016-09-12",
          "2016-09-13",
          "2016-09-14",
          "2016-09-15",
          "2016-09-16",
          "2016-09-17",
          "2016-09-18",
          "2016-09-19",
          "2016-09-20",
          "2016-09-21",
          "2016-09-22",
          "2016-09-23",
          "2016-09-24",
          "2016-09-25",
          "2016-09-26",
          "2016-09-27",
          "2016-09-28",
          "2016-09-29",
          "2016-09-30",
          "2016-10-01",
          "2016-10-02",
          "2016-10-03",
          "2016-10-04",
          "2016-10-05",
          "2016-10-06",
          "2016-10-07",
          "2016-10-08",
          "2016-10-09",
          "2016-10-10",
          "2016-10-11",
          "2016-10-12",
          "2016-10-13",
          "2016-10-14",
          "2016-10-15",
          "2016-10-16",
          "2016-10-17",
          "2016-10-18",
          "2016-10-19",
          "2016-10-20",
          "2016-10-21",
          "2016-10-22",
          "2016-10-23",
          "2016-10-24",
          "2016-10-25",
          "2016-10-26",
          "2016-10-27",
          "2016-10-28",
          "2016-10-29",
          "2016-10-30",
          "2016-10-31",
          "2016-11-01",
          "2016-11-02",
          "2016-11-03",
          "2016-11-04",
          "2016-11-05",
          "2016-11-06",
          "2016-11-07",
          "2016-11-08",
          "2016-11-09",
          "2016-11-10",
          "2016-11-11",
          "2016-11-12",
          "2016-11-13",
          "2016-11-14",
          "2016-11-15",
          "2016-11-16",
          "2016-11-17",
          "2016-11-18",
          "2016-11-19",
          "2016-11-20",
          "2016-11-21",
          "2016-11-22",
          "2016-11-23",
          "2016-11-24",
          "2016-11-25",
          "2016-11-26",
          "2016-11-27",
          "2016-11-28",
          "2016-11-29",
          "2016-11-30",
          "2016-12-01",
          "2016-12-02",
          "2016-12-03",
          "2016-12-04",
          "2016-12-05",
          "2016-12-06",
          "2016-12-07",
          "2016-12-08",
          "2016-12-09",
          "2016-12-10",
          "2016-12-11",
          "2016-12-12",
          "2016-12-13",
          "2016-12-14",
          "2016-12-15",
          "2016-12-16",
          "2016-12-17",
          "2016-12-18",
          "2016-12-19",
          "2016-12-20",
          "2016-12-21",
          "2016-12-22",
          "2016-12-23",
          "2016-12-24",
          "2016-12-25",
          "2016-12-26",
          "2016-12-27",
          "2016-12-28",
          "2016-12-29",
          "2016-12-30",
          "2016-12-31",
          "2017-01-01",
          "2017-01-02",
          "2017-01-03",
          "2017-01-04",
          "2017-01-05",
          "2017-01-06",
          "2017-01-07",
          "2017-01-08",
          "2017-01-09",
          "2017-01-10",
          "2017-01-11",
          "2017-01-12",
          "2017-01-13",
          "2017-01-14",
          "2017-01-15",
          "2017-01-16",
          "2017-01-17",
          "2017-01-18",
          "2017-01-19",
          "2017-01-20",
          "2017-01-21",
          "2017-01-22",
          "2017-01-23",
          "2017-01-24",
          "2017-01-25",
          "2017-01-26",
          "2017-01-27",
          "2017-01-28",
          "2017-01-29",
          "2017-01-30",
          "2017-01-31",
          "2017-02-01",
          "2017-02-02",
          "2017-02-03",
          "2017-02-04",
          "2017-02-05",
          "2017-02-06",
          "2017-02-07",
          "2017-02-08",
          "2017-02-09",
          "2017-02-10",
          "2017-02-11",
          "2017-02-12",
          "2017-02-13",
          "2017-02-14",
          "2017-02-15",
          "2017-02-16",
          "2017-02-17",
          "2017-02-18",
          "2017-02-19",
          "2017-02-20",
          "2017-02-21",
          "2017-02-22",
          "2017-02-23",
          "2017-02-24",
          "2017-02-25",
          "2017-02-26",
          "2017-02-27",
          "2017-02-28",
          "2017-03-01",
          "2017-03-02",
          "2017-03-03",
          "2017-03-04",
          "2017-03-05",
          "2017-03-06",
          "2017-03-07",
          "2017-03-08",
          "2017-03-09",
          "2017-03-10",
          "2017-03-11",
          "2017-03-12",
          "2017-03-13",
          "2017-03-14",
          "2017-03-15",
          "2017-03-16",
          "2017-03-17",
          "2017-03-18",
          "2017-03-19",
          "2017-03-20",
          "2017-03-21",
          "2017-03-22",
          "2017-03-23",
          "2017-03-24",
          "2017-03-25",
          "2017-03-26",
          "2017-03-27",
          "2017-03-28",
          "2017-03-29",
          "2017-03-30",
          "2017-03-31",
          "2017-04-01",
          "2017-04-02",
          "2017-04-03",
          "2017-04-04",
          "2017-04-05",
          "2017-04-06",
          "2017-04-07",
          "2017-04-08",
          "2017-04-09",
          "2017-04-10",
          "2017-04-11",
          "2017-04-12",
          "2017-04-13",
          "2017-04-14",
          "2017-04-15",
          "2017-04-16",
          "2017-04-17",
          "2017-04-18",
          "2017-04-19",
          "2017-04-20",
          "2017-04-21",
          "2017-04-22",
          "2017-04-23",
          "2017-04-24",
          "2017-04-25",
          "2017-04-26",
          "2017-04-27",
          "2017-04-28",
          "2017-04-29",
          "2017-04-30",
          "2017-05-01",
          "2017-05-02",
          "2017-05-03",
          "2017-05-04",
          "2017-05-05",
          "2017-05-06",
          "2017-05-07",
          "2017-05-08",
          "2017-05-09",
          "2017-05-10",
          "2017-05-11",
          "2017-05-12",
          "2017-05-13",
          "2017-05-14",
          "2017-05-15",
          "2017-05-16",
          "2017-05-17",
          "2017-05-18",
          "2017-05-19",
          "2017-05-20",
          "2017-05-21",
          "2017-05-22",
          "2017-05-23",
          "2017-05-24",
          "2017-05-25",
          "2017-05-26",
          "2017-05-27",
          "2017-05-28",
          "2017-05-29",
          "2017-05-30",
          "2017-05-31",
          "2017-06-01",
          "2017-06-02",
          "2017-06-03",
          "2017-06-04",
          "2017-06-05",
          "2017-06-06",
          "2017-06-07",
          "2017-06-08",
          "2017-06-09",
          "2017-06-10",
          "2017-06-11",
          "2017-06-12",
          "2017-06-13",
          "2017-06-14",
          "2017-06-15",
          "2017-06-16",
          "2017-06-17",
          "2017-06-18",
          "2017-06-19",
          "2017-06-20",
          "2017-06-21",
          "2017-06-22",
          "2017-06-23",
          "2017-06-24",
          "2017-06-25",
          "2017-06-26",
          "2017-06-27",
          "2017-06-28",
          "2017-06-29",
          "2017-06-30",
          "2017-07-01",
          "2017-07-02",
          "2017-07-03",
          "2017-07-04",
          "2017-07-05",
          "2017-07-06",
          "2017-07-07",
          "2017-07-08",
          "2017-07-09",
          "2017-07-10",
          "2017-07-11",
          "2017-07-12",
          "2017-07-13",
          "2017-07-14",
          "2017-07-15",
          "2017-07-16",
          "2017-07-17",
          "2017-07-18",
          "2017-07-19",
          "2017-07-20",
          "2017-07-21",
          "2017-07-22",
          "2017-07-23",
          "2017-07-24",
          "2017-07-25",
          "2017-07-26",
          "2017-07-27",
          "2017-07-28",
          "2017-07-29",
          "2017-07-30",
          "2017-07-31",
          "2017-08-01",
          "2017-08-02",
          "2017-08-03",
          "2017-08-04",
          "2017-08-05",
          "2017-08-06",
          "2017-08-07",
          "2017-08-08",
          "2017-08-09",
          "2017-08-10",
          "2017-08-11",
          "2017-08-12",
          "2017-08-13",
          "2017-08-14",
          "2017-08-15",
          "2017-08-16",
          "2017-08-17",
          "2017-08-18",
          "2017-08-19",
          "2017-08-20",
          "2017-08-21",
          "2017-08-22",
          "2017-08-23",
          "2017-08-24",
          "2017-08-25",
          "2017-08-26",
          "2017-08-27",
          "2017-08-28",
          "2017-08-29",
          "2017-08-30",
          "2017-08-31",
          "2017-09-01",
          "2017-09-02",
          "2017-09-03",
          "2017-09-04",
          "2017-09-05",
          "2017-09-06",
          "2017-09-07",
          "2017-09-08",
          "2017-09-09",
          "2017-09-10",
          "2017-09-11",
          "2017-09-12",
          "2017-09-13",
          "2017-09-14",
          "2017-09-15",
          "2017-09-16",
          "2017-09-17",
          "2017-09-18",
          "2017-09-19",
          "2017-09-20",
          "2017-09-21",
          "2017-09-22",
          "2017-09-23",
          "2017-09-24",
          "2017-09-25",
          "2017-09-26",
          "2017-09-27",
          "2017-09-28",
          "2017-09-29",
          "2017-09-30",
          "2017-10-01",
          "2017-10-02",
          "2017-10-03",
          "2017-10-04",
          "2017-10-05",
          "2017-10-06",
          "2017-10-07",
          "2017-10-08",
          "2017-10-09",
          "2017-10-10",
          "2017-10-11",
          "2017-10-12",
          "2017-10-13",
          "2017-10-14",
          "2017-10-15",
          "2017-10-16",
          "2017-10-17",
          "2017-10-18",
          "2017-10-19",
          "2017-10-20",
          "2017-10-21",
          "2017-10-22",
          "2017-10-23",
          "2017-10-24",
          "2017-10-25",
          "2017-10-26",
          "2017-10-27",
          "2017-10-28",
          "2017-10-29",
          "2017-10-30",
          "2017-10-31",
          "2017-11-01",
          "2017-11-02",
          "2017-11-03",
          "2017-11-04",
          "2017-11-05",
          "2017-11-06",
          "2017-11-07",
          "2017-11-08",
          "2017-11-09",
          "2017-11-10",
          "2017-11-11",
          "2017-11-12",
          "2017-11-13",
          "2017-11-14",
          "2017-11-15",
          "2017-11-16",
          "2017-11-17",
          "2017-11-18",
          "2017-11-19",
          "2017-11-20",
          "2017-11-21",
          "2017-11-22",
          "2017-11-23",
          "2017-11-24",
          "2017-11-25",
          "2017-11-26",
          "2017-11-27",
          "2017-11-28",
          "2017-11-29",
          "2017-11-30",
          "2017-12-01",
          "2017-12-02",
          "2017-12-03",
          "2017-12-04",
          "2017-12-05",
          "2017-12-06",
          "2017-12-07",
          "2017-12-08",
          "2017-12-09",
          "2017-12-10",
          "2017-12-11",
          "2017-12-12",
          "2017-12-13",
          "2017-12-14",
          "2017-12-15",
          "2017-12-16",
          "2017-12-17",
          "2017-12-18",
          "2017-12-19",
          "2017-12-20",
          "2017-12-21",
          "2017-12-22",
          "2017-12-23",
          "2017-12-24",
          "2017-12-25",
          "2017-12-26",
          "2017-12-27",
          "2017-12-28",
          "2017-12-29",
          "2017-12-30",
          "2017-12-31",
          "2018-01-01",
          "2018-01-02",
          "2018-01-03",
          "2018-01-04",
          "2018-01-05",
          "2018-01-06",
          "2018-01-07",
          "2018-01-08",
          "2018-01-09",
          "2018-01-10",
          "2018-01-11",
          "2018-01-12",
          "2018-01-13",
          "2018-01-14",
          "2018-01-15",
          "2018-01-16",
          "2018-01-17",
          "2018-01-18",
          "2018-01-19",
          "2018-01-20",
          "2018-01-21",
          "2018-01-22",
          "2018-01-23",
          "2018-01-24",
          "2018-01-25",
          "2018-01-26",
          "2018-01-27",
          "2018-01-28",
          "2018-01-29",
          "2018-01-30",
          "2018-01-31",
          "2018-02-01",
          "2018-02-02",
          "2018-02-03",
          "2018-02-04",
          "2018-02-05",
          "2018-02-06",
          "2018-02-07",
          "2018-02-08",
          "2018-02-09",
          "2018-02-10",
          "2018-02-11",
          "2018-02-12",
          "2018-02-13",
          "2018-02-14",
          "2018-02-15",
          "2018-02-16",
          "2018-02-17",
          "2018-02-18",
          "2018-02-19",
          "2018-02-20",
          "2018-02-21",
          "2018-02-22",
          "2018-02-23",
          "2018-02-24",
          "2018-02-25",
          "2018-02-26",
          "2018-02-27",
          "2018-02-28",
          "2018-03-01",
          "2018-03-02",
          "2018-03-03",
          "2018-03-04",
          "2018-03-05",
          "2018-03-06",
          "2018-03-07",
          "2018-03-08",
          "2018-03-09",
          "2018-03-10",
          "2018-03-11",
          "2018-03-12",
          "2018-03-13",
          "2018-03-14",
          "2018-03-15",
          "2018-03-16",
          "2018-03-17",
          "2018-03-18",
          "2018-03-19",
          "2018-03-20",
          "2018-03-21",
          "2018-03-22",
          "2018-03-23",
          "2018-03-24",
          "2018-03-25",
          "2018-03-26",
          "2018-03-27",
          "2018-03-28",
          "2018-03-29",
          "2018-03-30",
          "2018-03-31",
          "2018-04-01",
          "2018-04-02",
          "2018-04-03",
          "2018-04-04",
          "2018-04-05",
          "2018-04-06",
          "2018-04-07",
          "2018-04-08",
          "2018-04-09",
          "2018-04-10",
          "2018-04-11",
          "2018-04-12",
          "2018-04-13",
          "2018-04-14",
          "2018-04-15",
          "2018-04-16",
          "2018-04-17",
          "2018-04-18",
          "2018-04-19",
          "2018-04-20",
          "2018-04-21",
          "2018-04-22",
          "2018-04-23",
          "2018-04-24",
          "2018-04-25",
          "2018-04-26",
          "2018-04-27",
          "2018-04-28",
          "2018-04-29",
          "2018-04-30",
          "2018-05-01",
          "2018-05-02",
          "2018-05-03",
          "2018-05-04",
          "2018-05-05",
          "2018-05-06",
          "2018-05-07",
          "2018-05-08",
          "2018-05-09",
          "2018-05-10",
          "2018-05-11",
          "2018-05-12",
          "2018-05-13",
          "2018-05-14",
          "2018-05-15",
          "2018-05-16",
          "2018-05-17",
          "2018-05-18",
          "2018-05-19",
          "2018-05-20",
          "2018-05-21",
          "2018-05-22",
          "2018-05-23",
          "2018-05-24",
          "2018-05-25",
          "2018-05-26",
          "2018-05-27",
          "2018-05-28",
          "2018-05-29",
          "2018-05-30",
          "2018-05-31",
          "2018-06-01",
          "2018-06-02",
          "2018-06-03",
          "2018-06-04",
          "2018-06-05",
          "2018-06-06",
          "2018-06-07",
          "2018-06-08",
          "2018-06-09",
          "2018-06-10",
          "2018-06-11",
          "2018-06-12",
          "2018-06-13",
          "2018-06-14",
          "2018-06-15",
          "2018-06-16",
          "2018-06-17",
          "2018-06-18",
          "2018-06-19",
          "2018-06-20",
          "2018-06-21",
          "2018-06-22",
          "2018-06-23",
          "2018-06-24",
          "2018-06-25",
          "2018-06-26",
          "2018-06-27",
          "2018-06-28",
          "2018-06-29",
          "2018-06-30",
          "2018-07-01",
          "2018-07-02",
          "2018-07-03",
          "2018-07-04",
          "2018-07-05",
          "2018-07-06",
          "2018-07-07",
          "2018-07-08",
          "2018-07-09",
          "2018-07-10",
          "2018-07-11",
          "2018-07-12",
          "2018-07-13",
          "2018-07-14",
          "2018-07-15",
          "2018-07-16",
          "2018-07-17",
          "2018-07-18",
          "2018-07-19",
          "2018-07-20",
          "2018-07-21",
          "2018-07-22",
          "2018-07-23",
          "2018-07-24",
          "2018-07-25",
          "2018-07-26",
          "2018-07-27",
          "2018-07-28",
          "2018-07-29",
          "2018-07-30",
          "2018-07-31",
          "2018-08-01",
          "2018-08-02",
          "2018-08-03",
          "2018-08-04",
          "2018-08-05",
          "2018-08-06",
          "2018-08-07",
          "2018-08-08",
          "2018-08-09",
          "2018-08-10",
          "2018-08-11",
          "2018-08-12",
          "2018-08-13",
          "2018-08-14",
          "2018-08-15",
          "2018-08-16",
          "2018-08-17",
          "2018-08-18",
          "2018-08-19",
          "2018-08-20",
          "2018-08-21",
          "2018-08-22",
          "2018-08-23",
          "2018-08-24",
          "2018-08-25",
          "2018-08-26",
          "2018-08-27",
          "2018-08-28",
          "2018-08-29",
          "2018-08-30",
          "2018-08-31",
          "2018-09-01",
          "2018-09-02",
          "2018-09-03",
          "2018-09-04",
          "2018-09-05",
          "2018-09-06",
          "2018-09-07",
          "2018-09-08",
          "2018-09-09",
          "2018-09-10",
          "2018-09-11",
          "2018-09-12",
          "2018-09-13",
          "2018-09-14",
          "2018-09-15",
          "2018-09-16",
          "2018-09-17",
          "2018-09-18",
          "2018-09-19",
          "2018-09-20",
          "2018-09-21",
          "2018-09-22",
          "2018-09-23",
          "2018-09-24",
          "2018-09-25",
          "2018-09-26",
          "2018-09-27",
          "2018-09-28",
          "2018-09-29",
          "2018-09-30",
          "2018-10-01",
          "2018-10-02",
          "2018-10-03",
          "2018-10-04",
          "2018-10-05",
          "2018-10-06",
          "2018-10-07",
          "2018-10-08",
          "2018-10-09",
          "2018-10-10",
          "2018-10-11",
          "2018-10-12",
          "2018-10-13",
          "2018-10-14",
          "2018-10-15",
          "2018-10-16",
          "2018-10-17",
          "2018-10-18",
          "2018-10-19",
          "2018-10-20",
          "2018-10-21",
          "2018-10-22",
          "2018-10-23",
          "2018-10-24",
          "2018-10-25",
          "2018-10-26",
          "2018-10-27",
          "2018-10-28",
          "2018-10-29",
          "2018-10-30",
          "2018-10-31",
          "2018-11-01",
          "2018-11-02",
          "2018-11-03",
          "2018-11-04",
          "2018-11-05",
          "2018-11-06",
          "2018-11-07",
          "2018-11-08",
          "2018-11-09",
          "2018-11-10",
          "2018-11-11",
          "2018-11-12",
          "2018-11-13",
          "2018-11-14",
          "2018-11-15",
          "2018-11-16",
          "2018-11-17",
          "2018-11-18",
          "2018-11-19",
          "2018-11-20",
          "2018-11-21",
          "2018-11-22",
          "2018-11-23",
          "2018-11-24",
          "2018-11-25",
          "2018-11-26",
          "2018-11-27",
          "2018-11-28",
          "2018-11-29",
          "2018-11-30",
          "2018-12-01",
          "2018-12-02",
          "2018-12-03",
          "2018-12-04",
          "2018-12-05",
          "2018-12-06",
          "2018-12-07",
          "2018-12-08",
          "2018-12-09",
          "2018-12-10",
          "2018-12-11",
          "2018-12-12",
          "2018-12-13",
          "2018-12-14",
          "2018-12-15",
          "2018-12-16",
          "2018-12-17",
          "2018-12-18",
          "2018-12-19",
          "2018-12-20",
          "2018-12-21",
          "2018-12-22",
          "2018-12-23",
          "2018-12-24",
          "2018-12-25",
          "2018-12-26",
          "2018-12-27",
          "2018-12-28",
          "2018-12-29",
          "2018-12-30",
          "2018-12-31",
          "2019-01-01",
          "2019-01-02",
          "2019-01-03",
          "2019-01-04",
          "2019-01-05",
          "2019-01-06",
          "2019-01-07",
          "2019-01-08",
          "2019-01-09",
          "2019-01-10",
          "2019-01-11",
          "2019-01-12",
          "2019-01-13",
          "2019-01-14",
          "2019-01-15",
          "2019-01-16",
          "2019-01-17",
          "2019-01-18",
          "2019-01-19",
          "2019-01-20",
          "2019-01-21",
          "2019-01-22",
          "2019-01-23",
          "2019-01-24",
          "2019-01-25",
          "2019-01-26",
          "2019-01-27",
          "2019-01-28",
          "2019-01-29",
          "2019-01-30",
          "2019-01-31",
          "2019-02-01",
          "2019-02-02",
          "2019-02-03",
          "2019-02-04",
          "2019-02-05",
          "2019-02-06",
          "2019-02-07",
          "2019-02-08",
          "2019-02-09",
          "2019-02-10",
          "2019-02-11",
          "2019-02-12",
          "2019-02-13",
          "2019-02-14",
          "2019-02-15",
          "2019-02-16",
          "2019-02-17",
          "2019-02-18",
          "2019-02-19",
          "2019-02-20",
          "2019-02-21",
          "2019-02-22",
          "2019-02-23",
          "2019-02-24",
          "2019-02-25",
          "2019-02-26",
          "2019-02-27",
          "2019-02-28",
          "2019-03-01",
          "2019-03-02",
          "2019-03-03",
          "2019-03-04",
          "2019-03-05",
          "2019-03-06",
          "2019-03-07",
          "2019-03-08",
          "2019-03-09",
          "2019-03-10",
          "2019-03-11",
          "2019-03-12",
          "2019-03-13",
          "2019-03-14",
          "2019-03-15",
          "2019-03-16",
          "2019-03-17",
          "2019-03-18",
          "2019-03-19",
          "2019-03-20",
          "2019-03-21",
          "2019-03-22",
          "2019-03-23",
          "2019-03-24",
          "2019-03-25",
          "2019-03-26",
          "2019-03-27",
          "2019-03-28",
          "2019-03-29",
          "2019-03-30",
          "2019-03-31",
          "2019-04-01",
          "2019-04-02",
          "2019-04-03",
          "2019-04-04",
          "2019-04-05",
          "2019-04-06",
          "2019-04-07",
          "2019-04-08",
          "2019-04-09",
          "2019-04-10",
          "2019-04-11",
          "2019-04-12",
          "2019-04-13",
          "2019-04-14",
          "2019-04-15",
          "2019-04-16",
          "2019-04-17",
          "2019-04-18",
          "2019-04-19",
          "2019-04-20",
          "2019-04-21",
          "2019-04-22",
          "2019-04-23",
          "2019-04-24",
          "2019-04-25",
          "2019-04-26",
          "2019-04-27",
          "2019-04-28",
          "2019-04-29",
          "2019-04-30",
          "2019-05-01",
          "2019-05-02",
          "2019-05-03",
          "2019-05-04",
          "2019-05-05",
          "2019-05-06",
          "2019-05-07",
          "2019-05-08",
          "2019-05-09",
          "2019-05-10",
          "2019-05-11",
          "2019-05-12",
          "2019-05-13",
          "2019-05-14",
          "2019-05-15",
          "2019-05-16",
          "2019-05-17",
          "2019-05-18",
          "2019-05-19",
          "2019-05-20",
          "2019-05-21",
          "2019-05-22",
          "2019-05-23",
          "2019-05-24",
          "2019-05-25",
          "2019-05-26",
          "2019-05-27",
          "2019-05-28",
          "2019-05-29",
          "2019-05-30",
          "2019-05-31",
          "2019-06-01",
          "2019-06-02",
          "2019-06-03",
          "2019-06-04",
          "2019-06-05",
          "2019-06-06",
          "2019-06-07",
          "2019-06-08",
          "2019-06-09",
          "2019-06-10",
          "2019-06-11",
          "2019-06-12",
          "2019-06-13",
          "2019-06-14",
          "2019-06-15",
          "2019-06-16",
          "2019-06-17",
          "2019-06-18",
          "2019-06-19",
          "2019-06-20",
          "2019-06-21",
          "2019-06-22",
          "2019-06-23",
          "2019-06-24",
          "2019-06-25",
          "2019-06-26",
          "2019-06-27",
          "2019-06-28",
          "2019-06-29",
          "2019-06-30",
          "2019-07-01",
          "2019-07-02",
          "2019-07-03",
          "2019-07-04",
          "2019-07-05",
          "2019-07-06",
          "2019-07-07",
          "2019-07-08",
          "2019-07-09",
          "2019-07-10",
          "2019-07-11",
          "2019-07-12",
          "2019-07-13",
          "2019-07-14",
          "2019-07-15",
          "2019-07-16",
          "2019-07-17",
          "2019-07-18",
          "2019-07-19",
          "2019-07-20",
          "2019-07-21",
          "2019-07-22",
          "2019-07-23",
          "2019-07-24",
          "2019-07-25",
          "2019-07-26",
          "2019-07-27",
          "2019-07-28",
          "2019-07-29",
          "2019-07-30",
          "2019-07-31",
          "2019-08-01",
          "2019-08-02",
          "2019-08-03",
          "2019-08-04",
          "2019-08-05",
          "2019-08-06",
          "2019-08-07",
          "2019-08-08",
          "2019-08-09",
          "2019-08-10",
          "2019-08-11",
          "2019-08-12",
          "2019-08-13",
          "2019-08-14",
          "2019-08-15",
          "2019-08-16",
          "2019-08-17",
          "2019-08-18",
          "2019-08-19",
          "2019-08-20",
          "2019-08-21",
          "2019-08-22",
          "2019-08-23",
          "2019-08-24",
          "2019-08-25",
          "2019-08-26",
          "2019-08-27",
          "2019-08-28",
          "2019-08-29",
          "2019-08-30",
          "2019-08-31",
          "2019-09-01",
          "2019-09-02",
          "2019-09-03",
          "2019-09-04",
          "2019-09-05",
          "2019-09-06",
          "2019-09-07",
          "2019-09-08",
          "2019-09-09",
          "2019-09-10",
          "2019-09-11",
          "2019-09-12",
          "2019-09-13",
          "2019-09-14",
          "2019-09-15",
          "2019-09-16",
          "2019-09-17",
          "2019-09-18",
          "2019-09-19",
          "2019-09-20",
          "2019-09-21",
          "2019-09-22",
          "2019-09-23",
          "2019-09-24",
          "2019-09-25",
          "2019-09-26",
          "2019-09-27",
          "2019-09-28",
          "2019-09-29",
          "2019-09-30",
          "2019-10-01",
          "2019-10-02",
          "2019-10-03",
          "2019-10-04",
          "2019-10-05",
          "2019-10-06",
          "2019-10-07",
          "2019-10-08",
          "2019-10-09",
          "2019-10-10",
          "2019-10-11",
          "2019-10-12",
          "2019-10-13",
          "2019-10-14",
          "2019-10-15",
          "2019-10-16",
          "2019-10-17",
          "2019-10-18",
          "2019-10-19",
          "2019-10-20",
          "2019-10-21",
          "2019-10-22",
          "2019-10-23",
          "2019-10-24",
          "2019-10-25",
          "2019-10-26",
          "2019-10-27",
          "2019-10-28",
          "2019-10-29",
          "2019-10-30",
          "2019-10-31",
          "2019-11-01",
          "2019-11-02",
          "2019-11-03",
          "2019-11-04",
          "2019-11-05",
          "2019-11-06",
          "2019-11-07",
          "2019-11-08",
          "2019-11-09",
          "2019-11-10",
          "2019-11-11",
          "2019-11-12",
          "2019-11-13",
          "2019-11-14",
          "2019-11-15",
          "2019-11-16",
          "2019-11-17",
          "2019-11-18",
          "2019-11-19",
          "2019-11-20",
          "2019-11-21",
          "2019-11-22",
          "2019-11-23",
          "2019-11-24",
          "2019-11-25",
          "2019-11-26",
          "2019-11-27",
          "2019-11-28",
          "2019-11-29",
          "2019-11-30",
          "2019-12-01",
          "2019-12-02",
          "2019-12-03",
          "2019-12-04",
          "2019-12-05",
          "2019-12-06",
          "2019-12-07",
          "2019-12-08",
          "2019-12-09",
          "2019-12-10",
          "2019-12-11",
          "2019-12-12",
          "2019-12-13",
          "2019-12-14",
          "2019-12-15",
          "2019-12-16",
          "2019-12-17",
          "2019-12-18",
          "2019-12-19",
          "2019-12-20",
          "2019-12-21",
          "2019-12-22",
          "2019-12-23",
          "2019-12-24",
          "2019-12-25",
          "2019-12-26",
          "2019-12-27",
          "2019-12-28",
          "2019-12-29",
          "2019-12-30",
          "2019-12-31",
          "2020-01-01",
          "2020-01-02",
          "2020-01-03",
          "2020-01-04",
          "2020-01-05",
          "2020-01-06",
          "2020-01-07",
          "2020-01-08",
          "2020-01-09",
          "2020-01-10",
          "2020-01-11",
          "2020-01-12",
          "2020-01-13",
          "2020-01-14",
          "2020-01-15",
          "2020-01-16",
          "2020-01-17",
          "2020-01-18",
          "2020-01-19",
          "2020-01-20",
          "2020-01-21",
          "2020-01-22",
          "2020-01-23",
          "2020-01-24",
          "2020-01-25",
          "2020-01-26",
          "2020-01-27",
          "2020-01-28",
          "2020-01-29",
          "2020-01-30",
          "2020-01-31",
          "2020-02-01",
          "2020-02-02",
          "2020-02-03",
          "2020-02-04",
          "2020-02-05",
          "2020-02-06",
          "2020-02-07",
          "2020-02-08",
          "2020-02-09",
          "2020-02-10",
          "2020-02-11",
          "2020-02-12",
          "2020-02-13",
          "2020-02-14",
          "2020-02-15",
          "2020-02-16",
          "2020-02-17",
          "2020-02-18",
          "2020-02-19",
          "2020-02-20",
          "2020-02-21",
          "2020-02-22",
          "2020-02-23",
          "2020-02-24",
          "2020-02-25",
          "2020-02-26",
          "2020-02-27",
          "2020-02-28",
          "2020-02-29",
          "2020-03-01",
          "2020-03-02",
          "2020-03-03",
          "2020-03-04",
          "2020-03-05",
          "2020-03-06",
          "2020-03-07",
          "2020-03-08",
          "2020-03-09",
          "2020-03-10",
          "2020-03-11",
          "2020-03-12",
          "2020-03-13",
          "2020-03-14",
          "2020-03-15",
          "2020-03-16",
          "2020-03-17",
          "2020-03-18",
          "2020-03-19",
          "2020-03-20",
          "2020-03-21",
          "2020-03-22",
          "2020-03-23",
          "2020-03-24",
          "2020-03-25",
          "2020-03-26",
          "2020-03-27",
          "2020-03-28",
          "2020-03-29",
          "2020-03-30",
          "2020-03-31",
          "2020-04-01",
          "2020-04-02",
          "2020-04-03",
          "2020-04-04",
          "2020-04-05",
          "2020-04-06",
          "2020-04-07",
          "2020-04-08",
          "2020-04-09",
          "2020-04-10",
          "2020-04-11",
          "2020-04-12",
          "2020-04-13",
          "2020-04-14",
          "2020-04-15",
          "2020-04-16",
          "2020-04-17",
          "2020-04-18",
          "2020-04-19",
          "2020-04-20",
          "2020-04-21",
          "2020-04-22",
          "2020-04-23",
          "2020-04-24",
          "2020-04-25",
          "2020-04-26",
          "2020-04-27",
          "2020-04-28",
          "2020-04-29",
          "2020-04-30",
          "2020-05-01",
          "2020-05-02",
          "2020-05-03",
          "2020-05-04",
          "2020-05-05",
          "2020-05-06",
          "2020-05-07",
          "2020-05-08",
          "2020-05-09",
          "2020-05-10",
          "2020-05-11",
          "2020-05-12",
          "2020-05-13",
          "2020-05-14",
          "2020-05-15",
          "2020-05-16",
          "2020-05-17",
          "2020-05-18",
          "2020-05-19",
          "2020-05-20",
          "2020-05-21",
          "2020-05-22",
          "2020-05-23",
          "2020-05-24",
          "2020-05-25",
          "2020-05-26",
          "2020-05-27",
          "2020-05-28",
          "2020-05-29",
          "2020-05-30",
          "2020-05-31",
          "2020-06-01",
          "2020-06-02",
          "2020-06-03",
          "2020-06-04",
          "2020-06-05",
          "2020-06-06",
          "2020-06-07",
          "2020-06-08",
          "2020-06-09",
          "2020-06-10",
          "2020-06-11",
          "2020-06-12",
          "2020-06-13",
          "2020-06-14",
          "2020-06-15",
          "2020-06-16",
          "2020-06-17",
          "2020-06-18",
          "2020-06-19",
          "2020-06-20",
          "2020-06-21",
          "2020-06-22",
          "2020-06-23",
          "2020-06-24",
          "2020-06-25",
          "2020-06-26",
          "2020-06-27",
          "2020-06-28",
          "2020-06-29",
          "2020-06-30",
          "2020-07-01"
         ],
         "xaxis": "x",
         "y": [
          313.22,
          186.18,
          87.18,
          151.84,
          146.6,
          149.58,
          217.87,
          229.9,
          201.66,
          221.02,
          205.41,
          212.41,
          197.61,
          164.39,
          166.19,
          174.98,
          196.46,
          201.51,
          183.35,
          165.63,
          159.54,
          143.68,
          128.73,
          164.98,
          148.59,
          129.34,
          154.2,
          134.6,
          173.13,
          178.04,
          158.59,
          211.59,
          163.64,
          157.71,
          137.26,
          131.76,
          151.6,
          160.75,
          145.34,
          134.67,
          153.07,
          116.91,
          177.98,
          167.01,
          193.96,
          184.06,
          152.62,
          161.27,
          188.2,
          159.97,
          144.12,
          155.38,
          124.1,
          141.39,
          170.16,
          148.19,
          140.78,
          130.42,
          105.86,
          71.83,
          53.71,
          83.49,
          91.07,
          106.57,
          101.75,
          77.57,
          63.24,
          76.62,
          86.7,
          104.29,
          115.93,
          108.66,
          67.94,
          38.89,
          45.39,
          55.55,
          50.59,
          69.51,
          96.62,
          96.28,
          72.2,
          78.47,
          91.87,
          107.26,
          109.78,
          62.27,
          102.22,
          104.36,
          44.19,
          55.66,
          112.86,
          78.51,
          66.52,
          62.56,
          78.61,
          119.7,
          66.09,
          95.34,
          63.57,
          96.56,
          131.39,
          75.35,
          86.49,
          77.07,
          98.79,
          81.81,
          65.78,
          119.82,
          125.53,
          121.51,
          114.5,
          101.83,
          118.57,
          143.22,
          106.76,
          65.36,
          67.08,
          81.37,
          63.76,
          60.56,
          76.1,
          72.66,
          121.94,
          108.98,
          145.99,
          171.33,
          117.76,
          90.66,
          106.4,
          101.21,
          97.57,
          96.34,
          83.42,
          78.06,
          97.87,
          77.52,
          97.16,
          66.85,
          89.85,
          67.41,
          75.54,
          67.91,
          69.02,
          79.1,
          117.27,
          96.09,
          84.71,
          182.76,
          106.61,
          92.68,
          73.62,
          49.42,
          52.51,
          65.28,
          85.45,
          83.02,
          44.54,
          85.03,
          137.7,
          136.05,
          63.77,
          115.57,
          83.29,
          73.7,
          74.56,
          106.11,
          132.21,
          123.56,
          132.21,
          110.65,
          80.31,
          59.73,
          85.4,
          101.99,
          126.07,
          37.59,
          76,
          69.46,
          79.84,
          48.5,
          53.79,
          57.99,
          67.12,
          65.25,
          88.75,
          135.92,
          60.27,
          52.2,
          67.92,
          65.95,
          47.68,
          29.08,
          32.29,
          36.68,
          44.48,
          63.79,
          77.2,
          77.99,
          71.11,
          67.39,
          49.58,
          40.97,
          38.97,
          34.02,
          46.13,
          46.01,
          29.81,
          22.82,
          24.69,
          29.04,
          25.76,
          37.85,
          41.32,
          47.81,
          56.02,
          54.46,
          59.13,
          65.47,
          64.58,
          70.05,
          55.51,
          82.27,
          77.04,
          52.45,
          61.66,
          65.67,
          51.4,
          55.71,
          61.84,
          60.65,
          34.42,
          40.83,
          50.97,
          46.74,
          44.67,
          37.39,
          52.06,
          57.52,
          61.47,
          77.76,
          68.53,
          57.85,
          51.67,
          73.78,
          97.63,
          99.5,
          97.31,
          76.43,
          61.69,
          55.19,
          63.79,
          58.48,
          60.29,
          67.35,
          87.55,
          84.57,
          111.58,
          108.78,
          91.18,
          104.85,
          56.19,
          67.62,
          64.38,
          45.65,
          35.75,
          34.89,
          63.06,
          82.39,
          88.08,
          89.75,
          69.57,
          68.34,
          61.08,
          85.7,
          97.62,
          103.58,
          145.97,
          180.52,
          151.57,
          144.04,
          148.44,
          130.22,
          147.71,
          111.34,
          100.7,
          97.67,
          75.81,
          95.24,
          148.29,
          90.66,
          156.71,
          170.28,
          198.1,
          158.04,
          116.98,
          143.73,
          169.22,
          147.65,
          101.61,
          113.2,
          112.89,
          95.72,
          108.4,
          245.97,
          277.53,
          232.4,
          244.78,
          293.49,
          161.78,
          153.33,
          353.86,
          217.55,
          201.44,
          249.95,
          219.68,
          258.48,
          291.66,
          221.68,
          214.24,
          184.02,
          136.22,
          188.09,
          238.69,
          271.42,
          293.73,
          247.27,
          266.95,
          241.61,
          149.14,
          182.5,
          193.58,
          172.89,
          190.46,
          282.76,
          183.28,
          170.74,
          190.14,
          186.64,
          282.01,
          218.22,
          249.8,
          283.59,
          250.69,
          211.95,
          198.38,
          184.12,
          135.42,
          118.6,
          88.3,
          111.45,
          152.24,
          136.75,
          114.35,
          181.67,
          135.78,
          204.72,
          321.52,
          129.08,
          132.56,
          158.69,
          187.01,
          148.77,
          159.67,
          233.97,
          240.97,
          295.71,
          239.21,
          270.1,
          339.8,
          318.1,
          305.51,
          391.54,
          339.87,
          158.43,
          183.24,
          227.13,
          195.21,
          248.59,
          196.87,
          178.8,
          138.86,
          179.48,
          269.05,
          278.2,
          272.1,
          196.83,
          290.66,
          294.3,
          303.5,
          217.05,
          308.75,
          255.94,
          283.03,
          311.08,
          285.83,
          242.05,
          121.4,
          135.31,
          136.87,
          130.76,
          206.72,
          224.94,
          170.45,
          119.57,
          181.76,
          216.55,
          150,
          146.03,
          110.89,
          103.57,
          115.7,
          123.22,
          135.38,
          148.75,
          207.1,
          150.89,
          76.12,
          88.73,
          86.17,
          177.64,
          131.69,
          129.66,
          144.98,
          163.92,
          170.12,
          213.62,
          175.63,
          165.22,
          115.55,
          53,
          47.43,
          98.61,
          84.42,
          109.16,
          129.9,
          85.76,
          60.17,
          58.95,
          51.82,
          81.32,
          67.63,
          70.86,
          72.47,
          103.73,
          95.52,
          58.4,
          47.43,
          80.01,
          156.01,
          137.99,
          72.44,
          61.75,
          81.46,
          89.75,
          88.68,
          127.86,
          130.7,
          118.44,
          148.22,
          132.86,
          97.83,
          91.82,
          129.61,
          89.78,
          166.76,
          107.81,
          81.12,
          74.03,
          74.9,
          94.81,
          137.48,
          124.13,
          102.86,
          102.9,
          129.06,
          124.8,
          92.74,
          113.75,
          89.52,
          123.59,
          104.5,
          139.37,
          162.54,
          161.23,
          181.49,
          142.64,
          124.21,
          119.47,
          125.36,
          103.08,
          65.02,
          54.34,
          77.89,
          90.19,
          77.34,
          73.55,
          66.49,
          100.09,
          99.88,
          105.51,
          128.85,
          94.89,
          92.95,
          117.64,
          94.22,
          70.86,
          78.02,
          66.3,
          87.31,
          57.35,
          105.02,
          111.22,
          180.71,
          109.82,
          42.67,
          56.87,
          101.54,
          76.56,
          81.4,
          138.97,
          137.81,
          77.72,
          84.61,
          66.72,
          64.08,
          64.95,
          75.75,
          69.25,
          70.71,
          96.72,
          59.02,
          102.42,
          62.37,
          67.76,
          79.17,
          101.31,
          83.1,
          72.33,
          75.14,
          91.63,
          100.02,
          67.12,
          48,
          76.76,
          80.89,
          60.67,
          69.65,
          58.21,
          57.24,
          67.6,
          57.1,
          68.71,
          77.71,
          54.5,
          54.96,
          52.95,
          59.13,
          60.92,
          39.32,
          71.53,
          73.51,
          52.88,
          50.99,
          75.93,
          44.08,
          42.14,
          56.86,
          45.64,
          48.36,
          42.09,
          59.4,
          76.29,
          54.5,
          40.55,
          46.44,
          56.16,
          42.7,
          48.03,
          43.47,
          43.55,
          50.86,
          49.04,
          39.3,
          43.86,
          42.84,
          44.04,
          41.29,
          39.28,
          30.66,
          42.15,
          56.45,
          40.81,
          39.51,
          49.04,
          62.19,
          55.55,
          59.03,
          48.57,
          28.01,
          28.6,
          38.99,
          43.35,
          45.88,
          54.13,
          56.56,
          57.09,
          54.73,
          48.93,
          37.1,
          28.06,
          44.31,
          46.77,
          57.64,
          45.37,
          50.42,
          50.73,
          71.72,
          87.99,
          45.7,
          45.89,
          49.7,
          57.08,
          47.36,
          79.99,
          67.11,
          81.9,
          86.16,
          75.02,
          94.23,
          89.62,
          32.73,
          55.64,
          56.46,
          56.64,
          89.09,
          52.49,
          105.43,
          101.84,
          84.33,
          117.28,
          81.87,
          103.12,
          159.8,
          81.71,
          117.86,
          114.06,
          132.11,
          144.47,
          125.8,
          134.84,
          114.3,
          86.93,
          94.83,
          144.98,
          132.01,
          149.35,
          161.49,
          140.57,
          135.9,
          161.11,
          140.92,
          182.14,
          164.51,
          115.76,
          209.27,
          296.27,
          318.57,
          350.39,
          355.77,
          434.92,
          394.59,
          537.96,
          482.4,
          342.45,
          588.39,
          685.36,
          488.57,
          338.38,
          307.08,
          291.71,
          295.88,
          277.67,
          228.16,
          194.2,
          236.09,
          291.98,
          351.47,
          237.21,
          285.71,
          323.74,
          340.61,
          281.76,
          174.56,
          216.1,
          136.21,
          113.3,
          128.7,
          127.5,
          236.58,
          246.25,
          263.61,
          263.25,
          196.6,
          223.3,
          204.6,
          293.91,
          283.61,
          238.21,
          295.62,
          189.09,
          199.12,
          210.28,
          209.91,
          154.55,
          167.64,
          200.78,
          229.35,
          232.33,
          236.24,
          161.92,
          131.95,
          187.3,
          364.15,
          411.8,
          232.41,
          154.26,
          213.2,
          273.82,
          339.96,
          231.1,
          211.16,
          191.5,
          247.79,
          255.33,
          248.01,
          215.42,
          194.12,
          154.52,
          136.98,
          141.88,
          108.26,
          146.04,
          216.73,
          232.37,
          309.28,
          222.66,
          188.08,
          177.67,
          218.63,
          227.68,
          217.55,
          349.98,
          286.6,
          189.45,
          230.94,
          241.78,
          135.87,
          74.92,
          109.13,
          132.35,
          166.71,
          214.23,
          136.02,
          198.24,
          194.99,
          186.65,
          146.49,
          176.04,
          77.85,
          129.1,
          133.12,
          120.43,
          129.09,
          166.55,
          130.62,
          168.96,
          183.98,
          163.86,
          112.02,
          107.13,
          109.38,
          126.74,
          106.92,
          93.03,
          182.29,
          451.25,
          425.22,
          328.23,
          178.5,
          149.73,
          127.9,
          114.68,
          67.83,
          82.32,
          90.6,
          91.6,
          112.41,
          134.4,
          106.45,
          68.88,
          37.49,
          64.42,
          74.58,
          102.46,
          112.71,
          125.8,
          114.07,
          96.39,
          120.43,
          121.21,
          128.51,
          120.88,
          151.17,
          149.42,
          168.23,
          118.34,
          156.38,
          152.66,
          113.62,
          69.44,
          91.19,
          105.71,
          83.36,
          70.62,
          84.4,
          47.67,
          62.44,
          150.76,
          151.25,
          68.88,
          129.15,
          146.59,
          107.69,
          163.97,
          184.69,
          176.54,
          175.23,
          145.22,
          152.84,
          136.35,
          152.99,
          130.13,
          110.54,
          103.42,
          99.09,
          96.07,
          72.31,
          93.14,
          109.36,
          126.74,
          80.81,
          85.8,
          198.2,
          145.74,
          109.91,
          207.4,
          204.56,
          220.77,
          183.82,
          109.76,
          74.42,
          94.28,
          216.96,
          198.09,
          121.76,
          135.54,
          123.21,
          78.18,
          126.04,
          139.1,
          233.82,
          178.44,
          110.1,
          118.43,
          107.37,
          113.9,
          103.75,
          69.88,
          40.33,
          48.95,
          63.27,
          56.38,
          95.23,
          123.44,
          122.2,
          121.1,
          71.89,
          80.37,
          40.87,
          41.83,
          66.73,
          64.63,
          43.02,
          57.4,
          48.6,
          62,
          80.14,
          51.6,
          41.96,
          65.19,
          60.9,
          35.1,
          58.27,
          61.93,
          44.08,
          63.62,
          76.1,
          51.52,
          36.62,
          29.83,
          22.98,
          25.83,
          43.35,
          20.52,
          46.71,
          116.12,
          50.81,
          47.17,
          41.42,
          45.31,
          58.46,
          41.92,
          33.04,
          22.35,
          22.44,
          30.35,
          32.02,
          38.77,
          33.56,
          37.67,
          55.96,
          28.88,
          23.12,
          18.54,
          22.65,
          17.52,
          22.17,
          20.17,
          24.42,
          25.71,
          27.25,
          10.88,
          17.1,
          17.24,
          27.56,
          27.29,
          42.65,
          53.69,
          61.44,
          57.42,
          36.58,
          50.42,
          48.6,
          21.83,
          null,
          null,
          26.54,
          30.12,
          35.23,
          39.6,
          46.25,
          35.48,
          22.15,
          25.5,
          46,
          36.54,
          47.79,
          51.33,
          62.33,
          34.3,
          23.82,
          15.23,
          20.5,
          41.62,
          25.58,
          20.06,
          38.19,
          47.89,
          35.61,
          39.41,
          40.34,
          51.7,
          54.83,
          60.46,
          63.97,
          46.65,
          54.77,
          80.47,
          64.37,
          51.56,
          53.05,
          60.83,
          55.55,
          70.81,
          55.93,
          11.81,
          17.76,
          35.5,
          50.09,
          66.12,
          80.94,
          75.4,
          89.38,
          74.2,
          68.47,
          63.41,
          69.45,
          76.81,
          75.73,
          79.81,
          70.98,
          102.2,
          107.63,
          105.88,
          104.45,
          106.85,
          137.42,
          147.07,
          147.83,
          152.61,
          121.7,
          152.16,
          176.17,
          426.52,
          213.12,
          146.01,
          163.35,
          188.24,
          203.03,
          178.91,
          167.54,
          198.37,
          187.82,
          196.37,
          211.64,
          179.17,
          160.69,
          168.16,
          190.33,
          209.61,
          216.53,
          517.93,
          639.19,
          495.9,
          370.73,
          363.77,
          465.08,
          354.56,
          254.36,
          192.04,
          191.57,
          150.79,
          143.51,
          128.65,
          171.34,
          178.08,
          177.41,
          175.56,
          187.97,
          185.31,
          224.37,
          198.34,
          167.74,
          215.17,
          219.84,
          190.45,
          208.87,
          240.87,
          261.82,
          230.56,
          120.91,
          88.95,
          115.08,
          165.76,
          230.34,
          218.87,
          109.18,
          134.99,
          126.67,
          127.57,
          100.72,
          95.58,
          115.19,
          168.33,
          283.24,
          293.14,
          157.72,
          117.72,
          203.18,
          259,
          224.42,
          224.27,
          249.17,
          227.28,
          273.56,
          306.17,
          303.41,
          277.48,
          217.01,
          248.54,
          240.42,
          252.57,
          191.66,
          152.98,
          233.1,
          186.26,
          154.64,
          168.87,
          230.5,
          191.47,
          177.71,
          133.56,
          235.06,
          276.25,
          253.7,
          152.33,
          153.61,
          202.11,
          160.79,
          130.16,
          111.75,
          128.45,
          155.2,
          150.96,
          162.48,
          126.84,
          123.48,
          157.33,
          140.35,
          115.05,
          133.8,
          163.6,
          143.29,
          131.49,
          186.19,
          203.33,
          209.7,
          148.13,
          72.36,
          103.93,
          76.92,
          94.49,
          123.19,
          127.8,
          127.27,
          172.55,
          167.16,
          172.99,
          159.67,
          163.75,
          164.2,
          106.26,
          67.27,
          85.53,
          143.25,
          120.71,
          139.18,
          98.25,
          79.83,
          76.96,
          75.45,
          87.62,
          139.88,
          134.76,
          75.67,
          88.3,
          105.29,
          109.22,
          116.62,
          108.98,
          111.67,
          81.57,
          82.15,
          81.93,
          109.99,
          133.53,
          83.4,
          64.2,
          78.4,
          85.34,
          85.9,
          111.26,
          117.78,
          95.98,
          96.45,
          101.59,
          75.14,
          96.38,
          101.18,
          111.82,
          152.56,
          100.5,
          48.46,
          50.27,
          49.56,
          93.89,
          48.61,
          46.21,
          83.96,
          97.16,
          107.36,
          119.75,
          81.97,
          73.44,
          89.49,
          100.01,
          119.24,
          62.06,
          76.11,
          108.64,
          117.56,
          142.82,
          107.47,
          84.13,
          89.1,
          79.3,
          54.88,
          66.74,
          47.25,
          49.09,
          74.82,
          110.48,
          111.95,
          61,
          71.99,
          93.45,
          132.39,
          144.33,
          80.64,
          49.22,
          67.23,
          78.74,
          105.99,
          96.96,
          103.98,
          83.66,
          71.25,
          91.16,
          129.23,
          114.13,
          83.88,
          103.02,
          97.37,
          117.56,
          112.6,
          65.76,
          71.99,
          79.98,
          52.6,
          59.52,
          64.42,
          61.72,
          57.68,
          73.77,
          76.78,
          52.79,
          67.02,
          73.22,
          141.28,
          261.77,
          225.49,
          153.28,
          127.32,
          84.47,
          61.06,
          52.76,
          67.55,
          76.98,
          83.98,
          81.33,
          54.15,
          46.9,
          29.98,
          52.48,
          30.07,
          37.11,
          41.41,
          34.18,
          34.24,
          44.55,
          45.76,
          50.41,
          57.12,
          61.93,
          68.2,
          70.48,
          47.48,
          39.78,
          46.53,
          28.44,
          33.82,
          37.76,
          37.32,
          34.26,
          37.76,
          35.04,
          37.26,
          50.21,
          25.81,
          32.39,
          39.3,
          34.7,
          32.22,
          21.75,
          37.69,
          44.03,
          39.89,
          50.59,
          55.77,
          71.5,
          65.46,
          69.75,
          63.57,
          50.64,
          44.54,
          36.7,
          36.84,
          46.24,
          32.72,
          25.7,
          32.75,
          46.85,
          43,
          36.49,
          32.98,
          32.11,
          47.01,
          61.1,
          30.98,
          29.75,
          31.19,
          23.71,
          21.96,
          23.96,
          24.78,
          29.26,
          36.06,
          41.26,
          47.53,
          45.19,
          40.9,
          42.06,
          55.72,
          39.77,
          49.44,
          42.11,
          35.45,
          29.1,
          36.99,
          28.33,
          28.55,
          27.49,
          31.38,
          37.48,
          43.09,
          55.86,
          54.94,
          58.63,
          73.3,
          46.73,
          24.29,
          30.71,
          21.46,
          21.45,
          42.83,
          71.44,
          83.78,
          92.46,
          69.49,
          65.78,
          76.03,
          63.37,
          97.4,
          121.12,
          78.87,
          81.14,
          118.6,
          103.26,
          93.36,
          70.42,
          67.93,
          132.93,
          91.88,
          115.96,
          139.18,
          137.29,
          143.2,
          137.73,
          168.87,
          141.15,
          121.65,
          119.4,
          174.04,
          168.82,
          203.12,
          206.05,
          205,
          231.83,
          263.39,
          225.17,
          236.67,
          205.44,
          159.56,
          97.27,
          361.98,
          177.88,
          175.43,
          420.3,
          300.91,
          288.86,
          256.68,
          271.7,
          265.06,
          136.2,
          98.53,
          138.49,
          135.21,
          166.43,
          179.79,
          224.1,
          209.96,
          139.02,
          187.85,
          107.73,
          133.62,
          200.69,
          205.53,
          193.1,
          205.17,
          190.36,
          147.48,
          164.63,
          178.87,
          211.57,
          181.62,
          218.06,
          193.81,
          202.83,
          226.35,
          264.63,
          274.97,
          209.63,
          94.29,
          113.42,
          122.69,
          150.28,
          182.78,
          204.08,
          205.22,
          258.1,
          252.2,
          326.79,
          401.58,
          378.68,
          268.2,
          241,
          290.1,
          249.23,
          248.12,
          336.42,
          319.69,
          287.34,
          331.2,
          355.4,
          246.46,
          262.53,
          174.26,
          181.74,
          156.26,
          143.66,
          165.95,
          278.95,
          311.03,
          272.45,
          94.44,
          134.57,
          271.96,
          358.91,
          237.22,
          262.68,
          314.59,
          175.49,
          53.25,
          135.68,
          130.59,
          81.2,
          101.61,
          136.47,
          126.48,
          142,
          206.14,
          204.25,
          178.68,
          177.32,
          131.1,
          144.62,
          256.33,
          177.25,
          65.65,
          72.29,
          82.5,
          143.31,
          173.61,
          208.64,
          198.26,
          153.73,
          123.46,
          112.34,
          99.27,
          109.11,
          126.12,
          102.3,
          73.33,
          73.9,
          56.51,
          89.34,
          92.36,
          59.97,
          47.18,
          96.38,
          93.83,
          109.6,
          62.92,
          105.93,
          68.86,
          83.45,
          104.61,
          92.07,
          73.31,
          73.98,
          82.17,
          57.28,
          89.17,
          111.2,
          74.88,
          68.64,
          93.61,
          100.32,
          103.77,
          89.82,
          112.29,
          38.43,
          55.62,
          53.28,
          65,
          75.82,
          78.37,
          116.55,
          112.67,
          102.27,
          58.96,
          59.08,
          90.1,
          85.02,
          119.71,
          125.44,
          96.6,
          152.91,
          81.3,
          87.74,
          101.94,
          70.25,
          61.34,
          55.93,
          51.51,
          54.84,
          59.08,
          22.14,
          38.92,
          71.62,
          90.55,
          95.24,
          110.16,
          104.17,
          85.7,
          86.41,
          82.37,
          73.06,
          76.44,
          84.04,
          95.72,
          111.57,
          77.72,
          52.16,
          77.96,
          101.25,
          118.9,
          128.78,
          143.34,
          137.2,
          95.07,
          101.83,
          178.22,
          170.81,
          58.22,
          84.81,
          75.45,
          92.53,
          44.28,
          81.99,
          93.97,
          77.78,
          64.24,
          92.4,
          43.86,
          43.66,
          55.13,
          64.66,
          65.82,
          74.8,
          85.21,
          88.57,
          95.4,
          73.36,
          66.94,
          54.95,
          73.35,
          70.61,
          54.81,
          69.75,
          101.05,
          74.48,
          118.38,
          59.86,
          52.66,
          53.79,
          81.86,
          42.06,
          40.18,
          30.39,
          79.96,
          42.76,
          71.15,
          68.27,
          42.06,
          26.29,
          53.65,
          67.36,
          65.3,
          61.21,
          58.08,
          65.24,
          57.27,
          71.68,
          39.99,
          36.82,
          48.6,
          34.25,
          38.81,
          49.12,
          42.56,
          69.21,
          76.99,
          76.35,
          63.18,
          63.16,
          42.04,
          31.51,
          32.06,
          32.92,
          63.02,
          46.43,
          50.57,
          60.38,
          73.08,
          63.26,
          22.79,
          30.63,
          26.16,
          21.13,
          24.45,
          30.1,
          30.22,
          34.26,
          35.06,
          38.54,
          46.69,
          52.2,
          30.04,
          32.63,
          27.69,
          14.59,
          16.73,
          25.53,
          20.53,
          21.68,
          33.21,
          28.78,
          15.52,
          10.24,
          15.51,
          38.55,
          41.74,
          46.69,
          44.16,
          50.49,
          60.71,
          33.49,
          25.06,
          40.68,
          42.04,
          33.92,
          43.5,
          57.16,
          35.13,
          46.15,
          70.64,
          73.33,
          33.9,
          35.81,
          34.98,
          32.83,
          56.31,
          64.48,
          79.6,
          57.83,
          33.59,
          26.65,
          35.52,
          56.6,
          59.14,
          35.41,
          21.74,
          40.33,
          39.23,
          26.51,
          34.46,
          35.88,
          30.52,
          22.9,
          15.66,
          22.52,
          16.91,
          29.42,
          33.92,
          40.16,
          57.99,
          43.07,
          39.48,
          58.75,
          55.88,
          44.85,
          77.02,
          100.82,
          98.07,
          103.45,
          132.57,
          116.33,
          133.35,
          146.37,
          121.68,
          90.41,
          76.77,
          98.05,
          115.16,
          93.51,
          122.12,
          173.56,
          129.9,
          148.73,
          198.81,
          301.39,
          287.56,
          279.32,
          314.32,
          388.45,
          320.26,
          582.28,
          272.3,
          190.41,
          101.09,
          182.47,
          154.14,
          140.8,
          192.35,
          252.48,
          384.34,
          383.36,
          371.42,
          423.52,
          174.03,
          96.34,
          108.4,
          126.92,
          175.19,
          217.7,
          201.17,
          130.41,
          107.86,
          122.37,
          114.27,
          65.7,
          31.03,
          53.79,
          96.96,
          123.66,
          141.12,
          140.07,
          163.24,
          271.99,
          241.69,
          233.79,
          239.98,
          200.33,
          236.4,
          299.85,
          284.18,
          94.62,
          78.59,
          94.67,
          88.05,
          93.07,
          144,
          261.16,
          316.09,
          249.87,
          146.81,
          171.47,
          262.69,
          166.71,
          196.97,
          240.07,
          275.6,
          326.79,
          333.43,
          245.53,
          372.14,
          327.04,
          228.9,
          220.6,
          170.21,
          159.64,
          120.31,
          117.98,
          89.26,
          130.82,
          151.1,
          207.23,
          218.98,
          115.62,
          111.57,
          139.06,
          107.65,
          125.3,
          125.04,
          142.18,
          222.81,
          198.88,
          74.45,
          79.83,
          136.72,
          201.2,
          209.97,
          104.45,
          77.95,
          91.56,
          92.04,
          112.13,
          120.86,
          138.5,
          188.42,
          150.08,
          118.57,
          150.15,
          149.67,
          151.43,
          174.4,
          176.57,
          172.12,
          95.72,
          73.84,
          83.07,
          132.63,
          158.69,
          125.53,
          138.46,
          98.84,
          53.11,
          63.62,
          105.71,
          70.59,
          127.75,
          141.81,
          107.28,
          83.48,
          60.01,
          42.83,
          99.34,
          86.26,
          82.9,
          31.43,
          21.32,
          40.96,
          72.1,
          58.04,
          84.35,
          55.19,
          56.92,
          68.72,
          39.41,
          60.99,
          61.61,
          69.7,
          68.93,
          90.62,
          90.31,
          82.39,
          78.61,
          54.26,
          55.85,
          37.87,
          45.69,
          26.89,
          21.23,
          27.59,
          35.08,
          35.31,
          32.88,
          28.51,
          31.36,
          40.79,
          51.79,
          59.91,
          33.12,
          29.7,
          36.13,
          57.67,
          53.03,
          38.57,
          60.6,
          58.22,
          58.31,
          69.8,
          26.93,
          29.09,
          35.49,
          52.86,
          37.17,
          58.25,
          54.71,
          65.91,
          33.09,
          40.24,
          27.18,
          41.75,
          55.18,
          49.96,
          61.04,
          34.67,
          32.56,
          26.63,
          56.24,
          58.44,
          36.02,
          51.09,
          54.18,
          44.3,
          43.26,
          43.19,
          68.8,
          56.17,
          47.44,
          81.87,
          98.63,
          101.02,
          106.63,
          67.8,
          55.92,
          94.37,
          74.92,
          55.37,
          61.46,
          55.38,
          43.22,
          39.07,
          24.62,
          23.09,
          21.51,
          41.05,
          45.9,
          50.62,
          68.24,
          42.43,
          35.14,
          39.99,
          46.9,
          64.77,
          58.9,
          54.69,
          64,
          52.36,
          71.08,
          48.69,
          39.87,
          34.35,
          36.84,
          57.6,
          35.96,
          39.7,
          39.47,
          29.02,
          30.91,
          38.37,
          50.01,
          39.8,
          59.52,
          44.86,
          39.8,
          54.01
         ],
         "yaxis": "y"
        }
       ],
       "layout": {
        "legend": {
         "tracegroupgap": 0
        },
        "margin": {
         "t": 60
        },
        "template": {
         "data": {
          "bar": [
           {
            "error_x": {
             "color": "#2a3f5f"
            },
            "error_y": {
             "color": "#2a3f5f"
            },
            "marker": {
             "line": {
              "color": "#E5ECF6",
              "width": 0.5
             }
            },
            "type": "bar"
           }
          ],
          "barpolar": [
           {
            "marker": {
             "line": {
              "color": "#E5ECF6",
              "width": 0.5
             }
            },
            "type": "barpolar"
           }
          ],
          "carpet": [
           {
            "aaxis": {
             "endlinecolor": "#2a3f5f",
             "gridcolor": "white",
             "linecolor": "white",
             "minorgridcolor": "white",
             "startlinecolor": "#2a3f5f"
            },
            "baxis": {
             "endlinecolor": "#2a3f5f",
             "gridcolor": "white",
             "linecolor": "white",
             "minorgridcolor": "white",
             "startlinecolor": "#2a3f5f"
            },
            "type": "carpet"
           }
          ],
          "choropleth": [
           {
            "colorbar": {
             "outlinewidth": 0,
             "ticks": ""
            },
            "type": "choropleth"
           }
          ],
          "contour": [
           {
            "colorbar": {
             "outlinewidth": 0,
             "ticks": ""
            },
            "colorscale": [
             [
              0,
              "#0d0887"
             ],
             [
              0.1111111111111111,
              "#46039f"
             ],
             [
              0.2222222222222222,
              "#7201a8"
             ],
             [
              0.3333333333333333,
              "#9c179e"
             ],
             [
              0.4444444444444444,
              "#bd3786"
             ],
             [
              0.5555555555555556,
              "#d8576b"
             ],
             [
              0.6666666666666666,
              "#ed7953"
             ],
             [
              0.7777777777777778,
              "#fb9f3a"
             ],
             [
              0.8888888888888888,
              "#fdca26"
             ],
             [
              1,
              "#f0f921"
             ]
            ],
            "type": "contour"
           }
          ],
          "contourcarpet": [
           {
            "colorbar": {
             "outlinewidth": 0,
             "ticks": ""
            },
            "type": "contourcarpet"
           }
          ],
          "heatmap": [
           {
            "colorbar": {
             "outlinewidth": 0,
             "ticks": ""
            },
            "colorscale": [
             [
              0,
              "#0d0887"
             ],
             [
              0.1111111111111111,
              "#46039f"
             ],
             [
              0.2222222222222222,
              "#7201a8"
             ],
             [
              0.3333333333333333,
              "#9c179e"
             ],
             [
              0.4444444444444444,
              "#bd3786"
             ],
             [
              0.5555555555555556,
              "#d8576b"
             ],
             [
              0.6666666666666666,
              "#ed7953"
             ],
             [
              0.7777777777777778,
              "#fb9f3a"
             ],
             [
              0.8888888888888888,
              "#fdca26"
             ],
             [
              1,
              "#f0f921"
             ]
            ],
            "type": "heatmap"
           }
          ],
          "heatmapgl": [
           {
            "colorbar": {
             "outlinewidth": 0,
             "ticks": ""
            },
            "colorscale": [
             [
              0,
              "#0d0887"
             ],
             [
              0.1111111111111111,
              "#46039f"
             ],
             [
              0.2222222222222222,
              "#7201a8"
             ],
             [
              0.3333333333333333,
              "#9c179e"
             ],
             [
              0.4444444444444444,
              "#bd3786"
             ],
             [
              0.5555555555555556,
              "#d8576b"
             ],
             [
              0.6666666666666666,
              "#ed7953"
             ],
             [
              0.7777777777777778,
              "#fb9f3a"
             ],
             [
              0.8888888888888888,
              "#fdca26"
             ],
             [
              1,
              "#f0f921"
             ]
            ],
            "type": "heatmapgl"
           }
          ],
          "histogram": [
           {
            "marker": {
             "colorbar": {
              "outlinewidth": 0,
              "ticks": ""
             }
            },
            "type": "histogram"
           }
          ],
          "histogram2d": [
           {
            "colorbar": {
             "outlinewidth": 0,
             "ticks": ""
            },
            "colorscale": [
             [
              0,
              "#0d0887"
             ],
             [
              0.1111111111111111,
              "#46039f"
             ],
             [
              0.2222222222222222,
              "#7201a8"
             ],
             [
              0.3333333333333333,
              "#9c179e"
             ],
             [
              0.4444444444444444,
              "#bd3786"
             ],
             [
              0.5555555555555556,
              "#d8576b"
             ],
             [
              0.6666666666666666,
              "#ed7953"
             ],
             [
              0.7777777777777778,
              "#fb9f3a"
             ],
             [
              0.8888888888888888,
              "#fdca26"
             ],
             [
              1,
              "#f0f921"
             ]
            ],
            "type": "histogram2d"
           }
          ],
          "histogram2dcontour": [
           {
            "colorbar": {
             "outlinewidth": 0,
             "ticks": ""
            },
            "colorscale": [
             [
              0,
              "#0d0887"
             ],
             [
              0.1111111111111111,
              "#46039f"
             ],
             [
              0.2222222222222222,
              "#7201a8"
             ],
             [
              0.3333333333333333,
              "#9c179e"
             ],
             [
              0.4444444444444444,
              "#bd3786"
             ],
             [
              0.5555555555555556,
              "#d8576b"
             ],
             [
              0.6666666666666666,
              "#ed7953"
             ],
             [
              0.7777777777777778,
              "#fb9f3a"
             ],
             [
              0.8888888888888888,
              "#fdca26"
             ],
             [
              1,
              "#f0f921"
             ]
            ],
            "type": "histogram2dcontour"
           }
          ],
          "mesh3d": [
           {
            "colorbar": {
             "outlinewidth": 0,
             "ticks": ""
            },
            "type": "mesh3d"
           }
          ],
          "parcoords": [
           {
            "line": {
             "colorbar": {
              "outlinewidth": 0,
              "ticks": ""
             }
            },
            "type": "parcoords"
           }
          ],
          "pie": [
           {
            "automargin": true,
            "type": "pie"
           }
          ],
          "scatter": [
           {
            "marker": {
             "colorbar": {
              "outlinewidth": 0,
              "ticks": ""
             }
            },
            "type": "scatter"
           }
          ],
          "scatter3d": [
           {
            "line": {
             "colorbar": {
              "outlinewidth": 0,
              "ticks": ""
             }
            },
            "marker": {
             "colorbar": {
              "outlinewidth": 0,
              "ticks": ""
             }
            },
            "type": "scatter3d"
           }
          ],
          "scattercarpet": [
           {
            "marker": {
             "colorbar": {
              "outlinewidth": 0,
              "ticks": ""
             }
            },
            "type": "scattercarpet"
           }
          ],
          "scattergeo": [
           {
            "marker": {
             "colorbar": {
              "outlinewidth": 0,
              "ticks": ""
             }
            },
            "type": "scattergeo"
           }
          ],
          "scattergl": [
           {
            "marker": {
             "colorbar": {
              "outlinewidth": 0,
              "ticks": ""
             }
            },
            "type": "scattergl"
           }
          ],
          "scattermapbox": [
           {
            "marker": {
             "colorbar": {
              "outlinewidth": 0,
              "ticks": ""
             }
            },
            "type": "scattermapbox"
           }
          ],
          "scatterpolar": [
           {
            "marker": {
             "colorbar": {
              "outlinewidth": 0,
              "ticks": ""
             }
            },
            "type": "scatterpolar"
           }
          ],
          "scatterpolargl": [
           {
            "marker": {
             "colorbar": {
              "outlinewidth": 0,
              "ticks": ""
             }
            },
            "type": "scatterpolargl"
           }
          ],
          "scatterternary": [
           {
            "marker": {
             "colorbar": {
              "outlinewidth": 0,
              "ticks": ""
             }
            },
            "type": "scatterternary"
           }
          ],
          "surface": [
           {
            "colorbar": {
             "outlinewidth": 0,
             "ticks": ""
            },
            "colorscale": [
             [
              0,
              "#0d0887"
             ],
             [
              0.1111111111111111,
              "#46039f"
             ],
             [
              0.2222222222222222,
              "#7201a8"
             ],
             [
              0.3333333333333333,
              "#9c179e"
             ],
             [
              0.4444444444444444,
              "#bd3786"
             ],
             [
              0.5555555555555556,
              "#d8576b"
             ],
             [
              0.6666666666666666,
              "#ed7953"
             ],
             [
              0.7777777777777778,
              "#fb9f3a"
             ],
             [
              0.8888888888888888,
              "#fdca26"
             ],
             [
              1,
              "#f0f921"
             ]
            ],
            "type": "surface"
           }
          ],
          "table": [
           {
            "cells": {
             "fill": {
              "color": "#EBF0F8"
             },
             "line": {
              "color": "white"
             }
            },
            "header": {
             "fill": {
              "color": "#C8D4E3"
             },
             "line": {
              "color": "white"
             }
            },
            "type": "table"
           }
          ]
         },
         "layout": {
          "annotationdefaults": {
           "arrowcolor": "#2a3f5f",
           "arrowhead": 0,
           "arrowwidth": 1
          },
          "autotypenumbers": "strict",
          "coloraxis": {
           "colorbar": {
            "outlinewidth": 0,
            "ticks": ""
           }
          },
          "colorscale": {
           "diverging": [
            [
             0,
             "#8e0152"
            ],
            [
             0.1,
             "#c51b7d"
            ],
            [
             0.2,
             "#de77ae"
            ],
            [
             0.3,
             "#f1b6da"
            ],
            [
             0.4,
             "#fde0ef"
            ],
            [
             0.5,
             "#f7f7f7"
            ],
            [
             0.6,
             "#e6f5d0"
            ],
            [
             0.7,
             "#b8e186"
            ],
            [
             0.8,
             "#7fbc41"
            ],
            [
             0.9,
             "#4d9221"
            ],
            [
             1,
             "#276419"
            ]
           ],
           "sequential": [
            [
             0,
             "#0d0887"
            ],
            [
             0.1111111111111111,
             "#46039f"
            ],
            [
             0.2222222222222222,
             "#7201a8"
            ],
            [
             0.3333333333333333,
             "#9c179e"
            ],
            [
             0.4444444444444444,
             "#bd3786"
            ],
            [
             0.5555555555555556,
             "#d8576b"
            ],
            [
             0.6666666666666666,
             "#ed7953"
            ],
            [
             0.7777777777777778,
             "#fb9f3a"
            ],
            [
             0.8888888888888888,
             "#fdca26"
            ],
            [
             1,
             "#f0f921"
            ]
           ],
           "sequentialminus": [
            [
             0,
             "#0d0887"
            ],
            [
             0.1111111111111111,
             "#46039f"
            ],
            [
             0.2222222222222222,
             "#7201a8"
            ],
            [
             0.3333333333333333,
             "#9c179e"
            ],
            [
             0.4444444444444444,
             "#bd3786"
            ],
            [
             0.5555555555555556,
             "#d8576b"
            ],
            [
             0.6666666666666666,
             "#ed7953"
            ],
            [
             0.7777777777777778,
             "#fb9f3a"
            ],
            [
             0.8888888888888888,
             "#fdca26"
            ],
            [
             1,
             "#f0f921"
            ]
           ]
          },
          "colorway": [
           "#636efa",
           "#EF553B",
           "#00cc96",
           "#ab63fa",
           "#FFA15A",
           "#19d3f3",
           "#FF6692",
           "#B6E880",
           "#FF97FF",
           "#FECB52"
          ],
          "font": {
           "color": "#2a3f5f"
          },
          "geo": {
           "bgcolor": "white",
           "lakecolor": "white",
           "landcolor": "#E5ECF6",
           "showlakes": true,
           "showland": true,
           "subunitcolor": "white"
          },
          "hoverlabel": {
           "align": "left"
          },
          "hovermode": "closest",
          "mapbox": {
           "style": "light"
          },
          "paper_bgcolor": "white",
          "plot_bgcolor": "#E5ECF6",
          "polar": {
           "angularaxis": {
            "gridcolor": "white",
            "linecolor": "white",
            "ticks": ""
           },
           "bgcolor": "#E5ECF6",
           "radialaxis": {
            "gridcolor": "white",
            "linecolor": "white",
            "ticks": ""
           }
          },
          "scene": {
           "xaxis": {
            "backgroundcolor": "#E5ECF6",
            "gridcolor": "white",
            "gridwidth": 2,
            "linecolor": "white",
            "showbackground": true,
            "ticks": "",
            "zerolinecolor": "white"
           },
           "yaxis": {
            "backgroundcolor": "#E5ECF6",
            "gridcolor": "white",
            "gridwidth": 2,
            "linecolor": "white",
            "showbackground": true,
            "ticks": "",
            "zerolinecolor": "white"
           },
           "zaxis": {
            "backgroundcolor": "#E5ECF6",
            "gridcolor": "white",
            "gridwidth": 2,
            "linecolor": "white",
            "showbackground": true,
            "ticks": "",
            "zerolinecolor": "white"
           }
          },
          "shapedefaults": {
           "line": {
            "color": "#2a3f5f"
           }
          },
          "ternary": {
           "aaxis": {
            "gridcolor": "white",
            "linecolor": "white",
            "ticks": ""
           },
           "baxis": {
            "gridcolor": "white",
            "linecolor": "white",
            "ticks": ""
           },
           "bgcolor": "#E5ECF6",
           "caxis": {
            "gridcolor": "white",
            "linecolor": "white",
            "ticks": ""
           }
          },
          "title": {
           "x": 0.05
          },
          "xaxis": {
           "automargin": true,
           "gridcolor": "white",
           "linecolor": "white",
           "ticks": "",
           "title": {
            "standoff": 15
           },
           "zerolinecolor": "white",
           "zerolinewidth": 2
          },
          "yaxis": {
           "automargin": true,
           "gridcolor": "white",
           "linecolor": "white",
           "ticks": "",
           "title": {
            "standoff": 15
           },
           "zerolinecolor": "white",
           "zerolinewidth": 2
          }
         }
        },
        "xaxis": {
         "anchor": "y",
         "domain": [
          0,
          1
         ],
         "title": {
          "text": "Date"
         }
        },
        "yaxis": {
         "anchor": "x",
         "domain": [
          0,
          1
         ],
         "title": {
          "text": "PM2.5"
         }
        }
       }
      },
      "text/html": [
       "<div>                            <div id=\"01f3ccb7-724a-4370-8c21-fa914a7feddc\" class=\"plotly-graph-div\" style=\"height:525px; width:100%;\"></div>            <script type=\"text/javascript\">                require([\"plotly\"], function(Plotly) {                    window.PLOTLYENV=window.PLOTLYENV || {};                                    if (document.getElementById(\"01f3ccb7-724a-4370-8c21-fa914a7feddc\")) {                    Plotly.newPlot(                        \"01f3ccb7-724a-4370-8c21-fa914a7feddc\",                        [{\"hovertemplate\": \"Date=%{x}<br>PM2.5=%{y}<extra></extra>\", \"legendgroup\": \"\", \"line\": {\"color\": \"#636efa\", \"dash\": \"solid\"}, \"mode\": \"lines\", \"name\": \"\", \"showlegend\": false, \"type\": \"scattergl\", \"x\": [\"2015-01-01\", \"2015-01-02\", \"2015-01-03\", \"2015-01-04\", \"2015-01-05\", \"2015-01-06\", \"2015-01-07\", \"2015-01-08\", \"2015-01-09\", \"2015-01-10\", \"2015-01-11\", \"2015-01-12\", \"2015-01-13\", \"2015-01-14\", \"2015-01-15\", \"2015-01-16\", \"2015-01-17\", \"2015-01-18\", \"2015-01-19\", \"2015-01-20\", \"2015-01-21\", \"2015-01-22\", \"2015-01-23\", \"2015-01-24\", \"2015-01-25\", \"2015-01-26\", \"2015-01-27\", \"2015-01-28\", \"2015-01-29\", \"2015-01-30\", \"2015-01-31\", \"2015-02-01\", \"2015-02-02\", \"2015-02-03\", \"2015-02-04\", \"2015-02-05\", \"2015-02-06\", \"2015-02-07\", \"2015-02-08\", \"2015-02-09\", \"2015-02-10\", \"2015-02-11\", \"2015-02-12\", \"2015-02-13\", \"2015-02-14\", \"2015-02-15\", \"2015-02-16\", \"2015-02-17\", \"2015-02-18\", \"2015-02-19\", \"2015-02-20\", \"2015-02-21\", \"2015-02-22\", \"2015-02-23\", \"2015-02-24\", \"2015-02-25\", \"2015-02-26\", \"2015-02-27\", \"2015-02-28\", \"2015-03-01\", \"2015-03-02\", \"2015-03-03\", \"2015-03-04\", \"2015-03-05\", \"2015-03-06\", \"2015-03-07\", \"2015-03-08\", \"2015-03-09\", \"2015-03-10\", \"2015-03-11\", \"2015-03-12\", \"2015-03-13\", \"2015-03-14\", \"2015-03-15\", \"2015-03-16\", \"2015-03-17\", \"2015-03-18\", \"2015-03-19\", \"2015-03-20\", \"2015-03-21\", \"2015-03-22\", \"2015-03-23\", \"2015-03-24\", \"2015-03-25\", \"2015-03-26\", \"2015-03-27\", \"2015-03-28\", \"2015-03-29\", \"2015-03-30\", \"2015-03-31\", \"2015-04-01\", \"2015-04-02\", \"2015-04-03\", \"2015-04-04\", \"2015-04-05\", \"2015-04-06\", \"2015-04-07\", \"2015-04-08\", \"2015-04-09\", \"2015-04-10\", \"2015-04-11\", \"2015-04-12\", \"2015-04-13\", \"2015-04-14\", \"2015-04-15\", \"2015-04-16\", \"2015-04-17\", \"2015-04-18\", \"2015-04-19\", \"2015-04-20\", \"2015-04-21\", \"2015-04-22\", \"2015-04-23\", \"2015-04-24\", \"2015-04-25\", \"2015-04-26\", \"2015-04-27\", \"2015-04-28\", \"2015-04-29\", \"2015-04-30\", \"2015-05-01\", \"2015-05-02\", \"2015-05-03\", \"2015-05-04\", \"2015-05-05\", \"2015-05-06\", \"2015-05-07\", \"2015-05-08\", \"2015-05-09\", \"2015-05-10\", \"2015-05-11\", \"2015-05-12\", \"2015-05-13\", \"2015-05-14\", \"2015-05-15\", \"2015-05-16\", \"2015-05-17\", \"2015-05-18\", \"2015-05-19\", \"2015-05-20\", \"2015-05-21\", \"2015-05-22\", \"2015-05-23\", \"2015-05-24\", \"2015-05-25\", \"2015-05-26\", \"2015-05-27\", \"2015-05-28\", \"2015-05-29\", \"2015-05-30\", \"2015-05-31\", \"2015-06-01\", \"2015-06-02\", \"2015-06-03\", \"2015-06-04\", \"2015-06-05\", \"2015-06-06\", \"2015-06-07\", \"2015-06-08\", \"2015-06-09\", \"2015-06-10\", \"2015-06-11\", \"2015-06-12\", \"2015-06-13\", \"2015-06-14\", \"2015-06-15\", \"2015-06-16\", \"2015-06-17\", \"2015-06-18\", \"2015-06-19\", \"2015-06-20\", \"2015-06-21\", \"2015-06-22\", \"2015-06-23\", \"2015-06-24\", \"2015-06-25\", \"2015-06-26\", \"2015-06-27\", \"2015-06-28\", \"2015-06-29\", \"2015-06-30\", \"2015-07-01\", \"2015-07-02\", \"2015-07-03\", \"2015-07-04\", \"2015-07-05\", \"2015-07-06\", \"2015-07-07\", \"2015-07-08\", \"2015-07-09\", \"2015-07-10\", \"2015-07-11\", \"2015-07-12\", \"2015-07-13\", \"2015-07-14\", \"2015-07-15\", \"2015-07-16\", \"2015-07-17\", \"2015-07-18\", \"2015-07-19\", \"2015-07-20\", \"2015-07-21\", \"2015-07-22\", \"2015-07-23\", \"2015-07-24\", \"2015-07-25\", \"2015-07-26\", \"2015-07-27\", \"2015-07-28\", \"2015-07-29\", \"2015-07-30\", \"2015-07-31\", \"2015-08-01\", \"2015-08-02\", \"2015-08-03\", \"2015-08-04\", \"2015-08-05\", \"2015-08-06\", \"2015-08-07\", \"2015-08-08\", \"2015-08-09\", \"2015-08-10\", \"2015-08-11\", \"2015-08-12\", \"2015-08-13\", \"2015-08-14\", \"2015-08-15\", \"2015-08-16\", \"2015-08-17\", \"2015-08-18\", \"2015-08-19\", \"2015-08-20\", \"2015-08-21\", \"2015-08-22\", \"2015-08-23\", \"2015-08-24\", \"2015-08-25\", \"2015-08-26\", \"2015-08-27\", \"2015-08-28\", \"2015-08-29\", \"2015-08-30\", \"2015-08-31\", \"2015-09-01\", \"2015-09-02\", \"2015-09-03\", \"2015-09-04\", \"2015-09-05\", \"2015-09-06\", \"2015-09-07\", \"2015-09-08\", \"2015-09-09\", \"2015-09-10\", \"2015-09-11\", \"2015-09-12\", \"2015-09-13\", \"2015-09-14\", \"2015-09-15\", \"2015-09-16\", \"2015-09-17\", \"2015-09-18\", \"2015-09-19\", \"2015-09-20\", \"2015-09-21\", \"2015-09-22\", \"2015-09-23\", \"2015-09-24\", \"2015-09-25\", \"2015-09-26\", \"2015-09-27\", \"2015-09-28\", \"2015-09-29\", \"2015-09-30\", \"2015-10-01\", \"2015-10-02\", \"2015-10-03\", \"2015-10-04\", \"2015-10-05\", \"2015-10-06\", \"2015-10-07\", \"2015-10-08\", \"2015-10-09\", \"2015-10-10\", \"2015-10-11\", \"2015-10-12\", \"2015-10-13\", \"2015-10-14\", \"2015-10-15\", \"2015-10-16\", \"2015-10-17\", \"2015-10-18\", \"2015-10-19\", \"2015-10-20\", \"2015-10-21\", \"2015-10-22\", \"2015-10-23\", \"2015-10-24\", \"2015-10-25\", \"2015-10-26\", \"2015-10-27\", \"2015-10-28\", \"2015-10-29\", \"2015-10-30\", \"2015-10-31\", \"2015-11-01\", \"2015-11-02\", \"2015-11-03\", \"2015-11-04\", \"2015-11-05\", \"2015-11-06\", \"2015-11-07\", \"2015-11-08\", \"2015-11-09\", \"2015-11-10\", \"2015-11-11\", \"2015-11-12\", \"2015-11-13\", \"2015-11-14\", \"2015-11-15\", \"2015-11-16\", \"2015-11-17\", \"2015-11-18\", \"2015-11-19\", \"2015-11-20\", \"2015-11-21\", \"2015-11-22\", \"2015-11-23\", \"2015-11-24\", \"2015-11-25\", \"2015-11-26\", \"2015-11-27\", \"2015-11-28\", \"2015-11-29\", \"2015-11-30\", \"2015-12-01\", \"2015-12-02\", \"2015-12-03\", \"2015-12-04\", \"2015-12-05\", \"2015-12-06\", \"2015-12-07\", \"2015-12-08\", \"2015-12-09\", \"2015-12-10\", \"2015-12-11\", \"2015-12-12\", \"2015-12-13\", \"2015-12-14\", \"2015-12-15\", \"2015-12-16\", \"2015-12-17\", \"2015-12-18\", \"2015-12-19\", \"2015-12-20\", \"2015-12-21\", \"2015-12-22\", \"2015-12-23\", \"2015-12-24\", \"2015-12-25\", \"2015-12-26\", \"2015-12-27\", \"2015-12-28\", \"2015-12-29\", \"2015-12-30\", \"2015-12-31\", \"2016-01-01\", \"2016-01-02\", \"2016-01-03\", \"2016-01-04\", \"2016-01-05\", \"2016-01-06\", \"2016-01-07\", \"2016-01-08\", \"2016-01-09\", \"2016-01-10\", \"2016-01-11\", \"2016-01-12\", \"2016-01-13\", \"2016-01-14\", \"2016-01-15\", \"2016-01-16\", \"2016-01-17\", \"2016-01-18\", \"2016-01-19\", \"2016-01-20\", \"2016-01-21\", \"2016-01-22\", \"2016-01-23\", \"2016-01-24\", \"2016-01-25\", \"2016-01-26\", \"2016-01-27\", \"2016-01-28\", \"2016-01-29\", \"2016-01-30\", \"2016-01-31\", \"2016-02-01\", \"2016-02-02\", \"2016-02-03\", \"2016-02-04\", \"2016-02-05\", \"2016-02-06\", \"2016-02-07\", \"2016-02-08\", \"2016-02-09\", \"2016-02-10\", \"2016-02-11\", \"2016-02-12\", \"2016-02-13\", \"2016-02-14\", \"2016-02-15\", \"2016-02-16\", \"2016-02-17\", \"2016-02-18\", \"2016-02-19\", \"2016-02-20\", \"2016-02-21\", \"2016-02-22\", \"2016-02-23\", \"2016-02-24\", \"2016-02-25\", \"2016-02-26\", \"2016-02-27\", \"2016-02-28\", \"2016-02-29\", \"2016-03-01\", \"2016-03-02\", \"2016-03-03\", \"2016-03-04\", \"2016-03-05\", \"2016-03-06\", \"2016-03-07\", \"2016-03-08\", \"2016-03-09\", \"2016-03-10\", \"2016-03-11\", \"2016-03-12\", \"2016-03-13\", \"2016-03-14\", \"2016-03-15\", \"2016-03-16\", \"2016-03-17\", \"2016-03-18\", \"2016-03-19\", \"2016-03-20\", \"2016-03-21\", \"2016-03-22\", \"2016-03-23\", \"2016-03-24\", \"2016-03-25\", \"2016-03-26\", \"2016-03-27\", \"2016-03-28\", \"2016-03-29\", \"2016-03-30\", \"2016-03-31\", \"2016-04-01\", \"2016-04-02\", \"2016-04-03\", \"2016-04-04\", \"2016-04-05\", \"2016-04-06\", \"2016-04-07\", \"2016-04-08\", \"2016-04-09\", \"2016-04-10\", \"2016-04-11\", \"2016-04-12\", \"2016-04-13\", \"2016-04-14\", \"2016-04-15\", \"2016-04-16\", \"2016-04-17\", \"2016-04-18\", \"2016-04-19\", \"2016-04-20\", \"2016-04-21\", \"2016-04-22\", \"2016-04-23\", \"2016-04-24\", \"2016-04-25\", \"2016-04-26\", \"2016-04-27\", \"2016-04-28\", \"2016-04-29\", \"2016-04-30\", \"2016-05-01\", \"2016-05-02\", \"2016-05-03\", \"2016-05-04\", \"2016-05-05\", \"2016-05-06\", \"2016-05-07\", \"2016-05-08\", \"2016-05-09\", \"2016-05-10\", \"2016-05-11\", \"2016-05-12\", \"2016-05-13\", \"2016-05-14\", \"2016-05-15\", \"2016-05-16\", \"2016-05-17\", \"2016-05-18\", \"2016-05-19\", \"2016-05-20\", \"2016-05-21\", \"2016-05-22\", \"2016-05-23\", \"2016-05-24\", \"2016-05-25\", \"2016-05-26\", \"2016-05-27\", \"2016-05-28\", \"2016-05-29\", \"2016-05-30\", \"2016-05-31\", \"2016-06-01\", \"2016-06-02\", \"2016-06-03\", \"2016-06-04\", \"2016-06-05\", \"2016-06-06\", \"2016-06-07\", \"2016-06-08\", \"2016-06-09\", \"2016-06-10\", \"2016-06-11\", \"2016-06-12\", \"2016-06-13\", \"2016-06-14\", \"2016-06-15\", \"2016-06-16\", \"2016-06-17\", \"2016-06-18\", \"2016-06-19\", \"2016-06-20\", \"2016-06-21\", \"2016-06-22\", \"2016-06-23\", \"2016-06-24\", \"2016-06-25\", \"2016-06-26\", \"2016-06-27\", \"2016-06-28\", \"2016-06-29\", \"2016-06-30\", \"2016-07-01\", \"2016-07-02\", \"2016-07-03\", \"2016-07-04\", \"2016-07-05\", \"2016-07-06\", \"2016-07-07\", \"2016-07-08\", \"2016-07-09\", \"2016-07-10\", \"2016-07-11\", \"2016-07-12\", \"2016-07-13\", \"2016-07-14\", \"2016-07-15\", \"2016-07-16\", \"2016-07-17\", \"2016-07-18\", \"2016-07-19\", \"2016-07-20\", \"2016-07-21\", \"2016-07-22\", \"2016-07-23\", \"2016-07-24\", \"2016-07-25\", \"2016-07-26\", \"2016-07-27\", \"2016-07-28\", \"2016-07-29\", \"2016-07-30\", \"2016-07-31\", \"2016-08-01\", \"2016-08-02\", \"2016-08-03\", \"2016-08-04\", \"2016-08-05\", \"2016-08-06\", \"2016-08-07\", \"2016-08-08\", \"2016-08-09\", \"2016-08-10\", \"2016-08-11\", \"2016-08-12\", \"2016-08-13\", \"2016-08-14\", \"2016-08-15\", \"2016-08-16\", \"2016-08-17\", \"2016-08-18\", \"2016-08-19\", \"2016-08-20\", \"2016-08-21\", \"2016-08-22\", \"2016-08-23\", \"2016-08-24\", \"2016-08-25\", \"2016-08-26\", \"2016-08-27\", \"2016-08-28\", \"2016-08-29\", \"2016-08-30\", \"2016-08-31\", \"2016-09-01\", \"2016-09-02\", \"2016-09-03\", \"2016-09-04\", \"2016-09-05\", \"2016-09-06\", \"2016-09-07\", \"2016-09-08\", \"2016-09-09\", \"2016-09-10\", \"2016-09-11\", \"2016-09-12\", \"2016-09-13\", \"2016-09-14\", \"2016-09-15\", \"2016-09-16\", \"2016-09-17\", \"2016-09-18\", \"2016-09-19\", \"2016-09-20\", \"2016-09-21\", \"2016-09-22\", \"2016-09-23\", \"2016-09-24\", \"2016-09-25\", \"2016-09-26\", \"2016-09-27\", \"2016-09-28\", \"2016-09-29\", \"2016-09-30\", \"2016-10-01\", \"2016-10-02\", \"2016-10-03\", \"2016-10-04\", \"2016-10-05\", \"2016-10-06\", \"2016-10-07\", \"2016-10-08\", \"2016-10-09\", \"2016-10-10\", \"2016-10-11\", \"2016-10-12\", \"2016-10-13\", \"2016-10-14\", \"2016-10-15\", \"2016-10-16\", \"2016-10-17\", \"2016-10-18\", \"2016-10-19\", \"2016-10-20\", \"2016-10-21\", \"2016-10-22\", \"2016-10-23\", \"2016-10-24\", \"2016-10-25\", \"2016-10-26\", \"2016-10-27\", \"2016-10-28\", \"2016-10-29\", \"2016-10-30\", \"2016-10-31\", \"2016-11-01\", \"2016-11-02\", \"2016-11-03\", \"2016-11-04\", \"2016-11-05\", \"2016-11-06\", \"2016-11-07\", \"2016-11-08\", \"2016-11-09\", \"2016-11-10\", \"2016-11-11\", \"2016-11-12\", \"2016-11-13\", \"2016-11-14\", \"2016-11-15\", \"2016-11-16\", \"2016-11-17\", \"2016-11-18\", \"2016-11-19\", \"2016-11-20\", \"2016-11-21\", \"2016-11-22\", \"2016-11-23\", \"2016-11-24\", \"2016-11-25\", \"2016-11-26\", \"2016-11-27\", \"2016-11-28\", \"2016-11-29\", \"2016-11-30\", \"2016-12-01\", \"2016-12-02\", \"2016-12-03\", \"2016-12-04\", \"2016-12-05\", \"2016-12-06\", \"2016-12-07\", \"2016-12-08\", \"2016-12-09\", \"2016-12-10\", \"2016-12-11\", \"2016-12-12\", \"2016-12-13\", \"2016-12-14\", \"2016-12-15\", \"2016-12-16\", \"2016-12-17\", \"2016-12-18\", \"2016-12-19\", \"2016-12-20\", \"2016-12-21\", \"2016-12-22\", \"2016-12-23\", \"2016-12-24\", \"2016-12-25\", \"2016-12-26\", \"2016-12-27\", \"2016-12-28\", \"2016-12-29\", \"2016-12-30\", \"2016-12-31\", \"2017-01-01\", \"2017-01-02\", \"2017-01-03\", \"2017-01-04\", \"2017-01-05\", \"2017-01-06\", \"2017-01-07\", \"2017-01-08\", \"2017-01-09\", \"2017-01-10\", \"2017-01-11\", \"2017-01-12\", \"2017-01-13\", \"2017-01-14\", \"2017-01-15\", \"2017-01-16\", \"2017-01-17\", \"2017-01-18\", \"2017-01-19\", \"2017-01-20\", \"2017-01-21\", \"2017-01-22\", \"2017-01-23\", \"2017-01-24\", \"2017-01-25\", \"2017-01-26\", \"2017-01-27\", \"2017-01-28\", \"2017-01-29\", \"2017-01-30\", \"2017-01-31\", \"2017-02-01\", \"2017-02-02\", \"2017-02-03\", \"2017-02-04\", \"2017-02-05\", \"2017-02-06\", \"2017-02-07\", \"2017-02-08\", \"2017-02-09\", \"2017-02-10\", \"2017-02-11\", \"2017-02-12\", \"2017-02-13\", \"2017-02-14\", \"2017-02-15\", \"2017-02-16\", \"2017-02-17\", \"2017-02-18\", \"2017-02-19\", \"2017-02-20\", \"2017-02-21\", \"2017-02-22\", \"2017-02-23\", \"2017-02-24\", \"2017-02-25\", \"2017-02-26\", \"2017-02-27\", \"2017-02-28\", \"2017-03-01\", \"2017-03-02\", \"2017-03-03\", \"2017-03-04\", \"2017-03-05\", \"2017-03-06\", \"2017-03-07\", \"2017-03-08\", \"2017-03-09\", \"2017-03-10\", \"2017-03-11\", \"2017-03-12\", \"2017-03-13\", \"2017-03-14\", \"2017-03-15\", \"2017-03-16\", \"2017-03-17\", \"2017-03-18\", \"2017-03-19\", \"2017-03-20\", \"2017-03-21\", \"2017-03-22\", \"2017-03-23\", \"2017-03-24\", \"2017-03-25\", \"2017-03-26\", \"2017-03-27\", \"2017-03-28\", \"2017-03-29\", \"2017-03-30\", \"2017-03-31\", \"2017-04-01\", \"2017-04-02\", \"2017-04-03\", \"2017-04-04\", \"2017-04-05\", \"2017-04-06\", \"2017-04-07\", \"2017-04-08\", \"2017-04-09\", \"2017-04-10\", \"2017-04-11\", \"2017-04-12\", \"2017-04-13\", \"2017-04-14\", \"2017-04-15\", \"2017-04-16\", \"2017-04-17\", \"2017-04-18\", \"2017-04-19\", \"2017-04-20\", \"2017-04-21\", \"2017-04-22\", \"2017-04-23\", \"2017-04-24\", \"2017-04-25\", \"2017-04-26\", \"2017-04-27\", \"2017-04-28\", \"2017-04-29\", \"2017-04-30\", \"2017-05-01\", \"2017-05-02\", \"2017-05-03\", \"2017-05-04\", \"2017-05-05\", \"2017-05-06\", \"2017-05-07\", \"2017-05-08\", \"2017-05-09\", \"2017-05-10\", \"2017-05-11\", \"2017-05-12\", \"2017-05-13\", \"2017-05-14\", \"2017-05-15\", \"2017-05-16\", \"2017-05-17\", \"2017-05-18\", \"2017-05-19\", \"2017-05-20\", \"2017-05-21\", \"2017-05-22\", \"2017-05-23\", \"2017-05-24\", \"2017-05-25\", \"2017-05-26\", \"2017-05-27\", \"2017-05-28\", \"2017-05-29\", \"2017-05-30\", \"2017-05-31\", \"2017-06-01\", \"2017-06-02\", \"2017-06-03\", \"2017-06-04\", \"2017-06-05\", \"2017-06-06\", \"2017-06-07\", \"2017-06-08\", \"2017-06-09\", \"2017-06-10\", \"2017-06-11\", \"2017-06-12\", \"2017-06-13\", \"2017-06-14\", \"2017-06-15\", \"2017-06-16\", \"2017-06-17\", \"2017-06-18\", \"2017-06-19\", \"2017-06-20\", \"2017-06-21\", \"2017-06-22\", \"2017-06-23\", \"2017-06-24\", \"2017-06-25\", \"2017-06-26\", \"2017-06-27\", \"2017-06-28\", \"2017-06-29\", \"2017-06-30\", \"2017-07-01\", \"2017-07-02\", \"2017-07-03\", \"2017-07-04\", \"2017-07-05\", \"2017-07-06\", \"2017-07-07\", \"2017-07-08\", \"2017-07-09\", \"2017-07-10\", \"2017-07-11\", \"2017-07-12\", \"2017-07-13\", \"2017-07-14\", \"2017-07-15\", \"2017-07-16\", \"2017-07-17\", \"2017-07-18\", \"2017-07-19\", \"2017-07-20\", \"2017-07-21\", \"2017-07-22\", \"2017-07-23\", \"2017-07-24\", \"2017-07-25\", \"2017-07-26\", \"2017-07-27\", \"2017-07-28\", \"2017-07-29\", \"2017-07-30\", \"2017-07-31\", \"2017-08-01\", \"2017-08-02\", \"2017-08-03\", \"2017-08-04\", \"2017-08-05\", \"2017-08-06\", \"2017-08-07\", \"2017-08-08\", \"2017-08-09\", \"2017-08-10\", \"2017-08-11\", \"2017-08-12\", \"2017-08-13\", \"2017-08-14\", \"2017-08-15\", \"2017-08-16\", \"2017-08-17\", \"2017-08-18\", \"2017-08-19\", \"2017-08-20\", \"2017-08-21\", \"2017-08-22\", \"2017-08-23\", \"2017-08-24\", \"2017-08-25\", \"2017-08-26\", \"2017-08-27\", \"2017-08-28\", \"2017-08-29\", \"2017-08-30\", \"2017-08-31\", \"2017-09-01\", \"2017-09-02\", \"2017-09-03\", \"2017-09-04\", \"2017-09-05\", \"2017-09-06\", \"2017-09-07\", \"2017-09-08\", \"2017-09-09\", \"2017-09-10\", \"2017-09-11\", \"2017-09-12\", \"2017-09-13\", \"2017-09-14\", \"2017-09-15\", \"2017-09-16\", \"2017-09-17\", \"2017-09-18\", \"2017-09-19\", \"2017-09-20\", \"2017-09-21\", \"2017-09-22\", \"2017-09-23\", \"2017-09-24\", \"2017-09-25\", \"2017-09-26\", \"2017-09-27\", \"2017-09-28\", \"2017-09-29\", \"2017-09-30\", \"2017-10-01\", \"2017-10-02\", \"2017-10-03\", \"2017-10-04\", \"2017-10-05\", \"2017-10-06\", \"2017-10-07\", \"2017-10-08\", \"2017-10-09\", \"2017-10-10\", \"2017-10-11\", \"2017-10-12\", \"2017-10-13\", \"2017-10-14\", \"2017-10-15\", \"2017-10-16\", \"2017-10-17\", \"2017-10-18\", \"2017-10-19\", \"2017-10-20\", \"2017-10-21\", \"2017-10-22\", \"2017-10-23\", \"2017-10-24\", \"2017-10-25\", \"2017-10-26\", \"2017-10-27\", \"2017-10-28\", \"2017-10-29\", \"2017-10-30\", \"2017-10-31\", \"2017-11-01\", \"2017-11-02\", \"2017-11-03\", \"2017-11-04\", \"2017-11-05\", \"2017-11-06\", \"2017-11-07\", \"2017-11-08\", \"2017-11-09\", \"2017-11-10\", \"2017-11-11\", \"2017-11-12\", \"2017-11-13\", \"2017-11-14\", \"2017-11-15\", \"2017-11-16\", \"2017-11-17\", \"2017-11-18\", \"2017-11-19\", \"2017-11-20\", \"2017-11-21\", \"2017-11-22\", \"2017-11-23\", \"2017-11-24\", \"2017-11-25\", \"2017-11-26\", \"2017-11-27\", \"2017-11-28\", \"2017-11-29\", \"2017-11-30\", \"2017-12-01\", \"2017-12-02\", \"2017-12-03\", \"2017-12-04\", \"2017-12-05\", \"2017-12-06\", \"2017-12-07\", \"2017-12-08\", \"2017-12-09\", \"2017-12-10\", \"2017-12-11\", \"2017-12-12\", \"2017-12-13\", \"2017-12-14\", \"2017-12-15\", \"2017-12-16\", \"2017-12-17\", \"2017-12-18\", \"2017-12-19\", \"2017-12-20\", \"2017-12-21\", \"2017-12-22\", \"2017-12-23\", \"2017-12-24\", \"2017-12-25\", \"2017-12-26\", \"2017-12-27\", \"2017-12-28\", \"2017-12-29\", \"2017-12-30\", \"2017-12-31\", \"2018-01-01\", \"2018-01-02\", \"2018-01-03\", \"2018-01-04\", \"2018-01-05\", \"2018-01-06\", \"2018-01-07\", \"2018-01-08\", \"2018-01-09\", \"2018-01-10\", \"2018-01-11\", \"2018-01-12\", \"2018-01-13\", \"2018-01-14\", \"2018-01-15\", \"2018-01-16\", \"2018-01-17\", \"2018-01-18\", \"2018-01-19\", \"2018-01-20\", \"2018-01-21\", \"2018-01-22\", \"2018-01-23\", \"2018-01-24\", \"2018-01-25\", \"2018-01-26\", \"2018-01-27\", \"2018-01-28\", \"2018-01-29\", \"2018-01-30\", \"2018-01-31\", \"2018-02-01\", \"2018-02-02\", \"2018-02-03\", \"2018-02-04\", \"2018-02-05\", \"2018-02-06\", \"2018-02-07\", \"2018-02-08\", \"2018-02-09\", \"2018-02-10\", \"2018-02-11\", \"2018-02-12\", \"2018-02-13\", \"2018-02-14\", \"2018-02-15\", \"2018-02-16\", \"2018-02-17\", \"2018-02-18\", \"2018-02-19\", \"2018-02-20\", \"2018-02-21\", \"2018-02-22\", \"2018-02-23\", \"2018-02-24\", \"2018-02-25\", \"2018-02-26\", \"2018-02-27\", \"2018-02-28\", \"2018-03-01\", \"2018-03-02\", \"2018-03-03\", \"2018-03-04\", \"2018-03-05\", \"2018-03-06\", \"2018-03-07\", \"2018-03-08\", \"2018-03-09\", \"2018-03-10\", \"2018-03-11\", \"2018-03-12\", \"2018-03-13\", \"2018-03-14\", \"2018-03-15\", \"2018-03-16\", \"2018-03-17\", \"2018-03-18\", \"2018-03-19\", \"2018-03-20\", \"2018-03-21\", \"2018-03-22\", \"2018-03-23\", \"2018-03-24\", \"2018-03-25\", \"2018-03-26\", \"2018-03-27\", \"2018-03-28\", \"2018-03-29\", \"2018-03-30\", \"2018-03-31\", \"2018-04-01\", \"2018-04-02\", \"2018-04-03\", \"2018-04-04\", \"2018-04-05\", \"2018-04-06\", \"2018-04-07\", \"2018-04-08\", \"2018-04-09\", \"2018-04-10\", \"2018-04-11\", \"2018-04-12\", \"2018-04-13\", \"2018-04-14\", \"2018-04-15\", \"2018-04-16\", \"2018-04-17\", \"2018-04-18\", \"2018-04-19\", \"2018-04-20\", \"2018-04-21\", \"2018-04-22\", \"2018-04-23\", \"2018-04-24\", \"2018-04-25\", \"2018-04-26\", \"2018-04-27\", \"2018-04-28\", \"2018-04-29\", \"2018-04-30\", \"2018-05-01\", \"2018-05-02\", \"2018-05-03\", \"2018-05-04\", \"2018-05-05\", \"2018-05-06\", \"2018-05-07\", \"2018-05-08\", \"2018-05-09\", \"2018-05-10\", \"2018-05-11\", \"2018-05-12\", \"2018-05-13\", \"2018-05-14\", \"2018-05-15\", \"2018-05-16\", \"2018-05-17\", \"2018-05-18\", \"2018-05-19\", \"2018-05-20\", \"2018-05-21\", \"2018-05-22\", \"2018-05-23\", \"2018-05-24\", \"2018-05-25\", \"2018-05-26\", \"2018-05-27\", \"2018-05-28\", \"2018-05-29\", \"2018-05-30\", \"2018-05-31\", \"2018-06-01\", \"2018-06-02\", \"2018-06-03\", \"2018-06-04\", \"2018-06-05\", \"2018-06-06\", \"2018-06-07\", \"2018-06-08\", \"2018-06-09\", \"2018-06-10\", \"2018-06-11\", \"2018-06-12\", \"2018-06-13\", \"2018-06-14\", \"2018-06-15\", \"2018-06-16\", \"2018-06-17\", \"2018-06-18\", \"2018-06-19\", \"2018-06-20\", \"2018-06-21\", \"2018-06-22\", \"2018-06-23\", \"2018-06-24\", \"2018-06-25\", \"2018-06-26\", \"2018-06-27\", \"2018-06-28\", \"2018-06-29\", \"2018-06-30\", \"2018-07-01\", \"2018-07-02\", \"2018-07-03\", \"2018-07-04\", \"2018-07-05\", \"2018-07-06\", \"2018-07-07\", \"2018-07-08\", \"2018-07-09\", \"2018-07-10\", \"2018-07-11\", \"2018-07-12\", \"2018-07-13\", \"2018-07-14\", \"2018-07-15\", \"2018-07-16\", \"2018-07-17\", \"2018-07-18\", \"2018-07-19\", \"2018-07-20\", \"2018-07-21\", \"2018-07-22\", \"2018-07-23\", \"2018-07-24\", \"2018-07-25\", \"2018-07-26\", \"2018-07-27\", \"2018-07-28\", \"2018-07-29\", \"2018-07-30\", \"2018-07-31\", \"2018-08-01\", \"2018-08-02\", \"2018-08-03\", \"2018-08-04\", \"2018-08-05\", \"2018-08-06\", \"2018-08-07\", \"2018-08-08\", \"2018-08-09\", \"2018-08-10\", \"2018-08-11\", \"2018-08-12\", \"2018-08-13\", \"2018-08-14\", \"2018-08-15\", \"2018-08-16\", \"2018-08-17\", \"2018-08-18\", \"2018-08-19\", \"2018-08-20\", \"2018-08-21\", \"2018-08-22\", \"2018-08-23\", \"2018-08-24\", \"2018-08-25\", \"2018-08-26\", \"2018-08-27\", \"2018-08-28\", \"2018-08-29\", \"2018-08-30\", \"2018-08-31\", \"2018-09-01\", \"2018-09-02\", \"2018-09-03\", \"2018-09-04\", \"2018-09-05\", \"2018-09-06\", \"2018-09-07\", \"2018-09-08\", \"2018-09-09\", \"2018-09-10\", \"2018-09-11\", \"2018-09-12\", \"2018-09-13\", \"2018-09-14\", \"2018-09-15\", \"2018-09-16\", \"2018-09-17\", \"2018-09-18\", \"2018-09-19\", \"2018-09-20\", \"2018-09-21\", \"2018-09-22\", \"2018-09-23\", \"2018-09-24\", \"2018-09-25\", \"2018-09-26\", \"2018-09-27\", \"2018-09-28\", \"2018-09-29\", \"2018-09-30\", \"2018-10-01\", \"2018-10-02\", \"2018-10-03\", \"2018-10-04\", \"2018-10-05\", \"2018-10-06\", \"2018-10-07\", \"2018-10-08\", \"2018-10-09\", \"2018-10-10\", \"2018-10-11\", \"2018-10-12\", \"2018-10-13\", \"2018-10-14\", \"2018-10-15\", \"2018-10-16\", \"2018-10-17\", \"2018-10-18\", \"2018-10-19\", \"2018-10-20\", \"2018-10-21\", \"2018-10-22\", \"2018-10-23\", \"2018-10-24\", \"2018-10-25\", \"2018-10-26\", \"2018-10-27\", \"2018-10-28\", \"2018-10-29\", \"2018-10-30\", \"2018-10-31\", \"2018-11-01\", \"2018-11-02\", \"2018-11-03\", \"2018-11-04\", \"2018-11-05\", \"2018-11-06\", \"2018-11-07\", \"2018-11-08\", \"2018-11-09\", \"2018-11-10\", \"2018-11-11\", \"2018-11-12\", \"2018-11-13\", \"2018-11-14\", \"2018-11-15\", \"2018-11-16\", \"2018-11-17\", \"2018-11-18\", \"2018-11-19\", \"2018-11-20\", \"2018-11-21\", \"2018-11-22\", \"2018-11-23\", \"2018-11-24\", \"2018-11-25\", \"2018-11-26\", \"2018-11-27\", \"2018-11-28\", \"2018-11-29\", \"2018-11-30\", \"2018-12-01\", \"2018-12-02\", \"2018-12-03\", \"2018-12-04\", \"2018-12-05\", \"2018-12-06\", \"2018-12-07\", \"2018-12-08\", \"2018-12-09\", \"2018-12-10\", \"2018-12-11\", \"2018-12-12\", \"2018-12-13\", \"2018-12-14\", \"2018-12-15\", \"2018-12-16\", \"2018-12-17\", \"2018-12-18\", \"2018-12-19\", \"2018-12-20\", \"2018-12-21\", \"2018-12-22\", \"2018-12-23\", \"2018-12-24\", \"2018-12-25\", \"2018-12-26\", \"2018-12-27\", \"2018-12-28\", \"2018-12-29\", \"2018-12-30\", \"2018-12-31\", \"2019-01-01\", \"2019-01-02\", \"2019-01-03\", \"2019-01-04\", \"2019-01-05\", \"2019-01-06\", \"2019-01-07\", \"2019-01-08\", \"2019-01-09\", \"2019-01-10\", \"2019-01-11\", \"2019-01-12\", \"2019-01-13\", \"2019-01-14\", \"2019-01-15\", \"2019-01-16\", \"2019-01-17\", \"2019-01-18\", \"2019-01-19\", \"2019-01-20\", \"2019-01-21\", \"2019-01-22\", \"2019-01-23\", \"2019-01-24\", \"2019-01-25\", \"2019-01-26\", \"2019-01-27\", \"2019-01-28\", \"2019-01-29\", \"2019-01-30\", \"2019-01-31\", \"2019-02-01\", \"2019-02-02\", \"2019-02-03\", \"2019-02-04\", \"2019-02-05\", \"2019-02-06\", \"2019-02-07\", \"2019-02-08\", \"2019-02-09\", \"2019-02-10\", \"2019-02-11\", \"2019-02-12\", \"2019-02-13\", \"2019-02-14\", \"2019-02-15\", \"2019-02-16\", \"2019-02-17\", \"2019-02-18\", \"2019-02-19\", \"2019-02-20\", \"2019-02-21\", \"2019-02-22\", \"2019-02-23\", \"2019-02-24\", \"2019-02-25\", \"2019-02-26\", \"2019-02-27\", \"2019-02-28\", \"2019-03-01\", \"2019-03-02\", \"2019-03-03\", \"2019-03-04\", \"2019-03-05\", \"2019-03-06\", \"2019-03-07\", \"2019-03-08\", \"2019-03-09\", \"2019-03-10\", \"2019-03-11\", \"2019-03-12\", \"2019-03-13\", \"2019-03-14\", \"2019-03-15\", \"2019-03-16\", \"2019-03-17\", \"2019-03-18\", \"2019-03-19\", \"2019-03-20\", \"2019-03-21\", \"2019-03-22\", \"2019-03-23\", \"2019-03-24\", \"2019-03-25\", \"2019-03-26\", \"2019-03-27\", \"2019-03-28\", \"2019-03-29\", \"2019-03-30\", \"2019-03-31\", \"2019-04-01\", \"2019-04-02\", \"2019-04-03\", \"2019-04-04\", \"2019-04-05\", \"2019-04-06\", \"2019-04-07\", \"2019-04-08\", \"2019-04-09\", \"2019-04-10\", \"2019-04-11\", \"2019-04-12\", \"2019-04-13\", \"2019-04-14\", \"2019-04-15\", \"2019-04-16\", \"2019-04-17\", \"2019-04-18\", \"2019-04-19\", \"2019-04-20\", \"2019-04-21\", \"2019-04-22\", \"2019-04-23\", \"2019-04-24\", \"2019-04-25\", \"2019-04-26\", \"2019-04-27\", \"2019-04-28\", \"2019-04-29\", \"2019-04-30\", \"2019-05-01\", \"2019-05-02\", \"2019-05-03\", \"2019-05-04\", \"2019-05-05\", \"2019-05-06\", \"2019-05-07\", \"2019-05-08\", \"2019-05-09\", \"2019-05-10\", \"2019-05-11\", \"2019-05-12\", \"2019-05-13\", \"2019-05-14\", \"2019-05-15\", \"2019-05-16\", \"2019-05-17\", \"2019-05-18\", \"2019-05-19\", \"2019-05-20\", \"2019-05-21\", \"2019-05-22\", \"2019-05-23\", \"2019-05-24\", \"2019-05-25\", \"2019-05-26\", \"2019-05-27\", \"2019-05-28\", \"2019-05-29\", \"2019-05-30\", \"2019-05-31\", \"2019-06-01\", \"2019-06-02\", \"2019-06-03\", \"2019-06-04\", \"2019-06-05\", \"2019-06-06\", \"2019-06-07\", \"2019-06-08\", \"2019-06-09\", \"2019-06-10\", \"2019-06-11\", \"2019-06-12\", \"2019-06-13\", \"2019-06-14\", \"2019-06-15\", \"2019-06-16\", \"2019-06-17\", \"2019-06-18\", \"2019-06-19\", \"2019-06-20\", \"2019-06-21\", \"2019-06-22\", \"2019-06-23\", \"2019-06-24\", \"2019-06-25\", \"2019-06-26\", \"2019-06-27\", \"2019-06-28\", \"2019-06-29\", \"2019-06-30\", \"2019-07-01\", \"2019-07-02\", \"2019-07-03\", \"2019-07-04\", \"2019-07-05\", \"2019-07-06\", \"2019-07-07\", \"2019-07-08\", \"2019-07-09\", \"2019-07-10\", \"2019-07-11\", \"2019-07-12\", \"2019-07-13\", \"2019-07-14\", \"2019-07-15\", \"2019-07-16\", \"2019-07-17\", \"2019-07-18\", \"2019-07-19\", \"2019-07-20\", \"2019-07-21\", \"2019-07-22\", \"2019-07-23\", \"2019-07-24\", \"2019-07-25\", \"2019-07-26\", \"2019-07-27\", \"2019-07-28\", \"2019-07-29\", \"2019-07-30\", \"2019-07-31\", \"2019-08-01\", \"2019-08-02\", \"2019-08-03\", \"2019-08-04\", \"2019-08-05\", \"2019-08-06\", \"2019-08-07\", \"2019-08-08\", \"2019-08-09\", \"2019-08-10\", \"2019-08-11\", \"2019-08-12\", \"2019-08-13\", \"2019-08-14\", \"2019-08-15\", \"2019-08-16\", \"2019-08-17\", \"2019-08-18\", \"2019-08-19\", \"2019-08-20\", \"2019-08-21\", \"2019-08-22\", \"2019-08-23\", \"2019-08-24\", \"2019-08-25\", \"2019-08-26\", \"2019-08-27\", \"2019-08-28\", \"2019-08-29\", \"2019-08-30\", \"2019-08-31\", \"2019-09-01\", \"2019-09-02\", \"2019-09-03\", \"2019-09-04\", \"2019-09-05\", \"2019-09-06\", \"2019-09-07\", \"2019-09-08\", \"2019-09-09\", \"2019-09-10\", \"2019-09-11\", \"2019-09-12\", \"2019-09-13\", \"2019-09-14\", \"2019-09-15\", \"2019-09-16\", \"2019-09-17\", \"2019-09-18\", \"2019-09-19\", \"2019-09-20\", \"2019-09-21\", \"2019-09-22\", \"2019-09-23\", \"2019-09-24\", \"2019-09-25\", \"2019-09-26\", \"2019-09-27\", \"2019-09-28\", \"2019-09-29\", \"2019-09-30\", \"2019-10-01\", \"2019-10-02\", \"2019-10-03\", \"2019-10-04\", \"2019-10-05\", \"2019-10-06\", \"2019-10-07\", \"2019-10-08\", \"2019-10-09\", \"2019-10-10\", \"2019-10-11\", \"2019-10-12\", \"2019-10-13\", \"2019-10-14\", \"2019-10-15\", \"2019-10-16\", \"2019-10-17\", \"2019-10-18\", \"2019-10-19\", \"2019-10-20\", \"2019-10-21\", \"2019-10-22\", \"2019-10-23\", \"2019-10-24\", \"2019-10-25\", \"2019-10-26\", \"2019-10-27\", \"2019-10-28\", \"2019-10-29\", \"2019-10-30\", \"2019-10-31\", \"2019-11-01\", \"2019-11-02\", \"2019-11-03\", \"2019-11-04\", \"2019-11-05\", \"2019-11-06\", \"2019-11-07\", \"2019-11-08\", \"2019-11-09\", \"2019-11-10\", \"2019-11-11\", \"2019-11-12\", \"2019-11-13\", \"2019-11-14\", \"2019-11-15\", \"2019-11-16\", \"2019-11-17\", \"2019-11-18\", \"2019-11-19\", \"2019-11-20\", \"2019-11-21\", \"2019-11-22\", \"2019-11-23\", \"2019-11-24\", \"2019-11-25\", \"2019-11-26\", \"2019-11-27\", \"2019-11-28\", \"2019-11-29\", \"2019-11-30\", \"2019-12-01\", \"2019-12-02\", \"2019-12-03\", \"2019-12-04\", \"2019-12-05\", \"2019-12-06\", \"2019-12-07\", \"2019-12-08\", \"2019-12-09\", \"2019-12-10\", \"2019-12-11\", \"2019-12-12\", \"2019-12-13\", \"2019-12-14\", \"2019-12-15\", \"2019-12-16\", \"2019-12-17\", \"2019-12-18\", \"2019-12-19\", \"2019-12-20\", \"2019-12-21\", \"2019-12-22\", \"2019-12-23\", \"2019-12-24\", \"2019-12-25\", \"2019-12-26\", \"2019-12-27\", \"2019-12-28\", \"2019-12-29\", \"2019-12-30\", \"2019-12-31\", \"2020-01-01\", \"2020-01-02\", \"2020-01-03\", \"2020-01-04\", \"2020-01-05\", \"2020-01-06\", \"2020-01-07\", \"2020-01-08\", \"2020-01-09\", \"2020-01-10\", \"2020-01-11\", \"2020-01-12\", \"2020-01-13\", \"2020-01-14\", \"2020-01-15\", \"2020-01-16\", \"2020-01-17\", \"2020-01-18\", \"2020-01-19\", \"2020-01-20\", \"2020-01-21\", \"2020-01-22\", \"2020-01-23\", \"2020-01-24\", \"2020-01-25\", \"2020-01-26\", \"2020-01-27\", \"2020-01-28\", \"2020-01-29\", \"2020-01-30\", \"2020-01-31\", \"2020-02-01\", \"2020-02-02\", \"2020-02-03\", \"2020-02-04\", \"2020-02-05\", \"2020-02-06\", \"2020-02-07\", \"2020-02-08\", \"2020-02-09\", \"2020-02-10\", \"2020-02-11\", \"2020-02-12\", \"2020-02-13\", \"2020-02-14\", \"2020-02-15\", \"2020-02-16\", \"2020-02-17\", \"2020-02-18\", \"2020-02-19\", \"2020-02-20\", \"2020-02-21\", \"2020-02-22\", \"2020-02-23\", \"2020-02-24\", \"2020-02-25\", \"2020-02-26\", \"2020-02-27\", \"2020-02-28\", \"2020-02-29\", \"2020-03-01\", \"2020-03-02\", \"2020-03-03\", \"2020-03-04\", \"2020-03-05\", \"2020-03-06\", \"2020-03-07\", \"2020-03-08\", \"2020-03-09\", \"2020-03-10\", \"2020-03-11\", \"2020-03-12\", \"2020-03-13\", \"2020-03-14\", \"2020-03-15\", \"2020-03-16\", \"2020-03-17\", \"2020-03-18\", \"2020-03-19\", \"2020-03-20\", \"2020-03-21\", \"2020-03-22\", \"2020-03-23\", \"2020-03-24\", \"2020-03-25\", \"2020-03-26\", \"2020-03-27\", \"2020-03-28\", \"2020-03-29\", \"2020-03-30\", \"2020-03-31\", \"2020-04-01\", \"2020-04-02\", \"2020-04-03\", \"2020-04-04\", \"2020-04-05\", \"2020-04-06\", \"2020-04-07\", \"2020-04-08\", \"2020-04-09\", \"2020-04-10\", \"2020-04-11\", \"2020-04-12\", \"2020-04-13\", \"2020-04-14\", \"2020-04-15\", \"2020-04-16\", \"2020-04-17\", \"2020-04-18\", \"2020-04-19\", \"2020-04-20\", \"2020-04-21\", \"2020-04-22\", \"2020-04-23\", \"2020-04-24\", \"2020-04-25\", \"2020-04-26\", \"2020-04-27\", \"2020-04-28\", \"2020-04-29\", \"2020-04-30\", \"2020-05-01\", \"2020-05-02\", \"2020-05-03\", \"2020-05-04\", \"2020-05-05\", \"2020-05-06\", \"2020-05-07\", \"2020-05-08\", \"2020-05-09\", \"2020-05-10\", \"2020-05-11\", \"2020-05-12\", \"2020-05-13\", \"2020-05-14\", \"2020-05-15\", \"2020-05-16\", \"2020-05-17\", \"2020-05-18\", \"2020-05-19\", \"2020-05-20\", \"2020-05-21\", \"2020-05-22\", \"2020-05-23\", \"2020-05-24\", \"2020-05-25\", \"2020-05-26\", \"2020-05-27\", \"2020-05-28\", \"2020-05-29\", \"2020-05-30\", \"2020-05-31\", \"2020-06-01\", \"2020-06-02\", \"2020-06-03\", \"2020-06-04\", \"2020-06-05\", \"2020-06-06\", \"2020-06-07\", \"2020-06-08\", \"2020-06-09\", \"2020-06-10\", \"2020-06-11\", \"2020-06-12\", \"2020-06-13\", \"2020-06-14\", \"2020-06-15\", \"2020-06-16\", \"2020-06-17\", \"2020-06-18\", \"2020-06-19\", \"2020-06-20\", \"2020-06-21\", \"2020-06-22\", \"2020-06-23\", \"2020-06-24\", \"2020-06-25\", \"2020-06-26\", \"2020-06-27\", \"2020-06-28\", \"2020-06-29\", \"2020-06-30\", \"2020-07-01\"], \"xaxis\": \"x\", \"y\": [313.22, 186.18, 87.18, 151.84, 146.6, 149.58, 217.87, 229.9, 201.66, 221.02, 205.41, 212.41, 197.61, 164.39, 166.19, 174.98, 196.46, 201.51, 183.35, 165.63, 159.54, 143.68, 128.73, 164.98, 148.59, 129.34, 154.2, 134.6, 173.13, 178.04, 158.59, 211.59, 163.64, 157.71, 137.26, 131.76, 151.6, 160.75, 145.34, 134.67, 153.07, 116.91, 177.98, 167.01, 193.96, 184.06, 152.62, 161.27, 188.2, 159.97, 144.12, 155.38, 124.1, 141.39, 170.16, 148.19, 140.78, 130.42, 105.86, 71.83, 53.71, 83.49, 91.07, 106.57, 101.75, 77.57, 63.24, 76.62, 86.7, 104.29, 115.93, 108.66, 67.94, 38.89, 45.39, 55.55, 50.59, 69.51, 96.62, 96.28, 72.2, 78.47, 91.87, 107.26, 109.78, 62.27, 102.22, 104.36, 44.19, 55.66, 112.86, 78.51, 66.52, 62.56, 78.61, 119.7, 66.09, 95.34, 63.57, 96.56, 131.39, 75.35, 86.49, 77.07, 98.79, 81.81, 65.78, 119.82, 125.53, 121.51, 114.5, 101.83, 118.57, 143.22, 106.76, 65.36, 67.08, 81.37, 63.76, 60.56, 76.1, 72.66, 121.94, 108.98, 145.99, 171.33, 117.76, 90.66, 106.4, 101.21, 97.57, 96.34, 83.42, 78.06, 97.87, 77.52, 97.16, 66.85, 89.85, 67.41, 75.54, 67.91, 69.02, 79.1, 117.27, 96.09, 84.71, 182.76, 106.61, 92.68, 73.62, 49.42, 52.51, 65.28, 85.45, 83.02, 44.54, 85.03, 137.7, 136.05, 63.77, 115.57, 83.29, 73.7, 74.56, 106.11, 132.21, 123.56, 132.21, 110.65, 80.31, 59.73, 85.4, 101.99, 126.07, 37.59, 76.0, 69.46, 79.84, 48.5, 53.79, 57.99, 67.12, 65.25, 88.75, 135.92, 60.27, 52.2, 67.92, 65.95, 47.68, 29.08, 32.29, 36.68, 44.48, 63.79, 77.2, 77.99, 71.11, 67.39, 49.58, 40.97, 38.97, 34.02, 46.13, 46.01, 29.81, 22.82, 24.69, 29.04, 25.76, 37.85, 41.32, 47.81, 56.02, 54.46, 59.13, 65.47, 64.58, 70.05, 55.51, 82.27, 77.04, 52.45, 61.66, 65.67, 51.4, 55.71, 61.84, 60.65, 34.42, 40.83, 50.97, 46.74, 44.67, 37.39, 52.06, 57.52, 61.47, 77.76, 68.53, 57.85, 51.67, 73.78, 97.63, 99.5, 97.31, 76.43, 61.69, 55.19, 63.79, 58.48, 60.29, 67.35, 87.55, 84.57, 111.58, 108.78, 91.18, 104.85, 56.19, 67.62, 64.38, 45.65, 35.75, 34.89, 63.06, 82.39, 88.08, 89.75, 69.57, 68.34, 61.08, 85.7, 97.62, 103.58, 145.97, 180.52, 151.57, 144.04, 148.44, 130.22, 147.71, 111.34, 100.7, 97.67, 75.81, 95.24, 148.29, 90.66, 156.71, 170.28, 198.1, 158.04, 116.98, 143.73, 169.22, 147.65, 101.61, 113.2, 112.89, 95.72, 108.4, 245.97, 277.53, 232.4, 244.78, 293.49, 161.78, 153.33, 353.86, 217.55, 201.44, 249.95, 219.68, 258.48, 291.66, 221.68, 214.24, 184.02, 136.22, 188.09, 238.69, 271.42, 293.73, 247.27, 266.95, 241.61, 149.14, 182.5, 193.58, 172.89, 190.46, 282.76, 183.28, 170.74, 190.14, 186.64, 282.01, 218.22, 249.8, 283.59, 250.69, 211.95, 198.38, 184.12, 135.42, 118.6, 88.3, 111.45, 152.24, 136.75, 114.35, 181.67, 135.78, 204.72, 321.52, 129.08, 132.56, 158.69, 187.01, 148.77, 159.67, 233.97, 240.97, 295.71, 239.21, 270.1, 339.8, 318.1, 305.51, 391.54, 339.87, 158.43, 183.24, 227.13, 195.21, 248.59, 196.87, 178.8, 138.86, 179.48, 269.05, 278.2, 272.1, 196.83, 290.66, 294.3, 303.5, 217.05, 308.75, 255.94, 283.03, 311.08, 285.83, 242.05, 121.4, 135.31, 136.87, 130.76, 206.72, 224.94, 170.45, 119.57, 181.76, 216.55, 150.0, 146.03, 110.89, 103.57, 115.7, 123.22, 135.38, 148.75, 207.1, 150.89, 76.12, 88.73, 86.17, 177.64, 131.69, 129.66, 144.98, 163.92, 170.12, 213.62, 175.63, 165.22, 115.55, 53.0, 47.43, 98.61, 84.42, 109.16, 129.9, 85.76, 60.17, 58.95, 51.82, 81.32, 67.63, 70.86, 72.47, 103.73, 95.52, 58.4, 47.43, 80.01, 156.01, 137.99, 72.44, 61.75, 81.46, 89.75, 88.68, 127.86, 130.7, 118.44, 148.22, 132.86, 97.83, 91.82, 129.61, 89.78, 166.76, 107.81, 81.12, 74.03, 74.9, 94.81, 137.48, 124.13, 102.86, 102.9, 129.06, 124.8, 92.74, 113.75, 89.52, 123.59, 104.5, 139.37, 162.54, 161.23, 181.49, 142.64, 124.21, 119.47, 125.36, 103.08, 65.02, 54.34, 77.89, 90.19, 77.34, 73.55, 66.49, 100.09, 99.88, 105.51, 128.85, 94.89, 92.95, 117.64, 94.22, 70.86, 78.02, 66.3, 87.31, 57.35, 105.02, 111.22, 180.71, 109.82, 42.67, 56.87, 101.54, 76.56, 81.4, 138.97, 137.81, 77.72, 84.61, 66.72, 64.08, 64.95, 75.75, 69.25, 70.71, 96.72, 59.02, 102.42, 62.37, 67.76, 79.17, 101.31, 83.1, 72.33, 75.14, 91.63, 100.02, 67.12, 48.0, 76.76, 80.89, 60.67, 69.65, 58.21, 57.24, 67.6, 57.1, 68.71, 77.71, 54.5, 54.96, 52.95, 59.13, 60.92, 39.32, 71.53, 73.51, 52.88, 50.99, 75.93, 44.08, 42.14, 56.86, 45.64, 48.36, 42.09, 59.4, 76.29, 54.5, 40.55, 46.44, 56.16, 42.7, 48.03, 43.47, 43.55, 50.86, 49.04, 39.3, 43.86, 42.84, 44.04, 41.29, 39.28, 30.66, 42.15, 56.45, 40.81, 39.51, 49.04, 62.19, 55.55, 59.03, 48.57, 28.01, 28.6, 38.99, 43.35, 45.88, 54.13, 56.56, 57.09, 54.73, 48.93, 37.1, 28.06, 44.31, 46.77, 57.64, 45.37, 50.42, 50.73, 71.72, 87.99, 45.7, 45.89, 49.7, 57.08, 47.36, 79.99, 67.11, 81.9, 86.16, 75.02, 94.23, 89.62, 32.73, 55.64, 56.46, 56.64, 89.09, 52.49, 105.43, 101.84, 84.33, 117.28, 81.87, 103.12, 159.8, 81.71, 117.86, 114.06, 132.11, 144.47, 125.8, 134.84, 114.3, 86.93, 94.83, 144.98, 132.01, 149.35, 161.49, 140.57, 135.9, 161.11, 140.92, 182.14, 164.51, 115.76, 209.27, 296.27, 318.57, 350.39, 355.77, 434.92, 394.59, 537.96, 482.4, 342.45, 588.39, 685.36, 488.57, 338.38, 307.08, 291.71, 295.88, 277.67, 228.16, 194.2, 236.09, 291.98, 351.47, 237.21, 285.71, 323.74, 340.61, 281.76, 174.56, 216.1, 136.21, 113.3, 128.7, 127.5, 236.58, 246.25, 263.61, 263.25, 196.6, 223.3, 204.6, 293.91, 283.61, 238.21, 295.62, 189.09, 199.12, 210.28, 209.91, 154.55, 167.64, 200.78, 229.35, 232.33, 236.24, 161.92, 131.95, 187.3, 364.15, 411.8, 232.41, 154.26, 213.2, 273.82, 339.96, 231.1, 211.16, 191.5, 247.79, 255.33, 248.01, 215.42, 194.12, 154.52, 136.98, 141.88, 108.26, 146.04, 216.73, 232.37, 309.28, 222.66, 188.08, 177.67, 218.63, 227.68, 217.55, 349.98, 286.6, 189.45, 230.94, 241.78, 135.87, 74.92, 109.13, 132.35, 166.71, 214.23, 136.02, 198.24, 194.99, 186.65, 146.49, 176.04, 77.85, 129.1, 133.12, 120.43, 129.09, 166.55, 130.62, 168.96, 183.98, 163.86, 112.02, 107.13, 109.38, 126.74, 106.92, 93.03, 182.29, 451.25, 425.22, 328.23, 178.5, 149.73, 127.9, 114.68, 67.83, 82.32, 90.6, 91.6, 112.41, 134.4, 106.45, 68.88, 37.49, 64.42, 74.58, 102.46, 112.71, 125.8, 114.07, 96.39, 120.43, 121.21, 128.51, 120.88, 151.17, 149.42, 168.23, 118.34, 156.38, 152.66, 113.62, 69.44, 91.19, 105.71, 83.36, 70.62, 84.4, 47.67, 62.44, 150.76, 151.25, 68.88, 129.15, 146.59, 107.69, 163.97, 184.69, 176.54, 175.23, 145.22, 152.84, 136.35, 152.99, 130.13, 110.54, 103.42, 99.09, 96.07, 72.31, 93.14, 109.36, 126.74, 80.81, 85.8, 198.2, 145.74, 109.91, 207.4, 204.56, 220.77, 183.82, 109.76, 74.42, 94.28, 216.96, 198.09, 121.76, 135.54, 123.21, 78.18, 126.04, 139.1, 233.82, 178.44, 110.1, 118.43, 107.37, 113.9, 103.75, 69.88, 40.33, 48.95, 63.27, 56.38, 95.23, 123.44, 122.2, 121.1, 71.89, 80.37, 40.87, 41.83, 66.73, 64.63, 43.02, 57.4, 48.6, 62.0, 80.14, 51.6, 41.96, 65.19, 60.9, 35.1, 58.27, 61.93, 44.08, 63.62, 76.1, 51.52, 36.62, 29.83, 22.98, 25.83, 43.35, 20.52, 46.71, 116.12, 50.81, 47.17, 41.42, 45.31, 58.46, 41.92, 33.04, 22.35, 22.44, 30.35, 32.02, 38.77, 33.56, 37.67, 55.96, 28.88, 23.12, 18.54, 22.65, 17.52, 22.17, 20.17, 24.42, 25.71, 27.25, 10.88, 17.1, 17.24, 27.56, 27.29, 42.65, 53.69, 61.44, 57.42, 36.58, 50.42, 48.6, 21.83, null, null, 26.54, 30.12, 35.23, 39.6, 46.25, 35.48, 22.15, 25.5, 46.0, 36.54, 47.79, 51.33, 62.33, 34.3, 23.82, 15.23, 20.5, 41.62, 25.58, 20.06, 38.19, 47.89, 35.61, 39.41, 40.34, 51.7, 54.83, 60.46, 63.97, 46.65, 54.77, 80.47, 64.37, 51.56, 53.05, 60.83, 55.55, 70.81, 55.93, 11.81, 17.76, 35.5, 50.09, 66.12, 80.94, 75.4, 89.38, 74.2, 68.47, 63.41, 69.45, 76.81, 75.73, 79.81, 70.98, 102.2, 107.63, 105.88, 104.45, 106.85, 137.42, 147.07, 147.83, 152.61, 121.7, 152.16, 176.17, 426.52, 213.12, 146.01, 163.35, 188.24, 203.03, 178.91, 167.54, 198.37, 187.82, 196.37, 211.64, 179.17, 160.69, 168.16, 190.33, 209.61, 216.53, 517.93, 639.19, 495.9, 370.73, 363.77, 465.08, 354.56, 254.36, 192.04, 191.57, 150.79, 143.51, 128.65, 171.34, 178.08, 177.41, 175.56, 187.97, 185.31, 224.37, 198.34, 167.74, 215.17, 219.84, 190.45, 208.87, 240.87, 261.82, 230.56, 120.91, 88.95, 115.08, 165.76, 230.34, 218.87, 109.18, 134.99, 126.67, 127.57, 100.72, 95.58, 115.19, 168.33, 283.24, 293.14, 157.72, 117.72, 203.18, 259.0, 224.42, 224.27, 249.17, 227.28, 273.56, 306.17, 303.41, 277.48, 217.01, 248.54, 240.42, 252.57, 191.66, 152.98, 233.1, 186.26, 154.64, 168.87, 230.5, 191.47, 177.71, 133.56, 235.06, 276.25, 253.7, 152.33, 153.61, 202.11, 160.79, 130.16, 111.75, 128.45, 155.2, 150.96, 162.48, 126.84, 123.48, 157.33, 140.35, 115.05, 133.8, 163.6, 143.29, 131.49, 186.19, 203.33, 209.7, 148.13, 72.36, 103.93, 76.92, 94.49, 123.19, 127.8, 127.27, 172.55, 167.16, 172.99, 159.67, 163.75, 164.2, 106.26, 67.27, 85.53, 143.25, 120.71, 139.18, 98.25, 79.83, 76.96, 75.45, 87.62, 139.88, 134.76, 75.67, 88.3, 105.29, 109.22, 116.62, 108.98, 111.67, 81.57, 82.15, 81.93, 109.99, 133.53, 83.4, 64.2, 78.4, 85.34, 85.9, 111.26, 117.78, 95.98, 96.45, 101.59, 75.14, 96.38, 101.18, 111.82, 152.56, 100.5, 48.46, 50.27, 49.56, 93.89, 48.61, 46.21, 83.96, 97.16, 107.36, 119.75, 81.97, 73.44, 89.49, 100.01, 119.24, 62.06, 76.11, 108.64, 117.56, 142.82, 107.47, 84.13, 89.1, 79.3, 54.88, 66.74, 47.25, 49.09, 74.82, 110.48, 111.95, 61.0, 71.99, 93.45, 132.39, 144.33, 80.64, 49.22, 67.23, 78.74, 105.99, 96.96, 103.98, 83.66, 71.25, 91.16, 129.23, 114.13, 83.88, 103.02, 97.37, 117.56, 112.6, 65.76, 71.99, 79.98, 52.6, 59.52, 64.42, 61.72, 57.68, 73.77, 76.78, 52.79, 67.02, 73.22, 141.28, 261.77, 225.49, 153.28, 127.32, 84.47, 61.06, 52.76, 67.55, 76.98, 83.98, 81.33, 54.15, 46.9, 29.98, 52.48, 30.07, 37.11, 41.41, 34.18, 34.24, 44.55, 45.76, 50.41, 57.12, 61.93, 68.2, 70.48, 47.48, 39.78, 46.53, 28.44, 33.82, 37.76, 37.32, 34.26, 37.76, 35.04, 37.26, 50.21, 25.81, 32.39, 39.3, 34.7, 32.22, 21.75, 37.69, 44.03, 39.89, 50.59, 55.77, 71.5, 65.46, 69.75, 63.57, 50.64, 44.54, 36.7, 36.84, 46.24, 32.72, 25.7, 32.75, 46.85, 43.0, 36.49, 32.98, 32.11, 47.01, 61.1, 30.98, 29.75, 31.19, 23.71, 21.96, 23.96, 24.78, 29.26, 36.06, 41.26, 47.53, 45.19, 40.9, 42.06, 55.72, 39.77, 49.44, 42.11, 35.45, 29.1, 36.99, 28.33, 28.55, 27.49, 31.38, 37.48, 43.09, 55.86, 54.94, 58.63, 73.3, 46.73, 24.29, 30.71, 21.46, 21.45, 42.83, 71.44, 83.78, 92.46, 69.49, 65.78, 76.03, 63.37, 97.4, 121.12, 78.87, 81.14, 118.6, 103.26, 93.36, 70.42, 67.93, 132.93, 91.88, 115.96, 139.18, 137.29, 143.2, 137.73, 168.87, 141.15, 121.65, 119.4, 174.04, 168.82, 203.12, 206.05, 205.0, 231.83, 263.39, 225.17, 236.67, 205.44, 159.56, 97.27, 361.98, 177.88, 175.43, 420.3, 300.91, 288.86, 256.68, 271.7, 265.06, 136.2, 98.53, 138.49, 135.21, 166.43, 179.79, 224.1, 209.96, 139.02, 187.85, 107.73, 133.62, 200.69, 205.53, 193.1, 205.17, 190.36, 147.48, 164.63, 178.87, 211.57, 181.62, 218.06, 193.81, 202.83, 226.35, 264.63, 274.97, 209.63, 94.29, 113.42, 122.69, 150.28, 182.78, 204.08, 205.22, 258.1, 252.2, 326.79, 401.58, 378.68, 268.2, 241.0, 290.1, 249.23, 248.12, 336.42, 319.69, 287.34, 331.2, 355.4, 246.46, 262.53, 174.26, 181.74, 156.26, 143.66, 165.95, 278.95, 311.03, 272.45, 94.44, 134.57, 271.96, 358.91, 237.22, 262.68, 314.59, 175.49, 53.25, 135.68, 130.59, 81.2, 101.61, 136.47, 126.48, 142.0, 206.14, 204.25, 178.68, 177.32, 131.1, 144.62, 256.33, 177.25, 65.65, 72.29, 82.5, 143.31, 173.61, 208.64, 198.26, 153.73, 123.46, 112.34, 99.27, 109.11, 126.12, 102.3, 73.33, 73.9, 56.51, 89.34, 92.36, 59.97, 47.18, 96.38, 93.83, 109.6, 62.92, 105.93, 68.86, 83.45, 104.61, 92.07, 73.31, 73.98, 82.17, 57.28, 89.17, 111.2, 74.88, 68.64, 93.61, 100.32, 103.77, 89.82, 112.29, 38.43, 55.62, 53.28, 65.0, 75.82, 78.37, 116.55, 112.67, 102.27, 58.96, 59.08, 90.1, 85.02, 119.71, 125.44, 96.6, 152.91, 81.3, 87.74, 101.94, 70.25, 61.34, 55.93, 51.51, 54.84, 59.08, 22.14, 38.92, 71.62, 90.55, 95.24, 110.16, 104.17, 85.7, 86.41, 82.37, 73.06, 76.44, 84.04, 95.72, 111.57, 77.72, 52.16, 77.96, 101.25, 118.9, 128.78, 143.34, 137.2, 95.07, 101.83, 178.22, 170.81, 58.22, 84.81, 75.45, 92.53, 44.28, 81.99, 93.97, 77.78, 64.24, 92.4, 43.86, 43.66, 55.13, 64.66, 65.82, 74.8, 85.21, 88.57, 95.4, 73.36, 66.94, 54.95, 73.35, 70.61, 54.81, 69.75, 101.05, 74.48, 118.38, 59.86, 52.66, 53.79, 81.86, 42.06, 40.18, 30.39, 79.96, 42.76, 71.15, 68.27, 42.06, 26.29, 53.65, 67.36, 65.3, 61.21, 58.08, 65.24, 57.27, 71.68, 39.99, 36.82, 48.6, 34.25, 38.81, 49.12, 42.56, 69.21, 76.99, 76.35, 63.18, 63.16, 42.04, 31.51, 32.06, 32.92, 63.02, 46.43, 50.57, 60.38, 73.08, 63.26, 22.79, 30.63, 26.16, 21.13, 24.45, 30.1, 30.22, 34.26, 35.06, 38.54, 46.69, 52.2, 30.04, 32.63, 27.69, 14.59, 16.73, 25.53, 20.53, 21.68, 33.21, 28.78, 15.52, 10.24, 15.51, 38.55, 41.74, 46.69, 44.16, 50.49, 60.71, 33.49, 25.06, 40.68, 42.04, 33.92, 43.5, 57.16, 35.13, 46.15, 70.64, 73.33, 33.9, 35.81, 34.98, 32.83, 56.31, 64.48, 79.6, 57.83, 33.59, 26.65, 35.52, 56.6, 59.14, 35.41, 21.74, 40.33, 39.23, 26.51, 34.46, 35.88, 30.52, 22.9, 15.66, 22.52, 16.91, 29.42, 33.92, 40.16, 57.99, 43.07, 39.48, 58.75, 55.88, 44.85, 77.02, 100.82, 98.07, 103.45, 132.57, 116.33, 133.35, 146.37, 121.68, 90.41, 76.77, 98.05, 115.16, 93.51, 122.12, 173.56, 129.9, 148.73, 198.81, 301.39, 287.56, 279.32, 314.32, 388.45, 320.26, 582.28, 272.3, 190.41, 101.09, 182.47, 154.14, 140.8, 192.35, 252.48, 384.34, 383.36, 371.42, 423.52, 174.03, 96.34, 108.4, 126.92, 175.19, 217.7, 201.17, 130.41, 107.86, 122.37, 114.27, 65.7, 31.03, 53.79, 96.96, 123.66, 141.12, 140.07, 163.24, 271.99, 241.69, 233.79, 239.98, 200.33, 236.4, 299.85, 284.18, 94.62, 78.59, 94.67, 88.05, 93.07, 144.0, 261.16, 316.09, 249.87, 146.81, 171.47, 262.69, 166.71, 196.97, 240.07, 275.6, 326.79, 333.43, 245.53, 372.14, 327.04, 228.9, 220.6, 170.21, 159.64, 120.31, 117.98, 89.26, 130.82, 151.1, 207.23, 218.98, 115.62, 111.57, 139.06, 107.65, 125.3, 125.04, 142.18, 222.81, 198.88, 74.45, 79.83, 136.72, 201.2, 209.97, 104.45, 77.95, 91.56, 92.04, 112.13, 120.86, 138.5, 188.42, 150.08, 118.57, 150.15, 149.67, 151.43, 174.4, 176.57, 172.12, 95.72, 73.84, 83.07, 132.63, 158.69, 125.53, 138.46, 98.84, 53.11, 63.62, 105.71, 70.59, 127.75, 141.81, 107.28, 83.48, 60.01, 42.83, 99.34, 86.26, 82.9, 31.43, 21.32, 40.96, 72.1, 58.04, 84.35, 55.19, 56.92, 68.72, 39.41, 60.99, 61.61, 69.7, 68.93, 90.62, 90.31, 82.39, 78.61, 54.26, 55.85, 37.87, 45.69, 26.89, 21.23, 27.59, 35.08, 35.31, 32.88, 28.51, 31.36, 40.79, 51.79, 59.91, 33.12, 29.7, 36.13, 57.67, 53.03, 38.57, 60.6, 58.22, 58.31, 69.8, 26.93, 29.09, 35.49, 52.86, 37.17, 58.25, 54.71, 65.91, 33.09, 40.24, 27.18, 41.75, 55.18, 49.96, 61.04, 34.67, 32.56, 26.63, 56.24, 58.44, 36.02, 51.09, 54.18, 44.3, 43.26, 43.19, 68.8, 56.17, 47.44, 81.87, 98.63, 101.02, 106.63, 67.8, 55.92, 94.37, 74.92, 55.37, 61.46, 55.38, 43.22, 39.07, 24.62, 23.09, 21.51, 41.05, 45.9, 50.62, 68.24, 42.43, 35.14, 39.99, 46.9, 64.77, 58.9, 54.69, 64.0, 52.36, 71.08, 48.69, 39.87, 34.35, 36.84, 57.6, 35.96, 39.7, 39.47, 29.02, 30.91, 38.37, 50.01, 39.8, 59.52, 44.86, 39.8, 54.01], \"yaxis\": \"y\"}],                        {\"legend\": {\"tracegroupgap\": 0}, \"margin\": {\"t\": 60}, \"template\": {\"data\": {\"bar\": [{\"error_x\": {\"color\": \"#2a3f5f\"}, \"error_y\": {\"color\": \"#2a3f5f\"}, \"marker\": {\"line\": {\"color\": \"#E5ECF6\", \"width\": 0.5}}, \"type\": \"bar\"}], \"barpolar\": [{\"marker\": {\"line\": {\"color\": \"#E5ECF6\", \"width\": 0.5}}, \"type\": \"barpolar\"}], \"carpet\": [{\"aaxis\": {\"endlinecolor\": \"#2a3f5f\", \"gridcolor\": \"white\", \"linecolor\": \"white\", \"minorgridcolor\": \"white\", \"startlinecolor\": \"#2a3f5f\"}, \"baxis\": {\"endlinecolor\": \"#2a3f5f\", \"gridcolor\": \"white\", \"linecolor\": \"white\", \"minorgridcolor\": \"white\", \"startlinecolor\": \"#2a3f5f\"}, \"type\": \"carpet\"}], \"choropleth\": [{\"colorbar\": {\"outlinewidth\": 0, \"ticks\": \"\"}, \"type\": \"choropleth\"}], \"contour\": [{\"colorbar\": {\"outlinewidth\": 0, \"ticks\": \"\"}, \"colorscale\": [[0.0, \"#0d0887\"], [0.1111111111111111, \"#46039f\"], [0.2222222222222222, \"#7201a8\"], [0.3333333333333333, \"#9c179e\"], [0.4444444444444444, \"#bd3786\"], [0.5555555555555556, \"#d8576b\"], [0.6666666666666666, \"#ed7953\"], [0.7777777777777778, \"#fb9f3a\"], [0.8888888888888888, \"#fdca26\"], [1.0, \"#f0f921\"]], \"type\": \"contour\"}], \"contourcarpet\": [{\"colorbar\": {\"outlinewidth\": 0, \"ticks\": \"\"}, \"type\": \"contourcarpet\"}], \"heatmap\": [{\"colorbar\": {\"outlinewidth\": 0, \"ticks\": \"\"}, \"colorscale\": [[0.0, \"#0d0887\"], [0.1111111111111111, \"#46039f\"], [0.2222222222222222, \"#7201a8\"], [0.3333333333333333, \"#9c179e\"], [0.4444444444444444, \"#bd3786\"], [0.5555555555555556, \"#d8576b\"], [0.6666666666666666, \"#ed7953\"], [0.7777777777777778, \"#fb9f3a\"], [0.8888888888888888, \"#fdca26\"], [1.0, \"#f0f921\"]], \"type\": \"heatmap\"}], \"heatmapgl\": [{\"colorbar\": {\"outlinewidth\": 0, \"ticks\": \"\"}, \"colorscale\": [[0.0, \"#0d0887\"], [0.1111111111111111, \"#46039f\"], [0.2222222222222222, \"#7201a8\"], [0.3333333333333333, \"#9c179e\"], [0.4444444444444444, \"#bd3786\"], [0.5555555555555556, \"#d8576b\"], [0.6666666666666666, \"#ed7953\"], [0.7777777777777778, \"#fb9f3a\"], [0.8888888888888888, \"#fdca26\"], [1.0, \"#f0f921\"]], \"type\": \"heatmapgl\"}], \"histogram\": [{\"marker\": {\"colorbar\": {\"outlinewidth\": 0, \"ticks\": \"\"}}, \"type\": \"histogram\"}], \"histogram2d\": [{\"colorbar\": {\"outlinewidth\": 0, \"ticks\": \"\"}, \"colorscale\": [[0.0, \"#0d0887\"], [0.1111111111111111, \"#46039f\"], [0.2222222222222222, \"#7201a8\"], [0.3333333333333333, \"#9c179e\"], [0.4444444444444444, \"#bd3786\"], [0.5555555555555556, \"#d8576b\"], [0.6666666666666666, \"#ed7953\"], [0.7777777777777778, \"#fb9f3a\"], [0.8888888888888888, \"#fdca26\"], [1.0, \"#f0f921\"]], \"type\": \"histogram2d\"}], \"histogram2dcontour\": [{\"colorbar\": {\"outlinewidth\": 0, \"ticks\": \"\"}, \"colorscale\": [[0.0, \"#0d0887\"], [0.1111111111111111, \"#46039f\"], [0.2222222222222222, \"#7201a8\"], [0.3333333333333333, \"#9c179e\"], [0.4444444444444444, \"#bd3786\"], [0.5555555555555556, \"#d8576b\"], [0.6666666666666666, \"#ed7953\"], [0.7777777777777778, \"#fb9f3a\"], [0.8888888888888888, \"#fdca26\"], [1.0, \"#f0f921\"]], \"type\": \"histogram2dcontour\"}], \"mesh3d\": [{\"colorbar\": {\"outlinewidth\": 0, \"ticks\": \"\"}, \"type\": \"mesh3d\"}], \"parcoords\": [{\"line\": {\"colorbar\": {\"outlinewidth\": 0, \"ticks\": \"\"}}, \"type\": \"parcoords\"}], \"pie\": [{\"automargin\": true, \"type\": \"pie\"}], \"scatter\": [{\"marker\": {\"colorbar\": {\"outlinewidth\": 0, \"ticks\": \"\"}}, \"type\": \"scatter\"}], \"scatter3d\": [{\"line\": {\"colorbar\": {\"outlinewidth\": 0, \"ticks\": \"\"}}, \"marker\": {\"colorbar\": {\"outlinewidth\": 0, \"ticks\": \"\"}}, \"type\": \"scatter3d\"}], \"scattercarpet\": [{\"marker\": {\"colorbar\": {\"outlinewidth\": 0, \"ticks\": \"\"}}, \"type\": \"scattercarpet\"}], \"scattergeo\": [{\"marker\": {\"colorbar\": {\"outlinewidth\": 0, \"ticks\": \"\"}}, \"type\": \"scattergeo\"}], \"scattergl\": [{\"marker\": {\"colorbar\": {\"outlinewidth\": 0, \"ticks\": \"\"}}, \"type\": \"scattergl\"}], \"scattermapbox\": [{\"marker\": {\"colorbar\": {\"outlinewidth\": 0, \"ticks\": \"\"}}, \"type\": \"scattermapbox\"}], \"scatterpolar\": [{\"marker\": {\"colorbar\": {\"outlinewidth\": 0, \"ticks\": \"\"}}, \"type\": \"scatterpolar\"}], \"scatterpolargl\": [{\"marker\": {\"colorbar\": {\"outlinewidth\": 0, \"ticks\": \"\"}}, \"type\": \"scatterpolargl\"}], \"scatterternary\": [{\"marker\": {\"colorbar\": {\"outlinewidth\": 0, \"ticks\": \"\"}}, \"type\": \"scatterternary\"}], \"surface\": [{\"colorbar\": {\"outlinewidth\": 0, \"ticks\": \"\"}, \"colorscale\": [[0.0, \"#0d0887\"], [0.1111111111111111, \"#46039f\"], [0.2222222222222222, \"#7201a8\"], [0.3333333333333333, \"#9c179e\"], [0.4444444444444444, \"#bd3786\"], [0.5555555555555556, \"#d8576b\"], [0.6666666666666666, \"#ed7953\"], [0.7777777777777778, \"#fb9f3a\"], [0.8888888888888888, \"#fdca26\"], [1.0, \"#f0f921\"]], \"type\": \"surface\"}], \"table\": [{\"cells\": {\"fill\": {\"color\": \"#EBF0F8\"}, \"line\": {\"color\": \"white\"}}, \"header\": {\"fill\": {\"color\": \"#C8D4E3\"}, \"line\": {\"color\": \"white\"}}, \"type\": \"table\"}]}, \"layout\": {\"annotationdefaults\": {\"arrowcolor\": \"#2a3f5f\", \"arrowhead\": 0, \"arrowwidth\": 1}, \"autotypenumbers\": \"strict\", \"coloraxis\": {\"colorbar\": {\"outlinewidth\": 0, \"ticks\": \"\"}}, \"colorscale\": {\"diverging\": [[0, \"#8e0152\"], [0.1, \"#c51b7d\"], [0.2, \"#de77ae\"], [0.3, \"#f1b6da\"], [0.4, \"#fde0ef\"], [0.5, \"#f7f7f7\"], [0.6, \"#e6f5d0\"], [0.7, \"#b8e186\"], [0.8, \"#7fbc41\"], [0.9, \"#4d9221\"], [1, \"#276419\"]], \"sequential\": [[0.0, \"#0d0887\"], [0.1111111111111111, \"#46039f\"], [0.2222222222222222, \"#7201a8\"], [0.3333333333333333, \"#9c179e\"], [0.4444444444444444, \"#bd3786\"], [0.5555555555555556, \"#d8576b\"], [0.6666666666666666, \"#ed7953\"], [0.7777777777777778, \"#fb9f3a\"], [0.8888888888888888, \"#fdca26\"], [1.0, \"#f0f921\"]], \"sequentialminus\": [[0.0, \"#0d0887\"], [0.1111111111111111, \"#46039f\"], [0.2222222222222222, \"#7201a8\"], [0.3333333333333333, \"#9c179e\"], [0.4444444444444444, \"#bd3786\"], [0.5555555555555556, \"#d8576b\"], [0.6666666666666666, \"#ed7953\"], [0.7777777777777778, \"#fb9f3a\"], [0.8888888888888888, \"#fdca26\"], [1.0, \"#f0f921\"]]}, \"colorway\": [\"#636efa\", \"#EF553B\", \"#00cc96\", \"#ab63fa\", \"#FFA15A\", \"#19d3f3\", \"#FF6692\", \"#B6E880\", \"#FF97FF\", \"#FECB52\"], \"font\": {\"color\": \"#2a3f5f\"}, \"geo\": {\"bgcolor\": \"white\", \"lakecolor\": \"white\", \"landcolor\": \"#E5ECF6\", \"showlakes\": true, \"showland\": true, \"subunitcolor\": \"white\"}, \"hoverlabel\": {\"align\": \"left\"}, \"hovermode\": \"closest\", \"mapbox\": {\"style\": \"light\"}, \"paper_bgcolor\": \"white\", \"plot_bgcolor\": \"#E5ECF6\", \"polar\": {\"angularaxis\": {\"gridcolor\": \"white\", \"linecolor\": \"white\", \"ticks\": \"\"}, \"bgcolor\": \"#E5ECF6\", \"radialaxis\": {\"gridcolor\": \"white\", \"linecolor\": \"white\", \"ticks\": \"\"}}, \"scene\": {\"xaxis\": {\"backgroundcolor\": \"#E5ECF6\", \"gridcolor\": \"white\", \"gridwidth\": 2, \"linecolor\": \"white\", \"showbackground\": true, \"ticks\": \"\", \"zerolinecolor\": \"white\"}, \"yaxis\": {\"backgroundcolor\": \"#E5ECF6\", \"gridcolor\": \"white\", \"gridwidth\": 2, \"linecolor\": \"white\", \"showbackground\": true, \"ticks\": \"\", \"zerolinecolor\": \"white\"}, \"zaxis\": {\"backgroundcolor\": \"#E5ECF6\", \"gridcolor\": \"white\", \"gridwidth\": 2, \"linecolor\": \"white\", \"showbackground\": true, \"ticks\": \"\", \"zerolinecolor\": \"white\"}}, \"shapedefaults\": {\"line\": {\"color\": \"#2a3f5f\"}}, \"ternary\": {\"aaxis\": {\"gridcolor\": \"white\", \"linecolor\": \"white\", \"ticks\": \"\"}, \"baxis\": {\"gridcolor\": \"white\", \"linecolor\": \"white\", \"ticks\": \"\"}, \"bgcolor\": \"#E5ECF6\", \"caxis\": {\"gridcolor\": \"white\", \"linecolor\": \"white\", \"ticks\": \"\"}}, \"title\": {\"x\": 0.05}, \"xaxis\": {\"automargin\": true, \"gridcolor\": \"white\", \"linecolor\": \"white\", \"ticks\": \"\", \"title\": {\"standoff\": 15}, \"zerolinecolor\": \"white\", \"zerolinewidth\": 2}, \"yaxis\": {\"automargin\": true, \"gridcolor\": \"white\", \"linecolor\": \"white\", \"ticks\": \"\", \"title\": {\"standoff\": 15}, \"zerolinecolor\": \"white\", \"zerolinewidth\": 2}}}, \"xaxis\": {\"anchor\": \"y\", \"domain\": [0.0, 1.0], \"title\": {\"text\": \"Date\"}}, \"yaxis\": {\"anchor\": \"x\", \"domain\": [0.0, 1.0], \"title\": {\"text\": \"PM2.5\"}}},                        {\"responsive\": true}                    ).then(function(){\n",
       "                            \n",
       "var gd = document.getElementById('01f3ccb7-724a-4370-8c21-fa914a7feddc');\n",
       "var x = new MutationObserver(function (mutations, observer) {{\n",
       "        var display = window.getComputedStyle(gd).display;\n",
       "        if (!display || display === 'none') {{\n",
       "            console.log([gd, 'removed!']);\n",
       "            Plotly.purge(gd);\n",
       "            observer.disconnect();\n",
       "        }}\n",
       "}});\n",
       "\n",
       "// Listen for the removal of the full notebook cells\n",
       "var notebookContainer = gd.closest('#notebook-container');\n",
       "if (notebookContainer) {{\n",
       "    x.observe(notebookContainer, {childList: true});\n",
       "}}\n",
       "\n",
       "// Listen for the clearing of the current output cell\n",
       "var outputEl = gd.closest('.output');\n",
       "if (outputEl) {{\n",
       "    x.observe(outputEl, {childList: true});\n",
       "}}\n",
       "\n",
       "                        })                };                });            </script>        </div>"
      ]
     },
     "metadata": {},
     "output_type": "display_data"
    }
   ],
   "source": [
    "fig = px.line(delhi_data, x=\"Date\", y=\"PM2.5\")\n",
    "fig.show()"
   ]
  },
  {
   "cell_type": "code",
   "execution_count": 29,
   "metadata": {},
   "outputs": [
    {
     "data": {
      "text/plain": [
       "<seaborn.axisgrid.FacetGrid at 0xbc18d60>"
      ]
     },
     "execution_count": 29,
     "metadata": {},
     "output_type": "execute_result"
    },
    {
     "data": {
      "image/png": "[encoded data removed]",
      "text/plain": [
       "<Figure size 1080x360 with 1 Axes>"
      ]
     },
     "metadata": {},
     "output_type": "display_data"
    }
   ],
   "source": [
    "sns.set(style=\"darkgrid\")\n",
    "graph=sns.catplot(x=\"City\",kind=\"count\",data=df3,height=5,aspect=3)\n",
    "graph.set_xticklabels(rotation=90)"
   ]
  },
  {
   "cell_type": "code",
   "execution_count": 31,
   "metadata": {},
   "outputs": [
    {
     "data": {
      "text/plain": [
       "<seaborn.axisgrid.FacetGrid at 0xc065640>"
      ]
     },
     "execution_count": 31,
     "metadata": {},
     "output_type": "execute_result"
    },
    {
     "data": {
      "image/png": "[encoded data removed]",
      "text/plain": [
       "<Figure size 1512x756 with 6 Axes>"
      ]
     },
     "metadata": {},
     "output_type": "display_data"
    }
   ],
   "source": [
    "sns.set(style=\"darkgrid\")\n",
    "graph=sns.catplot(x=\"City\",kind=\"count\",data=df2,col=\"AQI_Bucket\",col_wrap=2,height=3.5,aspect=3)\n",
    "graph.set_xticklabels(rotation=90)"
   ]
  },
  {
   "cell_type": "code",
   "execution_count": 33,
   "metadata": {},
   "outputs": [
    {
     "data": {
      "text/plain": [
       "<seaborn.axisgrid.FacetGrid at 0x4c50c10>"
      ]
     },
     "execution_count": 33,
     "metadata": {},
     "output_type": "execute_result"
    },
    {
     "data": {
      "image/png": "[encoded data removed]",
      "text/plain": [
       "<Figure size 1080x360 with 1 Axes>"
      ]
     },
     "metadata": {},
     "output_type": "display_data"
    }
   ],
   "source": [
    "graph1=sns.catplot(x=\"City\",y=\"PM2.5\",kind=\"box\",data=df2,height=5,aspect=3)\n",
    "graph1.set_xticklabels(rotation=90)"
   ]
  },
  {
   "cell_type": "code",
   "execution_count": 35,
   "metadata": {},
   "outputs": [
    {
     "data": {
      "text/plain": [
       "<seaborn.axisgrid.FacetGrid at 0x12012ad8>"
      ]
     },
     "execution_count": 35,
     "metadata": {},
     "output_type": "execute_result"
    },
    {
     "data": {
      "image/png": "[encoded data removed]",
      "text/plain": [
       "<Figure size 1440x2520 with 26 Axes>"
      ]
     },
     "metadata": {},
     "output_type": "display_data"
    }
   ],
   "source": [
    "sns.relplot(x=\"PM2.5\",y=\"AQI\",kind=\"scatter\",data=df2,col=\"City\",col_wrap=4,color=\"red\")"
   ]
  },
  {
   "cell_type": "code",
   "execution_count": null,
   "metadata": {},
   "outputs": [],
   "source": []
  }
 ],
 "metadata": {
  "kernelspec": {
   "display_name": "Python 3",
   "language": "python",
   "name": "python3"
  },
  "language_info": {
   "codemirror_mode": {
    "name": "ipython",
    "version": 3
   },
   "file_extension": ".py",
   "mimetype": "text/x-python",
   "name": "python",
   "nbconvert_exporter": "python",
   "pygments_lexer": "ipython3",
   "version": "3.8.3"
  }
 },
 "nbformat": 4,
 "nbformat_minor": 4
}
